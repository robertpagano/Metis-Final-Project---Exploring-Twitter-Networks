{
 "cells": [
  {
   "cell_type": "code",
   "execution_count": 1,
   "metadata": {},
   "outputs": [],
   "source": [
    "import pandas as pd\n",
    "import numpy as np\n",
    "\n",
    "import pickle\n",
    "\n",
    "# gensim\n",
    "from gensim import corpora, models, similarities, matutils\n",
    "\n",
    "# sklearn\n",
    "from sklearn.feature_extraction.text import CountVectorizer\n",
    "from sklearn.feature_extraction.text import TfidfVectorizer\n",
    "\n",
    "# logging for gensim (set to INFO)\n",
    "import logging\n",
    "logging.basicConfig(format='%(asctime)s : %(levelname)s : %(message)s', level=logging.INFO)\n",
    "\n",
    "import nltk\n",
    "import spacy\n",
    "\n",
    "from textblob import TextBlob, Word\n",
    "\n",
    "import re\n",
    "\n",
    "from nltk.corpus import stopwords\n",
    "from nltk.tokenize import RegexpTokenizer\n",
    "\n",
    "from sklearn.decomposition import TruncatedSVD\n",
    "from sklearn.decomposition import NMF\n",
    "from sklearn.metrics.pairwise import cosine_similarity"
   ]
  },
  {
   "cell_type": "code",
   "execution_count": 10,
   "metadata": {},
   "outputs": [],
   "source": [
    "pd.set_option('display.max_colwidth', 400)  # or 199"
   ]
  },
  {
   "cell_type": "markdown",
   "metadata": {},
   "source": [
    "I'm going to analyze the first community first, then functionize it and do the rest"
   ]
  },
  {
   "cell_type": "code",
   "execution_count": 11,
   "metadata": {},
   "outputs": [],
   "source": [
    "with open('/Users/robertpagano/metis_data/project_5/community_pickles_pre_nlp/df_0.pickle', 'rb') as f:\n",
    "    df_0 = pickle.load(f)"
   ]
  },
  {
   "cell_type": "code",
   "execution_count": 13,
   "metadata": {},
   "outputs": [
    {
     "data": {
      "text/html": [
       "<div>\n",
       "<style scoped>\n",
       "    .dataframe tbody tr th:only-of-type {\n",
       "        vertical-align: middle;\n",
       "    }\n",
       "\n",
       "    .dataframe tbody tr th {\n",
       "        vertical-align: top;\n",
       "    }\n",
       "\n",
       "    .dataframe thead th {\n",
       "        text-align: right;\n",
       "    }\n",
       "</style>\n",
       "<table border=\"1\" class=\"dataframe\">\n",
       "  <thead>\n",
       "    <tr style=\"text-align: right;\">\n",
       "      <th></th>\n",
       "      <th>screen_name</th>\n",
       "      <th>followers_count</th>\n",
       "      <th>modularity_class</th>\n",
       "      <th>main_text</th>\n",
       "      <th>retweet_text</th>\n",
       "      <th>tweet_date</th>\n",
       "      <th>PageRank</th>\n",
       "      <th>rt_count</th>\n",
       "    </tr>\n",
       "  </thead>\n",
       "  <tbody>\n",
       "    <tr>\n",
       "      <th>1321317</th>\n",
       "      <td>turkytomj</td>\n",
       "      <td>6183</td>\n",
       "      <td>0.0</td>\n",
       "      <td>@ShadowsOfLiars @provdcrumblover @AOC And also why did she inject lies about her background, if she didn't want her background to be part of her \"Picture\".</td>\n",
       "      <td>NaN</td>\n",
       "      <td>Thu Mar 07 21:29:09 +0000 2019</td>\n",
       "      <td>7.379573e-07</td>\n",
       "      <td>0</td>\n",
       "    </tr>\n",
       "    <tr>\n",
       "      <th>1508601</th>\n",
       "      <td>Dtruth9233</td>\n",
       "      <td>1882</td>\n",
       "      <td>0.0</td>\n",
       "      <td>RT @rising_serpent: Alexandria Ocasio-Cortez's Chief of Staff Ran Slush Fund - Funneled Over $1 Million in Campaign Donations to His Own Co…</td>\n",
       "      <td>Alexandria Ocasio-Cortez's Chief of Staff Ran Slush Fund - Funneled Over $1 Million in Campaign Donations to His Own Companies.\\nTwo PACs founded by AOC's top aide, Saikat Chakrabarti funneled over $ 1 million into two of his own private companies. https://t.co/4xgeskr941</td>\n",
       "      <td>Thu Mar 07 02:07:52 +0000 2019</td>\n",
       "      <td>7.357909e-07</td>\n",
       "      <td>140</td>\n",
       "    </tr>\n",
       "    <tr>\n",
       "      <th>340125</th>\n",
       "      <td>Qwarrior8</td>\n",
       "      <td>128</td>\n",
       "      <td>0.0</td>\n",
       "      <td>RT @rising_serpent: You miss the whole point Ms Ocasio-Cortex. Wait staff are the antithesis of socialism. They get a low base pay, working…</td>\n",
       "      <td>You miss the whole point Ms Ocasio-Cortex. Wait staff are the antithesis of socialism. They get a low base pay, working mainly for tips, the most stringent pay-for-performance in the workforce. They don't ask for handouts.\\nPeople aren't mocking, they're asking for an improvement. https://t.co/YXZn56wKvT</td>\n",
       "      <td>Mon Mar 11 05:47:49 +0000 2019</td>\n",
       "      <td>7.357909e-07</td>\n",
       "      <td>64</td>\n",
       "    </tr>\n",
       "    <tr>\n",
       "      <th>362073</th>\n",
       "      <td>kwitbelyakin</td>\n",
       "      <td>216</td>\n",
       "      <td>0.0</td>\n",
       "      <td>RT @rising_serpent: You miss the whole point Ms Ocasio-Cortex. Wait staff are the antithesis of socialism. They get a low base pay, working…</td>\n",
       "      <td>You miss the whole point Ms Ocasio-Cortex. Wait staff are the antithesis of socialism. They get a low base pay, working mainly for tips, the most stringent pay-for-performance in the workforce. They don't ask for handouts.\\nPeople aren't mocking, they're asking for an improvement. https://t.co/YXZn56wKvT</td>\n",
       "      <td>Mon Mar 11 03:44:09 +0000 2019</td>\n",
       "      <td>7.357909e-07</td>\n",
       "      <td>64</td>\n",
       "    </tr>\n",
       "    <tr>\n",
       "      <th>865336</th>\n",
       "      <td>kwitbelyakin</td>\n",
       "      <td>216</td>\n",
       "      <td>0.0</td>\n",
       "      <td>@davidwebbshow @SpeakerPelosi @RashidaTlaib @RepAOC @AOC @IlhanMN @TheDemocrats @RollingStone @foxnation They'd have to pay me to read that issue.</td>\n",
       "      <td>NaN</td>\n",
       "      <td>Sat Mar 09 14:02:45 +0000 2019</td>\n",
       "      <td>7.357909e-07</td>\n",
       "      <td>0</td>\n",
       "    </tr>\n",
       "  </tbody>\n",
       "</table>\n",
       "</div>"
      ],
      "text/plain": [
       "          screen_name  followers_count  modularity_class  \\\n",
       "1321317     turkytomj             6183               0.0   \n",
       "1508601    Dtruth9233             1882               0.0   \n",
       "340125      Qwarrior8              128               0.0   \n",
       "362073   kwitbelyakin              216               0.0   \n",
       "865336   kwitbelyakin              216               0.0   \n",
       "\n",
       "                                                                                                                                                           main_text  \\\n",
       "1321317  @ShadowsOfLiars @provdcrumblover @AOC And also why did she inject lies about her background, if she didn't want her background to be part of her \"Picture\".   \n",
       "1508601                 RT @rising_serpent: Alexandria Ocasio-Cortez's Chief of Staff Ran Slush Fund - Funneled Over $1 Million in Campaign Donations to His Own Co…   \n",
       "340125                  RT @rising_serpent: You miss the whole point Ms Ocasio-Cortex. Wait staff are the antithesis of socialism. They get a low base pay, working…   \n",
       "362073                  RT @rising_serpent: You miss the whole point Ms Ocasio-Cortex. Wait staff are the antithesis of socialism. They get a low base pay, working…   \n",
       "865336            @davidwebbshow @SpeakerPelosi @RashidaTlaib @RepAOC @AOC @IlhanMN @TheDemocrats @RollingStone @foxnation They'd have to pay me to read that issue.   \n",
       "\n",
       "                                                                                                                                                                                                                                                                                                              retweet_text  \\\n",
       "1321317                                                                                                                                                                                                                                                                                                                NaN   \n",
       "1508601                                   Alexandria Ocasio-Cortez's Chief of Staff Ran Slush Fund - Funneled Over $1 Million in Campaign Donations to His Own Companies.\\nTwo PACs founded by AOC's top aide, Saikat Chakrabarti funneled over $ 1 million into two of his own private companies. https://t.co/4xgeskr941   \n",
       "340125   You miss the whole point Ms Ocasio-Cortex. Wait staff are the antithesis of socialism. They get a low base pay, working mainly for tips, the most stringent pay-for-performance in the workforce. They don't ask for handouts.\\nPeople aren't mocking, they're asking for an improvement. https://t.co/YXZn56wKvT   \n",
       "362073   You miss the whole point Ms Ocasio-Cortex. Wait staff are the antithesis of socialism. They get a low base pay, working mainly for tips, the most stringent pay-for-performance in the workforce. They don't ask for handouts.\\nPeople aren't mocking, they're asking for an improvement. https://t.co/YXZn56wKvT   \n",
       "865336                                                                                                                                                                                                                                                                                                                 NaN   \n",
       "\n",
       "                             tweet_date      PageRank  rt_count  \n",
       "1321317  Thu Mar 07 21:29:09 +0000 2019  7.379573e-07         0  \n",
       "1508601  Thu Mar 07 02:07:52 +0000 2019  7.357909e-07       140  \n",
       "340125   Mon Mar 11 05:47:49 +0000 2019  7.357909e-07        64  \n",
       "362073   Mon Mar 11 03:44:09 +0000 2019  7.357909e-07        64  \n",
       "865336   Sat Mar 09 14:02:45 +0000 2019  7.357909e-07         0  "
      ]
     },
     "execution_count": 13,
     "metadata": {},
     "output_type": "execute_result"
    }
   ],
   "source": [
    "df_0.tail()"
   ]
  },
  {
   "cell_type": "markdown",
   "metadata": {},
   "source": [
    "first - if tweet is retweet, make that original tweet, so we have the full text:"
   ]
  },
  {
   "cell_type": "code",
   "execution_count": 15,
   "metadata": {},
   "outputs": [],
   "source": [
    "df_0['final_text'] = np.where((df_0['retweet_text'].isnull() == False), df_0['retweet_text'], df_0['main_text'])"
   ]
  },
  {
   "cell_type": "markdown",
   "metadata": {},
   "source": [
    "Now, preprocessing (using same code as for kickstarter as baseline, come back here to tweak later)\n",
    "\n",
    "Look into https://pypi.org/project/tweet-preprocessor/ for tweet processing later!"
   ]
  },
  {
   "cell_type": "code",
   "execution_count": 41,
   "metadata": {},
   "outputs": [],
   "source": [
    "nlp = spacy.load('en', disable=['parser', 'ner'])\n",
    "# nlp = spacy.load('en')"
   ]
  },
  {
   "cell_type": "code",
   "execution_count": 38,
   "metadata": {},
   "outputs": [],
   "source": [
    "def pre_process(text):\n",
    "    \n",
    "    # lowercase\n",
    "    text=text.lower()\n",
    "    \n",
    "    #remove tags\n",
    "    text=re.sub(\"&lt;/?.*?&gt;\",\" &lt;&gt; \",text)\n",
    "\n",
    "    # remove special characters and digits\n",
    "    text=re.sub(\"(\\\\d|\\\\W)+\",\" \",text)\n",
    "    \n",
    "    #lemmatize with Spacy\n",
    "    doc = nlp(text)\n",
    "    text = \" \".join([token.lemma_ for token in doc])\n",
    "    \n",
    "    return text"
   ]
  },
  {
   "cell_type": "code",
   "execution_count": 57,
   "metadata": {},
   "outputs": [],
   "source": [
    "tweet_stopwords = stopwords.words('english') + \\\n",
    "    ['rt', 'https', 'http', 'amp', 'via', 'one', 'around', 'would', 'let', 'could', 'going', 'like', \n",
    "     'get', 'may', 'says', 'say', 'make', 'based', 'even', 'another', 'completely', 'thanks', 'way', \n",
    "     'find', 'used', 'thing', '2019', 'see', 'need', 'know', 'knows', 'think', 'thinks', 'take', 'new', \n",
    "     'day', 'days', 'aoc', 'alexandria', 'ocasio', 'cortez', 'ocasio-cortez', 'pron']"
   ]
  },
  {
   "cell_type": "code",
   "execution_count": 48,
   "metadata": {},
   "outputs": [
    {
     "data": {
      "text/plain": [
       "['i',\n",
       " 'me',\n",
       " 'my',\n",
       " 'myself',\n",
       " 'we',\n",
       " 'our',\n",
       " 'ours',\n",
       " 'ourselves',\n",
       " 'you',\n",
       " \"you're\",\n",
       " \"you've\",\n",
       " \"you'll\",\n",
       " \"you'd\",\n",
       " 'your',\n",
       " 'yours',\n",
       " 'yourself',\n",
       " 'yourselves',\n",
       " 'he',\n",
       " 'him',\n",
       " 'his',\n",
       " 'himself',\n",
       " 'she',\n",
       " \"she's\",\n",
       " 'her',\n",
       " 'hers',\n",
       " 'herself',\n",
       " 'it',\n",
       " \"it's\",\n",
       " 'its',\n",
       " 'itself',\n",
       " 'they',\n",
       " 'them',\n",
       " 'their',\n",
       " 'theirs',\n",
       " 'themselves',\n",
       " 'what',\n",
       " 'which',\n",
       " 'who',\n",
       " 'whom',\n",
       " 'this',\n",
       " 'that',\n",
       " \"that'll\",\n",
       " 'these',\n",
       " 'those',\n",
       " 'am',\n",
       " 'is',\n",
       " 'are',\n",
       " 'was',\n",
       " 'were',\n",
       " 'be',\n",
       " 'been',\n",
       " 'being',\n",
       " 'have',\n",
       " 'has',\n",
       " 'had',\n",
       " 'having',\n",
       " 'do',\n",
       " 'does',\n",
       " 'did',\n",
       " 'doing',\n",
       " 'a',\n",
       " 'an',\n",
       " 'the',\n",
       " 'and',\n",
       " 'but',\n",
       " 'if',\n",
       " 'or',\n",
       " 'because',\n",
       " 'as',\n",
       " 'until',\n",
       " 'while',\n",
       " 'of',\n",
       " 'at',\n",
       " 'by',\n",
       " 'for',\n",
       " 'with',\n",
       " 'about',\n",
       " 'against',\n",
       " 'between',\n",
       " 'into',\n",
       " 'through',\n",
       " 'during',\n",
       " 'before',\n",
       " 'after',\n",
       " 'above',\n",
       " 'below',\n",
       " 'to',\n",
       " 'from',\n",
       " 'up',\n",
       " 'down',\n",
       " 'in',\n",
       " 'out',\n",
       " 'on',\n",
       " 'off',\n",
       " 'over',\n",
       " 'under',\n",
       " 'again',\n",
       " 'further',\n",
       " 'then',\n",
       " 'once',\n",
       " 'here',\n",
       " 'there',\n",
       " 'when',\n",
       " 'where',\n",
       " 'why',\n",
       " 'how',\n",
       " 'all',\n",
       " 'any',\n",
       " 'both',\n",
       " 'each',\n",
       " 'few',\n",
       " 'more',\n",
       " 'most',\n",
       " 'other',\n",
       " 'some',\n",
       " 'such',\n",
       " 'no',\n",
       " 'nor',\n",
       " 'not',\n",
       " 'only',\n",
       " 'own',\n",
       " 'same',\n",
       " 'so',\n",
       " 'than',\n",
       " 'too',\n",
       " 'very',\n",
       " 's',\n",
       " 't',\n",
       " 'can',\n",
       " 'will',\n",
       " 'just',\n",
       " 'don',\n",
       " \"don't\",\n",
       " 'should',\n",
       " \"should've\",\n",
       " 'now',\n",
       " 'd',\n",
       " 'll',\n",
       " 'm',\n",
       " 'o',\n",
       " 're',\n",
       " 've',\n",
       " 'y',\n",
       " 'ain',\n",
       " 'aren',\n",
       " \"aren't\",\n",
       " 'couldn',\n",
       " \"couldn't\",\n",
       " 'didn',\n",
       " \"didn't\",\n",
       " 'doesn',\n",
       " \"doesn't\",\n",
       " 'hadn',\n",
       " \"hadn't\",\n",
       " 'hasn',\n",
       " \"hasn't\",\n",
       " 'haven',\n",
       " \"haven't\",\n",
       " 'isn',\n",
       " \"isn't\",\n",
       " 'ma',\n",
       " 'mightn',\n",
       " \"mightn't\",\n",
       " 'mustn',\n",
       " \"mustn't\",\n",
       " 'needn',\n",
       " \"needn't\",\n",
       " 'shan',\n",
       " \"shan't\",\n",
       " 'shouldn',\n",
       " \"shouldn't\",\n",
       " 'wasn',\n",
       " \"wasn't\",\n",
       " 'weren',\n",
       " \"weren't\",\n",
       " 'won',\n",
       " \"won't\",\n",
       " 'wouldn',\n",
       " \"wouldn't\",\n",
       " 'rt',\n",
       " 'https',\n",
       " 'http',\n",
       " 'amp',\n",
       " 'via',\n",
       " 'one',\n",
       " 'around',\n",
       " 'would',\n",
       " 'let',\n",
       " 'could',\n",
       " 'going',\n",
       " 'like',\n",
       " 'get',\n",
       " 'may',\n",
       " 'says',\n",
       " 'say',\n",
       " 'make',\n",
       " 'based',\n",
       " 'even',\n",
       " 'another',\n",
       " 'completely',\n",
       " 'thanks',\n",
       " 'way',\n",
       " 'find',\n",
       " 'used',\n",
       " 'thing',\n",
       " '2019',\n",
       " 'see',\n",
       " 'need',\n",
       " 'know',\n",
       " 'knows',\n",
       " 'think',\n",
       " 'thinks',\n",
       " 'take',\n",
       " 'new',\n",
       " 'day',\n",
       " 'days',\n",
       " 'aoc',\n",
       " 'alexandria',\n",
       " 'ocasio',\n",
       " 'cortez',\n",
       " 'ocasio-cortez',\n",
       " '-PRON-']"
      ]
     },
     "execution_count": 48,
     "metadata": {},
     "output_type": "execute_result"
    }
   ],
   "source": [
    "tweet_stopwords"
   ]
  },
  {
   "cell_type": "code",
   "execution_count": 44,
   "metadata": {
    "scrolled": true
   },
   "outputs": [],
   "source": [
    "df_0['tweet_processed'] = df_0['final_text'].apply(lambda x:pre_process(x))"
   ]
  },
  {
   "cell_type": "code",
   "execution_count": 45,
   "metadata": {
    "scrolled": true
   },
   "outputs": [
    {
     "data": {
      "text/html": [
       "<div>\n",
       "<style scoped>\n",
       "    .dataframe tbody tr th:only-of-type {\n",
       "        vertical-align: middle;\n",
       "    }\n",
       "\n",
       "    .dataframe tbody tr th {\n",
       "        vertical-align: top;\n",
       "    }\n",
       "\n",
       "    .dataframe thead th {\n",
       "        text-align: right;\n",
       "    }\n",
       "</style>\n",
       "<table border=\"1\" class=\"dataframe\">\n",
       "  <thead>\n",
       "    <tr style=\"text-align: right;\">\n",
       "      <th></th>\n",
       "      <th>screen_name</th>\n",
       "      <th>followers_count</th>\n",
       "      <th>modularity_class</th>\n",
       "      <th>main_text</th>\n",
       "      <th>retweet_text</th>\n",
       "      <th>tweet_date</th>\n",
       "      <th>PageRank</th>\n",
       "      <th>rt_count</th>\n",
       "      <th>final_text</th>\n",
       "      <th>tweet_processed</th>\n",
       "    </tr>\n",
       "  </thead>\n",
       "  <tbody>\n",
       "    <tr>\n",
       "      <th>405812</th>\n",
       "      <td>DavidJHarrisJr</td>\n",
       "      <td>75631</td>\n",
       "      <td>0.0</td>\n",
       "      <td>So @aoc answered a casting call... and now she’s in Congress! @RealJamesWoods and @realDonaldTrump have to see this!!! https://t.co/HBUW78XqAo</td>\n",
       "      <td>NaN</td>\n",
       "      <td>Mon Mar 11 01:16:04 +0000 2019</td>\n",
       "      <td>0.004242</td>\n",
       "      <td>6936</td>\n",
       "      <td>So @aoc answered a casting call... and now she’s in Congress! @RealJamesWoods and @realDonaldTrump have to see this!!! https://t.co/HBUW78XqAo</td>\n",
       "      <td>so aoc answer a cast call and now -PRON- s in congress realjameswood and realdonaldtrump have to see this https t co hbuw xqao</td>\n",
       "    </tr>\n",
       "    <tr>\n",
       "      <th>712255</th>\n",
       "      <td>DavidJHarrisJr</td>\n",
       "      <td>75652</td>\n",
       "      <td>0.0</td>\n",
       "      <td>So @aoc wants to raise our taxes and she hasn’t even paid her own! https://t.co/W1m1CCnN3Y</td>\n",
       "      <td>NaN</td>\n",
       "      <td>Sun Mar 10 03:49:44 +0000 2019</td>\n",
       "      <td>0.004242</td>\n",
       "      <td>1127</td>\n",
       "      <td>So @aoc wants to raise our taxes and she hasn’t even paid her own! https://t.co/W1m1CCnN3Y</td>\n",
       "      <td>so aoc want to raise -PRON- tax and -PRON- hasn t even pay -PRON- own https t co w m ccnn y</td>\n",
       "    </tr>\n",
       "    <tr>\n",
       "      <th>465115</th>\n",
       "      <td>DavidJHarrisJr</td>\n",
       "      <td>75638</td>\n",
       "      <td>0.0</td>\n",
       "      <td>Now @aoc says America is garbage? \\nWho elected this woman!!! https://t.co/O7hsaAK9jH</td>\n",
       "      <td>NaN</td>\n",
       "      <td>Sun Mar 10 22:30:39 +0000 2019</td>\n",
       "      <td>0.004242</td>\n",
       "      <td>1056</td>\n",
       "      <td>Now @aoc says America is garbage? \\nWho elected this woman!!! https://t.co/O7hsaAK9jH</td>\n",
       "      <td>now aoc say america be garbage who elect this woman https t co o hsaak jh</td>\n",
       "    </tr>\n",
       "    <tr>\n",
       "      <th>62994</th>\n",
       "      <td>DavidJHarrisJr</td>\n",
       "      <td>75620</td>\n",
       "      <td>0.0</td>\n",
       "      <td>Former FEC Commissioner says there’s more than enough evidence to launch a criminal investigation into @aoc! https://t.co/XPL6LhrZFD</td>\n",
       "      <td>NaN</td>\n",
       "      <td>Tue Mar 12 01:25:16 +0000 2019</td>\n",
       "      <td>0.004242</td>\n",
       "      <td>997</td>\n",
       "      <td>Former FEC Commissioner says there’s more than enough evidence to launch a criminal investigation into @aoc! https://t.co/XPL6LhrZFD</td>\n",
       "      <td>former fec commissioner say there s more than enough evidence to launch a criminal investigation into aoc https t co xpl lhrzfd</td>\n",
       "    </tr>\n",
       "    <tr>\n",
       "      <th>1205837</th>\n",
       "      <td>DavidJHarrisJr</td>\n",
       "      <td>75690</td>\n",
       "      <td>0.0</td>\n",
       "      <td>Hey AOC! Guess what? Climate change and global warming IS a hoax!!!! https://t.co/OwY68EMVMm</td>\n",
       "      <td>NaN</td>\n",
       "      <td>Fri Mar 08 05:02:07 +0000 2019</td>\n",
       "      <td>0.004242</td>\n",
       "      <td>838</td>\n",
       "      <td>Hey AOC! Guess what? Climate change and global warming IS a hoax!!!! https://t.co/OwY68EMVMm</td>\n",
       "      <td>hey aoc guess what climate change and global warming be a hoax https t co owy emvmm</td>\n",
       "    </tr>\n",
       "  </tbody>\n",
       "</table>\n",
       "</div>"
      ],
      "text/plain": [
       "            screen_name  followers_count  modularity_class  \\\n",
       "405812   DavidJHarrisJr            75631               0.0   \n",
       "712255   DavidJHarrisJr            75652               0.0   \n",
       "465115   DavidJHarrisJr            75638               0.0   \n",
       "62994    DavidJHarrisJr            75620               0.0   \n",
       "1205837  DavidJHarrisJr            75690               0.0   \n",
       "\n",
       "                                                                                                                                              main_text  \\\n",
       "405812   So @aoc answered a casting call... and now she’s in Congress! @RealJamesWoods and @realDonaldTrump have to see this!!! https://t.co/HBUW78XqAo   \n",
       "712255                                                       So @aoc wants to raise our taxes and she hasn’t even paid her own! https://t.co/W1m1CCnN3Y   \n",
       "465115                                                            Now @aoc says America is garbage? \\nWho elected this woman!!! https://t.co/O7hsaAK9jH   \n",
       "62994              Former FEC Commissioner says there’s more than enough evidence to launch a criminal investigation into @aoc! https://t.co/XPL6LhrZFD   \n",
       "1205837                                                    Hey AOC! Guess what? Climate change and global warming IS a hoax!!!! https://t.co/OwY68EMVMm   \n",
       "\n",
       "        retweet_text                      tweet_date  PageRank  rt_count  \\\n",
       "405812           NaN  Mon Mar 11 01:16:04 +0000 2019  0.004242      6936   \n",
       "712255           NaN  Sun Mar 10 03:49:44 +0000 2019  0.004242      1127   \n",
       "465115           NaN  Sun Mar 10 22:30:39 +0000 2019  0.004242      1056   \n",
       "62994            NaN  Tue Mar 12 01:25:16 +0000 2019  0.004242       997   \n",
       "1205837          NaN  Fri Mar 08 05:02:07 +0000 2019  0.004242       838   \n",
       "\n",
       "                                                                                                                                             final_text  \\\n",
       "405812   So @aoc answered a casting call... and now she’s in Congress! @RealJamesWoods and @realDonaldTrump have to see this!!! https://t.co/HBUW78XqAo   \n",
       "712255                                                       So @aoc wants to raise our taxes and she hasn’t even paid her own! https://t.co/W1m1CCnN3Y   \n",
       "465115                                                            Now @aoc says America is garbage? \\nWho elected this woman!!! https://t.co/O7hsaAK9jH   \n",
       "62994              Former FEC Commissioner says there’s more than enough evidence to launch a criminal investigation into @aoc! https://t.co/XPL6LhrZFD   \n",
       "1205837                                                    Hey AOC! Guess what? Climate change and global warming IS a hoax!!!! https://t.co/OwY68EMVMm   \n",
       "\n",
       "                                                                                                                         tweet_processed  \n",
       "405812    so aoc answer a cast call and now -PRON- s in congress realjameswood and realdonaldtrump have to see this https t co hbuw xqao  \n",
       "712255                                       so aoc want to raise -PRON- tax and -PRON- hasn t even pay -PRON- own https t co w m ccnn y  \n",
       "465115                                                         now aoc say america be garbage who elect this woman https t co o hsaak jh  \n",
       "62994    former fec commissioner say there s more than enough evidence to launch a criminal investigation into aoc https t co xpl lhrzfd  \n",
       "1205837                                              hey aoc guess what climate change and global warming be a hoax https t co owy emvmm  "
      ]
     },
     "execution_count": 45,
     "metadata": {},
     "output_type": "execute_result"
    }
   ],
   "source": [
    "df_0.head()"
   ]
  },
  {
   "cell_type": "code",
   "execution_count": 47,
   "metadata": {},
   "outputs": [],
   "source": [
    "with open('/Users/robertpagano/metis_data/project_5/community_pickles_pre_nlp/df_0_preprocess.pickle', 'wb') as to_write:\n",
    "    pickle.dump(df_0, to_write)"
   ]
  },
  {
   "cell_type": "code",
   "execution_count": 88,
   "metadata": {},
   "outputs": [],
   "source": [
    "tfidf_0 = TfidfVectorizer(stop_words=tweet_stopwords, token_pattern=\"\\\\b[a-z][a-z]+\\\\b\", ngram_range=(1,2))"
   ]
  },
  {
   "cell_type": "code",
   "execution_count": 89,
   "metadata": {},
   "outputs": [],
   "source": [
    "X_0 = df_0['tweet_processed']"
   ]
  },
  {
   "cell_type": "code",
   "execution_count": 90,
   "metadata": {},
   "outputs": [],
   "source": [
    "bag_of_words_0 = tfidf_0.fit_transform(X_0)"
   ]
  },
  {
   "cell_type": "code",
   "execution_count": 91,
   "metadata": {
    "scrolled": true
   },
   "outputs": [],
   "source": [
    "# feature_names_0 = tfidf_0.get_feature_names()\n",
    "# pd.DataFrame(bag_of_words_0.toarray(), columns = feature_names)"
   ]
  },
  {
   "cell_type": "code",
   "execution_count": 92,
   "metadata": {},
   "outputs": [
    {
     "data": {
      "text/plain": [
       "array([0.05214969, 0.02292908, 0.01694097, 0.00850004, 0.00859578,\n",
       "       0.00884221, 0.00846455, 0.00850187, 0.00648632, 0.00695484,\n",
       "       0.0061623 , 0.00595626, 0.00578482, 0.00576008, 0.00550388,\n",
       "       0.00545221, 0.00517115, 0.00506406, 0.00501193, 0.00489234])"
      ]
     },
     "execution_count": 92,
     "metadata": {},
     "output_type": "execute_result"
    }
   ],
   "source": [
    "# Acronynms: Latent Semantic Analysis (LSA) is just another name for \n",
    "#  Signular Value Decomposition (SVD) applied to Natural Language Processing (NLP)\n",
    "lsa_0 = TruncatedSVD(20)\n",
    "doc_topic_0 = lsa_0.fit_transform(bag_of_words_0)\n",
    "lsa_0.explained_variance_ratio_"
   ]
  },
  {
   "cell_type": "code",
   "execution_count": 10,
   "metadata": {},
   "outputs": [],
   "source": [
    "def display_topics(model, feature_names, no_top_words, topic_names=None):\n",
    "    for ix, topic in enumerate(model.components_):\n",
    "        if not topic_names or not topic_names[ix]:\n",
    "            print(\"\\nTopic \", ix)\n",
    "        else:\n",
    "            print(\"\\nTopic: '\",topic_names[ix],\"'\")\n",
    "        print(\", \".join([feature_names[i]\n",
    "                        for i in topic.argsort()[:-no_top_words - 1:-1]]))"
   ]
  },
  {
   "cell_type": "code",
   "execution_count": 94,
   "metadata": {},
   "outputs": [
    {
     "name": "stdout",
     "output_type": "stream",
     "text": [
      "\n",
      "Topic  0\n",
      "congress realjameswood, co hbuw, xqao, hbuw, hbuw xqao, call congress, realdonaldtrump co, realjameswood realdonaldtrump, answer cast, realjameswood\n",
      "\n",
      "Topic  1\n",
      "liberal mcclatchy, sabate full, immigrant felix, cuban immigrant, mcclatchy, felix sabate, sabate, cuban, felix, immigrant\n",
      "\n",
      "Topic  2\n",
      "claim, mail pile, crew postal, visit film, worker claim, district claim, business claim, claim visit, pile month, claim represent\n",
      "\n",
      "Topic  3\n",
      "finally expose, former grand, hateful racist, hat respect, left exactly, ilhanmn finally, expose left, wizard ku, celebrate party, party black\n",
      "\n",
      "Topic  4\n",
      "garbage, congresswoman, america garbage, america, garbage congresswoman, citizen force, seriously call, hellhole praise, congresswoman garbage, force eat\n",
      "\n",
      "Topic  5\n",
      "hawaii, green deal, green, crazy, deal, crazy crazy, hawaii island, deal crazy, eliminate air, hirono hawaii\n",
      "\n",
      "Topic  6\n",
      "cnn msnbc, msnbc, ignore fec, blackout cnn, medium blackout, msnbc ignore, co kxadajq, kxadajq, kxadajq jl, jl\n",
      "\n",
      "Topic  7\n",
      "brain behind, brain, behind, youtube brain, proof cast, share everywhere, co ldmzxe, roll congresswoman, cast roll, puppet handler\n",
      "\n",
      "Topic  8\n",
      "instead, subway, everything, uber, boy, spend, believe, climate change, climate, really\n",
      "\n",
      "Topic  9\n",
      "boy, scouts away, away boy, boy co, co xkadfguk, xkadfguk, necessary boy, boy scouts, necessary, scouts\n",
      "\n",
      "Topic  10\n",
      "palestinian, israel, pay, kill, american, right, omar, israel right, right exist, exist\n",
      "\n",
      "Topic  11\n",
      "letter circulate, mcclatchy newspaper, view person, person kill, circulate liberal, party cockeyed, idea warn, cockeyed, believe view, full page\n",
      "\n",
      "Topic  12\n",
      "friend throw, grandparent home, grip slip, pelosi grip, leave grandparent, slip friend, throw party, grandparent, party leave, slip\n",
      "\n",
      "Topic  13\n",
      "grip slip, leave grandparent, pelosi grip, grandparent home, slip friend, friend throw, throw party, grandparent, party leave, slip\n",
      "\n",
      "Topic  14\n",
      "uh, jh, uh uh, woman, act though, game real, clapback game, xatvtcm, people mess, bronx woman\n",
      "\n",
      "Topic  15\n",
      "public transportation, transportation, public, realize, transportation instead, accord american, subway ft, ft campaign, transportation association, american public\n",
      "\n",
      "Topic  16\n",
      "video, really, really content, video lot, video really, content video, xbagybfgbt actress, youtube really, co xbagybfgbt, really well\n",
      "\n",
      "Topic  17\n",
      "wonder, everything, emerge politico, week wonder, wonder emerge, politico path, politico, shocking least, first question, least first\n",
      "\n",
      "Topic  18\n",
      "everything, learn, state america, america, united state, united, state, currently, economic, public transportation\n",
      "\n",
      "Topic  19\n",
      "hear, medium, medium hide, rich weinstein, channel imperative, engaged wonder, engaged, full sniff, sniff hear, fkhde\n"
     ]
    }
   ],
   "source": [
    "display_topics(lsa_0, tfidf_0.get_feature_names(), 10)"
   ]
  },
  {
   "cell_type": "markdown",
   "metadata": {},
   "source": [
    "Do the same as above, and consider:\n",
    " - use nmf\n",
    " - look into tweet specific preprocessing\n",
    " - change # of topics\n",
    " - etc..."
   ]
  },
  {
   "cell_type": "markdown",
   "metadata": {},
   "source": [
    "But first, I'm going to process every community:"
   ]
  },
  {
   "cell_type": "code",
   "execution_count": 70,
   "metadata": {},
   "outputs": [],
   "source": [
    "with open('/Users/robertpagano/metis_data/project_5/community_pickles_pre_nlp/df_1.pickle', 'rb') as f:\n",
    "    df_1 = pickle.load(f)\n",
    "    \n",
    "with open('/Users/robertpagano/metis_data/project_5/community_pickles_pre_nlp/df_2.pickle', 'rb') as f:\n",
    "    df_2 = pickle.load(f)\n",
    "    \n",
    "with open('/Users/robertpagano/metis_data/project_5/community_pickles_pre_nlp/df_3.pickle', 'rb') as f:\n",
    "    df_3 = pickle.load(f)\n",
    "    \n",
    "with open('/Users/robertpagano/metis_data/project_5/community_pickles_pre_nlp/df_4.pickle', 'rb') as f:\n",
    "    df_4 = pickle.load(f)\n",
    "    \n",
    "with open('/Users/robertpagano/metis_data/project_5/community_pickles_pre_nlp/df_5.pickle', 'rb') as f:\n",
    "    df_5 = pickle.load(f)\n",
    "    \n",
    "with open('/Users/robertpagano/metis_data/project_5/community_pickles_pre_nlp/df_6.pickle', 'rb') as f:\n",
    "    df_6 = pickle.load(f)\n",
    "    \n",
    "with open('/Users/robertpagano/metis_data/project_5/community_pickles_pre_nlp/df_7.pickle', 'rb') as f:\n",
    "    df_7 = pickle.load(f)\n",
    "    \n",
    "with open('/Users/robertpagano/metis_data/project_5/community_pickles_pre_nlp/df_8.pickle', 'rb') as f:\n",
    "    df_8 = pickle.load(f)\n",
    "    \n",
    "with open('/Users/robertpagano/metis_data/project_5/community_pickles_pre_nlp/df_9.pickle', 'rb') as f:\n",
    "    df_9 = pickle.load(f)\n",
    "    \n",
    "with open('/Users/robertpagano/metis_data/project_5/community_pickles_pre_nlp/df_10.pickle', 'rb') as f:\n",
    "    df_10 = pickle.load(f)\n",
    "    \n",
    "with open('/Users/robertpagano/metis_data/project_5/community_pickles_pre_nlp/df_11.pickle', 'rb') as f:\n",
    "    df_11 = pickle.load(f)\n",
    "    \n",
    "with open('/Users/robertpagano/metis_data/project_5/community_pickles_pre_nlp/df_26.pickle', 'rb') as f:\n",
    "    df_26 = pickle.load(f)\n",
    "    \n",
    "with open('/Users/robertpagano/metis_data/project_5/community_pickles_pre_nlp/df_40.pickle', 'rb') as f:\n",
    "    df_40 = pickle.load(f)\n",
    "    \n",
    "\n",
    "    \n"
   ]
  },
  {
   "cell_type": "code",
   "execution_count": 72,
   "metadata": {},
   "outputs": [],
   "source": [
    "df_1['final_text'] = np.where((df_1['retweet_text'].isnull() == False), df_1['retweet_text'], df_1['main_text'])\n",
    "df_2['final_text'] = np.where((df_2['retweet_text'].isnull() == False), df_2['retweet_text'], df_2['main_text'])\n",
    "df_3['final_text'] = np.where((df_3['retweet_text'].isnull() == False), df_3['retweet_text'], df_3['main_text'])\n",
    "df_4['final_text'] = np.where((df_4['retweet_text'].isnull() == False), df_4['retweet_text'], df_4['main_text'])\n",
    "df_5['final_text'] = np.where((df_5['retweet_text'].isnull() == False), df_5['retweet_text'], df_5['main_text'])\n",
    "df_6['final_text'] = np.where((df_6['retweet_text'].isnull() == False), df_6['retweet_text'], df_6['main_text'])\n",
    "df_7['final_text'] = np.where((df_7['retweet_text'].isnull() == False), df_7['retweet_text'], df_7['main_text'])\n",
    "df_8['final_text'] = np.where((df_8['retweet_text'].isnull() == False), df_8['retweet_text'], df_8['main_text'])\n",
    "df_9['final_text'] = np.where((df_9['retweet_text'].isnull() == False), df_9['retweet_text'], df_9['main_text'])\n",
    "df_10['final_text'] = np.where((df_10['retweet_text'].isnull() == False), df_10['retweet_text'], df_10['main_text'])\n",
    "df_11['final_text'] = np.where((df_11['retweet_text'].isnull() == False), df_11['retweet_text'], df_11['main_text'])\n",
    "df_26['final_text'] = np.where((df_26['retweet_text'].isnull() == False), df_26['retweet_text'], df_26['main_text'])\n",
    "df_40['final_text'] = np.where((df_40['retweet_text'].isnull() == False), df_40['retweet_text'], df_40['main_text'])\n",
    "\n"
   ]
  },
  {
   "cell_type": "code",
   "execution_count": 73,
   "metadata": {},
   "outputs": [],
   "source": [
    "df_1['tweet_processed'] = df_1['final_text'].apply(lambda x:pre_process(x))\n",
    "df_2['tweet_processed'] = df_2['final_text'].apply(lambda x:pre_process(x))\n",
    "df_3['tweet_processed'] = df_3['final_text'].apply(lambda x:pre_process(x))\n",
    "df_4['tweet_processed'] = df_4['final_text'].apply(lambda x:pre_process(x))\n",
    "df_5['tweet_processed'] = df_5['final_text'].apply(lambda x:pre_process(x))\n",
    "df_6['tweet_processed'] = df_6['final_text'].apply(lambda x:pre_process(x))\n",
    "df_7['tweet_processed'] = df_7['final_text'].apply(lambda x:pre_process(x))\n",
    "df_8['tweet_processed'] = df_8['final_text'].apply(lambda x:pre_process(x))\n",
    "df_9['tweet_processed'] = df_9['final_text'].apply(lambda x:pre_process(x))\n",
    "df_10['tweet_processed'] = df_10['final_text'].apply(lambda x:pre_process(x))\n",
    "df_11['tweet_processed'] = df_11['final_text'].apply(lambda x:pre_process(x))\n",
    "df_26['tweet_processed'] = df_26['final_text'].apply(lambda x:pre_process(x))\n",
    "df_40['tweet_processed'] = df_40['final_text'].apply(lambda x:pre_process(x))\n",
    "\n",
    "\n",
    "\n",
    "\n",
    "\n",
    "\n",
    "\n"
   ]
  },
  {
   "cell_type": "code",
   "execution_count": 74,
   "metadata": {},
   "outputs": [],
   "source": [
    "with open('/Users/robertpagano/metis_data/project_5/community_pickles_pre_nlp/df_1_preprocess.pickle', 'wb') as to_write:\n",
    "    pickle.dump(df_1, to_write)\n",
    "    \n",
    "with open('/Users/robertpagano/metis_data/project_5/community_pickles_pre_nlp/df_2_preprocess.pickle', 'wb') as to_write:\n",
    "    pickle.dump(df_2, to_write)\n",
    "    \n",
    "with open('/Users/robertpagano/metis_data/project_5/community_pickles_pre_nlp/df_3_preprocess.pickle', 'wb') as to_write:\n",
    "    pickle.dump(df_3, to_write)\n",
    "    \n",
    "with open('/Users/robertpagano/metis_data/project_5/community_pickles_pre_nlp/df_4_preprocess.pickle', 'wb') as to_write:\n",
    "    pickle.dump(df_4, to_write)\n",
    "    \n",
    "with open('/Users/robertpagano/metis_data/project_5/community_pickles_pre_nlp/df_5_preprocess.pickle', 'wb') as to_write:\n",
    "    pickle.dump(df_5, to_write)\n",
    "    \n",
    "with open('/Users/robertpagano/metis_data/project_5/community_pickles_pre_nlp/df_6_preprocess.pickle', 'wb') as to_write:\n",
    "    pickle.dump(df_6, to_write)\n",
    "    \n",
    "with open('/Users/robertpagano/metis_data/project_5/community_pickles_pre_nlp/df_7_preprocess.pickle', 'wb') as to_write:\n",
    "    pickle.dump(df_7, to_write)\n",
    "    \n",
    "with open('/Users/robertpagano/metis_data/project_5/community_pickles_pre_nlp/df_8_preprocess.pickle', 'wb') as to_write:\n",
    "    pickle.dump(df_8, to_write)\n",
    "    \n",
    "with open('/Users/robertpagano/metis_data/project_5/community_pickles_pre_nlp/df_9_preprocess.pickle', 'wb') as to_write:\n",
    "    pickle.dump(df_9, to_write)\n",
    "    \n",
    "with open('/Users/robertpagano/metis_data/project_5/community_pickles_pre_nlp/df_10_preprocess.pickle', 'wb') as to_write:\n",
    "    pickle.dump(df_10, to_write)\n",
    "    \n",
    "with open('/Users/robertpagano/metis_data/project_5/community_pickles_pre_nlp/df_11_preprocess.pickle', 'wb') as to_write:\n",
    "    pickle.dump(df_11, to_write)\n",
    "    \n",
    "with open('/Users/robertpagano/metis_data/project_5/community_pickles_pre_nlp/df_26_preprocess.pickle', 'wb') as to_write:\n",
    "    pickle.dump(df_26, to_write)\n",
    "    \n",
    "with open('/Users/robertpagano/metis_data/project_5/community_pickles_pre_nlp/df_40_preprocess.pickle', 'wb') as to_write:\n",
    "    pickle.dump(df_40, to_write)\n",
    "    \n"
   ]
  },
  {
   "cell_type": "code",
   "execution_count": 76,
   "metadata": {},
   "outputs": [],
   "source": [
    "X_1 = df_1['tweet_processed']\n",
    "X_2 = df_2['tweet_processed']\n",
    "X_3 = df_3['tweet_processed']\n",
    "X_4 = df_4['tweet_processed']\n",
    "X_5 = df_5['tweet_processed']\n",
    "X_6 = df_6['tweet_processed']\n",
    "X_7 = df_7['tweet_processed']\n",
    "X_8 = df_8['tweet_processed']\n",
    "X_9 = df_9['tweet_processed']\n",
    "X_10 = df_10['tweet_processed']\n",
    "X_11 = df_11['tweet_processed']\n",
    "X_26 = df_26['tweet_processed']\n",
    "X_40 = df_40['tweet_processed']\n",
    "\n"
   ]
  },
  {
   "cell_type": "code",
   "execution_count": 87,
   "metadata": {},
   "outputs": [],
   "source": [
    "tfidf_1 = TfidfVectorizer(stop_words=tweet_stopwords, token_pattern=\"\\\\b[a-z][a-z]+\\\\b\", ngram_range=(1,2))\n",
    "tfidf_2 = TfidfVectorizer(stop_words=tweet_stopwords, token_pattern=\"\\\\b[a-z][a-z]+\\\\b\", ngram_range=(1,2))\n",
    "tfidf_3 = TfidfVectorizer(stop_words=tweet_stopwords, token_pattern=\"\\\\b[a-z][a-z]+\\\\b\", ngram_range=(1,2))\n",
    "tfidf_4 = TfidfVectorizer(stop_words=tweet_stopwords, token_pattern=\"\\\\b[a-z][a-z]+\\\\b\", ngram_range=(1,2))\n",
    "tfidf_5 = TfidfVectorizer(stop_words=tweet_stopwords, token_pattern=\"\\\\b[a-z][a-z]+\\\\b\", ngram_range=(1,2))\n",
    "tfidf_6 = TfidfVectorizer(stop_words=tweet_stopwords, token_pattern=\"\\\\b[a-z][a-z]+\\\\b\", ngram_range=(1,2))\n",
    "tfidf_7 = TfidfVectorizer(stop_words=tweet_stopwords, token_pattern=\"\\\\b[a-z][a-z]+\\\\b\", ngram_range=(1,2))\n",
    "tfidf_8 = TfidfVectorizer(stop_words=tweet_stopwords, token_pattern=\"\\\\b[a-z][a-z]+\\\\b\", ngram_range=(1,2))\n",
    "tfidf_9 = TfidfVectorizer(stop_words=tweet_stopwords, token_pattern=\"\\\\b[a-z][a-z]+\\\\b\", ngram_range=(1,2))\n",
    "tfidf_10 = TfidfVectorizer(stop_words=tweet_stopwords, token_pattern=\"\\\\b[a-z][a-z]+\\\\b\", ngram_range=(1,2))\n",
    "tfidf_11 = TfidfVectorizer(stop_words=tweet_stopwords, token_pattern=\"\\\\b[a-z][a-z]+\\\\b\", ngram_range=(1,2))\n",
    "tfidf_26 = TfidfVectorizer(stop_words=tweet_stopwords, token_pattern=\"\\\\b[a-z][a-z]+\\\\b\", ngram_range=(1,2))\n",
    "tfidf_40 = TfidfVectorizer(stop_words=tweet_stopwords, token_pattern=\"\\\\b[a-z][a-z]+\\\\b\", ngram_range=(1,2))\n"
   ]
  },
  {
   "cell_type": "markdown",
   "metadata": {},
   "source": [
    "Community_1"
   ]
  },
  {
   "cell_type": "code",
   "execution_count": 95,
   "metadata": {},
   "outputs": [
    {
     "data": {
      "text/plain": [
       "array([0.06577197, 0.06232332, 0.04064375, 0.02427183, 0.02345344,\n",
       "       0.01326354, 0.01123048, 0.01143955, 0.00867047, 0.00869339,\n",
       "       0.00841455, 0.00784053, 0.00800741, 0.00777426, 0.00754838,\n",
       "       0.00718744, 0.0070491 , 0.00656743, 0.00648086, 0.00605249])"
      ]
     },
     "execution_count": 95,
     "metadata": {},
     "output_type": "execute_result"
    }
   ],
   "source": [
    "bag_of_words_1 = tfidf_1.fit_transform(X_1)\n",
    "lsa_1 = TruncatedSVD(20)\n",
    "doc_topic_1 = lsa_1.fit_transform(bag_of_words_1)\n",
    "lsa_1.explained_variance_ratio_"
   ]
  },
  {
   "cell_type": "code",
   "execution_count": 96,
   "metadata": {},
   "outputs": [
    {
     "name": "stdout",
     "output_type": "stream",
     "text": [
      "\n",
      "Topic  0\n",
      "irredeemable system, system, capitalism irredeemable, irredeemable, capitalism, blame income, inequality co, system blame, call capitalism, blame\n",
      "\n",
      "Topic  1\n",
      "value, tweet worker, essentially restatement, create essentially, pay less, essentially, restatement, worker pay, less value, value create\n",
      "\n",
      "Topic  2\n",
      "co rdl, rdl, rdl cgkhqj, cgkhqj, system co, blast, blast capitalism, irredeemable system, capitalism irredeemable, irredeemable\n",
      "\n",
      "Topic  3\n",
      "live society, society job, job leave, leave die, excited, specter, haunt specter, specter automate, die, core\n",
      "\n",
      "Topic  4\n",
      "institution, people valid, eliminate personal, thus, thus must, close absolute, property, must give, abuse people, jump institution\n",
      "\n",
      "Topic  5\n",
      "abjw, lxo, co lxo, lxo abjw, income inequality, call capitalism, inequality co, system blame, blame income, blame\n",
      "\n",
      "Topic  6\n",
      "sxsw capitalism, socialist image, lean, lean socialist, co juikvax, image sxsw, juikvax, irredeemable co, image, socialist\n",
      "\n",
      "Topic  7\n",
      "robot, bill gate, gate, bill, robot co, idea tax, gate ally, ally washington, tax robot, washington idea\n",
      "\n",
      "Topic  8\n",
      "automation co, automation, excite automation, excite, co rdbbbvsffa, rdbbbvsffa, co, jaxghlhwwj, co jaxghlhwwj, group\n",
      "\n",
      "Topic  9\n",
      "group, expert, range, conservative group, finance violation, violation expert, group accuse, finance, campaign finance, violation\n",
      "\n",
      "Topic  10\n",
      "range, condemn incident, incident range, incident, catholic, catholic bias, jfk, jfk co, pressure progressive, shoot\n",
      "\n",
      "Topic  11\n",
      "critic, crazy, man drive, drive critic, crazy co, powerful man, critic crazy, powerful, drive, man\n",
      "\n",
      "Topic  12\n",
      "crazy, critic crazy, man drive, crazy co, drive critic, powerful man, powerful, drive, man, critic\n",
      "\n",
      "Topic  13\n",
      "rep, robot come, rep good, job rep, come job, qctbphiore, co qctbphiore, good co, come, good\n",
      "\n",
      "Topic  14\n",
      "probably, weird, weird hard, co mncrzffrcd, understand probably, consensus probably, unlawful, unlawful co, coalesce idea, coalesce\n",
      "\n",
      "Topic  15\n",
      "fail, ethical, environmental, swipe, swipe lack, fail everyone, everyone aspire, every mta, ethical foundation, advocacy\n",
      "\n",
      "Topic  16\n",
      "ilhan omar, ilhan, co hkcuot, side co, hkcuot, omar comment, trump pelosi, congress trump, pelosi side, israel consume\n",
      "\n",
      "Topic  17\n",
      "tax, socialist, france, move, american, mom move, ms mom, mom, high tax, ms\n",
      "\n",
      "Topic  18\n",
      "thunder democrat, steal thunder, beto, beto rourke, rourke steal, rourke, thunder, steal, democrat, co dloylcl\n",
      "\n",
      "Topic  19\n",
      "deal, green deal, green, promote green, promote, car, use, deal co, service promote, ride hail\n"
     ]
    }
   ],
   "source": [
    "display_topics(lsa_1, tfidf_1.get_feature_names(), 10)"
   ]
  },
  {
   "cell_type": "markdown",
   "metadata": {},
   "source": [
    "Community_2"
   ]
  },
  {
   "cell_type": "code",
   "execution_count": 97,
   "metadata": {},
   "outputs": [
    {
     "data": {
      "text/plain": [
       "array([0.45382045, 0.05495502, 0.03683469, 0.03287456, 0.02701459,\n",
       "       0.02375505, 0.01134734, 0.00814445, 0.00690917, 0.00674604,\n",
       "       0.00486508, 0.00446107, 0.00410206, 0.00371391, 0.00330003,\n",
       "       0.00325492, 0.00293964, 0.00269977, 0.00245108, 0.00206534])"
      ]
     },
     "execution_count": 97,
     "metadata": {},
     "output_type": "execute_result"
    }
   ],
   "source": [
    "bag_of_words_2 = tfidf_2.fit_transform(X_2)\n",
    "lsa_2 = TruncatedSVD(20)\n",
    "doc_topic_2 = lsa_2.fit_transform(bag_of_words_2)\n",
    "lsa_2.explained_variance_ratio_"
   ]
  },
  {
   "cell_type": "code",
   "execution_count": 98,
   "metadata": {},
   "outputs": [
    {
     "name": "stdout",
     "output_type": "stream",
     "text": [
      "\n",
      "Topic  0\n",
      "service, long, lot life, require work, require, long long, job lot, lesson learn, customer service, work service\n",
      "\n",
      "Topic  1\n",
      "skill libs, nice job, leadership skill, cvfc, cvfc kjzum, libs nice, cookie teach, libs, teach little, co cvfc\n",
      "\n",
      "Topic  2\n",
      "file bogus, phij, group spamm, misinformation machine, allege, co gi, allege untrue, complaint fox, folk co, conspiracy theory\n",
      "\n",
      "Topic  3\n",
      "gdjsh, part co, gdjsh dk, co gdjsh, dk, part, co, rest co, povmemdnlz, mint rest\n",
      "\n",
      "Topic  4\n",
      "live society, core, core problem, die core, society job, problem co, leave die, job leave, society, excite reason\n",
      "\n",
      "Topic  5\n",
      "povmemdnlz, mint rest, rest co, co povmemdnlz, thin mint, mint, thin, rest, co, come\n",
      "\n",
      "Topic  6\n",
      "give job, entirely, ivanka, mtvszv, mtvszv sco, whose, heiress, whose career, sco, heiress whose\n",
      "\n",
      "Topic  7\n",
      "co gcv, cannnnn co, cannnnn, ff woman, woman cannnnn, gcv, ff, woman, co, international\n",
      "\n",
      "Topic  8\n",
      "osborne, george osborne, george, politic george, osborne co, politic, co ktmlcikb, ktmlcikb, co, njy\n",
      "\n",
      "Topic  9\n",
      "jacindaardern, change jacindaardern, peggy, sarujayaraman, peggy shepard, constancewu peggy, shepard, gretathunberg emma, gretathunberg, emma change\n",
      "\n",
      "Topic  10\n",
      "campaign finance, flaw, expose big, five minute, flaw loophole, watch takedown, minute expose, loophole campaign, five, loophole\n",
      "\n",
      "Topic  11\n",
      "apprentice, meet apprentice, smmt, apprentice microsoft, apprentice feweek, microsoft, qcwq, labour lifelonglearn, award, varied naw\n",
      "\n",
      "Topic  12\n",
      "exactly, correct, rdjqyx co, robust, beginning business, co rdjqyx, argument robust, exactly correct, correct piece, rdjqyx\n",
      "\n",
      "Topic  13\n",
      "address, sxsw co, climate change, sxsw, inequality address, address income, tsbac, together work, divide address, fear divide\n",
      "\n",
      "Topic  14\n",
      "world, international, eight, honor eight, international honor, transparency international, fight corruption, courageous woman, world head, eight courageous\n",
      "\n",
      "Topic  15\n",
      "filth slay, outfits, girl lately, meet professional, everybody, lately course, lately, business meet, work job, slay outfits\n",
      "\n",
      "Topic  16\n",
      "threaten, threaten shoot, shoot, jerry, falwell, jerry falwell, falwell jr, jr, jr threaten, muslim threaten\n",
      "\n",
      "Topic  17\n",
      "ggraphicsinc, ironhorse, redpainter laurenduca, kamalaharris laurawbush, leeleebb, brienneofkitty, brienneofkitty ggraphicsinc, laurenduca ironhorse, battleborngoali, laurenduca\n",
      "\n",
      "Topic  18\n",
      "bit, risk sound, morewoman, sound bit, medium woman, risk, reason meghan, become target, markle become, markle\n",
      "\n",
      "Topic  19\n",
      "manafort, yes, answer, attack, stammer, stern yes, yes co, correct answer, pussy stammer, stern\n"
     ]
    }
   ],
   "source": [
    "display_topics(lsa_2, tfidf_2.get_feature_names(), 10)"
   ]
  },
  {
   "cell_type": "markdown",
   "metadata": {},
   "source": [
    "Community_3"
   ]
  },
  {
   "cell_type": "code",
   "execution_count": 99,
   "metadata": {},
   "outputs": [
    {
     "data": {
      "text/plain": [
       "array([0.03999392, 0.02212447, 0.0194341 , 0.01317997, 0.01189089,\n",
       "       0.01164648, 0.01008555, 0.00990178, 0.00828502, 0.00778276,\n",
       "       0.00801122, 0.00808432, 0.00740344, 0.00713834, 0.00716819,\n",
       "       0.00678276, 0.00630425, 0.0060036 , 0.00594291, 0.00565552])"
      ]
     },
     "execution_count": 99,
     "metadata": {},
     "output_type": "execute_result"
    }
   ],
   "source": [
    "bag_of_words_3 = tfidf_3.fit_transform(X_3)\n",
    "lsa_3 = TruncatedSVD(20)\n",
    "doc_topic_3 = lsa_3.fit_transform(bag_of_words_3)\n",
    "lsa_3.explained_variance_ratio_"
   ]
  },
  {
   "cell_type": "code",
   "execution_count": 100,
   "metadata": {},
   "outputs": [
    {
     "name": "stdout",
     "output_type": "stream",
     "text": [
      "\n",
      "Topic  0\n",
      "compilation co, sxsw good, cxy, cxy goe, compilation, goe, iw cxy, genius sxsw, good compilation, iw\n",
      "\n",
      "Topic  1\n",
      "explode fyi, fyi, challenger explode, explode, challenger, girlscout challenger, uzbk, fyi co, co uzbk, girlscout\n",
      "\n",
      "Topic  2\n",
      "fly, eat, sxsw atx, fart taco, atx, atx co, taco speak, airplane eat, eat cow, speak sxsw\n",
      "\n",
      "Topic  3\n",
      "beef, try town, fly austin, beef try, town fly, town, austin, fly, try, eat beef\n",
      "\n",
      "Topic  4\n",
      "trillion, cost, green deal, green, deal, dollar tell, almost trillion, wall cost, trillion expensive, year die\n",
      "\n",
      "Topic  5\n",
      "claim, worker claim, month box, business claim, never boyfriend, postal, district claim, mail pile, pile month, pile\n",
      "\n",
      "Topic  6\n",
      "faught, mlk pro, faught democrat, life republican, kkk next, republican faught, run kkk, pro life, democrat run, kkk\n",
      "\n",
      "Topic  7\n",
      "right corporation, scar right, corporation government, obvious never, irredeemable rep, government obvious, co xfv, xfv, pick dictionary, never pick\n",
      "\n",
      "Topic  8\n",
      "hillary clinton, clinton, hillary, tvpaut det, det, co tvpaut, tvpaut, clinton co, co, garbage\n",
      "\n",
      "Topic  9\n",
      "hawaii, crazy, green deal, green, deal, garbage, deal crazy, hirono hawaii, hirono, crazy crazy\n",
      "\n",
      "Topic  10\n",
      "hawaii, crazy, green deal, green, deal, deal crazy, mazie, democrat senator, crazy green, crazy crazy\n",
      "\n",
      "Topic  11\n",
      "klux, hat respect, co qwek, klan, klan celebrate, klux klan, stupid jews, ilhanmn finally, ku klux, respect ilhanmn\n",
      "\n",
      "Topic  12\n",
      "eat beef, eat, beef, fly eat, texas eat, fly texas, wjo, beef fly, wjo xekevs, xekevs\n",
      "\n",
      "Topic  13\n",
      "uh, boy, xatvtcm, though borough, clapback, clapback game, game real, twitter people, jh xatvtcm, life uh\n",
      "\n",
      "Topic  14\n",
      "boy, scouts away, co xkadfguk, away boy, necessary boy, boy co, xkadfguk, boy scouts, necessary, scouts\n",
      "\n",
      "Topic  15\n",
      "instead, uber, subway, spend, everything, year climate, slow demise, subway fly, nyc instead, use amtrak\n",
      "\n",
      "Topic  16\n",
      "never, million blonde, head never, border fill, blue eyed, fill million, kind co, blonde haired, understand kind, co incsvzeiyh\n",
      "\n",
      "Topic  17\n",
      "cnn msnbc, msnbc, msnbc ignore, complaint co, blackout cnn, kxadajq, co kxadajq, ignore fec, kxadajq jl, medium blackout\n",
      "\n",
      "Topic  18\n",
      "answer cast, cast call, realjameswood realdonaldtrump, call congress, hbuw xqao, congress realjameswood, xqao, co hbuw, hbuw, cast\n",
      "\n",
      "Topic  19\n",
      "fyi co, co uzbk, uzbk, co, co sxanxxmngh, serious tweet, sxanxxmngh, tweet co, serious, tweet\n"
     ]
    }
   ],
   "source": [
    "display_topics(lsa_3, tfidf_3.get_feature_names(), 10)"
   ]
  },
  {
   "cell_type": "markdown",
   "metadata": {},
   "source": [
    "Community_4"
   ]
  },
  {
   "cell_type": "code",
   "execution_count": 101,
   "metadata": {},
   "outputs": [
    {
     "data": {
      "text/plain": [
       "array([0.03498395, 0.022398  , 0.01901534, 0.01770204, 0.01575723,\n",
       "       0.01281881, 0.01271955, 0.01133546, 0.00950088, 0.0101677 ,\n",
       "       0.01001013, 0.00881374, 0.00837975, 0.00796869, 0.0074926 ,\n",
       "       0.00696977, 0.00673222, 0.00654947, 0.00649253, 0.00627482])"
      ]
     },
     "execution_count": 101,
     "metadata": {},
     "output_type": "execute_result"
    }
   ],
   "source": [
    "bag_of_words_4 = tfidf_4.fit_transform(X_4)\n",
    "lsa_4 = TruncatedSVD(20)\n",
    "doc_topic_4 = lsa_4.fit_transform(bag_of_words_4)\n",
    "lsa_4.explained_variance_ratio_"
   ]
  },
  {
   "cell_type": "code",
   "execution_count": 102,
   "metadata": {},
   "outputs": [
    {
     "name": "stdout",
     "output_type": "stream",
     "text": [
      "\n",
      "Topic  0\n",
      "claim, box fraud, pile month, claim mail, business claim, claim visit, crew postal, worker claim, month box, never boyfriend\n",
      "\n",
      "Topic  1\n",
      "hawaii, crazy, green deal, green, deal, democrat senator, hawaii anyone, oppose green, hawaii island, interesting democrat\n",
      "\n",
      "Topic  2\n",
      "ilhanmn finally, hat respect, folk former, celebrate party, party black, stupid jews, klan celebrate, wizard ku, nothing folk, former grand\n",
      "\n",
      "Topic  3\n",
      "garbage, congresswoman garbage, praise venezuela, hellhole praise, wow seriously, socialist hellhole, garbage congresswoman, eat socialist, seriously call, garbage citizen\n",
      "\n",
      "Topic  4\n",
      "instead, uber, subway, everything, spend, demise instead, lyft instead, subway fly, slow demise, believe world\n",
      "\n",
      "Topic  5\n",
      "boy, necessary boy, co xkadfguk, xkadfguk, away boy, scouts away, boy co, boy scouts, necessary, scouts\n",
      "\n",
      "Topic  6\n",
      "fec complaint, fec, complaint, cnn msnbc, msnbc, blackout cnn, ignore fec, medium blackout, msnbc ignore, co kxadajq\n",
      "\n",
      "Topic  7\n",
      "cnn msnbc, msnbc, blackout cnn, ignore fec, medium blackout, msnbc ignore, kxadajq jl, co kxadajq, kxadajq, jl\n",
      "\n",
      "Topic  8\n",
      "reagan, yr, class, american, class american, public transportation, transportation, public, learn, unemployment\n",
      "\n",
      "Topic  9\n",
      "friend throw, grip slip, leave grandparent, grandparent home, throw party, slip friend, pelosi grip, party leave, grandparent, gingrich pelosi\n",
      "\n",
      "Topic  10\n",
      "public transportation, transportation, public, subway ft, emission spend, instead car, accord american, ft campaign, transportation association, transportation instead\n",
      "\n",
      "Topic  11\n",
      "learn, everything, economic, economic learn, judaism learn, farrakhan everything, everything judaism, professor everything, learn leftist, leftist college\n",
      "\n",
      "Topic  12\n",
      "currently sit, sit economic, class right, economic class, currently, sit, class, right, economic, palestinian\n",
      "\n",
      "Topic  13\n",
      "landslide, elect, landslide elect, aywff tpdy, aywff, bu lord, big landslide, landslide bu, co aywff, tpdy\n",
      "\n",
      "Topic  14\n",
      "want, cheer, socialism, great, privileged congresswoman, star restaurant, co gguoqfhcdw, cheer socialism, suit eat, eat star\n",
      "\n",
      "Topic  15\n",
      "great, america, point, want, perhaps never, point mind, interestingly america, great perhaps, great interestingly, excuse america\n",
      "\n",
      "Topic  16\n",
      "act, laughingstock, ignorance display, nonsense drop, act listen, fool seriously, iq ten, co yrbqgk, match act, clip tough\n",
      "\n",
      "Topic  17\n",
      "palestinian, israel, choose palestinian, etc believe, side pay, tlaib grow, palestinian faction, faction hama, pay terrorist, support palestinian\n",
      "\n",
      "Topic  18\n",
      "hipster cheer, sxsw realize, site hear, outage mean, gadget dead, access social, mean gadget, realize venezuela, dead access, cheer sxsw\n",
      "\n",
      "Topic  19\n",
      "rep, speak intellectual, rep idea, rep follow, pathetic rep, left embarrassing, vacuum left, actually rep, many speak, intellectual vacuum\n"
     ]
    }
   ],
   "source": [
    "display_topics(lsa_4, tfidf_4.get_feature_names(), 10)"
   ]
  },
  {
   "cell_type": "markdown",
   "metadata": {},
   "source": [
    "Community_5"
   ]
  },
  {
   "cell_type": "code",
   "execution_count": 103,
   "metadata": {},
   "outputs": [
    {
     "data": {
      "text/plain": [
       "array([0.01163665, 0.01392898, 0.01324152, 0.01230021, 0.01241668,\n",
       "       0.00944719, 0.0097324 , 0.00862834, 0.00876726, 0.00854226,\n",
       "       0.00774749, 0.00779549, 0.0076388 , 0.00697391, 0.00667956,\n",
       "       0.00647239, 0.00639239, 0.00602114, 0.00562742, 0.00523464])"
      ]
     },
     "execution_count": 103,
     "metadata": {},
     "output_type": "execute_result"
    }
   ],
   "source": [
    "bag_of_words_5 = tfidf_5.fit_transform(X_5)\n",
    "lsa_5 = TruncatedSVD(20)\n",
    "doc_topic_5 = lsa_5.fit_transform(bag_of_words_5)\n",
    "lsa_5.explained_variance_ratio_"
   ]
  },
  {
   "cell_type": "code",
   "execution_count": 104,
   "metadata": {},
   "outputs": [
    {
     "name": "stdout",
     "output_type": "stream",
     "text": [
      "\n",
      "Topic  0\n",
      "american, palestinian, uh, class american, class, israel, claim, working class, working, co\n",
      "\n",
      "Topic  1\n",
      "uh, mess bronx, clapback game, woman without, jh xatvtcm, though borough, without roasted, roasted act, perfect clapback, xatvtcm\n",
      "\n",
      "Topic  2\n",
      "claim, class american, class, claim mail, business claim, worker claim, visit film, box fraud, apartment local, crew postal\n",
      "\n",
      "Topic  3\n",
      "anti, anti semitism, semitism, condemn, resolution, sham resolution, sham, design, vote, rep\n",
      "\n",
      "Topic  4\n",
      "class american, class, american, working class, working, reagan, ronald reagan, ronald, president ronald, president\n",
      "\n",
      "Topic  5\n",
      "garbage, america, state america, united state, united, america garbage, state, great, tell firsthand, family immigrate\n",
      "\n",
      "Topic  6\n",
      "bigotry ilhanmn, floor design, put sham, resolution floor, semitic hate, design protect, outrage party, party put, hate bigotry, protect anti\n",
      "\n",
      "Topic  7\n",
      "people, harris, multiple job, work multiple, low people, rate low, unemployment rate, kamala harris, people work, kamala\n",
      "\n",
      "Topic  8\n",
      "finally expose, stupid jews, wizard ku, left exactly, folk former, hat respect, ilhanmn finally, klan celebrate, respect ilhanmn, expose left\n",
      "\n",
      "Topic  9\n",
      "hawaii, crazy, green deal, green, deal, crazy crazy, crazy green, senator mazie, hawaii anyone, travel hawaii\n",
      "\n",
      "Topic  10\n",
      "reagan, ever pick, pick book, evidence ever, book president, pick, book, evidence, ever, president\n",
      "\n",
      "Topic  11\n",
      "garbage, call, call america, seriously call, praise venezuela, wow seriously, hellhole praise, garbage congresswoman, congresswoman garbage, garbage citizen\n",
      "\n",
      "Topic  12\n",
      "try, try illegally, illegally purchase, safety law, gun safety, firearm felony, felony ice, law report, furious republican, really furious\n",
      "\n",
      "Topic  13\n",
      "jewish member, wpzm, co kocwj, kocwj wpzm, kocwj, explain vote, congress explain, member congress, resolution co, jewish\n",
      "\n",
      "Topic  14\n",
      "call, instead, year, ago, ago call, deblasio basically, shout dishonest, hat call, dishonest slur, fur hat\n",
      "\n",
      "Topic  15\n",
      "instead, currently, fjtb, bz fjtb, currently garbage, america currently, co bz, bz, garbage co, uber\n",
      "\n",
      "Topic  16\n",
      "currently, fjtb, bz fjtb, currently garbage, america currently, co bz, bz, garbage co, ago, call\n",
      "\n",
      "Topic  17\n",
      "boy, necessary boy, scouts away, xkadfguk, co xkadfguk, away boy, boy co, boy scouts, necessary, scouts\n",
      "\n",
      "Topic  18\n",
      "anti, medium, accuse oppose, semitism medium, gaslighting fun, echo gaslighting, semite accuse, medium echo, oppose anti, run cover\n",
      "\n",
      "Topic  19\n",
      "capitalism, capitalism irredeemable, irredeemable, blast capitalism, co kocp, year local, generate million, event generate, kocp saegl, kocp\n"
     ]
    }
   ],
   "source": [
    "display_topics(lsa_5, tfidf_5.get_feature_names(), 10)"
   ]
  },
  {
   "cell_type": "markdown",
   "metadata": {},
   "source": [
    "Community_6"
   ]
  },
  {
   "cell_type": "code",
   "execution_count": 105,
   "metadata": {},
   "outputs": [
    {
     "data": {
      "text/plain": [
       "array([0.05626058, 0.05251768, 0.01988479, 0.01333021, 0.01301637,\n",
       "       0.01165898, 0.00978425, 0.00903689, 0.00868336, 0.00872859,\n",
       "       0.00796586, 0.0074651 , 0.00665062, 0.00660595, 0.00567826,\n",
       "       0.00589073, 0.00571472, 0.00548576, 0.00539443, 0.00503219])"
      ]
     },
     "execution_count": 105,
     "metadata": {},
     "output_type": "execute_result"
    }
   ],
   "source": [
    "bag_of_words_6 = tfidf_6.fit_transform(X_6)\n",
    "lsa_6 = TruncatedSVD(20)\n",
    "doc_topic_6 = lsa_6.fit_transform(bag_of_words_6)\n",
    "lsa_6.explained_variance_ratio_"
   ]
  },
  {
   "cell_type": "code",
   "execution_count": 106,
   "metadata": {},
   "outputs": [
    {
     "name": "stdout",
     "output_type": "stream",
     "text": [
      "\n",
      "Topic  0\n",
      "cvfc kjzum, cvfc, co cvfc, kjzum, libs nice, skill libs, teach little, cookie teach, nice job, job co\n",
      "\n",
      "Topic  1\n",
      "untrue scandal, allege untrue, case conspiracy, theory run, run conservative, group spamm, report allege, scandal misinformation, spamm file, spamm\n",
      "\n",
      "Topic  2\n",
      "crumble road, froth rage, past abandon, screech monkey, monkey tell, road past, radio screech, storefront low, right deplorable, crappy car\n",
      "\n",
      "Topic  3\n",
      "hispanic, female, year old, young, bartender, ny, attack, old, year, female hispanic\n",
      "\n",
      "Topic  4\n",
      "dem, reclaim language, storm dem, decade reclaim, willing past, reason political, leader simple, dem willing, equivocation, hesitation equivocation\n",
      "\n",
      "Topic  5\n",
      "attack, praise, praise sander, praise attack, biden give, space dem, promote politician, attack biden, politician candidate, praise warren\n",
      "\n",
      "Topic  6\n",
      "moderate, naive visionary, visionary tinker, moderate spot, spot moderate, edge solve, moderate naive, critique moderate, contract manage, time rewrite\n",
      "\n",
      "Topic  7\n",
      "address, address income, inequality address, together work, divide address, change together, fear divide, address climate, income inequality, co tsbac\n",
      "\n",
      "Topic  8\n",
      "almost alone, alone raise, hear almost, protection hear, donor co, co bzvqycgq, bzvqycgq, money large, large donor, consumer protection\n",
      "\n",
      "Topic  9\n",
      "call, terrorist mexican, bitch mock, condemn donald, joke native, disabled none, mock disabled, nazi chant, native woman, people joke\n",
      "\n",
      "Topic  10\n",
      "service, long, service customer, bartender long, lot life, time everyone, require work, job lot, co fzvfdsnue, fzvfdsnue\n",
      "\n",
      "Topic  11\n",
      "earth next, party likely, generation american, likely nation, nation appeal, bigot future, appeal generation, progress help, misogynistic bigot, american walk\n",
      "\n",
      "Topic  12\n",
      "scout, girl scout, girl, cookie, boycott, scout co, scout cookie, call, cookie boycott, boycott use\n",
      "\n",
      "Topic  13\n",
      "society, job leave, leave die, society job, live society, core problem, die core, core, specter automate, work excite\n",
      "\n",
      "Topic  14\n",
      "much, terrify much, good internet, gop terrify, much good, internet, terrify, gop, good, right despis\n",
      "\n",
      "Topic  15\n",
      "vote exactly, wild republican, exactly lifetime, extremely wild, win popular, republican win, popular vote, lifetime, wild, extremely\n",
      "\n",
      "Topic  16\n",
      "crisis, bronx, gprnj er, co gprnj, meeting drug, yesterday house, gprnj, record yesterday, bronx congressional, article opioid\n",
      "\n",
      "Topic  17\n",
      "ask, share help, help bottom, society succeed, tier society, ask billionaire, money ask, bottom tier, billionaire give, give money\n",
      "\n",
      "Topic  18\n",
      "fix, elect fix, fix shit, democrat elect, many democrat, elect, shit, many, democrat, first\n",
      "\n",
      "Topic  19\n",
      "despis realize, tonight much, right despis, despis, realize support, much right, tonight, right, realize, support\n"
     ]
    }
   ],
   "source": [
    "display_topics(lsa_6, tfidf_6.get_feature_names(), 10)"
   ]
  },
  {
   "cell_type": "markdown",
   "metadata": {},
   "source": [
    "Community_7"
   ]
  },
  {
   "cell_type": "code",
   "execution_count": 107,
   "metadata": {},
   "outputs": [
    {
     "data": {
      "text/plain": [
       "array([0.06827266, 0.05724163, 0.06072061, 0.02227897, 0.01582008,\n",
       "       0.01678693, 0.01686263, 0.01508106, 0.01514805, 0.01469623,\n",
       "       0.01342586, 0.01278529, 0.01158334, 0.00923727, 0.00841481,\n",
       "       0.00715446, 0.00713883, 0.00559877, 0.0054351 , 0.00534099])"
      ]
     },
     "execution_count": 107,
     "metadata": {},
     "output_type": "execute_result"
    }
   ],
   "source": [
    "bag_of_words_7 = tfidf_7.fit_transform(X_7)\n",
    "lsa_7 = TruncatedSVD(20)\n",
    "doc_topic_7 = lsa_7.fit_transform(bag_of_words_7)\n",
    "lsa_7.explained_variance_ratio_"
   ]
  },
  {
   "cell_type": "code",
   "execution_count": 108,
   "metadata": {},
   "outputs": [
    {
     "name": "stdout",
     "output_type": "stream",
     "text": [
      "\n",
      "Topic  0\n",
      "excited live, reason excited, specter automate, excite reason, work excite, society job, haunt specter, specter, haunt, automate work\n",
      "\n",
      "Topic  1\n",
      "address, co tsbac, tsbac, change together, together work, divide address, inequality address, fear divide, address income, work sxsw\n",
      "\n",
      "Topic  2\n",
      "moderate, time rewrite, critique moderate, visionary tinker, edge solve, contract manage, moderate spot, spot moderate, naive visionary, problem democracy\n",
      "\n",
      "Topic  3\n",
      "policy idea, idea, policy, popular instead, cynical big, bcwtml, focus strategy, strategy substance, coverage green, big policy\n",
      "\n",
      "Topic  4\n",
      "co fexqdex, fexqdex, tell use, gun co, use gun, please tell, gun, please, tell, use\n",
      "\n",
      "Topic  5\n",
      "file bogus, complaint fox, theory run, untrue scandal, gi phij, phij, phij jo, group spamm, spamm file, case conspiracy\n",
      "\n",
      "Topic  6\n",
      "first, bid united, endorsement ilhanmn, support announce, election bid, first endorsement, state congress, solidarity support, announce first, rashidatlaib election\n",
      "\n",
      "Topic  7\n",
      "sxsw tictocnew, tictocnew, tictocnew co, gain, sxsw, explain favor, government explain, socialism sxsw, favor democratic, right corporation\n",
      "\n",
      "Topic  8\n",
      "gain, gain must, cost person, reject logic, logic someone, gain necessitate, necessitate loss, else gain, loss gain, must come\n",
      "\n",
      "Topic  9\n",
      "skill libs, libs nice, teach little, cookie teach, nice job, leadership skill, boycott cookie, little girl, kjzum, cvfc kjzum\n",
      "\n",
      "Topic  10\n",
      "challenge confrontation, try challenge, light heartedly, funniest co, john podhoretz, ufzakdr, threaten call, police people, reply light, confrontation immediately\n",
      "\n",
      "Topic  11\n",
      "first, fix, deal, pension coal, fix electrical, first fully, first fix, rico first, grid puerto, flint first\n",
      "\n",
      "Topic  12\n",
      "change counteract, fear sxsw, counteract fear, counteract, answer billnye, billnye question, xulo, jkl xulo, jkl, co jkl\n",
      "\n",
      "Topic  13\n",
      "power, navigate system, navigate, try navigate, stop try, start build, system power, power start, build power, leader spot\n",
      "\n",
      "Topic  14\n",
      "class american, class, american, working class, working, white working, pit, brown, screw work, pit white\n",
      "\n",
      "Topic  15\n",
      "service, long, service customer, lot life, bartender long, service job, customer service, life lesson, time everyone, work service\n",
      "\n",
      "Topic  16\n",
      "chance, automation, chance eliminate, endorse automation, job drudgery, interesting part, drudgery sever, sever survival, chance draft, automation chance\n",
      "\n",
      "Topic  17\n",
      "status quo, quo, status, co rtfdcgyqa, ilhanmn smear, echo status, mirage obama, deal mirage, fawn medium, palestine echo\n",
      "\n",
      "Topic  18\n",
      "good back, red first, iuybhio, minute complete, co iuybhio, back red, first minute, complete co, complete, minute\n",
      "\n",
      "Topic  19\n",
      "shit whatnot, shout errytime, errytime turn, shakin, errytime, shakin shit, turn shakin, whatnot, shout, turn\n"
     ]
    }
   ],
   "source": [
    "display_topics(lsa_7, tfidf_7.get_feature_names(), 10)"
   ]
  },
  {
   "cell_type": "markdown",
   "metadata": {},
   "source": [
    "Community_8"
   ]
  },
  {
   "cell_type": "code",
   "execution_count": 109,
   "metadata": {},
   "outputs": [
    {
     "data": {
      "text/plain": [
       "array([0.02460699, 0.02165547, 0.01920328, 0.01406421, 0.0104501 ,\n",
       "       0.008127  , 0.00795469, 0.00735274, 0.00714922, 0.00713512,\n",
       "       0.00716786, 0.00632214, 0.00653472, 0.00631148, 0.00602179,\n",
       "       0.00581059, 0.00576865, 0.005268  , 0.00507904, 0.00470967])"
      ]
     },
     "execution_count": 109,
     "metadata": {},
     "output_type": "execute_result"
    }
   ],
   "source": [
    "bag_of_words_8 = tfidf_8.fit_transform(X_8)\n",
    "lsa_8 = TruncatedSVD(20)\n",
    "doc_topic_8 = lsa_8.fit_transform(bag_of_words_8)\n",
    "lsa_8.explained_variance_ratio_"
   ]
  },
  {
   "cell_type": "code",
   "execution_count": 110,
   "metadata": {},
   "outputs": [
    {
     "name": "stdout",
     "output_type": "stream",
     "text": [
      "\n",
      "Topic  0\n",
      "est fox, gnd climate, alarmism general, pm est, general celebrateco, carlson tonight, est, news discuss, discuss gnd, tucker carlson\n",
      "\n",
      "Topic  1\n",
      "right pressing, part ilhan, face year, invasion border, pressing issue, distract right, year invasion, bad part, country face, issue country\n",
      "\n",
      "Topic  2\n",
      "amplicity joshuadstewart, einandererblog seanflanderhijn, brunopresent kstafford, amplicity, prez, prez xlrec, awayyumi einandererblog, einandererblog, libertyisalady, watt prez\n",
      "\n",
      "Topic  3\n",
      "fuel, fossil fuel, fossil, food, plan grow, grow food, twit plan, bring mass, horse fossil, food billion\n",
      "\n",
      "Topic  4\n",
      "claim, claim visit, business claim, postal worker, postal, local business, district claim, live district, month box, neighbor never\n",
      "\n",
      "Topic  5\n",
      "immigration demographic, legal immigration, demographic change, demographic, legal, immigration, change, crazy, ilhan omar, ilhan\n",
      "\n",
      "Topic  6\n",
      "crazy, today care, ummm crazy, ummm, country invade, care country, crazy ilhan, invade, omar today, care\n",
      "\n",
      "Topic  7\n",
      "lavscam, concept lavscam, ugjbbl, ugjbbl kgf, co ugjbbl, chance send, send note, lavscam co, trudeau concept, note justin\n",
      "\n",
      "Topic  8\n",
      "want, deal, green deal, green, end year, want everyone, solution want, enough co, cloth shopping, guilt enough\n",
      "\n",
      "Topic  9\n",
      "wow, wow breitbartnew, breitnbartradio, leave greeneace, greeneace hijack, glvhx, co hyd, interview breitnbartradio, greeneace, breitbartnew write\n",
      "\n",
      "Topic  10\n",
      "deal, green deal, green, hawaii, eliminate air, travel hawaii, deal crazy, crazy green, hawaii anyone, anyone oppose\n",
      "\n",
      "Topic  11\n",
      "black, black people, people, garbage, klan celebrate, jews hat, klux klan, klux, qwek omk, ilhanmn finally\n",
      "\n",
      "Topic  12\n",
      "menu, thank pompous, favour serious, twit gnd, mine tweet, pact recommend, serious exchange, exchange idea, enjoy follower, lot ground\n",
      "\n",
      "Topic  13\n",
      "garbage, america, america garbage, call america, call, garbage congresswoman, garbage citizen, congresswoman garbage, wow seriously, eat socialist\n",
      "\n",
      "Topic  14\n",
      "national mall, bind statue, wheelchair, redline black, wheelchair bind, ritually, laureate, nobel laureate, mall, ritually topple\n",
      "\n",
      "Topic  15\n",
      "uh, uh uh, bronx woman, mess bronx, perfect clapback, twitter people, xatvtcm, borough, borough perfect, clapback game\n",
      "\n",
      "Topic  16\n",
      "boy, scouts away, necessary boy, co xkadfguk, xkadfguk, boy co, away boy, boy scouts, necessary, scouts\n",
      "\n",
      "Topic  17\n",
      "instead, spend, uber, subway, everything, demise instead, lyft, everything slow, use amtrak, nyc instead\n",
      "\n",
      "Topic  18\n",
      "hillary jail, jail anyone, send hillary, ignorant start, seem topic, topic angry, angry ignorant, start send, anyone else, angry\n",
      "\n",
      "Topic  19\n",
      "slip, leave grandparent, party leave, throw party, newt, grip slip, grandparent home, slip friend, pelosi grip, friend throw\n"
     ]
    }
   ],
   "source": [
    "display_topics(lsa_8, tfidf_8.get_feature_names(), 10)"
   ]
  },
  {
   "cell_type": "markdown",
   "metadata": {},
   "source": [
    "Community_9"
   ]
  },
  {
   "cell_type": "code",
   "execution_count": 111,
   "metadata": {},
   "outputs": [
    {
     "data": {
      "text/plain": [
       "array([0.01111566, 0.00632566, 0.00552998, 0.00664922, 0.00629983,\n",
       "       0.00616465, 0.00609082, 0.00599648, 0.00504169, 0.00527193,\n",
       "       0.00513906, 0.00511007, 0.00481633, 0.00477485, 0.00455726,\n",
       "       0.00454241, 0.00442555, 0.00422344, 0.00414108, 0.00409862])"
      ]
     },
     "execution_count": 111,
     "metadata": {},
     "output_type": "execute_result"
    }
   ],
   "source": [
    "bag_of_words_9 = tfidf_9.fit_transform(X_9)\n",
    "lsa_9 = TruncatedSVD(20)\n",
    "doc_topic_9 = lsa_9.fit_transform(bag_of_words_9)\n",
    "lsa_9.explained_variance_ratio_"
   ]
  },
  {
   "cell_type": "code",
   "execution_count": 112,
   "metadata": {},
   "outputs": [
    {
     "name": "stdout",
     "output_type": "stream",
     "text": [
      "\n",
      "Topic  0\n",
      "claim, pile month, business claim, film news, visit film, month box, claim visit, box fraud, never boyfriend, crew postal\n",
      "\n",
      "Topic  1\n",
      "green deal, green, deal, hawaii, crazy, oppose green, hirono hawaii, senator mazie, hawaii anyone, hawaii island\n",
      "\n",
      "Topic  2\n",
      "hawaii, green deal, crazy, green, deal, oppose green, hirono hawaii, hawaii anyone, senator mazie, hawaii island\n",
      "\n",
      "Topic  3\n",
      "complaint, slap, third ethic, slap third, week co, third, ethic, week, complaint week, ethic complaint\n",
      "\n",
      "Topic  4\n",
      "black, left exactly, ilhanmn finally, hat respect, exactly hateful, folk former, celebrate party, respect ilhanmn, klan celebrate, party black\n",
      "\n",
      "Topic  5\n",
      "instead, subway, uber, spend, use amtrak, everything slow, thousand uber, lyft instead, demise instead, subway fly\n",
      "\n",
      "Topic  6\n",
      "answer cast, cast call, cast, answer, congress, congress realjameswood, xqao, hbuw xqao, hbuw, co hbuw\n",
      "\n",
      "Topic  7\n",
      "fec, cnn msnbc, msnbc ignore, ignore fec, blackout cnn, medium blackout, kxadajq, co kxadajq, kxadajq jl, msnbc\n",
      "\n",
      "Topic  8\n",
      "israel, co, relationship, omar, yxjc, oxvbv yxjc, co oxvbv, oxvbv, american, vote\n",
      "\n",
      "Topic  9\n",
      "grip slip, friend throw, pelosi grip, grandparent home, leave grandparent, slip friend, throw party, party leave, grandparent, slip\n",
      "\n",
      "Topic  10\n",
      "co oxvbv, oxvbv, yxjc, oxvbv yxjc, relationship, end, fundraising, relationship fundraising, end israel, fundraising letter\n",
      "\n",
      "Topic  11\n",
      "fec, ex fec, serious prison, face serious, prison time, ex, serious, commissioner face, fec commissioner, commissioner\n",
      "\n",
      "Topic  12\n",
      "total, vote, hire degree, office receive, economic run, receive total, woman barmaid, barmaid hire, drive democratic, vote total\n",
      "\n",
      "Topic  13\n",
      "conservative token, black conservative, token, conservative, black, democratic, token gop, believe black, stick democratic, gop tired\n",
      "\n",
      "Topic  14\n",
      "boy, omar, anti, post, terrorist, away boy, scouts away, co xkadfguk, necessary boy, xkadfguk\n",
      "\n",
      "Topic  15\n",
      "boy, away boy, scouts away, xkadfguk, co xkadfguk, necessary boy, boy co, boy scouts, necessary, scouts\n",
      "\n",
      "Topic  16\n",
      "public transportation, transportation, public, association single, car realize, person public, subway ft, ft campaign, realize saving, emission spend\n",
      "\n",
      "Topic  17\n",
      "uh, act, uh uh, uh co, life uh, jh xatvtcm, game real, roasted act, without roasted, xatvtcm\n",
      "\n",
      "Topic  18\n",
      "israel, palestinian, act, right, uh, seriously, israel right, right exist, believe israel, terrorist kill\n",
      "\n",
      "Topic  19\n",
      "post, rep, drop iq, fool seriously, nonsense drop, laughingstock fool, point laughingstock, tough match, iq ten, co yrbqgk\n"
     ]
    }
   ],
   "source": [
    "display_topics(lsa_9, tfidf_9.get_feature_names(), 10)"
   ]
  },
  {
   "cell_type": "markdown",
   "metadata": {},
   "source": [
    "Community_10"
   ]
  },
  {
   "cell_type": "code",
   "execution_count": 113,
   "metadata": {},
   "outputs": [
    {
     "data": {
      "text/plain": [
       "array([0.06282411, 0.05881977, 0.05120739, 0.01739165, 0.01243666,\n",
       "       0.01123294, 0.00957861, 0.00837087, 0.00632518, 0.00571643,\n",
       "       0.0055428 , 0.00545918, 0.00443376, 0.0039585 , 0.00389428,\n",
       "       0.00315766, 0.00323669, 0.00320314, 0.00306162, 0.00291234])"
      ]
     },
     "execution_count": 113,
     "metadata": {},
     "output_type": "execute_result"
    }
   ],
   "source": [
    "bag_of_words_10 = tfidf_10.fit_transform(X_10)\n",
    "lsa_10 = TruncatedSVD(20)\n",
    "doc_topic_10 = lsa_10.fit_transform(bag_of_words_10)\n",
    "lsa_10.explained_variance_ratio_"
   ]
  },
  {
   "cell_type": "code",
   "execution_count": 114,
   "metadata": {},
   "outputs": [
    {
     "name": "stdout",
     "output_type": "stream",
     "text": [
      "\n",
      "Topic  0\n",
      "venezuela socialism, watch co, venezuela, watch, refuse, wow berniesander, dictator wow, bad watch, berniesander win, afraid venezuela\n",
      "\n",
      "Topic  1\n",
      "aid enter, disgusting conspiracy, enter country, motive venezuela, america motive, peddle disgusting, lie humanitarian, break venezuela, protest break, question america\n",
      "\n",
      "Topic  2\n",
      "invite far, nthd, ilhanomar come, co nthd, country watch, leave dem, dem ilhanomar, poq, nthd poq, jguaido invite\n",
      "\n",
      "Topic  3\n",
      "sjnrbexcuz, co sjnrbexcuz, tolerate, responsible pain, maduro responsible, suffering starvation, pain suffering, starvation million, desperate co, allow aid\n",
      "\n",
      "Topic  4\n",
      "democratic, socialist, apologist alone, socialist banner, spci oiy, less lose, spci, socialist incapable, lose democratic, simply become\n",
      "\n",
      "Topic  5\n",
      "suffer, sake million, anti conspiracy, help suffer, suffer amid, suffer educate, million suffer, theory help, prefer peddle, educate sake\n",
      "\n",
      "Topic  6\n",
      "american, egos co, political egos, nothing people, ignorance never, love democrat, excuse american, american love, socialism ignorance, tolerate excuse\n",
      "\n",
      "Topic  7\n",
      "regime, regime complicated, atrocity regime, reprehensible, reprehensible still, co tmqgvqkccw, world atrocity, still refuse, refuse reality, inflict venezuela\n",
      "\n",
      "Topic  8\n",
      "ethic complaint, hit ethic, hit, complaint co, ethic, boyfriend government, qmr, co qmr, address conservative, azq\n",
      "\n",
      "Topic  9\n",
      "inequality open, zsmvk ogk, blame income, system blame, first page, stupidity statement, co zsmvk, ogk, zsmvk, hanke\n",
      "\n",
      "Topic  10\n",
      "garbage, america garbage, congresswoman garbage, seriously call, force eat, hellhole praise, socialist hellhole, eat socialist, garbage citizen, garbage congresswoman\n",
      "\n",
      "Topic  11\n",
      "claim, crew postal, claim visit, mail pile, district claim, month box, business claim, film news, pile month, neighbor never\n",
      "\n",
      "Topic  12\n",
      "release, air, freecitgo humanright, month live, release freecitgo, process demand, attention due, air medical, father colleague, wake help\n",
      "\n",
      "Topic  13\n",
      "green, green deal, deal, hawaii, crazy, medium, eliminate air, hirono, deal crazy, deal eliminate\n",
      "\n",
      "Topic  14\n",
      "ilhanmn, qwek omk, hateful racist, celebrate party, co qwek, hat respect, jews hat, party black, wizard ku, people stupid\n",
      "\n",
      "Topic  15\n",
      "rashidatlaib, ilhanmn rashidatlaib, ayannapressley, gop ilhanmn, sagittariususne, sagittariususne gop, ilhanmn, gop, rashidatlaib joeneguse, joeneguse\n",
      "\n",
      "Topic  16\n",
      "capitalism, region, medium, print, venezuela, voice venezuela, voice, survive war, yes read, effective voice\n",
      "\n",
      "Topic  17\n",
      "region, voice venezuela, survive war, venezuelan yes, ilhanmn effective, give special, ignorant statement, special insight, read nytime, insight conflict\n",
      "\n",
      "Topic  18\n",
      "print, capitalism, free market, interested genuine, market sound, asset price, boost asset, money print, genuine solution, capitalism print\n",
      "\n",
      "Topic  19\n",
      "instead, everything, uber, subway, spend, rate, reagan, slow, year, learn\n"
     ]
    }
   ],
   "source": [
    "display_topics(lsa_10, tfidf_10.get_feature_names(), 10)"
   ]
  },
  {
   "cell_type": "markdown",
   "metadata": {},
   "source": [
    "Community_11"
   ]
  },
  {
   "cell_type": "code",
   "execution_count": 115,
   "metadata": {},
   "outputs": [
    {
     "data": {
      "text/plain": [
       "array([0.04386625, 0.01308346, 0.00874388, 0.00727753, 0.00706349,\n",
       "       0.00364769, 0.00446262, 0.00456757, 0.00418456, 0.00405006,\n",
       "       0.00358519, 0.00367563, 0.00305483, 0.00334501, 0.00315185,\n",
       "       0.00308597, 0.00295256, 0.00279017, 0.00267708, 0.00261978])"
      ]
     },
     "execution_count": 115,
     "metadata": {},
     "output_type": "execute_result"
    }
   ],
   "source": [
    "bag_of_words_11 = tfidf_11.fit_transform(X_11)\n",
    "lsa_11 = TruncatedSVD(20)\n",
    "doc_topic_11 = lsa_11.fit_transform(bag_of_words_11)\n",
    "lsa_11.explained_variance_ratio_"
   ]
  },
  {
   "cell_type": "code",
   "execution_count": 116,
   "metadata": {},
   "outputs": [
    {
     "name": "stdout",
     "output_type": "stream",
     "text": [
      "\n",
      "Topic  0\n",
      "buy apple, america ewarren, job dem, instead amazon, platform stop, bq, bq onfr, love life, ewarren sure, amazon basic\n",
      "\n",
      "Topic  1\n",
      "libertarian, basically uniformly, silicon, liberal silicon, libertarian tech, end basically, silicon valley, mainly reaction, valley always, tech year\n",
      "\n",
      "Topic  2\n",
      "love, trump election, love guarantee, election team, team love, riav, co riav, guarantee trump, audience love, sure audience\n",
      "\n",
      "Topic  3\n",
      "mjtheprophet, whackamolepro, mjtheprophet whackamolepro, tenor, reneefiredup, gabbifromtexas, gabbifromtexas tenor, rick, kokshaj, reneefiredup gabbifromtexas\n",
      "\n",
      "Topic  4\n",
      "low tax, low, tax, socialist party, tax state, etc next, stop low, tether geography, understand founder, nv tx\n",
      "\n",
      "Topic  5\n",
      "mitchellvii, garbage, america, america garbage, boss, country, call, go, garbage nice, someone\n",
      "\n",
      "Topic  6\n",
      "boss, green, deal, green deal, crazy, hawaii, senator, crazy crazy, eliminate, air travel\n",
      "\n",
      "Topic  7\n",
      "deal, green, green deal, crazy, hawaii, senator, crazy crazy, eliminate, eliminate air, air travel\n",
      "\n",
      "Topic  8\n",
      "claim, district, win, represent, elect, someone, congressional district, go, congressional, mitchellvii go\n",
      "\n",
      "Topic  9\n",
      "claim, garbage, america garbage, boyfriend, america, business claim, crew postal, crew, pile month, district claim\n",
      "\n",
      "Topic  10\n",
      "rlshgsn, co rlshgsn, agree co, agree, co, conormacrandal rkinseth, asherdelion, conormacrandal, rkinseth, egavactip\n",
      "\n",
      "Topic  11\n",
      "win, district, congressional district, congressional, historical performance, historical, performance, waleedshahid, dem, district elect\n",
      "\n",
      "Topic  12\n",
      "co rlshgsn, agree co, rlshgsn, agree, someone, certain someone, certain, mitchellvii go, elect, boss\n",
      "\n",
      "Topic  13\n",
      "someone, country, certain someone, certain, billnye, call, tictoc, tictoc billnye, well, american\n",
      "\n",
      "Topic  14\n",
      "billnye, tictoc billnye, tictoc, country, billnye country, mitchellvii, lie, science, science lie, scam\n",
      "\n",
      "Topic  15\n",
      "billnye, tictoc, tictoc billnye, country, egavactip, jjmplsmn, conormacrandal rkinseth, asherdelion, egavactip jjmplsmn, conormacrandal\n",
      "\n",
      "Topic  16\n",
      "citizen, ny congressional, something specifically, go something, elect represent, citizen ny, represent yrusola, yrusola, specifically, go\n",
      "\n",
      "Topic  17\n",
      "right, palestinian, israel, pay, class, tlaib, omar tlaib, kill, choose, right exist\n",
      "\n",
      "Topic  18\n",
      "instead, believe, palestinian, everything, israel, right, climate, climate change, change, world go\n",
      "\n",
      "Topic  19\n",
      "rrlkohtafh, co rrlkohtafh, thebabylonbee year, thebabylonbee, year co, garbage nice, nice, year, america, america garbage\n"
     ]
    }
   ],
   "source": [
    "display_topics(lsa_11, tfidf_11.get_feature_names(), 10)"
   ]
  },
  {
   "cell_type": "markdown",
   "metadata": {},
   "source": [
    "Community_26"
   ]
  },
  {
   "cell_type": "code",
   "execution_count": 117,
   "metadata": {},
   "outputs": [
    {
     "data": {
      "text/plain": [
       "array([0.33439272, 0.06267686, 0.0585087 , 0.0339684 , 0.03117037,\n",
       "       0.02224041, 0.01826589, 0.01102561, 0.01049816, 0.0102095 ,\n",
       "       0.01004498, 0.00967537, 0.00964054, 0.00905694, 0.00815444,\n",
       "       0.0074211 , 0.00639365, 0.00627589, 0.00518671, 0.00498069])"
      ]
     },
     "execution_count": 117,
     "metadata": {},
     "output_type": "execute_result"
    }
   ],
   "source": [
    "bag_of_words_26 = tfidf_26.fit_transform(X_26)\n",
    "lsa_26 = TruncatedSVD(20)\n",
    "doc_topic_26 = lsa_26.fit_transform(bag_of_words_26)\n",
    "lsa_26.explained_variance_ratio_"
   ]
  },
  {
   "cell_type": "code",
   "execution_count": 118,
   "metadata": {},
   "outputs": [
    {
     "name": "stdout",
     "output_type": "stream",
     "text": [
      "\n",
      "Topic  0\n",
      "austin, valley good, co bnzfvhffrf, austin hit, taco exist, exist austin, hour south, south austin, exist, hit valley\n",
      "\n",
      "Topic  1\n",
      "freeway san, austin freeway, freeway, taco austin, antonio, san, san antonio, taco, good, good taco\n",
      "\n",
      "Topic  2\n",
      "joshtheflanagan torchystacos, joshtheflanagan, dwnldblcntnt joshtheflanagan, dwnldblcntnt, torchystacos, truck speak, wrong good, torchystacos wrong, taco come, come food\n",
      "\n",
      "Topic  3\n",
      "torchys tbh, block everyone, everyone torchys, block, tbh, torchys, everyone, long, service, listen\n",
      "\n",
      "Topic  4\n",
      "torchy, highly misinform, city town, taco good, taco city, misinform, town highly, torchystacos torchy, town, torchy taco\n",
      "\n",
      "Topic  5\n",
      "pastor riverside, rosita al, al, al pastor, rosita, riverside, pastor, valentina, arandina riverside, arandina\n",
      "\n",
      "Topic  6\n",
      "always torchy, torchystacos always, always, torchy, torchystacos, confirm, co hqdvbxgs, hqdvbxgs, confirm co, torchystacos confirm\n",
      "\n",
      "Topic  7\n",
      "moderate, time, tinker, systemic problem, wyk, decline, xhd, xhd wyk, decline co, tinker edge\n",
      "\n",
      "Topic  8\n",
      "seek, side seek, preferably, order uber, order, preferably south, drive san, yof, seek co, xbu yof\n",
      "\n",
      "Topic  9\n",
      "address, long, service, work, job, climate change, fear, climate, change, divide\n",
      "\n",
      "Topic  10\n",
      "address, fear, climate change, climate, change, change together, co tsbac, inequality, inequality address, address income\n",
      "\n",
      "Topic  11\n",
      "torchystacos confirm, hqdvbxgs, confirm co, co hqdvbxgs, confirm, joshtheflanagan torchystacos, joshtheflanagan, torchystacos, teach little, libs\n",
      "\n",
      "Topic  12\n",
      "hqdvbxgs, co hqdvbxgs, confirm co, torchystacos confirm, confirm, joshtheflanagan torchystacos, joshtheflanagan, long, service, torchystacos\n",
      "\n",
      "Topic  13\n",
      "call, place, call san, incredible sword, look collection, win come, come apartment, sword, apartment, apartment look\n",
      "\n",
      "Topic  14\n",
      "place, call san, antonio co, hour half, half, place hour, downtown, downtown call, co rlmcgzqkr, south downtown\n",
      "\n",
      "Topic  15\n",
      "mex, listen, taco mex, window, lie good, lie, come taco, nonsense, manor, manor road\n",
      "\n",
      "Topic  16\n",
      "valentina, veracruz, veracruz natural, mex bbq, natural, job veracruz, valentina tex, bbq, whole job, natural valentina\n",
      "\n",
      "Topic  17\n",
      "juan, juan million, million, ericvespe, million second, mean juan, ericvespe mean, vote co, cuzlt qgdb, cuzlt\n",
      "\n",
      "Topic  18\n",
      "place call, great, really, great place, highly recommend, co rbuxnsydmx, good place, really great, call valley, rbuxnsydmx\n",
      "\n",
      "Topic  19\n",
      "real, tortilla entire, city cosagov, real tortilla, co ov, cosagov co, entire city, ov ymt, ov, ymt\n"
     ]
    }
   ],
   "source": [
    "display_topics(lsa_26, tfidf_26.get_feature_names(), 10)"
   ]
  },
  {
   "cell_type": "markdown",
   "metadata": {},
   "source": [
    "Community_40"
   ]
  },
  {
   "cell_type": "code",
   "execution_count": 119,
   "metadata": {},
   "outputs": [
    {
     "data": {
      "text/plain": [
       "array([0.40984087, 0.27893032, 0.05467952, 0.01490836, 0.01074136,\n",
       "       0.00928683, 0.00597119, 0.00574506, 0.0054923 , 0.00505121,\n",
       "       0.00435609, 0.00385205, 0.00373314, 0.00364253, 0.00358847,\n",
       "       0.00351047, 0.00347804, 0.00332365, 0.00297532, 0.00290224])"
      ]
     },
     "execution_count": 119,
     "metadata": {},
     "output_type": "execute_result"
    }
   ],
   "source": [
    "bag_of_words_40 = tfidf_40.fit_transform(X_40)\n",
    "lsa_40 = TruncatedSVD(20)\n",
    "doc_topic_40 = lsa_40.fit_transform(bag_of_words_40)\n",
    "lsa_40.explained_variance_ratio_"
   ]
  },
  {
   "cell_type": "code",
   "execution_count": 120,
   "metadata": {
    "scrolled": true
   },
   "outputs": [
    {
     "name": "stdout",
     "output_type": "stream",
     "text": [
      "\n",
      "Topic  0\n",
      "talk powerhouse, sheinspiresme ladygaga, demi lovato, twitter talk, powerhouse, lovato kamalaharris, mention woman, lovato, taylorswift demi, woman twitter\n",
      "\n",
      "Topic  1\n",
      "brain, brain co, co ufxyb, ufxyb ny, ufxyb, woman brain, love woman, ny, love, co\n",
      "\n",
      "Topic  2\n",
      "call san, vksygxrqxv, place mile, antonio co, place, co vksygxrqxv, mile south, south call, mile, antonio\n",
      "\n",
      "Topic  3\n",
      "gop problem, problem keep, qwv, lose fan, local state, local, rank, rank local, leader speak, keep woman\n",
      "\n",
      "Topic  4\n",
      "address, climate, climate change, fear, work sxsw, fear divide, change together, address income, together, together work\n",
      "\n",
      "Topic  5\n",
      "cvfc kjzum, nice job, job co, boycott, boycott cookie, co cvfc, cookie, cookie teach, nice, skill\n",
      "\n",
      "Topic  6\n",
      "service, long, job, lot, work, green, green deal, hear, lesson, deal\n",
      "\n",
      "Topic  7\n",
      "green, green deal, hear, deal, co wab, watch read, wab, wab hka, surround, effect politic\n",
      "\n",
      "Topic  8\n",
      "specter, live society, core problem, excite, excite reason, excited, specter automate, automate, automate work, society job\n",
      "\n",
      "Topic  9\n",
      "jordanpeele, billnye jordanpeele, billnye, far billnye, people sxsw, tweet people, sxsw far, far, tweet, leinilyu\n",
      "\n",
      "Topic  10\n",
      "moderate, naive, solve systemic, xhd, rewrite social, wyk, edge solve, rewrite, systemic problem, systemic\n",
      "\n",
      "Topic  11\n",
      "taylorswift kamalaharris, twitterwoman, twitterwoman ladygaga, queen, gaga, use, kamalaharris queen, nicki, kamalaharris nicki, lady\n",
      "\n",
      "Topic  12\n",
      "gop, result, conservative, ever, zigmanfreud every, result gop, lose ever, zigmanfreud, reinforce, reinforce gop\n",
      "\n",
      "Topic  13\n",
      "stop, capitalism, young, vtaeior, stop young, marketing capitalism, entrepreneurship, business entrepreneurship, learn good, good lesson\n",
      "\n",
      "Topic  14\n",
      "theory, conspiracy, conspiracy theory, conservative, run conservative, allege untrue, report, report allege, ethic, ethic complaint\n",
      "\n",
      "Topic  15\n",
      "job, people, right, everything, break, law hurt, everything spot, hurt people, hurt, law\n",
      "\n",
      "Topic  16\n",
      "gop, ever, zigmanfreud every, comment reinforce, conservative result, gop dem, gop lose, medium bash, result gop, every comment\n",
      "\n",
      "Topic  17\n",
      "dan crenshaw, crenshaw, dan, talking point, talking, point, parrot ridiculous, crenshaw far, self inadvertently, parrot\n",
      "\n",
      "Topic  18\n",
      "still, innovation, inclusive, wedc, dc capital, dc, inclusive innovation, wedc house, sxsw stop, capital\n",
      "\n",
      "Topic  19\n",
      "friend, omar, high school, high, exact omar, well communist, karolcummin, karolcummin friend, rigid talking, omar israel\n"
     ]
    }
   ],
   "source": [
    "display_topics(lsa_40, tfidf_40.get_feature_names(), 10)"
   ]
  },
  {
   "cell_type": "markdown",
   "metadata": {},
   "source": [
    "Now I have my top words in each LSA object w/ 20 topics each. I'm going to pickle each model and then use a new file to:\n",
    " - Find which tweets score the highest in each topic to get examples\n",
    " - Name communities\n",
    " - Sentiment analysis (maybe weekend)"
   ]
  },
  {
   "cell_type": "code",
   "execution_count": 121,
   "metadata": {
    "code_folding": []
   },
   "outputs": [],
   "source": [
    "with open('/Users/robertpagano/metis_data/project_5/topic_modeling/lsa_aoc/lsa_0.pickle', 'wb') as to_write:\n",
    "    pickle.dump(lsa_0, to_write)\n",
    "    \n",
    "with open('/Users/robertpagano/metis_data/project_5/topic_modeling/lsa_aoc/lsa_1.pickle', 'wb') as to_write:\n",
    "    pickle.dump(lsa_1, to_write)\n",
    "    \n",
    "with open('/Users/robertpagano/metis_data/project_5/topic_modeling/lsa_aoc/lsa_2.pickle', 'wb') as to_write:\n",
    "    pickle.dump(lsa_2, to_write)\n",
    "    \n",
    "with open('/Users/robertpagano/metis_data/project_5/topic_modeling/lsa_aoc/lsa_3.pickle', 'wb') as to_write:\n",
    "    pickle.dump(lsa_3, to_write)\n",
    "    \n",
    "with open('/Users/robertpagano/metis_data/project_5/topic_modeling/lsa_aoc/lsa_4.pickle', 'wb') as to_write:\n",
    "    pickle.dump(lsa_4, to_write)\n",
    "    \n",
    "with open('/Users/robertpagano/metis_data/project_5/topic_modeling/lsa_aoc/lsa_5.pickle', 'wb') as to_write:\n",
    "    pickle.dump(lsa_5, to_write)\n",
    "    \n",
    "with open('/Users/robertpagano/metis_data/project_5/topic_modeling/lsa_aoc/lsa_6.pickle', 'wb') as to_write:\n",
    "    pickle.dump(lsa_6, to_write)\n",
    "    \n",
    "with open('/Users/robertpagano/metis_data/project_5/topic_modeling/lsa_aoc/lsa_7.pickle', 'wb') as to_write:\n",
    "    pickle.dump(lsa_7, to_write)\n",
    "    \n",
    "with open('/Users/robertpagano/metis_data/project_5/topic_modeling/lsa_aoc/lsa_8.pickle', 'wb') as to_write:\n",
    "    pickle.dump(lsa_8, to_write)\n",
    "    \n",
    "with open('/Users/robertpagano/metis_data/project_5/topic_modeling/lsa_aoc/lsa_9.pickle', 'wb') as to_write:\n",
    "    pickle.dump(lsa_9, to_write)\n",
    "    \n",
    "with open('/Users/robertpagano/metis_data/project_5/topic_modeling/lsa_aoc/lsa_10.pickle', 'wb') as to_write:\n",
    "    pickle.dump(lsa_10, to_write)\n",
    "    \n",
    "with open('/Users/robertpagano/metis_data/project_5/topic_modeling/lsa_aoc/lsa_11.pickle', 'wb') as to_write:\n",
    "    pickle.dump(lsa_11, to_write)\n",
    "    \n",
    "with open('/Users/robertpagano/metis_data/project_5/topic_modeling/lsa_aoc/lsa_26.pickle', 'wb') as to_write:\n",
    "    pickle.dump(lsa_26, to_write)\n",
    "\n",
    "with open('/Users/robertpagano/metis_data/project_5/topic_modeling/lsa_aoc/lsa_40.pickle', 'wb') as to_write:\n",
    "    pickle.dump(lsa_40, to_write)\n",
    "    \n",
    "    \n",
    "\n",
    "    "
   ]
  },
  {
   "cell_type": "markdown",
   "metadata": {},
   "source": [
    "NMF Models?"
   ]
  },
  {
   "cell_type": "code",
   "execution_count": 127,
   "metadata": {
    "scrolled": true
   },
   "outputs": [
    {
     "name": "stdout",
     "output_type": "stream",
     "text": [
      "166.24833610965854\n",
      "\n",
      "Topic  0\n",
      "xqao, hbuw, congress realjameswood, hbuw xqao, co hbuw, call congress, realdonaldtrump co, realjameswood realdonaldtrump, answer cast, realjameswood\n",
      "\n",
      "Topic  1\n",
      "socialist revolution, border socialism, observer liberal, observer, push open, break millionaire, democrat push, ad charlotte, socialism usa, charlotte\n",
      "\n",
      "Topic  2\n",
      "claim, mail pile, box fraud, pile month, claim represent, news crew, business claim, postal, crew postal, never boyfriend\n",
      "\n",
      "Topic  3\n",
      "finally expose, bigot co, wizard ku, qwek omk, omk, celebrate party, grand wizard, ku klux, co qwek, folk former\n",
      "\n",
      "Topic  4\n",
      "garbage, praise venezuela, seriously call, citizen force, eat socialist, socialist hellhole, wow seriously, force eat, hellhole praise, garbage citizen\n",
      "\n",
      "Topic  5\n",
      "hawaii, green deal, green, deal, crazy, crazy crazy, hawaii island, democrat senator, hawaii anyone, hirono hawaii\n",
      "\n",
      "Topic  6\n",
      "cnn msnbc, msnbc, medium blackout, ignore fec, blackout cnn, msnbc ignore, kxadajq jl, kxadajq, co kxadajq, jl\n",
      "\n",
      "Topic  7\n",
      "brain behind, brain, behind, share everywhere, roll congresswoman, ldmzxe jv, co ldmzxe, puppet handler, proof cast, ldmzxe\n",
      "\n",
      "Topic  8\n",
      "instead, climate change, climate, go end, world go, end year, change everything, instead subway, everything slow, slow demise\n",
      "\n",
      "Topic  9\n",
      "boy, away boy, scouts away, xkadfguk, boy co, co xkadfguk, necessary boy, boy scouts, necessary, scouts\n",
      "\n",
      "Topic  10\n",
      "party cockeyed, entrepreneur, ad pay, open letter, view person, page ad, idea warn, letter circulate, mcclatchy newspaper, pay open\n",
      "\n",
      "Topic  11\n",
      "reagan, class, class american, yr, work, american, unemployment, claim, rate, work class\n",
      "\n",
      "Topic  12\n",
      "slip friend, grip slip, friend throw, pelosi grip, leave grandparent, grandparent home, throw party, grandparent, party leave, slip\n",
      "\n",
      "Topic  13\n",
      "palestinian, israel, israel right, right exist, believe israel, criticize israel, faction hama, israel omar, number democrat, tlaib grow\n",
      "\n",
      "Topic  14\n",
      "uh, jh, uh uh, perfect clapback, jh xatvtcm, borough perfect, without roasted, though borough, people mess, mess bronx\n",
      "\n",
      "Topic  15\n",
      "public transportation, transportation, public, realize saving, instead car, ft campaign, association single, accord american, subway ft, car realize\n",
      "\n",
      "Topic  16\n",
      "wonder emerge, week wonder, politico path, emerge politico, politico, shocking least, question campaign, position become, campaign position, least first\n",
      "\n",
      "Topic  17\n",
      "video, really, chance check, xbagybfgbt actress, co xbagybfgbt, youtube really, video lot, check yet, content video, well eye\n",
      "\n",
      "Topic  18\n",
      "america, state america, united state, united, garbage, state, everything, america garbage, great, immigrate united\n",
      "\n",
      "Topic  19\n",
      "hear, wonder, medium, fkhde, full sniff, engaged, nowhere rich, rich weinstein, readall thread, channel imperative\n"
     ]
    }
   ],
   "source": [
    "nmf_0 = NMF(20)\n",
    "doc_topic_NMF_0 = nmf_0.fit_transform(bag_of_words_0)\n",
    "print(nmf_0.reconstruction_err_)\n",
    "\n",
    "display_topics(nmf_0, tfidf_0.get_feature_names(), 10)"
   ]
  },
  {
   "cell_type": "code",
   "execution_count": 128,
   "metadata": {},
   "outputs": [
    {
     "name": "stdout",
     "output_type": "stream",
     "text": [
      "30.50907628177441\n",
      "\n",
      "Topic  0\n",
      "co koufenr, koufenr wg, koufenr, wg, inequality co, blame income, system blame, call capitalism, blame, income inequality\n",
      "\n",
      "Topic  1\n",
      "value, essentially restatement, create essentially, essentially, restatement, pay less, tweet worker, worker pay, value create, less value\n",
      "\n",
      "Topic  2\n",
      "co rdl, rdl, cgkhqj, rdl cgkhqj, system co, blast, blast capitalism, irredeemable system, system, capitalism irredeemable\n",
      "\n",
      "Topic  3\n",
      "live society, society job, job leave, leave die, excited, specter, haunt specter, specter automate, die, core\n",
      "\n",
      "Topic  4\n",
      "institution, valid thus, abuse people, world view, must give, eliminate personal, view jump, valid, give institution, absolute\n",
      "\n",
      "Topic  5\n",
      "lxo abjw, co lxo, abjw, lxo, blame income, inequality co, system blame, call capitalism, blame, income inequality\n",
      "\n",
      "Topic  6\n",
      "image sxsw, lean, lean socialist, co juikvax, sxsw capitalism, socialist image, juikvax, irredeemable co, image, socialist\n",
      "\n",
      "Topic  7\n",
      "bill gate, gate, bill, robot co, robot, idea tax, ally washington, washington idea, gate ally, tax robot\n",
      "\n",
      "Topic  8\n",
      "automation co, automation, excite automation, excite, co rdbbbvsffa, rdbbbvsffa, co jaxghlhwwj, jaxghlhwwj, co, gjs\n",
      "\n",
      "Topic  9\n",
      "finance violation, group accuse, violation expert, conservative group, campaign finance, finance, violation, accuse, conservative, campaign\n",
      "\n",
      "Topic  10\n",
      "range, ehelkhpwdg, group democrat, wide, shoot anti, jfk, bias, shoot, jfk co, wide range\n",
      "\n",
      "Topic  11\n",
      "corporation government, right corporation, scar, scar right, favor democratic, explain favor, socialism sxsw, government explain, favor, democratic socialism\n",
      "\n",
      "Topic  12\n",
      "powerful man, man drive, drive critic, critic crazy, crazy co, powerful, drive, crazy, man, critic\n",
      "\n",
      "Topic  13\n",
      "job rep, rep good, robot come, come job, co qctbphiore, good co, qctbphiore, come, robot, good\n",
      "\n",
      "Topic  14\n",
      "probably, weird, probably unlawful, idea underlying, coalesce, hard understand, mncrzffrcd, co mncrzffrcd, probably coalesce, underlying\n",
      "\n",
      "Topic  15\n",
      "fail, ethical, environmental, interpret, brick, mta, foundation, advocacy, advocacy fail, foundation climate\n",
      "\n",
      "Topic  16\n",
      "ilhan omar, ilhan, pelosi side, congress trump, consume congress, israel consume, co hkcuot, comment israel, side co, hkcuot\n",
      "\n",
      "Topic  17\n",
      "tax, socialist, france, american, mom move, ms mom, mom, high tax, poll young, world socialist\n",
      "\n",
      "Topic  18\n",
      "thunder, rourke, thunder democrat, beto, beto rourke, rourke steal, steal thunder, steal, democrat, co dloylcl\n",
      "\n",
      "Topic  19\n",
      "deal, green, green deal, promote green, promote, car, use, deal co, car ride, ride hail\n"
     ]
    }
   ],
   "source": [
    "nmf_1 = NMF(20)\n",
    "doc_topic_NMF_1 = nmf_1.fit_transform(bag_of_words_1)\n",
    "print(nmf_1.reconstruction_err_)\n",
    "\n",
    "display_topics(nmf_1, tfidf_1.get_feature_names(), 10)"
   ]
  },
  {
   "cell_type": "code",
   "execution_count": 129,
   "metadata": {},
   "outputs": [
    {
     "name": "stdout",
     "output_type": "stream",
     "text": [
      "27.392889192902118\n",
      "\n",
      "Topic  0\n",
      "service, long, time everyone, service job, co fzvfdsnue, life lesson, customer, customer service, require work, long long\n",
      "\n",
      "Topic  1\n",
      "libs nice, nice job, teach little, co cvfc, leadership skill, cookie teach, kjzum, cvfc, cvfc kjzum, girl leadership\n",
      "\n",
      "Topic  2\n",
      "machine work, file bogus, work folk, folk co, spamm file, conservative group, jo, untrue scandal, untrue, news report\n",
      "\n",
      "Topic  3\n",
      "gdjsh, dk, part co, gdjsh dk, co gdjsh, part, co, power, apparatus, repeat essentially\n",
      "\n",
      "Topic  4\n",
      "core problem, core, society job, problem co, die core, live society, leave die, job leave, society, specter automate\n",
      "\n",
      "Topic  5\n",
      "rest co, mint rest, povmemdnlz, co povmemdnlz, thin mint, mint, thin, rest, co, come\n",
      "\n",
      "Topic  6\n",
      "give job, trump famous, mtvszv sco, whose, whose career, father co, famous heiress, famous, want work, sco\n",
      "\n",
      "Topic  7\n",
      "ff woman, ff, gcv, co gcv, woman cannnnn, cannnnn co, cannnnn, woman, co, woman work\n",
      "\n",
      "Topic  8\n",
      "osborne, george, george osborne, politic george, osborne co, politic, co ktmlcikb, ktmlcikb, co, njy\n",
      "\n",
      "Topic  9\n",
      "sarujayaraman, gretathunberg emma, constancewu peggy, jacindaardern, peggy shepard, shepard, change jacindaardern, gretathunberg, peggy, emma change\n",
      "\n",
      "Topic  10\n",
      "campaign finance, loophole, loophole campaign, watch takedown, takedown co, takedown, big flaw, pplqx, pplqx lu, flaw loophole\n",
      "\n",
      "Topic  11\n",
      "apprentice, qcwq, apprentice microsoft, success apprentice, aelpuk, aelpuk award, feweek aelpuk, similar event, feweek, event co\n",
      "\n",
      "Topic  12\n",
      "exactly, tax return, fww, beginning business, beginning, trumpcorruption essential, trumpcorruption, co vgf, piece today, correct piece\n",
      "\n",
      "Topic  13\n",
      "address, sxsw co, climate change, climate, address climate, address income, divide address, work sxsw, change together, fear divide\n",
      "\n",
      "Topic  14\n",
      "qj, qj eq, eight, fight corruption, courageous woman, eq, world head, head list, corruption government, list co\n",
      "\n",
      "Topic  15\n",
      "filth, shocked business, shocked, slay, slay outfits, lately, good scare, lately course, girl lately, outfits arrive\n",
      "\n",
      "Topic  16\n",
      "threaten, threaten shoot, shoot, jerry, falwell, jerry falwell, falwell jr, jr, muslim threaten, co zooc\n",
      "\n",
      "Topic  17\n",
      "ggraphicsinc, ironhorse brienneofkitty, officialjld, battleborngoali, laurawbush therealdrix, laurenduca, brienneofkitty, leeleebb, therealdrix, laurenduca ironhorse\n",
      "\n",
      "Topic  18\n",
      "become target, broken record, co ptwz, morewoman, sound bit, ptwz, ptwz morewoman, markle, markle become, risk sound\n",
      "\n",
      "Topic  19\n",
      "manafort, attack, system break, pgetuwdkcb, attack sentence, co pgetuwdkcb, manafort system, chief paul, sentence hand, campaign chief\n"
     ]
    }
   ],
   "source": [
    "nmf_2 = NMF(20)\n",
    "doc_topic_NMF_2 = nmf_2.fit_transform(bag_of_words_2)\n",
    "print(nmf_2.reconstruction_err_)\n",
    "\n",
    "display_topics(nmf_2, tfidf_2.get_feature_names(), 10)"
   ]
  },
  {
   "cell_type": "code",
   "execution_count": 130,
   "metadata": {},
   "outputs": [
    {
     "name": "stdout",
     "output_type": "stream",
     "text": [
      "84.95870203102425\n",
      "\n",
      "Topic  0\n",
      "good compilation, sxsw good, genius sxsw, cxy, compilation co, goe, compilation, cxy goe, iw cxy, co iw\n",
      "\n",
      "Topic  1\n",
      "uzbk, co uzbk, fyi co, explode fyi, fyi, challenger explode, explode, challenger, co, tweet co\n",
      "\n",
      "Topic  2\n",
      "airplane eat, taco speak, fart taco, atx co, atx, sxsw atx, eat cow, speak sxsw, shroyer, co dsakis\n",
      "\n",
      "Topic  3\n",
      "town fly, try town, fly austin, beef try, town, austin, beef, try, fly, try illegally\n",
      "\n",
      "Topic  4\n",
      "trillion, cost, god information, dollar tell, tell american, year die, expensive also, cost almost, people border, die god\n",
      "\n",
      "Topic  5\n",
      "claim, mail pile, postal worker, claim visit, news crew, pile, visit film, boyfriend apartment, pile month, represent neighbor\n",
      "\n",
      "Topic  6\n",
      "mlk pro, faught democrat, republican faught, kkk next, life republican, run kkk, faught, pro life, democrat run, kkk\n",
      "\n",
      "Topic  7\n",
      "scar right, corporation government, right corporation, irredeemable rep, obvious never, pick dictionary, rep scar, never pick, dictionary co, xfv\n",
      "\n",
      "Topic  8\n",
      "hillary clinton, clinton, hillary, tvpaut det, det, clinton co, tvpaut, co tvpaut, right hillary, co\n",
      "\n",
      "Topic  9\n",
      "hawaii, crazy, green deal, green, deal, deal crazy, mazie, crazy crazy, eliminate air, travel hawaii\n",
      "\n",
      "Topic  10\n",
      "garbage, america, america garbage, hellhole praise, force eat, congresswoman garbage, citizen force, praise venezuela, wow seriously, socialist hellhole\n",
      "\n",
      "Topic  11\n",
      "grand wizard, klux, klan, celebrate party, klan celebrate, omk, stupid jews, party black, nothing folk, jews hat\n",
      "\n",
      "Topic  12\n",
      "eat beef, beef, eat, fly, fly eat, wjo, wjo xekevs, texas eat, co wjo, beef fly\n",
      "\n",
      "Topic  13\n",
      "uh, xatvtcm, perfect clapback, people mess, co jh, act though, clapback, bronx woman, without roasted, game real\n",
      "\n",
      "Topic  14\n",
      "boy, xkadfguk, away boy, boy co, co xkadfguk, scouts away, necessary boy, boy scouts, necessary, scouts\n",
      "\n",
      "Topic  15\n",
      "instead, subway, uber, spend, subway fly, thousand uber, spend thousand, lyft instead, uber lyft, lyft\n",
      "\n",
      "Topic  16\n",
      "never, co incsvzeiyh, border fill, haired blue, million blonde, race nothing, understand kind, mind head, eyed people, head never\n",
      "\n",
      "Topic  17\n",
      "cnn msnbc, msnbc, msnbc ignore, kxadajq, blackout cnn, kxadajq jl, ignore fec, medium blackout, co kxadajq, complaint co\n",
      "\n",
      "Topic  18\n",
      "answer cast, cast call, realjameswood realdonaldtrump, call congress, congress realjameswood, xqao, co hbuw, hbuw xqao, hbuw, cast\n",
      "\n",
      "Topic  19\n",
      "girlscout challenger, explode fyi, fyi, challenger explode, explode, girlscout, challenger, markdice girlscout, markdice, fluid\n"
     ]
    }
   ],
   "source": [
    "nmf_3 = NMF(20)\n",
    "doc_topic_NMF_3 = nmf_3.fit_transform(bag_of_words_3)\n",
    "print(nmf_3.reconstruction_err_)\n",
    "\n",
    "display_topics(nmf_3, tfidf_3.get_feature_names(), 10)"
   ]
  },
  {
   "cell_type": "code",
   "execution_count": 131,
   "metadata": {},
   "outputs": [
    {
     "name": "stdout",
     "output_type": "stream",
     "text": [
      "411.3003443674469\n",
      "\n",
      "Topic  0\n",
      "claim, apartment local, month box, never boyfriend, pile month, worker claim, claim mail, news crew, film news, business claim\n",
      "\n",
      "Topic  1\n",
      "hawaii, crazy, green deal, green, deal, democrat senator, hawaii anyone, oppose green, hawaii island, interesting democrat\n",
      "\n",
      "Topic  2\n",
      "celebrate party, folk former, hat respect, ilhanmn finally, klan celebrate, wizard ku, stupid jews, party black, nothing folk, former grand\n",
      "\n",
      "Topic  3\n",
      "garbage, congresswoman garbage, hellhole praise, praise venezuela, socialist hellhole, wow seriously, garbage congresswoman, eat socialist, seriously call, garbage citizen\n",
      "\n",
      "Topic  4\n",
      "instead, slow demise, lyft instead, demise instead, subway fly, believe world, nyc instead, use amtrak, thousand uber, fly dc\n",
      "\n",
      "Topic  5\n",
      "boy, necessary boy, co xkadfguk, xkadfguk, away boy, scouts away, boy co, boy scouts, necessary, scouts\n",
      "\n",
      "Topic  6\n",
      "list fec, possible coordination, coordination want, uber air, yet spend, travel mom, ton uber, complaint funnel, car yet, staff list\n",
      "\n",
      "Topic  7\n",
      "cnn msnbc, msnbc, blackout cnn, ignore fec, medium blackout, msnbc ignore, kxadajq, kxadajq jl, co kxadajq, jl\n",
      "\n",
      "Topic  8\n",
      "reagan, yr, class american, unemployment, class, work class, screw, yr unemployment, unemployment last, growth negative\n",
      "\n",
      "Topic  9\n",
      "grip slip, friend throw, grandparent home, leave grandparent, throw party, slip friend, pelosi grip, party leave, grandparent, gingrich pelosi\n",
      "\n",
      "Topic  10\n",
      "public transportation, transportation, public, ft campaign, transportation association, transportation instead, association single, subway ft, car realize, accord american\n",
      "\n",
      "Topic  11\n",
      "learn, everything, economic learn, learn louis, reagan learn, everything economic, professor everything, judaism learn, farrakhan everything, leftist college\n",
      "\n",
      "Topic  12\n",
      "currently sit, sit economic, class right, economic class, currently, sit, class, economic, right, currently garbage\n",
      "\n",
      "Topic  13\n",
      "landslide, elect, tpdy, big landslide, landslide bu, landslide elect, co aywff, aywff tpdy, aywff, bu lord\n",
      "\n",
      "Topic  14\n",
      "thrive privileged, co gguoqfhcdw, congresswoman fixit, star restaurant, socialism wear, oppression thrive, want suffer, suffer high, eat star, tax oppression\n",
      "\n",
      "Topic  15\n",
      "great, america, want, garbage, america garbage, point mind, perhaps never, excuse america, great perhaps, great interestingly\n",
      "\n",
      "Topic  16\n",
      "palestinian, israel, tlaib grow, palestinian faction, side pay, pay terrorist, etc believe, faction hama, choose palestinian, support palestinian\n",
      "\n",
      "Topic  17\n",
      "act, laughingstock, ignorance display, brief clip, ten twenty, tough match, co yrbqgk, iq ten, yrbqgk zb, yrbqgk\n",
      "\n",
      "Topic  18\n",
      "mean gadget, wonder young, site hear, hipster cheer, dead access, access social, gadget dead, cheer sxsw, sxsw realize, outage mean\n",
      "\n",
      "Topic  19\n",
      "rep, actually rep, rep idea, speak intellectual, vacuum left, pathetic rep, rep follow, left embarrassing, many speak, intellectual vacuum\n"
     ]
    }
   ],
   "source": [
    "nmf_4 = NMF(20)\n",
    "doc_topic_NMF_4 = nmf_4.fit_transform(bag_of_words_4)\n",
    "print(nmf_4.reconstruction_err_)\n",
    "\n",
    "display_topics(nmf_4, tfidf_4.get_feature_names(), 10)"
   ]
  },
  {
   "cell_type": "code",
   "execution_count": 132,
   "metadata": {},
   "outputs": [
    {
     "name": "stdout",
     "output_type": "stream",
     "text": [
      "441.7224629591867\n",
      "\n",
      "Topic  0\n",
      "palestinian, israel, palestinian faction, faction hama, palestinian side, choose palestinian, tlaib grow, pay terrorist, side pay, number democrat\n",
      "\n",
      "Topic  1\n",
      "uh, though borough, mess bronx, roasted act, jh xatvtcm, without roasted, perfect clapback, clapback game, people mess, borough perfect\n",
      "\n",
      "Topic  2\n",
      "class american, class, american, working class, working, work class, white, screw, screw work, pit white\n",
      "\n",
      "Topic  3\n",
      "condemn, anti semitism, semitism, anti, design obscure, repeatedly help, obscure anti, semitism ashamed, force democratic, condemn condemn\n",
      "\n",
      "Topic  4\n",
      "claim, worker claim, visit film, crew postal, apartment local, claim mail, represent neighbor, claim visit, business claim, postal worker\n",
      "\n",
      "Topic  5\n",
      "state america, united state, united, state, america, family immigrate, tell firsthand, firsthand united, garbage great, immigrate united\n",
      "\n",
      "Topic  6\n",
      "bigotry ilhanmn, floor design, put sham, resolution floor, design protect, outrage party, party put, semitic hate, hate bigotry, protect anti\n",
      "\n",
      "Topic  7\n",
      "harris, claim, multiple job, work multiple, low people, rate low, unemployment rate, kamala harris, people work, kamala\n",
      "\n",
      "Topic  8\n",
      "hat respect, finally expose, left exactly, klan celebrate, wizard ku, folk former, ilhanmn finally, stupid jews, respect ilhanmn, expose left\n",
      "\n",
      "Topic  9\n",
      "hawaii, crazy, green deal, green, deal, crazy crazy, crazy green, travel hawaii, senator mazie, hawaii anyone\n",
      "\n",
      "Topic  10\n",
      "reagan, ever pick, pick book, evidence ever, book president, pick, book, evidence, ever, president\n",
      "\n",
      "Topic  11\n",
      "garbage, call america, america garbage, garbage citizen, wow seriously, praise venezuela, garbage congresswoman, congresswoman garbage, seriously call, hellhole praise\n",
      "\n",
      "Topic  12\n",
      "try, try illegally, illegally purchase, firearm felony, safety law, gun safety, felony ice, law report, furious republican, pass gun\n",
      "\n",
      "Topic  13\n",
      "jewish member, co kocwj, wpzm, kocwj, kocwj wpzm, explain vote, member congress, congress explain, resolution co, jewish\n",
      "\n",
      "Topic  14\n",
      "call, ago, ago call, fur hat, socialist shout, run fur, warren deblasio, comrade come, hat call, shout dishonest\n",
      "\n",
      "Topic  15\n",
      "instead, subway, uber, go end, world go, demise instead, slow demise, subway fly, lyft instead, everything slow\n",
      "\n",
      "Topic  16\n",
      "currently, fjtb, bz fjtb, currently garbage, america currently, co bz, bz, garbage co, garbage, america\n",
      "\n",
      "Topic  17\n",
      "boy, scouts away, necessary boy, xkadfguk, co xkadfguk, away boy, boy co, boy scouts, necessary, scouts\n",
      "\n",
      "Topic  18\n",
      "anti, anti semitism, semitism, semite accuse, medium echo, gaslighting fun, accuse oppose, echo gaslighting, semitism medium, oppose anti\n",
      "\n",
      "Topic  19\n",
      "capitalism, capitalism irredeemable, irredeemable, blast capitalism, saegl, co kocp, kocp saegl, generate million, kocp, event generate\n"
     ]
    }
   ],
   "source": [
    "nmf_5 = NMF(20)\n",
    "doc_topic_NMF_5 = nmf_5.fit_transform(bag_of_words_5)\n",
    "print(nmf_5.reconstruction_err_)\n",
    "\n",
    "display_topics(nmf_5, tfidf_5.get_feature_names(), 10)"
   ]
  },
  {
   "cell_type": "code",
   "execution_count": 133,
   "metadata": {},
   "outputs": [
    {
     "name": "stdout",
     "output_type": "stream",
     "text": [
      "372.53672672594075\n",
      "\n",
      "Topic  0\n",
      "co cvfc, cvfc, cvfc kjzum, kjzum, libs nice, skill libs, teach little, cookie teach, nice job, job co\n",
      "\n",
      "Topic  1\n",
      "allege untrue, untrue scandal, case conspiracy, run conservative, theory run, group spamm, report allege, scandal misinformation, spamm file, spamm\n",
      "\n",
      "Topic  2\n",
      "froth rage, radio screech, screech monkey, drive crappy, rage listen, right deplorable, deplorable drive, past abandon, abandon storefront, road past\n",
      "\n",
      "Topic  3\n",
      "hispanic, female, year old, young, ny, bartender, old, year, ask female, hispanic year\n",
      "\n",
      "Topic  4\n",
      "dem, leader simple, reason political, willing past, decade reclaim, reclaim language, storm dem, dem willing, equivocation, justice without\n",
      "\n",
      "Topic  5\n",
      "attack, praise, praise sander, attack harris, space dem, biden give, harris praise, candidate refrain, give space, politician candidate\n",
      "\n",
      "Topic  6\n",
      "moderate, edge solve, naive visionary, visionary tinker, spot moderate, moderate spot, moderate naive, critique moderate, contract manage, time rewrite\n",
      "\n",
      "Topic  7\n",
      "address, address income, inequality address, together work, divide address, change together, fear divide, address climate, income inequality, co tsbac\n",
      "\n",
      "Topic  8\n",
      "almost alone, hear almost, alone raise, protection hear, donor co, co bzvqycgq, bzvqycgq, money large, large donor, consumer protection\n",
      "\n",
      "Topic  9\n",
      "call, condemn donald, disabled none, terrorist mexican, joke native, bitch mock, mock disabled, nazi chant, native woman, people joke\n",
      "\n",
      "Topic  10\n",
      "service, long, bartender long, lot life, service customer, time everyone, require work, job lot, fzvfdsnue, co fzvfdsnue\n",
      "\n",
      "Topic  11\n",
      "generation american, appeal generation, bigot future, likely nation, nation appeal, party likely, earth next, progress help, misogynistic bigot, american walk\n",
      "\n",
      "Topic  12\n",
      "scout, girl scout, girl, call, cookie, boycott, scout co, cookie boycott, scout cookie, boycott use\n",
      "\n",
      "Topic  13\n",
      "job leave, leave die, society job, live society, core problem, die core, core, specter automate, haunt specter, work excite\n",
      "\n",
      "Topic  14\n",
      "much, terrify much, good internet, gop terrify, much good, internet, terrify, gop, good, despis realize\n",
      "\n",
      "Topic  15\n",
      "vote exactly, extremely wild, exactly lifetime, wild republican, win popular, republican win, popular vote, lifetime, wild, extremely\n",
      "\n",
      "Topic  16\n",
      "crisis, bronx, co gprnj, gprnj, gprnj er, yesterday house, record yesterday, bronx congressional, meeting drug, article opioid\n",
      "\n",
      "Topic  17\n",
      "ask, tier society, help bottom, society succeed, share help, ask billionaire, bottom tier, money ask, billionaire give, give money\n",
      "\n",
      "Topic  18\n",
      "fix, elect fix, fix shit, democrat elect, many democrat, elect, shit, many, democrat, first\n",
      "\n",
      "Topic  19\n",
      "emergency, compare opioidcrisis, southernborder, southernborder two, two emergency, awareness co, action raise, emergency treat, treat actual, opioidcrisis southernborder\n"
     ]
    }
   ],
   "source": [
    "nmf_6 = NMF(20)\n",
    "doc_topic_NMF_6 = nmf_6.fit_transform(bag_of_words_6)\n",
    "print(nmf_6.reconstruction_err_)\n",
    "\n",
    "display_topics(nmf_6, tfidf_6.get_feature_names(), 10)"
   ]
  },
  {
   "cell_type": "code",
   "execution_count": 134,
   "metadata": {},
   "outputs": [
    {
     "name": "stdout",
     "output_type": "stream",
     "text": [
      "284.9696798236513\n",
      "\n",
      "Topic  0\n",
      "excited live, reason excited, specter automate, excite reason, work excite, society job, haunt specter, specter, haunt, automate work\n",
      "\n",
      "Topic  1\n",
      "address, co tsbac, tsbac, change together, together work, divide address, inequality address, fear divide, address income, work sxsw\n",
      "\n",
      "Topic  2\n",
      "moderate, time rewrite, critique moderate, edge solve, visionary tinker, contract manage, moderate spot, spot moderate, naive visionary, problem democracy\n",
      "\n",
      "Topic  3\n",
      "policy idea, idea, policy, substance asking, co bcwtml, coverage green, strategy substance, cynical big, bcwtml, big policy\n",
      "\n",
      "Topic  4\n",
      "fexqdex, co fexqdex, tell use, gun co, use gun, please tell, gun, please, tell, use\n",
      "\n",
      "Topic  5\n",
      "file bogus, complaint fox, theory run, news report, spamm file, case conspiracy, allege untrue, gi phij, phij, phij jo\n",
      "\n",
      "Topic  6\n",
      "rashidatlaib election, solidarity support, bid united, announce first, support announce, state congress, endorsement ilhanmn, first endorsement, election bid, amount solidarity\n",
      "\n",
      "Topic  7\n",
      "right corporation, government explain, favor democratic, socialism sxsw, explain favor, scar right, corporation government, scar, favor, co lslycytew\n",
      "\n",
      "Topic  8\n",
      "gain, cost person, gain must, gain necessitate, logic someone, necessitate loss, reject logic, else gain, loss gain, must come\n",
      "\n",
      "Topic  9\n",
      "skill libs, libs nice, teach little, cookie teach, nice job, leadership skill, boycott cookie, little girl, cvfc, kjzum\n",
      "\n",
      "Topic  10\n",
      "try challenge, light heartedly, threaten call, police people, challenge confrontation, ufzakdr, podhoretz try, heartedly funniest, co ufzakdr, podhoretz\n",
      "\n",
      "Topic  11\n",
      "first, fix, deal, grid puerto, rico first, first fix, first fully, fix electrical, pension coal, flint first\n",
      "\n",
      "Topic  12\n",
      "fear sxsw, change counteract, counteract fear, counteract, answer billnye, billnye question, xulo, co jkl, jkl, jkl xulo\n",
      "\n",
      "Topic  13\n",
      "power, navigate system, navigate, try navigate, stop try, start build, system power, power start, build power, congresswoman advice\n",
      "\n",
      "Topic  14\n",
      "class american, class, american, working class, working, white working, pit, brown, screw work, pit white\n",
      "\n",
      "Topic  15\n",
      "service, long, bartender long, lot life, service customer, service job, customer service, life lesson, time everyone, work service\n",
      "\n",
      "Topic  16\n",
      "chance, automation, chance draft, automation chance, sxsw firmly, job drudgery, sever survival, chance eliminate, endorse automation, firmly endorse\n",
      "\n",
      "Topic  17\n",
      "status quo, quo, status, echo status, fawn medium, coverage ilhanmn, quo venezuela, rtfdcgyqa, co xnyh, imperialism reason\n",
      "\n",
      "Topic  18\n",
      "red first, back red, minute complete, iuybhio, good back, co iuybhio, first minute, complete co, complete, minute\n",
      "\n",
      "Topic  19\n",
      "shit whatnot, shakin shit, shakin, shout errytime, errytime turn, turn shakin, errytime, whatnot, shout, turn\n"
     ]
    }
   ],
   "source": [
    "nmf_7 = NMF(20)\n",
    "doc_topic_NMF_7 = nmf_7.fit_transform(bag_of_words_7)\n",
    "print(nmf_7.reconstruction_err_)\n",
    "\n",
    "display_topics(nmf_7, tfidf_7.get_feature_names(), 10)"
   ]
  },
  {
   "cell_type": "code",
   "execution_count": 135,
   "metadata": {},
   "outputs": [
    {
     "name": "stdout",
     "output_type": "stream",
     "text": [
      "81.36324654457356\n",
      "\n",
      "Topic  0\n",
      "general celebrateco, carlson tonight, gnd climate, est fox, news discuss, alarmism general, pm est, est, discuss gnd, tucker carlson\n",
      "\n",
      "Topic  1\n",
      "part ilhan, bad part, face year, country face, invasion border, right pressing, distract right, pressing issue, year invasion, issue country\n",
      "\n",
      "Topic  2\n",
      "joshuadstewart, tigerzntl, brandondaly, davidyoung, awayyumi einandererblog, brunopresent kstafford, jamesabbott, prez, jamesabbott amplicity, awayyumi\n",
      "\n",
      "Topic  3\n",
      "fuel, fossil fuel, fossil, food, twit plan, plan grow, grow food, horse fossil, world cut, fuel ban\n",
      "\n",
      "Topic  4\n",
      "claim, business claim, mail pile, postal, postal worker, never boyfriend, film news, crew postal, live district, boyfriend apartment\n",
      "\n",
      "Topic  5\n",
      "immigration demographic, legal immigration, demographic change, demographic, legal, immigration, change, conservative ilhan, yryw, ignore problem\n",
      "\n",
      "Topic  6\n",
      "green deal, green, deal, hawaii, crazy, anyone oppose, crazy crazy, mazie hirono, interesting democrat, eliminate air\n",
      "\n",
      "Topic  7\n",
      "ugjbbl kgf, send note, lavscam, lavscam co, trudeau concept, concept lavscam, ugjbbl, chance send, kgf, co ugjbbl\n",
      "\n",
      "Topic  8\n",
      "want, want everyone, cloth, guilt enough, tap, planet end, else tap, want part, buy reusable, reusable cloth\n",
      "\n",
      "Topic  9\n",
      "hyd glvhx, breitnbartradio, article interview, wow breitbartnew, greeneace hijack, hyd, hijack extreme, leave greeneace, interview breitnbartradio, breitnbartradio leave\n",
      "\n",
      "Topic  10\n",
      "omar today, ummm, country invade, care country, ummm crazy, today care, crazy ilhan, invade, today, care\n",
      "\n",
      "Topic  11\n",
      "qwek, stupid jews, ku klux, grand wizard, celebrate party, qwek omk, expose left, jews hat, klux klan, exactly hateful\n",
      "\n",
      "Topic  12\n",
      "ground past, breakfast menu, gnd suicide, recommend go, favour serious, back mine, mine tweet, menu, exchange idea, idea subject\n",
      "\n",
      "Topic  13\n",
      "garbage, america, america garbage, call america, garbage congresswoman, congresswoman garbage, force eat, eat socialist, socialist hellhole, wow seriously\n",
      "\n",
      "Topic  14\n",
      "current year, introduce nobel, topple wheelchair, co smhfhpnlp, smhfhpnlp, ritually topple, mall, mall deal, ritually, nehesi coate\n",
      "\n",
      "Topic  15\n",
      "uh, uh uh, twitter people, jh xatvtcm, xatvtcm, without roasted, woman without, though borough, perfect clapback, roasted act\n",
      "\n",
      "Topic  16\n",
      "boy, co xkadfguk, xkadfguk, necessary boy, scouts away, boy co, away boy, boy scouts, scouts, necessary\n",
      "\n",
      "Topic  17\n",
      "instead, uber, spend, subway, everything, demise instead, believe world, subway fly, fly dc, instead spend\n",
      "\n",
      "Topic  18\n",
      "seem topic, ignorant start, topic angry, jail anyone, angry ignorant, start send, send hillary, hillary jail, anyone else, angry\n",
      "\n",
      "Topic  19\n",
      "newt, friend throw, pelosi grip, throw party, grip slip, party leave, grandparent home, slip friend, leave grandparent, slip\n"
     ]
    }
   ],
   "source": [
    "nmf_8 = NMF(20)\n",
    "doc_topic_NMF_8 = nmf_8.fit_transform(bag_of_words_8)\n",
    "print(nmf_8.reconstruction_err_)\n",
    "\n",
    "display_topics(nmf_8, tfidf_8.get_feature_names(), 10)"
   ]
  },
  {
   "cell_type": "code",
   "execution_count": 136,
   "metadata": {},
   "outputs": [
    {
     "name": "stdout",
     "output_type": "stream",
     "text": [
      "613.8853818750036\n",
      "\n",
      "Topic  0\n",
      "claim, crew postal, visit film, pile month, represent neighbor, box fraud, month box, claim visit, film news, business claim\n",
      "\n",
      "Topic  1\n",
      "hawaii, green deal, green, deal, crazy, oppose green, hirono hawaii, senator mazie, hawaii anyone, hawaii island\n",
      "\n",
      "Topic  2\n",
      "garbage, america, america garbage, garbage congresswoman, garbage citizen, praise venezuela, hellhole praise, congresswoman garbage, force eat, socialist hellhole\n",
      "\n",
      "Topic  3\n",
      "slap, third ethic, slap third, week co, third, ethic, week, complaint week, ethic complaint, vsuvkqrxxm\n",
      "\n",
      "Topic  4\n",
      "ilhanmn finally, left exactly, hat respect, celebrate party, klan celebrate, respect ilhanmn, folk former, exactly hateful, party black, wizard ku\n",
      "\n",
      "Topic  5\n",
      "instead, demise instead, use amtrak, everything slow, thousand uber, lyft instead, subway fly, slow demise, fly dc, dc nyc\n",
      "\n",
      "Topic  6\n",
      "answer cast, cast call, cast, answer, congress, congress realjameswood, hbuw, hbuw xqao, co hbuw, xqao\n",
      "\n",
      "Topic  7\n",
      "cnn msnbc, blackout cnn, ignore fec, medium blackout, msnbc ignore, msnbc, kxadajq, kxadajq jl, co kxadajq, jl\n",
      "\n",
      "Topic  8\n",
      "israel, palestinian, democrat, tlaib, omar, israel right, right exist, believe israel, terrorist kill, kill american\n",
      "\n",
      "Topic  9\n",
      "grip slip, friend throw, pelosi grip, grandparent home, leave grandparent, slip friend, throw party, party leave, grandparent, slip\n",
      "\n",
      "Topic  10\n",
      "relationship, yxjc, oxvbv yxjc, oxvbv, co oxvbv, end, fundraising, relationship fundraising, end israel, fundraising letter\n",
      "\n",
      "Topic  11\n",
      "fec, ex fec, serious prison, face serious, prison time, ex, serious, commissioner face, fec commissioner, commissioner\n",
      "\n",
      "Topic  12\n",
      "conservative token, black conservative, token, conservative, black, free, token gop, believe black, gop tired, stick democratic\n",
      "\n",
      "Topic  13\n",
      "total, vote, hire degree, economic run, office receive, receive total, woman barmaid, barmaid hire, drive democratic, total drive\n",
      "\n",
      "Topic  14\n",
      "boy, away boy, scouts away, xkadfguk, necessary boy, co xkadfguk, boy co, boy scouts, necessary, scouts\n",
      "\n",
      "Topic  15\n",
      "class, reagan, class american, american, work, claim, working class, working, work class, screw\n",
      "\n",
      "Topic  16\n",
      "public transportation, transportation, public, realize saving, person public, emission spend, car realize, transportation instead, transportation association, association single\n",
      "\n",
      "Topic  17\n",
      "want, tax, every, socialism, co, owe, want tell, operate, word want, production want\n",
      "\n",
      "Topic  18\n",
      "uh, act, uh uh, uh co, life uh, mess bronx, perfect clapback, xatvtcm, jh xatvtcm, though borough\n",
      "\n",
      "Topic  19\n",
      "post, rep, anti, omar, anti semitism, semitism, retweet post, ilhan omar, ilhan, retweet\n"
     ]
    }
   ],
   "source": [
    "nmf_9 = NMF(20)\n",
    "doc_topic_NMF_9 = nmf_9.fit_transform(bag_of_words_9)\n",
    "print(nmf_9.reconstruction_err_)\n",
    "\n",
    "display_topics(nmf_9, tfidf_9.get_feature_names(), 10)"
   ]
  },
  {
   "cell_type": "code",
   "execution_count": 137,
   "metadata": {},
   "outputs": [
    {
     "name": "stdout",
     "output_type": "stream",
     "text": [
      "96.2330594208418\n",
      "\n",
      "Topic  0\n",
      "maduro afraid, berniesander win, dictator wow, afraid venezuela, wow berniesander, bad watch, call nicolasmaduro, win denounce, nicolasmaduro dictator, look bad\n",
      "\n",
      "Topic  1\n",
      "venezuela, wrong protest, crisis wrong, aid enter, theory co, co ryjrvcabih, america motive, disgusting conspiracy, suggest potus, break venezuela\n",
      "\n",
      "Topic  2\n",
      "invite far, ilhanomar come, co nthd, leave dem, nthd, dem ilhanomar, nthd poq, country watch, poq, jguaido invite\n",
      "\n",
      "Topic  3\n",
      "suffering starvation, maduro responsible, responsible pain, pain suffering, starvation million, throw point, ilhanmn tolerate, tolerate maduro, million allow, ignorance ilhanmn\n",
      "\n",
      "Topic  4\n",
      "democratic, socialist, co spci, ignoramus pitiful, spci, spci oiy, simply become, incapable condemn, oiy, shine simply\n",
      "\n",
      "Topic  5\n",
      "suffer, electricity co, help suffer, anti conspiracy, theory help, suffer amid, suffer educate, ignorant prefer, sake million, amid food\n",
      "\n",
      "Topic  6\n",
      "american, tolerate excuse, nothing people, bully ilhanmn, democrat american, never tolerate, american stand, political egos, excuse american, ignorance never\n",
      "\n",
      "Topic  7\n",
      "regime, refuse, tmqgvqkccw, inflict venezuela, people reprehensible, atrocity regime, still refuse, regime inflict, co tmqgvqkccw, world atrocity\n",
      "\n",
      "Topic  8\n",
      "ethic complaint, hit ethic, hit, complaint co, ethic, address conservative, okay give, give boyfriend, government email, azq\n",
      "\n",
      "Topic  9\n",
      "stupidity statement, statement first, co zsmvk, hanke dictionary, hanke, dictionary economic, inequality open, first page, economic stupidity, open hanke\n",
      "\n",
      "Topic  10\n",
      "garbage, america garbage, congresswoman garbage, seriously call, hellhole praise, eat socialist, garbage congresswoman, garbage citizen, socialist hellhole, praise venezuela\n",
      "\n",
      "Topic  11\n",
      "claim, worker claim, crew postal, month box, district claim, claim mail, represent neighbor, mail pile, news crew, pile month\n",
      "\n",
      "Topic  12\n",
      "release, attention due, venezuela detain, father colleague, release freecitgo, freecitgo humanright, freecitgo, colleague release, air medical, detain unjustly\n",
      "\n",
      "Topic  13\n",
      "green, green deal, deal, hawaii, crazy, eliminate air, hirono, hawaii island, mazie, mazie hirono\n",
      "\n",
      "Topic  14\n",
      "klan celebrate, omk, wizard ku, qwek omk, left exactly, celebrate party, klux, klux klan, folk former, people stupid\n",
      "\n",
      "Topic  15\n",
      "rashidatlaib, ilhanmn rashidatlaib, ayannapressley, gop ilhanmn, sagittariususne gop, sagittariususne, joeneguse, rashidatlaib joeneguse, joeneguse ayannapressley, gop\n",
      "\n",
      "Topic  16\n",
      "medium, coverage, moral story, administration deception, deception follow, robust independent, independent medium, authoritarian administration, follow nyt, dear moral\n",
      "\n",
      "Topic  17\n",
      "region, voice venezuela, survive war, yes read, special insight, venezuela fact, war region, read nytime, show survive, venezuelan yes\n",
      "\n",
      "Topic  18\n",
      "print, capitalism, free market, disingenuous interested, price capitalism, address disingenuous, interested genuine, boost asset, fault capitalism, capitalism print\n",
      "\n",
      "Topic  19\n",
      "instead, everything, reagan, rate, uber, subway, spend, slow, learn, year\n"
     ]
    }
   ],
   "source": [
    "nmf_10 = NMF(20)\n",
    "doc_topic_NMF_10 = nmf_10.fit_transform(bag_of_words_10)\n",
    "print(nmf_10.reconstruction_err_)\n",
    "\n",
    "display_topics(nmf_10, tfidf_10.get_feature_names(), 10)"
   ]
  },
  {
   "cell_type": "code",
   "execution_count": 138,
   "metadata": {},
   "outputs": [
    {
     "name": "stdout",
     "output_type": "stream",
     "text": [
      "44.25405245694043\n",
      "\n",
      "Topic  0\n",
      "life delightful, lose platform, bq, bq onfr, worry america, delightful, onfr, america ewarren, stop company, delightful co\n",
      "\n",
      "Topic  1\n",
      "libertarian, start come, seem start, libertarian tech, tech year, movement represent, always lot, liberal silicon, valley always, come mainly\n",
      "\n",
      "Topic  2\n",
      "love, sure audience, guarantee trump, election team, audience love, riav, co riav, love guarantee, team love, trump election\n",
      "\n",
      "Topic  3\n",
      "mjtheprophet whackamolepro, mjtheprophet, whackamolepro, tenor, reneefiredup, gabbifromtexas, gabbifromtexas tenor, rick, kokshaj, reneefiredup gabbifromtexas\n",
      "\n",
      "Topic  4\n",
      "low tax, low, tax, socialist party, tax state, entrepreneur already, tax county, washington etc, geography, geography co\n",
      "\n",
      "Topic  5\n",
      "mitchellvii, mitchellvii garbage, garbage, talk, mitchellvii kinda, kinda, mitchellvii talk, mitchellvii trump, mitchellvii go, leave\n",
      "\n",
      "Topic  6\n",
      "boss, charge, rly, boss rly, serve, woman, call boss, boss right, boss serve, charliekirk\n",
      "\n",
      "Topic  7\n",
      "green, deal, green deal, crazy, hawaii, senator, crazy crazy, eliminate air, eliminate, hirono hawaii\n",
      "\n",
      "Topic  8\n",
      "claim, boyfriend, live district, actually live, neighbor never, worker claim, neighbor, district claim, crew, claim represent\n",
      "\n",
      "Topic  9\n",
      "garbage, hellhole praise, wow seriously, venezuela cuba, praise venezuela, congresswoman garbage, citizen force, praise, seriously call, eat socialist\n",
      "\n",
      "Topic  10\n",
      "co rlshgsn, rlshgsn, agree co, agree, co, yes, agree anything, totally, serve, totally agree\n",
      "\n",
      "Topic  11\n",
      "win, district, historical performance, historical, performance, waleedshahid, dem, congress, house, congressional district\n",
      "\n",
      "Topic  12\n",
      "co, thebabylonbee, co rrlkohtafh, thebabylonbee year, rrlkohtafh, year co, year, work, want, complaint\n",
      "\n",
      "Topic  13\n",
      "someone, certain someone, certain, mitchellvii go, someone elect, proud, well, elect president, someone proud, someone call\n",
      "\n",
      "Topic  14\n",
      "egavactip jjmplsmn, rkinseth, jjmplsmn, egavactip, conormacrandal, asherdelion, conormacrandal rkinseth, asherdelion conormacrandal, rkinseth egavactip, good\n",
      "\n",
      "Topic  15\n",
      "billnye, tictoc billnye, tictoc, country, billnye country, lie, science, science lie, bill, scam\n",
      "\n",
      "Topic  16\n",
      "represent yrusola, citizen ny, elect represent, go something, ny congressional, something specifically, yrusola, specifically, district elect, something\n",
      "\n",
      "Topic  17\n",
      "palestinian, israel, right, pay, omar tlaib, tlaib, kill, right exist, israel right, omar\n",
      "\n",
      "Topic  18\n",
      "instead, everything, end year, world go, go end, world, climate, climate change, change, subway\n",
      "\n",
      "Topic  19\n",
      "garbage, america garbage, garbage nice, nice, america, country, great, mitchellvii garbage, state america, garbage co\n"
     ]
    }
   ],
   "source": [
    "nmf_11 = NMF(20)\n",
    "doc_topic_NMF_11 = nmf_11.fit_transform(bag_of_words_11)\n",
    "print(nmf_11.reconstruction_err_)\n",
    "\n",
    "display_topics(nmf_11, tfidf_11.get_feature_names(), 10)"
   ]
  },
  {
   "cell_type": "code",
   "execution_count": 139,
   "metadata": {},
   "outputs": [
    {
     "name": "stdout",
     "output_type": "stream",
     "text": [
      "16.32050975192742\n",
      "\n",
      "Topic  0\n",
      "austin, taco exist, valley good, south austin, hit valley, hour south, exist austin, bnzfvhffrf, exist, austin hit\n",
      "\n",
      "Topic  1\n",
      "austin freeway, freeway san, freeway, taco austin, san antonio, san, antonio, austin, good taco, good\n",
      "\n",
      "Topic  2\n",
      "taco come, truck speak, come food, torchystacos wrong, wrong good, food truck, speak spanish, speak, wrong, spanish\n",
      "\n",
      "Topic  3\n",
      "tbh, everyone torchys, block, block everyone, torchys tbh, torchys, everyone, white, donvad, torchystacos exactly\n",
      "\n",
      "Topic  4\n",
      "city town, highly misinform, misinform, taco good, taco city, town highly, torchystacos torchy, pacobaggin dwnldblcntnt, town, pacobaggin\n",
      "\n",
      "Topic  5\n",
      "pastor riverside, rosita al, al pastor, al, riverside, rosita, pastor, arandina riverside, arandina, east\n",
      "\n",
      "Topic  6\n",
      "always torchy, torchystacos always, always, torchy, torchystacos, ppl, tell good, eww ppl, ppl tell, eww\n",
      "\n",
      "Topic  7\n",
      "moderate, decline, moderate spot, co xhd, xhd wyk, xhd, critique moderate, manage, wyk, manage decline\n",
      "\n",
      "Topic  8\n",
      "seek co, co ms, south side, preferably south, preferably, order uber, order, yof, xbu, antonio preferably\n",
      "\n",
      "Topic  9\n",
      "long, service, time everyone, long time, work service, lot life, service job, long long, job lot, customer service\n",
      "\n",
      "Topic  10\n",
      "address, fear, climate change, climate, change, fear divide, income inequality, tsbac, work sxsw, divide\n",
      "\n",
      "Topic  11\n",
      "little girl, cookie, cookie teach, teach little, nice, teach, nice job, job co, cvfc kjzum, libs nice\n",
      "\n",
      "Topic  12\n",
      "torchystacos confirm, co hqdvbxgs, hqdvbxgs, confirm co, confirm, joshtheflanagan torchystacos, joshtheflanagan, torchystacos, co, torchystacos guy\n",
      "\n",
      "Topic  13\n",
      "incredible sword, apartment look, come apartment, look collection, call socialist, sword, collection incredible, yet win, win come, incredible\n",
      "\n",
      "Topic  14\n",
      "antonio co, hour half, half, half south, co rlmcgzqkr, place hour, downtown call, downtown, south downtown, rlmcgzqkr\n",
      "\n",
      "Topic  15\n",
      "listen, manor road, lie good, road listen, laundromat manor, laundromat, taco universe, chilito, chilito torchys, else lie\n",
      "\n",
      "Topic  16\n",
      "valentina, veracruz, natural, natural valentina, bbq, valentina tex, whole job, veracruz natural, job veracruz, mex bbq\n",
      "\n",
      "Topic  17\n",
      "juan, juan million, million, ericvespe, co cuzlt, ericvespe mean, mean juan, second, cuzlt, cuzlt qgdb\n",
      "\n",
      "Topic  18\n",
      "place call, place, call, recommend time, valley co, good place, highly recommend, call valley, really great, co rbuxnsydmx\n",
      "\n",
      "Topic  19\n",
      "real, cosagov co, tortilla entire, ov, co ov, ymt, ov ymt, real tortilla, city cosagov, entire city\n"
     ]
    }
   ],
   "source": [
    "nmf_26 = NMF(20)\n",
    "doc_topic_NMF_26 = nmf_26.fit_transform(bag_of_words_26)\n",
    "print(nmf_26.reconstruction_err_)\n",
    "\n",
    "display_topics(nmf_26, tfidf_26.get_feature_names(), 10)"
   ]
  },
  {
   "cell_type": "code",
   "execution_count": 140,
   "metadata": {},
   "outputs": [
    {
     "name": "stdout",
     "output_type": "stream",
     "text": [
      "15.168867255006226\n",
      "\n",
      "Topic  0\n",
      "twitter talk, powerhouse sheinspiresme, woman twitter, demi lovato, taylorswift demi, lovato, lovato kamalaharris, mention woman, sheinspiresme ladygaga, powerhouse\n",
      "\n",
      "Topic  1\n",
      "brain co, co ufxyb, ufxyb, ufxyb ny, woman brain, brain, love woman, ny, love, co\n",
      "\n",
      "Topic  2\n",
      "mile, south call, co vksygxrqxv, vksygxrqxv, place mile, call san, place, antonio co, mile south, antonio\n",
      "\n",
      "Topic  3\n",
      "co spqien, national party, qwv, problem keep, wonder gop, woman voter, gop problem, fan co, people wonder, voter rank\n",
      "\n",
      "Topic  4\n",
      "address, climate change, fear, climate, divide, work sxsw, change together, fear divide, income inequality, co tsbac\n",
      "\n",
      "Topic  5\n",
      "cvfc kjzum, skill, boycott cookie, nice job, nice, job co, cvfc, little girl, cookie, skill libs\n",
      "\n",
      "Topic  6\n",
      "service, long, bartender long, learn co, everyone require, service customer, service job, lot life, customer, long long\n",
      "\n",
      "Topic  7\n",
      "green deal, green, hear, deal, wab, read news, lot green, well hear, watch read, watch\n",
      "\n",
      "Topic  8\n",
      "specter, owhpj, reason excited, automate, automate work, haunt, co owhpj, haunt specter, live society, society job\n",
      "\n",
      "Topic  9\n",
      "billnye jordanpeele, jordanpeele, billnye, people sxsw, tweet people, far billnye, sxsw far, far, tweet, leinilyu\n",
      "\n",
      "Topic  10\n",
      "moderate, visionary, systemic problem, rewrite, critique moderate, rewrite social, moderate spot, decline, critique, wyk\n",
      "\n",
      "Topic  11\n",
      "taylorswift kamalaharris, twitterwoman, twitterwoman ladygaga, queen, gaga, taylorswift, rihanna, beyonce, ladygaga, kamalaharris\n",
      "\n",
      "Topic  12\n",
      "gop, ever, zigmanfreud every, lose ever, medium bash, bash, gop lose, gop dem, every comment, ever conservative\n",
      "\n",
      "Topic  13\n",
      "stop, young, ud, lesson business, marketing capitalism, entrepreneurship marketing, marketing, entrepreneurship, business entrepreneurship, stop young\n",
      "\n",
      "Topic  14\n",
      "theory, conspiracy, conspiracy theory, complaint fox, phij, file bogus, gi phij, gi, work folk, spamm\n",
      "\n",
      "Topic  15\n",
      "people, job, everything, job job, sham people, etc co, flipper waitress, insult, insult burger, etc\n",
      "\n",
      "Topic  16\n",
      "bring, buzzy, protest, carry protest, threshold, want result, protest sign, buzzy stuff, squad use, bring enthusiasm\n",
      "\n",
      "Topic  17\n",
      "dan crenshaw, dan, crenshaw, co gxvgevs, tweet literal, literal lie, literal, lie repeat, wing co, gxvgevs\n",
      "\n",
      "Topic  18\n",
      "still, inclusive, innovation, stop, capital, dc capital, dc, inclusive innovation, capital inclusive, sxsw stop\n",
      "\n",
      "Topic  19\n",
      "friend, omar, high school, high, point, school, marry well, name, rigid talking, since high\n"
     ]
    }
   ],
   "source": [
    "nmf_40 = NMF(20)\n",
    "doc_topic_NMF_40 = nmf_40.fit_transform(bag_of_words_40)\n",
    "print(nmf_40.reconstruction_err_)\n",
    "\n",
    "display_topics(nmf_40, tfidf_40.get_feature_names(), 10)"
   ]
  },
  {
   "cell_type": "code",
   "execution_count": 141,
   "metadata": {},
   "outputs": [],
   "source": [
    "with open('/Users/robertpagano/metis_data/project_5/topic_modeling/nmf_aoc/nmf_0.pickle', 'wb') as to_write:\n",
    "    pickle.dump(nmf_0, to_write)\n",
    "    \n",
    "with open('/Users/robertpagano/metis_data/project_5/topic_modeling/nmf_aoc/nmf_1.pickle', 'wb') as to_write:\n",
    "    pickle.dump(nmf_1, to_write)\n",
    "    \n",
    "with open('/Users/robertpagano/metis_data/project_5/topic_modeling/nmf_aoc/nmf_2.pickle', 'wb') as to_write:\n",
    "    pickle.dump(nmf_2, to_write)\n",
    "    \n",
    "with open('/Users/robertpagano/metis_data/project_5/topic_modeling/nmf_aoc/nmf_3.pickle', 'wb') as to_write:\n",
    "    pickle.dump(nmf_3, to_write)\n",
    "    \n",
    "with open('/Users/robertpagano/metis_data/project_5/topic_modeling/nmf_aoc/nmf_4.pickle', 'wb') as to_write:\n",
    "    pickle.dump(nmf_4, to_write)\n",
    "    \n",
    "with open('/Users/robertpagano/metis_data/project_5/topic_modeling/nmf_aoc/nmf_5.pickle', 'wb') as to_write:\n",
    "    pickle.dump(nmf_5, to_write)\n",
    "    \n",
    "with open('/Users/robertpagano/metis_data/project_5/topic_modeling/nmf_aoc/nmf_6.pickle', 'wb') as to_write:\n",
    "    pickle.dump(nmf_6, to_write)\n",
    "    \n",
    "with open('/Users/robertpagano/metis_data/project_5/topic_modeling/nmf_aoc/nmf_7.pickle', 'wb') as to_write:\n",
    "    pickle.dump(nmf_7, to_write)\n",
    "    \n",
    "with open('/Users/robertpagano/metis_data/project_5/topic_modeling/nmf_aoc/nmf_8.pickle', 'wb') as to_write:\n",
    "    pickle.dump(nmf_8, to_write)\n",
    "    \n",
    "with open('/Users/robertpagano/metis_data/project_5/topic_modeling/nmf_aoc/nmf_9.pickle', 'wb') as to_write:\n",
    "    pickle.dump(nmf_9, to_write)\n",
    "    \n",
    "with open('/Users/robertpagano/metis_data/project_5/topic_modeling/nmf_aoc/nmf_10.pickle', 'wb') as to_write:\n",
    "    pickle.dump(nmf_10, to_write)\n",
    "    \n",
    "with open('/Users/robertpagano/metis_data/project_5/topic_modeling/nmf_aoc/nmf_11.pickle', 'wb') as to_write:\n",
    "    pickle.dump(nmf_11, to_write)\n",
    "    \n",
    "with open('/Users/robertpagano/metis_data/project_5/topic_modeling/nmf_aoc/nmf_26.pickle', 'wb') as to_write:\n",
    "    pickle.dump(nmf_26, to_write)\n",
    "\n",
    "with open('/Users/robertpagano/metis_data/project_5/topic_modeling/nmf_aoc/nmf_40.pickle', 'wb') as to_write:\n",
    "    pickle.dump(nmf_40, to_write)\n",
    "    "
   ]
  },
  {
   "cell_type": "code",
   "execution_count": null,
   "metadata": {},
   "outputs": [],
   "source": []
  },
  {
   "cell_type": "markdown",
   "metadata": {},
   "source": [
    "Running Topic Modeling on ALL text data, both NMF and LSA, on various topic counts, to feed into DBScan / KMeans for cluster analysis"
   ]
  },
  {
   "cell_type": "code",
   "execution_count": 146,
   "metadata": {},
   "outputs": [],
   "source": [
    "## Creating list of the processed text files to merge, so it's all in the same format and can re-use code\n",
    "dfs_to_merge = [df_0, df_1, df_2, df_3, df_4, df_5, df_6, df_7, df_8, df_9, df_10, df_11, df_26, df_40]"
   ]
  },
  {
   "cell_type": "code",
   "execution_count": 149,
   "metadata": {},
   "outputs": [
    {
     "name": "stdout",
     "output_type": "stream",
     "text": [
      "(34997, 10)\n",
      "(1446, 10)\n",
      "(8345, 10)\n",
      "(9346, 10)\n",
      "(224793, 10)\n",
      "(237746, 10)\n",
      "(190998, 10)\n",
      "(135612, 10)\n",
      "(8192, 10)\n",
      "(425343, 10)\n",
      "(13157, 10)\n",
      "(2270, 10)\n",
      "(1141, 10)\n",
      "(2628, 10)\n",
      "1296014\n"
     ]
    }
   ],
   "source": [
    "total = 0\n",
    "\n",
    "for df in dfs_to_merge:\n",
    "    print(df.shape)\n",
    "    total += df.shape[0]\n",
    "    \n",
    "print(total)"
   ]
  },
  {
   "cell_type": "code",
   "execution_count": 150,
   "metadata": {},
   "outputs": [],
   "source": [
    "df_all_preprocessed = pd.concat(dfs_to_merge)"
   ]
  },
  {
   "cell_type": "code",
   "execution_count": 151,
   "metadata": {},
   "outputs": [
    {
     "data": {
      "text/plain": [
       "(1296014, 10)"
      ]
     },
     "execution_count": 151,
     "metadata": {},
     "output_type": "execute_result"
    }
   ],
   "source": [
    "df_all_preprocessed.shape"
   ]
  },
  {
   "cell_type": "code",
   "execution_count": 153,
   "metadata": {},
   "outputs": [],
   "source": [
    "df_all = df_all_preprocessed.copy()"
   ]
  },
  {
   "cell_type": "code",
   "execution_count": 157,
   "metadata": {},
   "outputs": [
    {
     "data": {
      "text/html": [
       "<div>\n",
       "<style scoped>\n",
       "    .dataframe tbody tr th:only-of-type {\n",
       "        vertical-align: middle;\n",
       "    }\n",
       "\n",
       "    .dataframe tbody tr th {\n",
       "        vertical-align: top;\n",
       "    }\n",
       "\n",
       "    .dataframe thead th {\n",
       "        text-align: right;\n",
       "    }\n",
       "</style>\n",
       "<table border=\"1\" class=\"dataframe\">\n",
       "  <thead>\n",
       "    <tr style=\"text-align: right;\">\n",
       "      <th></th>\n",
       "      <th>screen_name</th>\n",
       "      <th>followers_count</th>\n",
       "      <th>modularity_class</th>\n",
       "      <th>main_text</th>\n",
       "      <th>retweet_text</th>\n",
       "      <th>tweet_date</th>\n",
       "      <th>PageRank</th>\n",
       "      <th>rt_count</th>\n",
       "      <th>final_text</th>\n",
       "      <th>tweet_processed</th>\n",
       "    </tr>\n",
       "  </thead>\n",
       "  <tbody>\n",
       "    <tr>\n",
       "      <th>405812</th>\n",
       "      <td>DavidJHarrisJr</td>\n",
       "      <td>75631</td>\n",
       "      <td>0.0</td>\n",
       "      <td>So @aoc answered a casting call... and now she’s in Congress! @RealJamesWoods and @realDonaldTrump have to see this!!! https://t.co/HBUW78XqAo</td>\n",
       "      <td>NaN</td>\n",
       "      <td>Mon Mar 11 01:16:04 +0000 2019</td>\n",
       "      <td>0.004242</td>\n",
       "      <td>6936</td>\n",
       "      <td>So @aoc answered a casting call... and now she’s in Congress! @RealJamesWoods and @realDonaldTrump have to see this!!! https://t.co/HBUW78XqAo</td>\n",
       "      <td>so aoc answer a cast call and now -PRON- s in congress realjameswood and realdonaldtrump have to see this https t co hbuw xqao</td>\n",
       "    </tr>\n",
       "    <tr>\n",
       "      <th>712255</th>\n",
       "      <td>DavidJHarrisJr</td>\n",
       "      <td>75652</td>\n",
       "      <td>0.0</td>\n",
       "      <td>So @aoc wants to raise our taxes and she hasn’t even paid her own! https://t.co/W1m1CCnN3Y</td>\n",
       "      <td>NaN</td>\n",
       "      <td>Sun Mar 10 03:49:44 +0000 2019</td>\n",
       "      <td>0.004242</td>\n",
       "      <td>1127</td>\n",
       "      <td>So @aoc wants to raise our taxes and she hasn’t even paid her own! https://t.co/W1m1CCnN3Y</td>\n",
       "      <td>so aoc want to raise -PRON- tax and -PRON- hasn t even pay -PRON- own https t co w m ccnn y</td>\n",
       "    </tr>\n",
       "    <tr>\n",
       "      <th>465115</th>\n",
       "      <td>DavidJHarrisJr</td>\n",
       "      <td>75638</td>\n",
       "      <td>0.0</td>\n",
       "      <td>Now @aoc says America is garbage? \\nWho elected this woman!!! https://t.co/O7hsaAK9jH</td>\n",
       "      <td>NaN</td>\n",
       "      <td>Sun Mar 10 22:30:39 +0000 2019</td>\n",
       "      <td>0.004242</td>\n",
       "      <td>1056</td>\n",
       "      <td>Now @aoc says America is garbage? \\nWho elected this woman!!! https://t.co/O7hsaAK9jH</td>\n",
       "      <td>now aoc say america be garbage who elect this woman https t co o hsaak jh</td>\n",
       "    </tr>\n",
       "    <tr>\n",
       "      <th>62994</th>\n",
       "      <td>DavidJHarrisJr</td>\n",
       "      <td>75620</td>\n",
       "      <td>0.0</td>\n",
       "      <td>Former FEC Commissioner says there’s more than enough evidence to launch a criminal investigation into @aoc! https://t.co/XPL6LhrZFD</td>\n",
       "      <td>NaN</td>\n",
       "      <td>Tue Mar 12 01:25:16 +0000 2019</td>\n",
       "      <td>0.004242</td>\n",
       "      <td>997</td>\n",
       "      <td>Former FEC Commissioner says there’s more than enough evidence to launch a criminal investigation into @aoc! https://t.co/XPL6LhrZFD</td>\n",
       "      <td>former fec commissioner say there s more than enough evidence to launch a criminal investigation into aoc https t co xpl lhrzfd</td>\n",
       "    </tr>\n",
       "    <tr>\n",
       "      <th>1205837</th>\n",
       "      <td>DavidJHarrisJr</td>\n",
       "      <td>75690</td>\n",
       "      <td>0.0</td>\n",
       "      <td>Hey AOC! Guess what? Climate change and global warming IS a hoax!!!! https://t.co/OwY68EMVMm</td>\n",
       "      <td>NaN</td>\n",
       "      <td>Fri Mar 08 05:02:07 +0000 2019</td>\n",
       "      <td>0.004242</td>\n",
       "      <td>838</td>\n",
       "      <td>Hey AOC! Guess what? Climate change and global warming IS a hoax!!!! https://t.co/OwY68EMVMm</td>\n",
       "      <td>hey aoc guess what climate change and global warming be a hoax https t co owy emvmm</td>\n",
       "    </tr>\n",
       "  </tbody>\n",
       "</table>\n",
       "</div>"
      ],
      "text/plain": [
       "            screen_name  followers_count  modularity_class  \\\n",
       "405812   DavidJHarrisJr            75631               0.0   \n",
       "712255   DavidJHarrisJr            75652               0.0   \n",
       "465115   DavidJHarrisJr            75638               0.0   \n",
       "62994    DavidJHarrisJr            75620               0.0   \n",
       "1205837  DavidJHarrisJr            75690               0.0   \n",
       "\n",
       "                                                                                                                                              main_text  \\\n",
       "405812   So @aoc answered a casting call... and now she’s in Congress! @RealJamesWoods and @realDonaldTrump have to see this!!! https://t.co/HBUW78XqAo   \n",
       "712255                                                       So @aoc wants to raise our taxes and she hasn’t even paid her own! https://t.co/W1m1CCnN3Y   \n",
       "465115                                                            Now @aoc says America is garbage? \\nWho elected this woman!!! https://t.co/O7hsaAK9jH   \n",
       "62994              Former FEC Commissioner says there’s more than enough evidence to launch a criminal investigation into @aoc! https://t.co/XPL6LhrZFD   \n",
       "1205837                                                    Hey AOC! Guess what? Climate change and global warming IS a hoax!!!! https://t.co/OwY68EMVMm   \n",
       "\n",
       "        retweet_text                      tweet_date  PageRank  rt_count  \\\n",
       "405812           NaN  Mon Mar 11 01:16:04 +0000 2019  0.004242      6936   \n",
       "712255           NaN  Sun Mar 10 03:49:44 +0000 2019  0.004242      1127   \n",
       "465115           NaN  Sun Mar 10 22:30:39 +0000 2019  0.004242      1056   \n",
       "62994            NaN  Tue Mar 12 01:25:16 +0000 2019  0.004242       997   \n",
       "1205837          NaN  Fri Mar 08 05:02:07 +0000 2019  0.004242       838   \n",
       "\n",
       "                                                                                                                                             final_text  \\\n",
       "405812   So @aoc answered a casting call... and now she’s in Congress! @RealJamesWoods and @realDonaldTrump have to see this!!! https://t.co/HBUW78XqAo   \n",
       "712255                                                       So @aoc wants to raise our taxes and she hasn’t even paid her own! https://t.co/W1m1CCnN3Y   \n",
       "465115                                                            Now @aoc says America is garbage? \\nWho elected this woman!!! https://t.co/O7hsaAK9jH   \n",
       "62994              Former FEC Commissioner says there’s more than enough evidence to launch a criminal investigation into @aoc! https://t.co/XPL6LhrZFD   \n",
       "1205837                                                    Hey AOC! Guess what? Climate change and global warming IS a hoax!!!! https://t.co/OwY68EMVMm   \n",
       "\n",
       "                                                                                                                         tweet_processed  \n",
       "405812    so aoc answer a cast call and now -PRON- s in congress realjameswood and realdonaldtrump have to see this https t co hbuw xqao  \n",
       "712255                                       so aoc want to raise -PRON- tax and -PRON- hasn t even pay -PRON- own https t co w m ccnn y  \n",
       "465115                                                         now aoc say america be garbage who elect this woman https t co o hsaak jh  \n",
       "62994    former fec commissioner say there s more than enough evidence to launch a criminal investigation into aoc https t co xpl lhrzfd  \n",
       "1205837                                              hey aoc guess what climate change and global warming be a hoax https t co owy emvmm  "
      ]
     },
     "execution_count": 157,
     "metadata": {},
     "output_type": "execute_result"
    }
   ],
   "source": [
    "df_all.head()"
   ]
  },
  {
   "cell_type": "code",
   "execution_count": 165,
   "metadata": {},
   "outputs": [],
   "source": [
    "with open('/Users/robertpagano/metis_data/project_5/community_pickles_pre_nlp/preprocessed_dfs/df_all.pickle', 'wb') as to_write:\n",
    "    pickle.dump(df_all, to_write)"
   ]
  },
  {
   "cell_type": "code",
   "execution_count": 2,
   "metadata": {},
   "outputs": [],
   "source": [
    "with open('/Users/robertpagano/metis_data/project_5/community_pickles_pre_nlp/preprocessed_dfs/df_all.pickle', 'rb') as f:\n",
    "    df_all = pickle.load(f)"
   ]
  },
  {
   "cell_type": "markdown",
   "metadata": {},
   "source": [
    "So the concat worked, the # of rows equals the number of all the rows added up (just to be safe)\n",
    "\n",
    "Now I'll run a few different LSAs and NMFs on the total data, and move on to clustering"
   ]
  },
  {
   "cell_type": "markdown",
   "metadata": {},
   "source": [
    "# Preprocess Text - for both LSA and NMF"
   ]
  },
  {
   "cell_type": "code",
   "execution_count": 3,
   "metadata": {},
   "outputs": [],
   "source": [
    "# Can come back to tweek this if I notice anything\n",
    "tweet_stopwords = stopwords.words('english') + \\\n",
    "    ['rt', 'https', 'http', 'amp', 'via', 'one', 'around', 'would', 'let', 'could', 'going', 'like', \n",
    "     'get', 'may', 'says', 'say', 'make', 'based', 'even', 'another', 'completely', 'thanks', 'way', \n",
    "     'find', 'used', 'thing', '2019', 'see', 'need', 'know', 'knows', 'think', 'thinks', 'take', 'new', \n",
    "     'day', 'days', 'aoc', 'alexandria', 'ocasio', 'cortez', 'ocasio-cortez', 'pron']"
   ]
  },
  {
   "cell_type": "code",
   "execution_count": 4,
   "metadata": {},
   "outputs": [],
   "source": [
    "tfidf_all = TfidfVectorizer(stop_words=tweet_stopwords, token_pattern=\"\\\\b[a-z][a-z]+\\\\b\", ngram_range=(1,2))"
   ]
  },
  {
   "cell_type": "code",
   "execution_count": 5,
   "metadata": {},
   "outputs": [],
   "source": [
    "X_all = df_all['tweet_processed']"
   ]
  },
  {
   "cell_type": "code",
   "execution_count": 6,
   "metadata": {},
   "outputs": [],
   "source": [
    "bag_of_words_all = tfidf_all.fit_transform(X_all)"
   ]
  },
  {
   "cell_type": "code",
   "execution_count": 7,
   "metadata": {},
   "outputs": [
    {
     "data": {
      "text/plain": [
       "scipy.sparse.csr.csr_matrix"
      ]
     },
     "execution_count": 7,
     "metadata": {},
     "output_type": "execute_result"
    }
   ],
   "source": [
    "type(bag_of_words_all)"
   ]
  },
  {
   "cell_type": "markdown",
   "metadata": {},
   "source": [
    "# LSA on all text\n",
    "*10, 15, 20, 25 topics*"
   ]
  },
  {
   "cell_type": "code",
   "execution_count": 170,
   "metadata": {},
   "outputs": [
    {
     "data": {
      "text/plain": [
       "array([0.01284424, 0.01030946, 0.00990273, 0.00920476, 0.00827643,\n",
       "       0.00781187, 0.00793363, 0.0072784 , 0.00735234, 0.00721214])"
      ]
     },
     "execution_count": 170,
     "metadata": {},
     "output_type": "execute_result"
    }
   ],
   "source": [
    "# LSA on 10 topics\n",
    "lsa_all_10 = TruncatedSVD(10)\n",
    "lsa_all_10.fit_transform(bag_of_words_all)\n",
    "lsa_all_10.explained_variance_ratio_"
   ]
  },
  {
   "cell_type": "code",
   "execution_count": 175,
   "metadata": {
    "scrolled": false
   },
   "outputs": [
    {
     "name": "stdout",
     "output_type": "stream",
     "text": [
      "\n",
      "Topic  0\n",
      "claim, box fraud, visit film, represent neighbor, crew postal, film news, never boyfriend, claim visit, apartment local, claim mail\n",
      "\n",
      "Topic  1\n",
      "skill libs, libs nice, cookie teach, co cvfc, kjzum, cvfc, cvfc kjzum, boycott cookie, nice job, teach little\n",
      "\n",
      "Topic  2\n",
      "file bogus, case conspiracy, allege untrue, spamm file, group spamm, untrue scandal, theory run, scandal misinformation, complaint fox, report allege\n",
      "\n",
      "Topic  3\n",
      "society job, live society, job leave, leave die, automate work, automate, die core, core problem, excited live, reason excited\n",
      "\n",
      "Topic  4\n",
      "hawaii, crazy, green deal, green, deal, hawaii anyone, crazy green, oppose green, senator mazie, hirono hawaii\n",
      "\n",
      "Topic  5\n",
      "address, climate change, inequality address, divide address, change together, together work, address income, tsbac, co tsbac, work sxsw\n",
      "\n",
      "Topic  6\n",
      "moderate, time rewrite, edge solve, visionary tinker, naive visionary, moderate naive, moderate spot, problem democracy, democracy economy, critique moderate\n",
      "\n",
      "Topic  7\n",
      "black, ilhanmn finally, folk former, hat respect, klan celebrate, wizard ku, left exactly, celebrate party, stupid jews, respect ilhanmn\n",
      "\n",
      "Topic  8\n",
      "service, long, learn, service customer, bartender long, co fzvfdsnue, fzvfdsnue, lot life, customer service, job lot\n",
      "\n",
      "Topic  9\n",
      "garbage, america, america garbage, call america, garbage congresswoman, congresswoman garbage, hellhole praise, praise venezuela, garbage citizen, force eat\n"
     ]
    }
   ],
   "source": [
    "display_topics(lsa_all_10, tfidf_all.get_feature_names(), 10)"
   ]
  },
  {
   "cell_type": "code",
   "execution_count": 176,
   "metadata": {},
   "outputs": [],
   "source": [
    "with open('/Users/robertpagano/metis_data/project_5/topic_modeling/lsa_aoc/lsa_all_10.pickle', 'wb') as to_write:\n",
    "    pickle.dump(lsa_all_10, to_write)"
   ]
  },
  {
   "cell_type": "markdown",
   "metadata": {},
   "source": [
    "---------"
   ]
  },
  {
   "cell_type": "code",
   "execution_count": 187,
   "metadata": {},
   "outputs": [
    {
     "data": {
      "text/plain": [
       "array([0.01284409, 0.01030946, 0.00990181, 0.00920577, 0.00827817,\n",
       "       0.00780601, 0.00793854, 0.00728814, 0.00735668, 0.00721322,\n",
       "       0.00614608, 0.00581037, 0.00529221, 0.00522468, 0.00525943])"
      ]
     },
     "execution_count": 187,
     "metadata": {},
     "output_type": "execute_result"
    }
   ],
   "source": [
    "# LSA on 15 topics\n",
    "lsa_all_15 = TruncatedSVD(15)\n",
    "lsa_all_15.fit_transform(bag_of_words_all)\n",
    "lsa_all_15.explained_variance_ratio_"
   ]
  },
  {
   "cell_type": "code",
   "execution_count": 188,
   "metadata": {},
   "outputs": [
    {
     "name": "stdout",
     "output_type": "stream",
     "text": [
      "\n",
      "Topic  0\n",
      "claim, claim visit, visit film, crew postal, film news, represent neighbor, apartment local, never boyfriend, box fraud, claim mail\n",
      "\n",
      "Topic  1\n",
      "skill libs, libs nice, cookie teach, cvfc kjzum, cvfc, co cvfc, kjzum, boycott cookie, nice job, teach little\n",
      "\n",
      "Topic  2\n",
      "file bogus, case conspiracy, allege untrue, spamm file, group spamm, untrue scandal, theory run, scandal misinformation, complaint fox, report allege\n",
      "\n",
      "Topic  3\n",
      "society job, live society, job leave, leave die, automate work, automate, die core, core problem, excited live, reason excited\n",
      "\n",
      "Topic  4\n",
      "hawaii, crazy, green deal, green, deal, hawaii anyone, crazy green, oppose green, senator mazie, hirono hawaii\n",
      "\n",
      "Topic  5\n",
      "address, climate change, inequality address, divide address, change together, together work, address income, co tsbac, tsbac, work sxsw\n",
      "\n",
      "Topic  6\n",
      "moderate, time rewrite, visionary tinker, edge solve, naive visionary, moderate naive, moderate spot, problem democracy, democracy economy, critique moderate\n",
      "\n",
      "Topic  7\n",
      "ilhanmn finally, folk former, hat respect, klan celebrate, wizard ku, left exactly, celebrate party, stupid jews, respect ilhanmn, exactly hateful\n",
      "\n",
      "Topic  8\n",
      "service, long, learn, service customer, bartender long, co fzvfdsnue, fzvfdsnue, lot life, customer service, job lot\n",
      "\n",
      "Topic  9\n",
      "garbage, america, america garbage, call america, garbage congresswoman, congresswoman garbage, hellhole praise, praise venezuela, garbage citizen, force eat\n",
      "\n",
      "Topic  10\n",
      "instead, uber, subway, spend, everything, world go, go end, lyft instead, demise instead, subway fly\n",
      "\n",
      "Topic  11\n",
      "class, class american, american, reagan, working class, working, work class, screw, ronald reagan, ronald\n",
      "\n",
      "Topic  12\n",
      "cnn msnbc, msnbc, blackout cnn, ignore fec, medium blackout, msnbc ignore, kxadajq jl, co kxadajq, kxadajq, jl\n",
      "\n",
      "Topic  13\n",
      "palestinian, israel, right exist, israel right, believe israel, terrorist kill, tlaib grow, faction hama, choose palestinian, palestinian faction\n",
      "\n",
      "Topic  14\n",
      "boy, uh, necessary boy, scouts away, away boy, co xkadfguk, xkadfguk, boy co, boy scouts, necessary\n"
     ]
    }
   ],
   "source": [
    "display_topics(lsa_all_15, tfidf_all.get_feature_names(), 10)"
   ]
  },
  {
   "cell_type": "code",
   "execution_count": 189,
   "metadata": {},
   "outputs": [],
   "source": [
    "with open('/Users/robertpagano/metis_data/project_5/topic_modeling/lsa_aoc/lsa_all_15.pickle', 'wb') as to_write:\n",
    "    pickle.dump(lsa_all_15, to_write)"
   ]
  },
  {
   "cell_type": "markdown",
   "metadata": {},
   "source": [
    "---------"
   ]
  },
  {
   "cell_type": "code",
   "execution_count": 180,
   "metadata": {},
   "outputs": [
    {
     "data": {
      "text/plain": [
       "array([0.01284416, 0.01031006, 0.00990201, 0.0092044 , 0.00827566,\n",
       "       0.00780765, 0.00793947, 0.00729166, 0.00735414, 0.00721279,\n",
       "       0.00615355, 0.00581353, 0.00530054, 0.0052364 , 0.0052897 ,\n",
       "       0.00525525, 0.00489424, 0.00446149, 0.00414687, 0.00423378])"
      ]
     },
     "execution_count": 180,
     "metadata": {},
     "output_type": "execute_result"
    }
   ],
   "source": [
    "# LSA on 20 topics\n",
    "lsa_all_20 = TruncatedSVD(20)\n",
    "lsa_all_20.fit_transform(bag_of_words_all)\n",
    "lsa_all_20.explained_variance_ratio_"
   ]
  },
  {
   "cell_type": "code",
   "execution_count": 181,
   "metadata": {},
   "outputs": [
    {
     "name": "stdout",
     "output_type": "stream",
     "text": [
      "\n",
      "Topic  0\n",
      "claim, film news, box fraud, crew postal, visit film, claim visit, apartment local, represent neighbor, never boyfriend, claim mail\n",
      "\n",
      "Topic  1\n",
      "skill libs, libs nice, cookie teach, cvfc kjzum, co cvfc, cvfc, kjzum, boycott cookie, nice job, teach little\n",
      "\n",
      "Topic  2\n",
      "file bogus, case conspiracy, allege untrue, spamm file, group spamm, untrue scandal, theory run, scandal misinformation, complaint fox, report allege\n",
      "\n",
      "Topic  3\n",
      "society job, live society, job leave, leave die, automate work, automate, die core, core problem, excited live, reason excited\n",
      "\n",
      "Topic  4\n",
      "hawaii, crazy, green deal, green, deal, hawaii anyone, crazy green, oppose green, senator mazie, hirono hawaii\n",
      "\n",
      "Topic  5\n",
      "address, climate change, inequality address, divide address, change together, together work, address income, co tsbac, tsbac, work sxsw\n",
      "\n",
      "Topic  6\n",
      "moderate, time rewrite, edge solve, visionary tinker, naive visionary, moderate naive, moderate spot, problem democracy, democracy economy, critique moderate\n",
      "\n",
      "Topic  7\n",
      "ilhanmn finally, folk former, hat respect, klan celebrate, wizard ku, left exactly, celebrate party, stupid jews, respect ilhanmn, exactly hateful\n",
      "\n",
      "Topic  8\n",
      "service, long, learn, service customer, bartender long, co fzvfdsnue, fzvfdsnue, lot life, customer service, job lot\n",
      "\n",
      "Topic  9\n",
      "garbage, america, america garbage, call america, garbage congresswoman, congresswoman garbage, hellhole praise, praise venezuela, garbage citizen, force eat\n",
      "\n",
      "Topic  10\n",
      "instead, uber, subway, spend, everything, world go, go end, demise instead, lyft instead, subway fly\n",
      "\n",
      "Topic  11\n",
      "class, class american, american, reagan, working class, working, work class, screw, white, ronald reagan\n",
      "\n",
      "Topic  12\n",
      "cnn msnbc, fec, msnbc, blackout cnn, ignore fec, msnbc ignore, medium blackout, fec complaint, co kxadajq, kxadajq jl\n",
      "\n",
      "Topic  13\n",
      "uh, palestinian, israel, boy, omar, right exist, israel right, believe israel, terrorist kill, tlaib grow\n",
      "\n",
      "Topic  14\n",
      "palestinian, israel, believe israel, right exist, israel right, tlaib grow, palestinian faction, choose palestinian, faction hama, pay terrorist\n",
      "\n",
      "Topic  15\n",
      "boy, necessary boy, scouts away, away boy, co xkadfguk, xkadfguk, boy co, boy scouts, necessary, scouts\n",
      "\n",
      "Topic  16\n",
      "answer cast, cast call, congress realjameswood, hbuw, hbuw xqao, xqao, co hbuw, call congress, realjameswood realdonaldtrump, cast\n",
      "\n",
      "Topic  17\n",
      "grip slip, friend throw, grandparent home, leave grandparent, slip friend, pelosi grip, throw party, party leave, grandparent, newt\n",
      "\n",
      "Topic  18\n",
      "anti, anti semitism, semitism, condemn, resolution, sham, sham resolution, design, vote, rep\n",
      "\n",
      "Topic  19\n",
      "public transportation, transportation, public, car, subway ft, ft campaign, emission spend, transportation association, transportation instead, association single\n"
     ]
    }
   ],
   "source": [
    "display_topics(lsa_all_20, tfidf_all.get_feature_names(), 10)"
   ]
  },
  {
   "cell_type": "code",
   "execution_count": 182,
   "metadata": {},
   "outputs": [],
   "source": [
    "with open('/Users/robertpagano/metis_data/project_5/topic_modeling/lsa_aoc/lsa_all_20.pickle', 'wb') as to_write:\n",
    "    pickle.dump(lsa_all_20, to_write)"
   ]
  },
  {
   "cell_type": "markdown",
   "metadata": {},
   "source": [
    "---------"
   ]
  },
  {
   "cell_type": "code",
   "execution_count": 8,
   "metadata": {},
   "outputs": [
    {
     "data": {
      "text/plain": [
       "array([0.01284428, 0.01031   , 0.00990254, 0.0092052 , 0.0082777 ,\n",
       "       0.00780795, 0.00793927, 0.00729185, 0.00735446, 0.00721273,\n",
       "       0.00615261, 0.00580615, 0.00530464, 0.00523566, 0.00529585,\n",
       "       0.00525649, 0.00492341, 0.0044789 , 0.00419832, 0.00428453,\n",
       "       0.00406109, 0.00396976, 0.00393049, 0.00365576, 0.00348358])"
      ]
     },
     "execution_count": 8,
     "metadata": {},
     "output_type": "execute_result"
    }
   ],
   "source": [
    "# LSA on 25 topics\n",
    "lsa_all_25 = TruncatedSVD(25)\n",
    "lsa_all_25.fit_transform(bag_of_words_all)\n",
    "lsa_all_25.explained_variance_ratio_"
   ]
  },
  {
   "cell_type": "code",
   "execution_count": 11,
   "metadata": {},
   "outputs": [
    {
     "name": "stdout",
     "output_type": "stream",
     "text": [
      "\n",
      "Topic  0\n",
      "claim, box fraud, apartment local, represent neighbor, crew postal, never boyfriend, claim visit, film news, visit film, claim mail\n",
      "\n",
      "Topic  1\n",
      "skill libs, libs nice, cookie teach, co cvfc, kjzum, cvfc, cvfc kjzum, boycott cookie, nice job, teach little\n",
      "\n",
      "Topic  2\n",
      "file bogus, case conspiracy, allege untrue, spamm file, group spamm, untrue scandal, theory run, scandal misinformation, complaint fox, report allege\n",
      "\n",
      "Topic  3\n",
      "society job, live society, job leave, leave die, automate work, automate, die core, core problem, excited live, reason excited\n",
      "\n",
      "Topic  4\n",
      "hawaii, crazy, green deal, green, deal, hawaii anyone, crazy green, oppose green, senator mazie, hirono hawaii\n",
      "\n",
      "Topic  5\n",
      "address, climate change, inequality address, divide address, change together, together work, address income, co tsbac, tsbac, work sxsw\n",
      "\n",
      "Topic  6\n",
      "moderate, time rewrite, visionary tinker, edge solve, naive visionary, moderate naive, moderate spot, problem democracy, democracy economy, critique moderate\n",
      "\n",
      "Topic  7\n",
      "ilhanmn finally, folk former, hat respect, klan celebrate, wizard ku, left exactly, celebrate party, stupid jews, respect ilhanmn, exactly hateful\n",
      "\n",
      "Topic  8\n",
      "service, long, learn, service customer, bartender long, co fzvfdsnue, fzvfdsnue, lot life, customer service, job lot\n",
      "\n",
      "Topic  9\n",
      "garbage, america, america garbage, call america, garbage congresswoman, congresswoman garbage, hellhole praise, praise venezuela, garbage citizen, force eat\n",
      "\n",
      "Topic  10\n",
      "instead, uber, subway, spend, everything, world go, go end, lyft instead, demise instead, subway fly\n",
      "\n",
      "Topic  11\n",
      "class, class american, american, reagan, working class, working, work class, screw, white, ronald reagan\n",
      "\n",
      "Topic  12\n",
      "cnn msnbc, msnbc, fec, blackout cnn, ignore fec, msnbc ignore, medium blackout, co kxadajq, kxadajq, kxadajq jl\n",
      "\n",
      "Topic  13\n",
      "uh, palestinian, israel, uh uh, clapback game, perfect clapback, xatvtcm, without roasted, jh xatvtcm, roasted act\n",
      "\n",
      "Topic  14\n",
      "palestinian, israel, believe israel, right exist, israel right, tlaib grow, palestinian faction, faction hama, choose palestinian, pay terrorist\n",
      "\n",
      "Topic  15\n",
      "boy, necessary boy, scouts away, away boy, co xkadfguk, xkadfguk, boy co, boy scouts, necessary, scouts\n",
      "\n",
      "Topic  16\n",
      "answer cast, cast call, congress realjameswood, hbuw xqao, xqao, hbuw, co hbuw, call congress, realjameswood realdonaldtrump, cast\n",
      "\n",
      "Topic  17\n",
      "grip slip, friend throw, leave grandparent, grandparent home, slip friend, pelosi grip, throw party, party leave, grandparent, newt\n",
      "\n",
      "Topic  18\n",
      "anti, anti semitism, semitism, resolution, condemn, sham resolution, sham, design, anti semitic, semitic\n",
      "\n",
      "Topic  19\n",
      "public transportation, transportation, public, car, ft campaign, emission spend, association single, subway ft, instead car, car realize\n",
      "\n",
      "Topic  20\n",
      "harris, rate, multiple job, low people, work multiple, rate low, unemployment rate, kamala harris, people work, unemployment\n",
      "\n",
      "Topic  21\n",
      "state america, united state, united, america, state, harris, low, rate, multiple job, unemployment\n",
      "\n",
      "Topic  22\n",
      "tax, high tax, week, high, possible coordination, travel mom, coordination want, uber air, ton uber, list fec\n",
      "\n",
      "Topic  23\n",
      "landslide, elect, reagan, landslide elect, big landslide, elect landslide, elect big, lord brilliant, reagan elect, co aywff\n",
      "\n",
      "Topic  24\n",
      "learn, everything, economic, everything judaism, professor everything, judaism learn, learn louis, leftist college, farrakhan everything, learn leftist\n"
     ]
    }
   ],
   "source": [
    "display_topics(lsa_all_25, tfidf_all.get_feature_names(), 10)"
   ]
  },
  {
   "cell_type": "code",
   "execution_count": 12,
   "metadata": {},
   "outputs": [],
   "source": [
    "with open('/Users/robertpagano/metis_data/project_5/topic_modeling/lsa_aoc/lsa_all_25.pickle', 'wb') as to_write:\n",
    "    pickle.dump(lsa_all_25, to_write)"
   ]
  },
  {
   "cell_type": "markdown",
   "metadata": {},
   "source": [
    "# NMF on all text\n",
    "*10, 15, 20, 25 topics*"
   ]
  },
  {
   "cell_type": "code",
   "execution_count": 13,
   "metadata": {},
   "outputs": [
    {
     "name": "stdout",
     "output_type": "stream",
     "text": [
      "1085.5968911147454\n"
     ]
    }
   ],
   "source": [
    "# NMF on 10 topics\n",
    "nmf_all_10 = NMF(10)\n",
    "nmf_all_10.fit_transform(bag_of_words_all)\n",
    "print(nmf_all_10.reconstruction_err_)"
   ]
  },
  {
   "cell_type": "code",
   "execution_count": 14,
   "metadata": {},
   "outputs": [
    {
     "name": "stdout",
     "output_type": "stream",
     "text": [
      "\n",
      "Topic  0\n",
      "claim, crew postal, film news, visit film, represent neighbor, claim visit, apartment local, box fraud, never boyfriend, claim mail\n",
      "\n",
      "Topic  1\n",
      "skill libs, libs nice, cookie teach, cvfc, cvfc kjzum, kjzum, co cvfc, boycott cookie, nice job, teach little\n",
      "\n",
      "Topic  2\n",
      "file bogus, case conspiracy, allege untrue, spamm file, group spamm, untrue scandal, theory run, news report, complaint fox, scandal misinformation\n",
      "\n",
      "Topic  3\n",
      "society job, live society, job leave, leave die, automate work, automate, die core, core problem, excited live, reason excited\n",
      "\n",
      "Topic  4\n",
      "hawaii, crazy, green deal, green, deal, hawaii anyone, crazy green, oppose green, senator mazie, hirono hawaii\n",
      "\n",
      "Topic  5\n",
      "address, inequality address, divide address, change together, together work, address income, co tsbac, tsbac, work sxsw, fear divide\n",
      "\n",
      "Topic  6\n",
      "moderate, time rewrite, visionary tinker, edge solve, naive visionary, moderate naive, moderate spot, problem democracy, democracy economy, critique moderate\n",
      "\n",
      "Topic  7\n",
      "ilhanmn finally, folk former, hat respect, klan celebrate, wizard ku, left exactly, celebrate party, stupid jews, respect ilhanmn, exactly hateful\n",
      "\n",
      "Topic  8\n",
      "service, long, learn, service customer, bartender long, fzvfdsnue, co fzvfdsnue, lot life, customer service, job lot\n",
      "\n",
      "Topic  9\n",
      "garbage, america, america garbage, call america, garbage congresswoman, congresswoman garbage, hellhole praise, praise venezuela, garbage citizen, force eat\n"
     ]
    }
   ],
   "source": [
    "display_topics(nmf_all_10, tfidf_all.get_feature_names(), 10)"
   ]
  },
  {
   "cell_type": "code",
   "execution_count": 15,
   "metadata": {},
   "outputs": [],
   "source": [
    "with open('/Users/robertpagano/metis_data/project_5/topic_modeling/nmf_aoc/nmf_all_10.pickle', 'wb') as to_write:\n",
    "    pickle.dump(nmf_all_10, to_write)"
   ]
  },
  {
   "cell_type": "markdown",
   "metadata": {},
   "source": [
    "---------"
   ]
  },
  {
   "cell_type": "code",
   "execution_count": 16,
   "metadata": {},
   "outputs": [
    {
     "name": "stdout",
     "output_type": "stream",
     "text": [
      "1068.5427287389832\n"
     ]
    }
   ],
   "source": [
    "# NMF on 15 topics\n",
    "nmf_all_15 = NMF(15)\n",
    "nmf_all_15.fit_transform(bag_of_words_all)\n",
    "print(nmf_all_15.reconstruction_err_)"
   ]
  },
  {
   "cell_type": "code",
   "execution_count": 17,
   "metadata": {},
   "outputs": [
    {
     "name": "stdout",
     "output_type": "stream",
     "text": [
      "\n",
      "Topic  0\n",
      "claim, claim visit, crew postal, apartment local, box fraud, visit film, represent neighbor, film news, never boyfriend, claim mail\n",
      "\n",
      "Topic  1\n",
      "skill libs, libs nice, cookie teach, kjzum, co cvfc, cvfc kjzum, cvfc, boycott cookie, nice job, teach little\n",
      "\n",
      "Topic  2\n",
      "file bogus, case conspiracy, allege untrue, spamm file, group spamm, untrue scandal, theory run, news report, scandal misinformation, complaint fox\n",
      "\n",
      "Topic  3\n",
      "society job, live society, job leave, leave die, automate work, automate, die core, core problem, excited live, reason excited\n",
      "\n",
      "Topic  4\n",
      "hawaii, crazy, green deal, green, deal, hawaii anyone, crazy green, oppose green, senator mazie, hirono hawaii\n",
      "\n",
      "Topic  5\n",
      "address, inequality address, divide address, change together, together work, address income, co tsbac, tsbac, work sxsw, fear divide\n",
      "\n",
      "Topic  6\n",
      "moderate, time rewrite, visionary tinker, edge solve, naive visionary, moderate naive, moderate spot, problem democracy, democracy economy, critique moderate\n",
      "\n",
      "Topic  7\n",
      "ilhanmn finally, folk former, hat respect, klan celebrate, wizard ku, left exactly, celebrate party, stupid jews, respect ilhanmn, exactly hateful\n",
      "\n",
      "Topic  8\n",
      "service, long, learn, service customer, bartender long, fzvfdsnue, co fzvfdsnue, lot life, customer service, job lot\n",
      "\n",
      "Topic  9\n",
      "garbage, america, america garbage, call america, garbage congresswoman, congresswoman garbage, hellhole praise, praise venezuela, garbage citizen, force eat\n",
      "\n",
      "Topic  10\n",
      "instead, subway, uber, spend, everything, world go, go end, demise instead, lyft instead, subway fly\n",
      "\n",
      "Topic  11\n",
      "class, class american, american, reagan, working class, working, work class, screw, ronald reagan, ronald\n",
      "\n",
      "Topic  12\n",
      "cnn msnbc, msnbc, blackout cnn, ignore fec, medium blackout, msnbc ignore, kxadajq, co kxadajq, kxadajq jl, jl\n",
      "\n",
      "Topic  13\n",
      "uh, boy, uh uh, clapback game, mess bronx, xatvtcm, though borough, without roasted, roasted act, perfect clapback\n",
      "\n",
      "Topic  14\n",
      "palestinian, israel, right exist, israel right, believe israel, terrorist kill, faction hama, palestinian faction, tlaib grow, choose palestinian\n"
     ]
    }
   ],
   "source": [
    "display_topics(nmf_all_15, tfidf_all.get_feature_names(), 10)"
   ]
  },
  {
   "cell_type": "code",
   "execution_count": 18,
   "metadata": {},
   "outputs": [],
   "source": [
    "with open('/Users/robertpagano/metis_data/project_5/topic_modeling/nmf_aoc/nmf_all_15.pickle', 'wb') as to_write:\n",
    "    pickle.dump(nmf_all_15, to_write)"
   ]
  },
  {
   "cell_type": "markdown",
   "metadata": {},
   "source": [
    "---------"
   ]
  },
  {
   "cell_type": "code",
   "execution_count": 19,
   "metadata": {},
   "outputs": [
    {
     "name": "stdout",
     "output_type": "stream",
     "text": [
      "1054.2875702490992\n"
     ]
    }
   ],
   "source": [
    "# NMF on 20 topics\n",
    "nmf_all_20 = NMF(20)\n",
    "nmf_all_20.fit_transform(bag_of_words_all)\n",
    "print(nmf_all_20.reconstruction_err_)"
   ]
  },
  {
   "cell_type": "code",
   "execution_count": 20,
   "metadata": {},
   "outputs": [
    {
     "name": "stdout",
     "output_type": "stream",
     "text": [
      "\n",
      "Topic  0\n",
      "claim, film news, apartment local, crew postal, never boyfriend, box fraud, represent neighbor, visit film, claim visit, claim mail\n",
      "\n",
      "Topic  1\n",
      "skill libs, libs nice, cookie teach, co cvfc, kjzum, cvfc kjzum, cvfc, boycott cookie, nice job, teach little\n",
      "\n",
      "Topic  2\n",
      "file bogus, case conspiracy, allege untrue, spamm file, group spamm, untrue scandal, theory run, news report, scandal misinformation, complaint fox\n",
      "\n",
      "Topic  3\n",
      "society job, live society, job leave, leave die, automate work, automate, die core, core problem, excited live, reason excited\n",
      "\n",
      "Topic  4\n",
      "hawaii, crazy, green deal, green, deal, hawaii anyone, crazy green, oppose green, senator mazie, hirono hawaii\n",
      "\n",
      "Topic  5\n",
      "address, inequality address, divide address, change together, together work, address income, tsbac, co tsbac, work sxsw, fear divide\n",
      "\n",
      "Topic  6\n",
      "moderate, time rewrite, visionary tinker, edge solve, naive visionary, moderate naive, moderate spot, problem democracy, democracy economy, critique moderate\n",
      "\n",
      "Topic  7\n",
      "ilhanmn finally, folk former, hat respect, klan celebrate, wizard ku, left exactly, celebrate party, stupid jews, respect ilhanmn, exactly hateful\n",
      "\n",
      "Topic  8\n",
      "service, long, learn, service customer, bartender long, co fzvfdsnue, fzvfdsnue, lot life, customer service, job lot\n",
      "\n",
      "Topic  9\n",
      "garbage, america, america garbage, call america, garbage congresswoman, congresswoman garbage, hellhole praise, praise venezuela, garbage citizen, force eat\n",
      "\n",
      "Topic  10\n",
      "instead, everything, world go, go end, demise instead, lyft instead, subway fly, use amtrak, slow demise, everything slow\n",
      "\n",
      "Topic  11\n",
      "class, class american, american, reagan, working class, working, work class, screw, ronald reagan, ronald\n",
      "\n",
      "Topic  12\n",
      "cnn msnbc, msnbc, blackout cnn, ignore fec, medium blackout, msnbc ignore, co kxadajq, kxadajq, kxadajq jl, jl\n",
      "\n",
      "Topic  13\n",
      "palestinian, israel, right exist, believe israel, israel right, terrorist kill, tlaib grow, faction hama, choose palestinian, palestinian faction\n",
      "\n",
      "Topic  14\n",
      "uh, uh uh, clapback game, mess bronx, though borough, perfect clapback, roasted act, jh xatvtcm, xatvtcm, without roasted\n",
      "\n",
      "Topic  15\n",
      "boy, necessary boy, scouts away, away boy, xkadfguk, co xkadfguk, boy co, boy scouts, necessary, scouts\n",
      "\n",
      "Topic  16\n",
      "answer cast, cast call, congress realjameswood, co hbuw, xqao, hbuw xqao, hbuw, call congress, realjameswood realdonaldtrump, cast\n",
      "\n",
      "Topic  17\n",
      "grip slip, friend throw, leave grandparent, grandparent home, slip friend, pelosi grip, throw party, party leave, grandparent, newt\n",
      "\n",
      "Topic  18\n",
      "anti, anti semitism, semitism, resolution, condemn, sham resolution, sham, design, omar, rep\n",
      "\n",
      "Topic  19\n",
      "public transportation, transportation, public, car, uber, spend, emission spend, transportation association, car realize, transportation instead\n"
     ]
    }
   ],
   "source": [
    "display_topics(nmf_all_20, tfidf_all.get_feature_names(), 10)"
   ]
  },
  {
   "cell_type": "code",
   "execution_count": 21,
   "metadata": {},
   "outputs": [],
   "source": [
    "with open('/Users/robertpagano/metis_data/project_5/topic_modeling/nmf_aoc/nmf_all_20.pickle', 'wb') as to_write:\n",
    "    pickle.dump(nmf_all_20, to_write)"
   ]
  },
  {
   "cell_type": "markdown",
   "metadata": {},
   "source": [
    "---------"
   ]
  },
  {
   "cell_type": "code",
   "execution_count": 22,
   "metadata": {},
   "outputs": [
    {
     "name": "stdout",
     "output_type": "stream",
     "text": [
      "1042.4274847932734\n"
     ]
    }
   ],
   "source": [
    "# NMF on 25 topics\n",
    "nmf_all_25 = NMF(25)\n",
    "nmf_all_25.fit_transform(bag_of_words_all)\n",
    "print(nmf_all_25.reconstruction_err_)\n",
    "\n",
    "## setting a variable to the fit transformed"
   ]
  },
  {
   "cell_type": "code",
   "execution_count": 28,
   "metadata": {},
   "outputs": [
    {
     "data": {
      "text/plain": [
       "(1296014, 25)"
      ]
     },
     "execution_count": 28,
     "metadata": {},
     "output_type": "execute_result"
    }
   ],
   "source": [
    "nmf_model_25_df = pd.DataFrame(data=nmf_all_25.fit_transform(bag_of_words_all))\n",
    "nmf_model_25_df.shape"
   ]
  },
  {
   "cell_type": "code",
   "execution_count": 29,
   "metadata": {},
   "outputs": [
    {
     "name": "stdout",
     "output_type": "stream",
     "text": [
      "1042.4277109200966\n"
     ]
    },
    {
     "data": {
      "text/html": [
       "<div>\n",
       "<style scoped>\n",
       "    .dataframe tbody tr th:only-of-type {\n",
       "        vertical-align: middle;\n",
       "    }\n",
       "\n",
       "    .dataframe tbody tr th {\n",
       "        vertical-align: top;\n",
       "    }\n",
       "\n",
       "    .dataframe thead th {\n",
       "        text-align: right;\n",
       "    }\n",
       "</style>\n",
       "<table border=\"1\" class=\"dataframe\">\n",
       "  <thead>\n",
       "    <tr style=\"text-align: right;\">\n",
       "      <th></th>\n",
       "      <th>0</th>\n",
       "      <th>1</th>\n",
       "      <th>2</th>\n",
       "      <th>3</th>\n",
       "      <th>4</th>\n",
       "      <th>5</th>\n",
       "      <th>6</th>\n",
       "      <th>7</th>\n",
       "      <th>8</th>\n",
       "      <th>9</th>\n",
       "      <th>...</th>\n",
       "      <th>15</th>\n",
       "      <th>16</th>\n",
       "      <th>17</th>\n",
       "      <th>18</th>\n",
       "      <th>19</th>\n",
       "      <th>20</th>\n",
       "      <th>21</th>\n",
       "      <th>22</th>\n",
       "      <th>23</th>\n",
       "      <th>24</th>\n",
       "    </tr>\n",
       "  </thead>\n",
       "  <tbody>\n",
       "    <tr>\n",
       "      <th>0</th>\n",
       "      <td>0.0</td>\n",
       "      <td>0.000000</td>\n",
       "      <td>0.000000</td>\n",
       "      <td>0.000000</td>\n",
       "      <td>0.0</td>\n",
       "      <td>0.000000</td>\n",
       "      <td>0.000000</td>\n",
       "      <td>0.000000</td>\n",
       "      <td>0.000000</td>\n",
       "      <td>0.000000</td>\n",
       "      <td>...</td>\n",
       "      <td>0.000000</td>\n",
       "      <td>0.112873</td>\n",
       "      <td>0.000000</td>\n",
       "      <td>0.000000</td>\n",
       "      <td>0.000000</td>\n",
       "      <td>0.000000</td>\n",
       "      <td>0.000000</td>\n",
       "      <td>0.000000</td>\n",
       "      <td>0.000000</td>\n",
       "      <td>0.0</td>\n",
       "    </tr>\n",
       "    <tr>\n",
       "      <th>1</th>\n",
       "      <td>0.0</td>\n",
       "      <td>0.000341</td>\n",
       "      <td>0.000030</td>\n",
       "      <td>0.000488</td>\n",
       "      <td>0.0</td>\n",
       "      <td>0.000410</td>\n",
       "      <td>0.000302</td>\n",
       "      <td>0.000239</td>\n",
       "      <td>0.000329</td>\n",
       "      <td>0.000000</td>\n",
       "      <td>...</td>\n",
       "      <td>0.000617</td>\n",
       "      <td>0.000773</td>\n",
       "      <td>0.000503</td>\n",
       "      <td>0.000775</td>\n",
       "      <td>0.000000</td>\n",
       "      <td>0.000674</td>\n",
       "      <td>0.003253</td>\n",
       "      <td>0.010097</td>\n",
       "      <td>0.000656</td>\n",
       "      <td>0.0</td>\n",
       "    </tr>\n",
       "    <tr>\n",
       "      <th>2</th>\n",
       "      <td>0.0</td>\n",
       "      <td>0.000201</td>\n",
       "      <td>0.000123</td>\n",
       "      <td>0.000141</td>\n",
       "      <td>0.0</td>\n",
       "      <td>0.000175</td>\n",
       "      <td>0.000109</td>\n",
       "      <td>0.000000</td>\n",
       "      <td>0.000000</td>\n",
       "      <td>0.010703</td>\n",
       "      <td>...</td>\n",
       "      <td>0.000017</td>\n",
       "      <td>0.000000</td>\n",
       "      <td>0.000183</td>\n",
       "      <td>0.000109</td>\n",
       "      <td>0.000043</td>\n",
       "      <td>0.000000</td>\n",
       "      <td>0.015331</td>\n",
       "      <td>0.000000</td>\n",
       "      <td>0.010695</td>\n",
       "      <td>0.0</td>\n",
       "    </tr>\n",
       "    <tr>\n",
       "      <th>3</th>\n",
       "      <td>0.0</td>\n",
       "      <td>0.000227</td>\n",
       "      <td>0.000000</td>\n",
       "      <td>0.000168</td>\n",
       "      <td>0.0</td>\n",
       "      <td>0.000199</td>\n",
       "      <td>0.000243</td>\n",
       "      <td>0.002161</td>\n",
       "      <td>0.000307</td>\n",
       "      <td>0.000000</td>\n",
       "      <td>...</td>\n",
       "      <td>0.000441</td>\n",
       "      <td>0.000516</td>\n",
       "      <td>0.000245</td>\n",
       "      <td>0.000574</td>\n",
       "      <td>0.000057</td>\n",
       "      <td>0.000031</td>\n",
       "      <td>0.000271</td>\n",
       "      <td>0.003239</td>\n",
       "      <td>0.000439</td>\n",
       "      <td>0.0</td>\n",
       "    </tr>\n",
       "    <tr>\n",
       "      <th>4</th>\n",
       "      <td>0.0</td>\n",
       "      <td>0.000223</td>\n",
       "      <td>0.000073</td>\n",
       "      <td>0.000072</td>\n",
       "      <td>0.0</td>\n",
       "      <td>0.007420</td>\n",
       "      <td>0.000188</td>\n",
       "      <td>0.000149</td>\n",
       "      <td>0.000092</td>\n",
       "      <td>0.000000</td>\n",
       "      <td>...</td>\n",
       "      <td>0.000427</td>\n",
       "      <td>0.000664</td>\n",
       "      <td>0.000307</td>\n",
       "      <td>0.000473</td>\n",
       "      <td>0.000000</td>\n",
       "      <td>0.000000</td>\n",
       "      <td>0.000351</td>\n",
       "      <td>0.000020</td>\n",
       "      <td>0.000372</td>\n",
       "      <td>0.0</td>\n",
       "    </tr>\n",
       "  </tbody>\n",
       "</table>\n",
       "<p>5 rows × 25 columns</p>\n",
       "</div>"
      ],
      "text/plain": [
       "    0         1         2         3    4         5         6         7   \\\n",
       "0  0.0  0.000000  0.000000  0.000000  0.0  0.000000  0.000000  0.000000   \n",
       "1  0.0  0.000341  0.000030  0.000488  0.0  0.000410  0.000302  0.000239   \n",
       "2  0.0  0.000201  0.000123  0.000141  0.0  0.000175  0.000109  0.000000   \n",
       "3  0.0  0.000227  0.000000  0.000168  0.0  0.000199  0.000243  0.002161   \n",
       "4  0.0  0.000223  0.000073  0.000072  0.0  0.007420  0.000188  0.000149   \n",
       "\n",
       "         8         9  ...         15        16        17        18        19  \\\n",
       "0  0.000000  0.000000 ...   0.000000  0.112873  0.000000  0.000000  0.000000   \n",
       "1  0.000329  0.000000 ...   0.000617  0.000773  0.000503  0.000775  0.000000   \n",
       "2  0.000000  0.010703 ...   0.000017  0.000000  0.000183  0.000109  0.000043   \n",
       "3  0.000307  0.000000 ...   0.000441  0.000516  0.000245  0.000574  0.000057   \n",
       "4  0.000092  0.000000 ...   0.000427  0.000664  0.000307  0.000473  0.000000   \n",
       "\n",
       "         20        21        22        23   24  \n",
       "0  0.000000  0.000000  0.000000  0.000000  0.0  \n",
       "1  0.000674  0.003253  0.010097  0.000656  0.0  \n",
       "2  0.000000  0.015331  0.000000  0.010695  0.0  \n",
       "3  0.000031  0.000271  0.003239  0.000439  0.0  \n",
       "4  0.000000  0.000351  0.000020  0.000372  0.0  \n",
       "\n",
       "[5 rows x 25 columns]"
      ]
     },
     "execution_count": 29,
     "metadata": {},
     "output_type": "execute_result"
    }
   ],
   "source": [
    "print(nmf_all_25.reconstruction_err_)\n",
    "nmf_model_25_df.head()"
   ]
  },
  {
   "cell_type": "markdown",
   "metadata": {},
   "source": [
    "NOTE TO SELF - if the above works, I'll need to make DFs of all versions again (which will take around another hour) :(\n",
    "\n",
    "Then I'll concat them with index and screen name, so I can assign values back to the tweeters otherwise. One annoying thing is I didn't pass in tweet ID so I'll have to think about that too"
   ]
  },
  {
   "cell_type": "code",
   "execution_count": 23,
   "metadata": {},
   "outputs": [
    {
     "name": "stdout",
     "output_type": "stream",
     "text": [
      "\n",
      "Topic  0\n",
      "claim, apartment local, crew postal, never boyfriend, claim visit, film news, visit film, box fraud, represent neighbor, claim mail\n",
      "\n",
      "Topic  1\n",
      "skill libs, libs nice, cookie teach, cvfc, cvfc kjzum, co cvfc, kjzum, boycott cookie, nice job, teach little\n",
      "\n",
      "Topic  2\n",
      "file bogus, case conspiracy, allege untrue, spamm file, group spamm, untrue scandal, theory run, news report, scandal misinformation, complaint fox\n",
      "\n",
      "Topic  3\n",
      "society job, live society, job leave, leave die, automate work, automate, die core, core problem, excited live, reason excited\n",
      "\n",
      "Topic  4\n",
      "hawaii, crazy, green deal, green, deal, hawaii anyone, oppose green, crazy green, senator mazie, hirono hawaii\n",
      "\n",
      "Topic  5\n",
      "address, inequality address, divide address, change together, together work, address income, tsbac, co tsbac, work sxsw, fear divide\n",
      "\n",
      "Topic  6\n",
      "moderate, time rewrite, edge solve, visionary tinker, naive visionary, moderate naive, moderate spot, problem democracy, democracy economy, critique moderate\n",
      "\n",
      "Topic  7\n",
      "ilhanmn finally, folk former, hat respect, klan celebrate, wizard ku, left exactly, celebrate party, stupid jews, respect ilhanmn, exactly hateful\n",
      "\n",
      "Topic  8\n",
      "service, long, service customer, bartender long, fzvfdsnue, co fzvfdsnue, lot life, customer service, job lot, work service\n",
      "\n",
      "Topic  9\n",
      "garbage, congresswoman garbage, hellhole praise, praise venezuela, garbage congresswoman, garbage citizen, force eat, socialist hellhole, eat socialist, seriously call\n",
      "\n",
      "Topic  10\n",
      "instead, world go, go end, demise instead, lyft instead, subway fly, use amtrak, slow demise, everything slow, thousand uber\n",
      "\n",
      "Topic  11\n",
      "class american, class, american, working class, working, reagan, work class, screw, white, ronald reagan\n",
      "\n",
      "Topic  12\n",
      "cnn msnbc, msnbc, blackout cnn, ignore fec, medium blackout, msnbc ignore, co kxadajq, kxadajq jl, kxadajq, jl\n",
      "\n",
      "Topic  13\n",
      "palestinian, israel, right exist, believe israel, israel right, terrorist kill, tlaib grow, faction hama, choose palestinian, palestinian faction\n",
      "\n",
      "Topic  14\n",
      "uh, uh uh, clapback game, mess bronx, perfect clapback, xatvtcm, roasted act, jh xatvtcm, without roasted, though borough\n",
      "\n",
      "Topic  15\n",
      "boy, necessary boy, scouts away, away boy, xkadfguk, co xkadfguk, boy co, boy scouts, necessary, scouts\n",
      "\n",
      "Topic  16\n",
      "answer cast, cast call, congress realjameswood, hbuw, hbuw xqao, xqao, co hbuw, call congress, realjameswood realdonaldtrump, cast\n",
      "\n",
      "Topic  17\n",
      "grip slip, friend throw, grandparent home, leave grandparent, slip friend, pelosi grip, throw party, party leave, grandparent, newt\n",
      "\n",
      "Topic  18\n",
      "anti, anti semitism, semitism, resolution, condemn, sham resolution, sham, design, omar, anti semitic\n",
      "\n",
      "Topic  19\n",
      "public transportation, transportation, public, transportation instead, car realize, transportation association, instead car, subway ft, ft campaign, association single\n",
      "\n",
      "Topic  20\n",
      "harris, claim, multiple job, work multiple, low people, rate low, unemployment rate, kamala harris, people work, rate\n",
      "\n",
      "Topic  21\n",
      "america, state america, great, garbage, united state, united, state, america garbage, firsthand united, immigrate united\n",
      "\n",
      "Topic  22\n",
      "high tax, tax, week, high, want, uber air, travel mom, coordination want, ton uber, possible coordination\n",
      "\n",
      "Topic  23\n",
      "landslide, elect, landslide elect, elect landslide, big landslide, elect big, lord brilliant, co aywff, landslide bu, aywff tpdy\n",
      "\n",
      "Topic  24\n",
      "learn, everything, economic, everything judaism, judaism learn, professor everything, learn louis, leftist college, farrakhan everything, learn leftist\n"
     ]
    }
   ],
   "source": [
    "display_topics(nmf_all_25, tfidf_all.get_feature_names(), 10)"
   ]
  },
  {
   "cell_type": "code",
   "execution_count": 24,
   "metadata": {},
   "outputs": [],
   "source": [
    "with open('/Users/robertpagano/metis_data/project_5/topic_modeling/nmf_aoc/nmf_all_25.pickle', 'wb') as to_write:\n",
    "    pickle.dump(nmf_all_25, to_write)"
   ]
  },
  {
   "cell_type": "markdown",
   "metadata": {},
   "source": [
    "Now I will create DF's where I append this info to a dataframe\n",
    "\n",
    "then try dbscan with these"
   ]
  },
  {
   "cell_type": "code",
   "execution_count": 31,
   "metadata": {},
   "outputs": [
    {
     "data": {
      "text/html": [
       "<div>\n",
       "<style scoped>\n",
       "    .dataframe tbody tr th:only-of-type {\n",
       "        vertical-align: middle;\n",
       "    }\n",
       "\n",
       "    .dataframe tbody tr th {\n",
       "        vertical-align: top;\n",
       "    }\n",
       "\n",
       "    .dataframe thead th {\n",
       "        text-align: right;\n",
       "    }\n",
       "</style>\n",
       "<table border=\"1\" class=\"dataframe\">\n",
       "  <thead>\n",
       "    <tr style=\"text-align: right;\">\n",
       "      <th></th>\n",
       "      <th>index</th>\n",
       "      <th>screen_name</th>\n",
       "      <th>followers_count</th>\n",
       "      <th>modularity_class</th>\n",
       "      <th>main_text</th>\n",
       "      <th>retweet_text</th>\n",
       "      <th>tweet_date</th>\n",
       "      <th>PageRank</th>\n",
       "      <th>rt_count</th>\n",
       "      <th>final_text</th>\n",
       "      <th>tweet_processed</th>\n",
       "    </tr>\n",
       "  </thead>\n",
       "  <tbody>\n",
       "    <tr>\n",
       "      <th>0</th>\n",
       "      <td>405812</td>\n",
       "      <td>DavidJHarrisJr</td>\n",
       "      <td>75631</td>\n",
       "      <td>0.0</td>\n",
       "      <td>So @aoc answered a casting call... and now she...</td>\n",
       "      <td>NaN</td>\n",
       "      <td>Mon Mar 11 01:16:04 +0000 2019</td>\n",
       "      <td>0.004242</td>\n",
       "      <td>6936</td>\n",
       "      <td>So @aoc answered a casting call... and now she...</td>\n",
       "      <td>so aoc answer a cast call and now -PRON- s in ...</td>\n",
       "    </tr>\n",
       "    <tr>\n",
       "      <th>1</th>\n",
       "      <td>712255</td>\n",
       "      <td>DavidJHarrisJr</td>\n",
       "      <td>75652</td>\n",
       "      <td>0.0</td>\n",
       "      <td>So @aoc wants to raise our taxes and she hasn’...</td>\n",
       "      <td>NaN</td>\n",
       "      <td>Sun Mar 10 03:49:44 +0000 2019</td>\n",
       "      <td>0.004242</td>\n",
       "      <td>1127</td>\n",
       "      <td>So @aoc wants to raise our taxes and she hasn’...</td>\n",
       "      <td>so aoc want to raise -PRON- tax and -PRON- has...</td>\n",
       "    </tr>\n",
       "    <tr>\n",
       "      <th>2</th>\n",
       "      <td>465115</td>\n",
       "      <td>DavidJHarrisJr</td>\n",
       "      <td>75638</td>\n",
       "      <td>0.0</td>\n",
       "      <td>Now @aoc says America is garbage? \\nWho electe...</td>\n",
       "      <td>NaN</td>\n",
       "      <td>Sun Mar 10 22:30:39 +0000 2019</td>\n",
       "      <td>0.004242</td>\n",
       "      <td>1056</td>\n",
       "      <td>Now @aoc says America is garbage? \\nWho electe...</td>\n",
       "      <td>now aoc say america be garbage who elect this ...</td>\n",
       "    </tr>\n",
       "    <tr>\n",
       "      <th>3</th>\n",
       "      <td>62994</td>\n",
       "      <td>DavidJHarrisJr</td>\n",
       "      <td>75620</td>\n",
       "      <td>0.0</td>\n",
       "      <td>Former FEC Commissioner says there’s more than...</td>\n",
       "      <td>NaN</td>\n",
       "      <td>Tue Mar 12 01:25:16 +0000 2019</td>\n",
       "      <td>0.004242</td>\n",
       "      <td>997</td>\n",
       "      <td>Former FEC Commissioner says there’s more than...</td>\n",
       "      <td>former fec commissioner say there s more than ...</td>\n",
       "    </tr>\n",
       "    <tr>\n",
       "      <th>4</th>\n",
       "      <td>1205837</td>\n",
       "      <td>DavidJHarrisJr</td>\n",
       "      <td>75690</td>\n",
       "      <td>0.0</td>\n",
       "      <td>Hey AOC! Guess what? Climate change and global...</td>\n",
       "      <td>NaN</td>\n",
       "      <td>Fri Mar 08 05:02:07 +0000 2019</td>\n",
       "      <td>0.004242</td>\n",
       "      <td>838</td>\n",
       "      <td>Hey AOC! Guess what? Climate change and global...</td>\n",
       "      <td>hey aoc guess what climate change and global w...</td>\n",
       "    </tr>\n",
       "  </tbody>\n",
       "</table>\n",
       "</div>"
      ],
      "text/plain": [
       "     index     screen_name  followers_count  modularity_class  \\\n",
       "0   405812  DavidJHarrisJr            75631               0.0   \n",
       "1   712255  DavidJHarrisJr            75652               0.0   \n",
       "2   465115  DavidJHarrisJr            75638               0.0   \n",
       "3    62994  DavidJHarrisJr            75620               0.0   \n",
       "4  1205837  DavidJHarrisJr            75690               0.0   \n",
       "\n",
       "                                           main_text retweet_text  \\\n",
       "0  So @aoc answered a casting call... and now she...          NaN   \n",
       "1  So @aoc wants to raise our taxes and she hasn’...          NaN   \n",
       "2  Now @aoc says America is garbage? \\nWho electe...          NaN   \n",
       "3  Former FEC Commissioner says there’s more than...          NaN   \n",
       "4  Hey AOC! Guess what? Climate change and global...          NaN   \n",
       "\n",
       "                       tweet_date  PageRank  rt_count  \\\n",
       "0  Mon Mar 11 01:16:04 +0000 2019  0.004242      6936   \n",
       "1  Sun Mar 10 03:49:44 +0000 2019  0.004242      1127   \n",
       "2  Sun Mar 10 22:30:39 +0000 2019  0.004242      1056   \n",
       "3  Tue Mar 12 01:25:16 +0000 2019  0.004242       997   \n",
       "4  Fri Mar 08 05:02:07 +0000 2019  0.004242       838   \n",
       "\n",
       "                                          final_text  \\\n",
       "0  So @aoc answered a casting call... and now she...   \n",
       "1  So @aoc wants to raise our taxes and she hasn’...   \n",
       "2  Now @aoc says America is garbage? \\nWho electe...   \n",
       "3  Former FEC Commissioner says there’s more than...   \n",
       "4  Hey AOC! Guess what? Climate change and global...   \n",
       "\n",
       "                                     tweet_processed  \n",
       "0  so aoc answer a cast call and now -PRON- s in ...  \n",
       "1  so aoc want to raise -PRON- tax and -PRON- has...  \n",
       "2  now aoc say america be garbage who elect this ...  \n",
       "3  former fec commissioner say there s more than ...  \n",
       "4  hey aoc guess what climate change and global w...  "
      ]
     },
     "execution_count": 31,
     "metadata": {},
     "output_type": "execute_result"
    }
   ],
   "source": [
    "df_topic_base = df_all.reset_index()\n",
    "df_topic_base.head()"
   ]
  },
  {
   "cell_type": "markdown",
   "metadata": {},
   "source": [
    "crap - now I know why I saved the fit_transform(bag_of_words_ objects previously, that's what I need to use to create the df. For now I'm seeing if I can just call that as the \"data\" and see if that works. Otherwise I will need to set them all equal to variables"
   ]
  },
  {
   "cell_type": "code",
   "execution_count": 32,
   "metadata": {},
   "outputs": [
    {
     "data": {
      "text/plain": [
       "(1296014, 11)"
      ]
     },
     "execution_count": 32,
     "metadata": {},
     "output_type": "execute_result"
    }
   ],
   "source": [
    "df_topic_base.shape"
   ]
  },
  {
   "cell_type": "code",
   "execution_count": null,
   "metadata": {},
   "outputs": [],
   "source": []
  },
  {
   "cell_type": "code",
   "execution_count": 34,
   "metadata": {},
   "outputs": [
    {
     "data": {
      "text/plain": [
       "(1296014, 10)"
      ]
     },
     "execution_count": 34,
     "metadata": {},
     "output_type": "execute_result"
    }
   ],
   "source": [
    "lsa_all_10 = TruncatedSVD(10)\n",
    "\n",
    "lsa_model_10_df = pd.DataFrame(data=lsa_all_10.fit_transform(bag_of_words_all))\n",
    "lsa_model_10_df.shape"
   ]
  },
  {
   "cell_type": "code",
   "execution_count": 36,
   "metadata": {},
   "outputs": [
    {
     "data": {
      "text/plain": [
       "(1296014, 15)"
      ]
     },
     "execution_count": 36,
     "metadata": {},
     "output_type": "execute_result"
    }
   ],
   "source": [
    "lsa_all_15 = TruncatedSVD(15)\n",
    "\n",
    "lsa_model_15_df = pd.DataFrame(data=lsa_all_15.fit_transform(bag_of_words_all))\n",
    "lsa_model_15_df.shape"
   ]
  },
  {
   "cell_type": "code",
   "execution_count": 37,
   "metadata": {},
   "outputs": [
    {
     "data": {
      "text/plain": [
       "(1296014, 20)"
      ]
     },
     "execution_count": 37,
     "metadata": {},
     "output_type": "execute_result"
    }
   ],
   "source": [
    "lsa_all_20 = TruncatedSVD(20)\n",
    "\n",
    "lsa_model_20_df = pd.DataFrame(data=lsa_all_20.fit_transform(bag_of_words_all))\n",
    "lsa_model_20_df.shape"
   ]
  },
  {
   "cell_type": "code",
   "execution_count": 38,
   "metadata": {},
   "outputs": [
    {
     "data": {
      "text/plain": [
       "(1296014, 25)"
      ]
     },
     "execution_count": 38,
     "metadata": {},
     "output_type": "execute_result"
    }
   ],
   "source": [
    "lsa_all_25 = TruncatedSVD(25)\n",
    "\n",
    "lsa_model_25_df = pd.DataFrame(data=lsa_all_25.fit_transform(bag_of_words_all))\n",
    "lsa_model_25_df.shape"
   ]
  },
  {
   "cell_type": "code",
   "execution_count": null,
   "metadata": {},
   "outputs": [],
   "source": []
  },
  {
   "cell_type": "code",
   "execution_count": 39,
   "metadata": {},
   "outputs": [],
   "source": [
    "df_lsa_model_10 = pd.merge(df_topic_base, lsa_model_10_df, left_index=True, right_index=True)\n",
    "df_lsa_model_15 = pd.merge(df_topic_base, lsa_model_15_df, left_index=True, right_index=True)\n",
    "df_lsa_model_20 = pd.merge(df_topic_base, lsa_model_20_df, left_index=True, right_index=True)\n",
    "df_lsa_model_25 = pd.merge(df_topic_base, lsa_model_25_df, left_index=True, right_index=True)"
   ]
  },
  {
   "cell_type": "markdown",
   "metadata": {},
   "source": [
    "---------"
   ]
  },
  {
   "cell_type": "code",
   "execution_count": 40,
   "metadata": {},
   "outputs": [
    {
     "data": {
      "text/plain": [
       "(1296014, 10)"
      ]
     },
     "execution_count": 40,
     "metadata": {},
     "output_type": "execute_result"
    }
   ],
   "source": [
    "nmf_all_10 = NMF(10)\n",
    "\n",
    "nmf_model_10_df = pd.DataFrame(data=nmf_all_10.fit_transform(bag_of_words_all))\n",
    "nmf_model_10_df.shape"
   ]
  },
  {
   "cell_type": "code",
   "execution_count": 41,
   "metadata": {},
   "outputs": [
    {
     "data": {
      "text/plain": [
       "(1296014, 15)"
      ]
     },
     "execution_count": 41,
     "metadata": {},
     "output_type": "execute_result"
    }
   ],
   "source": [
    "nmf_all_15 = NMF(15)\n",
    "\n",
    "nmf_model_15_df = pd.DataFrame(data=nmf_all_15.fit_transform(bag_of_words_all))\n",
    "nmf_model_15_df.shape"
   ]
  },
  {
   "cell_type": "code",
   "execution_count": 42,
   "metadata": {},
   "outputs": [
    {
     "data": {
      "text/plain": [
       "(1296014, 20)"
      ]
     },
     "execution_count": 42,
     "metadata": {},
     "output_type": "execute_result"
    }
   ],
   "source": [
    "nmf_all_20 = NMF(20)\n",
    "\n",
    "nmf_model_20_df = pd.DataFrame(data=nmf_all_20.fit_transform(bag_of_words_all))\n",
    "nmf_model_20_df.shape"
   ]
  },
  {
   "cell_type": "code",
   "execution_count": null,
   "metadata": {},
   "outputs": [],
   "source": [
    "# nmf_model_25_df = pd.DataFrame(data=nmf_all_25.fit_transform(bag_of_words_all)) ALREADY DONE!\n",
    "nmf_model_25_df.shape"
   ]
  },
  {
   "cell_type": "code",
   "execution_count": null,
   "metadata": {},
   "outputs": [],
   "source": []
  },
  {
   "cell_type": "code",
   "execution_count": 43,
   "metadata": {},
   "outputs": [],
   "source": [
    "df_nmf_model_10 = pd.merge(df_topic_base, nmf_model_10_df, left_index=True, right_index=True)\n",
    "df_nmf_model_15 = pd.merge(df_topic_base, nmf_model_15_df, left_index=True, right_index=True)\n",
    "df_nmf_model_20 = pd.merge(df_topic_base, nmf_model_20_df, left_index=True, right_index=True)\n",
    "df_nmf_model_25 = pd.merge(df_topic_base, nmf_model_25_df, left_index=True, right_index=True)\n"
   ]
  },
  {
   "cell_type": "code",
   "execution_count": 44,
   "metadata": {},
   "outputs": [],
   "source": [
    "with open('/Users/robertpagano/metis_data/project_5/topic_modeling/topic_dfs/df_lsa_model_10.pickle', 'wb') as to_write:\n",
    "    pickle.dump(df_lsa_model_10, to_write)\n",
    "    \n",
    "with open('/Users/robertpagano/metis_data/project_5/topic_modeling/topic_dfs/df_lsa_model_15.pickle', 'wb') as to_write:\n",
    "    pickle.dump(df_lsa_model_15, to_write)\n",
    "    \n",
    "with open('/Users/robertpagano/metis_data/project_5/topic_modeling/topic_dfs/df_lsa_model_20.pickle', 'wb') as to_write:\n",
    "    pickle.dump(df_lsa_model_20, to_write)\n",
    "    \n",
    "with open('/Users/robertpagano/metis_data/project_5/topic_modeling/topic_dfs/df_lsa_model_25.pickle', 'wb') as to_write:\n",
    "    pickle.dump(df_lsa_model_25, to_write)\n",
    "    \n",
    "\n",
    "with open('/Users/robertpagano/metis_data/project_5/topic_modeling/topic_dfs/df_nmf_model_10.pickle', 'wb') as to_write:\n",
    "    pickle.dump(df_nmf_model_10, to_write)\n",
    "    \n",
    "with open('/Users/robertpagano/metis_data/project_5/topic_modeling/topic_dfs/df_nmf_model_15.pickle', 'wb') as to_write:\n",
    "    pickle.dump(df_nmf_model_15, to_write)\n",
    "    \n",
    "with open('/Users/robertpagano/metis_data/project_5/topic_modeling/topic_dfs/df_nmf_model_20.pickle', 'wb') as to_write:\n",
    "    pickle.dump(df_nmf_model_20, to_write)\n",
    "    \n",
    "with open('/Users/robertpagano/metis_data/project_5/topic_modeling/topic_dfs/df_nmf_model_25.pickle', 'wb') as to_write:\n",
    "    pickle.dump(df_nmf_model_25, to_write)\n",
    "    \n",
    "    \n",
    "\n",
    "    \n"
   ]
  },
  {
   "cell_type": "code",
   "execution_count": null,
   "metadata": {},
   "outputs": [],
   "source": []
  }
 ],
 "metadata": {
  "kernelspec": {
   "display_name": "Python 3",
   "language": "python",
   "name": "python3"
  },
  "language_info": {
   "codemirror_mode": {
    "name": "ipython",
    "version": 3
   },
   "file_extension": ".py",
   "mimetype": "text/x-python",
   "name": "python",
   "nbconvert_exporter": "python",
   "pygments_lexer": "ipython3",
   "version": "3.6.7"
  }
 },
 "nbformat": 4,
 "nbformat_minor": 2
}
