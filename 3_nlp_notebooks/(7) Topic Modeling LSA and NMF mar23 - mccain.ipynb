{
 "cells": [
  {
   "cell_type": "code",
   "execution_count": 1,
   "metadata": {},
   "outputs": [],
   "source": [
    "import pandas as pd\n",
    "import numpy as np\n",
    "\n",
    "import pickle\n",
    "\n",
    "# gensim\n",
    "from gensim import corpora, models, similarities, matutils\n",
    "\n",
    "# sklearn\n",
    "from sklearn.feature_extraction.text import CountVectorizer\n",
    "from sklearn.feature_extraction.text import TfidfVectorizer\n",
    "\n",
    "# logging for gensim (set to INFO)\n",
    "import logging\n",
    "logging.basicConfig(format='%(asctime)s : %(levelname)s : %(message)s', level=logging.INFO)\n",
    "\n",
    "import nltk\n",
    "import spacy\n",
    "\n",
    "from textblob import TextBlob, Word\n",
    "\n",
    "import re\n",
    "\n",
    "from nltk.corpus import stopwords\n",
    "from nltk.tokenize import RegexpTokenizer\n",
    "\n",
    "from sklearn.decomposition import TruncatedSVD\n",
    "from sklearn.decomposition import NMF\n",
    "from sklearn.metrics.pairwise import cosine_similarity"
   ]
  },
  {
   "cell_type": "markdown",
   "metadata": {},
   "source": [
    "Edited version of AOC to make it more organized"
   ]
  },
  {
   "cell_type": "code",
   "execution_count": 2,
   "metadata": {},
   "outputs": [],
   "source": [
    "pd.set_option('display.max_colwidth', 400)  # or 199"
   ]
  },
  {
   "cell_type": "markdown",
   "metadata": {},
   "source": [
    "Now, preprocessing (using same code as for kickstarter as baseline, come back here to tweak later)\n",
    "\n",
    "Look into https://pypi.org/project/tweet-preprocessor/ for tweet processing later!"
   ]
  },
  {
   "cell_type": "code",
   "execution_count": 3,
   "metadata": {},
   "outputs": [],
   "source": [
    "nlp = spacy.load('en', disable=['parser', 'ner'])\n",
    "# nlp = spacy.load('en')"
   ]
  },
  {
   "cell_type": "code",
   "execution_count": 4,
   "metadata": {},
   "outputs": [],
   "source": [
    "def pre_process(text):\n",
    "    \n",
    "    # lowercase\n",
    "    text=text.lower()\n",
    "    \n",
    "    #remove tags\n",
    "    text=re.sub(\"&lt;/?.*?&gt;\",\" &lt;&gt; \",text)\n",
    "\n",
    "    # remove special characters and digits\n",
    "    text=re.sub(\"(\\\\d|\\\\W)+\",\" \",text)\n",
    "    \n",
    "    #lemmatize with Spacy\n",
    "    doc = nlp(text)\n",
    "    text = \" \".join([token.lemma_ for token in doc])\n",
    "    \n",
    "    return text"
   ]
  },
  {
   "cell_type": "code",
   "execution_count": 5,
   "metadata": {},
   "outputs": [],
   "source": [
    "tweet_stopwords = stopwords.words('english') + \\\n",
    "    ['rt', 'https', 'http', 'amp', 'via', 'one', 'around', 'would', 'let', 'could', 'going', 'like', \n",
    "     'get', 'may', 'says', 'say', 'make', 'based', 'even', 'another', 'completely', 'thanks', 'way', \n",
    "     'find', 'used', 'thing', '2019', 'see', 'need', 'know', 'knows', 'think', 'thinks', 'take', 'new', \n",
    "     'day', 'days', 'john', 'mccain', 'johnmccain']"
   ]
  },
  {
   "cell_type": "code",
   "execution_count": 6,
   "metadata": {},
   "outputs": [],
   "source": [
    "def display_topics(model, feature_names, no_top_words, topic_names=None):\n",
    "    for ix, topic in enumerate(model.components_):\n",
    "        if not topic_names or not topic_names[ix]:\n",
    "            print(\"\\nTopic \", ix)\n",
    "        else:\n",
    "            print(\"\\nTopic: '\",topic_names[ix],\"'\")\n",
    "        print(\", \".join([feature_names[i]\n",
    "                        for i in topic.argsort()[:-no_top_words - 1:-1]]))"
   ]
  },
  {
   "cell_type": "code",
   "execution_count": 7,
   "metadata": {},
   "outputs": [],
   "source": [
    "with open('/Users/robertpagano/src/metis_project_kojak/network_files/mccain/community_pickles_pre_nlp/df_0.pickle', 'rb') as f:\n",
    "    df_0 = pickle.load(f)\n",
    "\n",
    "with open('/Users/robertpagano/src/metis_project_kojak/network_files/mccain/community_pickles_pre_nlp/df_1.pickle', 'rb') as f:\n",
    "    df_1 = pickle.load(f)\n",
    "    \n",
    "with open('/Users/robertpagano/src/metis_project_kojak/network_files/mccain/community_pickles_pre_nlp/df_3.pickle', 'rb') as f:\n",
    "    df_3 = pickle.load(f)\n",
    "    \n",
    "with open('/Users/robertpagano/src/metis_project_kojak/network_files/mccain/community_pickles_pre_nlp/df_4.pickle', 'rb') as f:\n",
    "    df_4 = pickle.load(f)\n",
    "    \n",
    "with open('/Users/robertpagano/src/metis_project_kojak/network_files/mccain/community_pickles_pre_nlp/df_5.pickle', 'rb') as f:\n",
    "    df_5 = pickle.load(f)\n",
    "    \n",
    "with open('/Users/robertpagano/src/metis_project_kojak/network_files/mccain/community_pickles_pre_nlp/df_6.pickle', 'rb') as f:\n",
    "    df_6 = pickle.load(f)\n",
    "    \n",
    "with open('/Users/robertpagano/src/metis_project_kojak/network_files/mccain/community_pickles_pre_nlp/df_7.pickle', 'rb') as f:\n",
    "    df_7 = pickle.load(f)\n",
    "    \n",
    "with open('/Users/robertpagano/src/metis_project_kojak/network_files/mccain/community_pickles_pre_nlp/df_8.pickle', 'rb') as f:\n",
    "    df_8 = pickle.load(f)\n",
    "    \n",
    "with open('/Users/robertpagano/src/metis_project_kojak/network_files/mccain/community_pickles_pre_nlp/df_9.pickle', 'rb') as f:\n",
    "    df_9 = pickle.load(f)\n",
    "    \n",
    "with open('/Users/robertpagano/src/metis_project_kojak/network_files/mccain/community_pickles_pre_nlp/df_10.pickle', 'rb') as f:\n",
    "    df_10 = pickle.load(f)\n",
    "    \n",
    "with open('/Users/robertpagano/src/metis_project_kojak/network_files/mccain/community_pickles_pre_nlp/df_11.pickle', 'rb') as f:\n",
    "    df_11 = pickle.load(f)\n",
    "    \n",
    "with open('/Users/robertpagano/src/metis_project_kojak/network_files/mccain/community_pickles_pre_nlp/df_12.pickle', 'rb') as f:\n",
    "    df_12 = pickle.load(f)\n",
    "    \n",
    "with open('/Users/robertpagano/src/metis_project_kojak/network_files/mccain/community_pickles_pre_nlp/df_13.pickle', 'rb') as f:\n",
    "    df_13 = pickle.load(f)\n",
    "    \n",
    "with open('/Users/robertpagano/src/metis_project_kojak/network_files/mccain/community_pickles_pre_nlp/df_14.pickle', 'rb') as f:\n",
    "    df_14 = pickle.load(f)\n",
    "    \n",
    "with open('/Users/robertpagano/src/metis_project_kojak/network_files/mccain/community_pickles_pre_nlp/df_15.pickle', 'rb') as f:\n",
    "    df_15 = pickle.load(f)\n"
   ]
  },
  {
   "cell_type": "code",
   "execution_count": 8,
   "metadata": {},
   "outputs": [],
   "source": [
    "df_0['final_text'] = np.where((df_0['retweet_text'].isnull() == False), df_0['retweet_text'], df_0['main_text'])\n",
    "df_1['final_text'] = np.where((df_1['retweet_text'].isnull() == False), df_1['retweet_text'], df_1['main_text'])\n",
    "df_3['final_text'] = np.where((df_3['retweet_text'].isnull() == False), df_3['retweet_text'], df_3['main_text'])\n",
    "df_4['final_text'] = np.where((df_4['retweet_text'].isnull() == False), df_4['retweet_text'], df_4['main_text'])\n",
    "df_5['final_text'] = np.where((df_5['retweet_text'].isnull() == False), df_5['retweet_text'], df_5['main_text'])\n",
    "df_6['final_text'] = np.where((df_6['retweet_text'].isnull() == False), df_6['retweet_text'], df_6['main_text'])\n",
    "df_7['final_text'] = np.where((df_7['retweet_text'].isnull() == False), df_7['retweet_text'], df_7['main_text'])\n",
    "df_8['final_text'] = np.where((df_8['retweet_text'].isnull() == False), df_8['retweet_text'], df_8['main_text'])\n",
    "df_9['final_text'] = np.where((df_9['retweet_text'].isnull() == False), df_9['retweet_text'], df_9['main_text'])\n",
    "df_10['final_text'] = np.where((df_10['retweet_text'].isnull() == False), df_10['retweet_text'], df_10['main_text'])\n",
    "df_11['final_text'] = np.where((df_11['retweet_text'].isnull() == False), df_11['retweet_text'], df_11['main_text'])\n",
    "df_12['final_text'] = np.where((df_12['retweet_text'].isnull() == False), df_12['retweet_text'], df_12['main_text'])\n",
    "df_13['final_text'] = np.where((df_13['retweet_text'].isnull() == False), df_13['retweet_text'], df_13['main_text'])\n",
    "df_14['final_text'] = np.where((df_14['retweet_text'].isnull() == False), df_14['retweet_text'], df_14['main_text'])\n",
    "df_15['final_text'] = np.where((df_15['retweet_text'].isnull() == False), df_15['retweet_text'], df_15['main_text'])"
   ]
  },
  {
   "cell_type": "markdown",
   "metadata": {},
   "source": [
    "RUN ALL BELOW ONCE MARVEL DONE"
   ]
  },
  {
   "cell_type": "code",
   "execution_count": 9,
   "metadata": {},
   "outputs": [],
   "source": [
    "df_0['tweet_processed'] = df_0['final_text'].apply(lambda x:pre_process(x))\n",
    "df_1['tweet_processed'] = df_1['final_text'].apply(lambda x:pre_process(x))\n",
    "df_3['tweet_processed'] = df_3['final_text'].apply(lambda x:pre_process(x))\n",
    "df_4['tweet_processed'] = df_4['final_text'].apply(lambda x:pre_process(x))\n",
    "df_5['tweet_processed'] = df_5['final_text'].apply(lambda x:pre_process(x))\n",
    "df_6['tweet_processed'] = df_6['final_text'].apply(lambda x:pre_process(x))\n",
    "df_7['tweet_processed'] = df_7['final_text'].apply(lambda x:pre_process(x))\n",
    "df_8['tweet_processed'] = df_8['final_text'].apply(lambda x:pre_process(x))\n",
    "df_9['tweet_processed'] = df_9['final_text'].apply(lambda x:pre_process(x))\n",
    "df_10['tweet_processed'] = df_10['final_text'].apply(lambda x:pre_process(x))\n",
    "df_11['tweet_processed'] = df_11['final_text'].apply(lambda x:pre_process(x))\n",
    "df_12['tweet_processed'] = df_12['final_text'].apply(lambda x:pre_process(x))\n",
    "df_13['tweet_processed'] = df_13['final_text'].apply(lambda x:pre_process(x))\n",
    "df_14['tweet_processed'] = df_14['final_text'].apply(lambda x:pre_process(x))\n",
    "df_15['tweet_processed'] = df_15['final_text'].apply(lambda x:pre_process(x))"
   ]
  },
  {
   "cell_type": "code",
   "execution_count": 10,
   "metadata": {},
   "outputs": [],
   "source": [
    "with open('/Users/robertpagano/src/metis_project_kojak/network_files/mccain/community_pickles_pre_nlp/preproccessed_text/df_0_preprocess.pickle', 'wb') as to_write:\n",
    "    pickle.dump(df_0, to_write)\n",
    "\n",
    "with open('/Users/robertpagano/src/metis_project_kojak/network_files/mccain/community_pickles_pre_nlp/preproccessed_text/df_1_preprocess.pickle', 'wb') as to_write:\n",
    "    pickle.dump(df_1, to_write)\n",
    "\n",
    "with open('/Users/robertpagano/src/metis_project_kojak/network_files/mccain/community_pickles_pre_nlp/preproccessed_text/df_3_preprocess.pickle', 'wb') as to_write:\n",
    "    pickle.dump(df_3, to_write)\n",
    "\n",
    "with open('/Users/robertpagano/src/metis_project_kojak/network_files/mccain/community_pickles_pre_nlp/preproccessed_text/df_4_preprocess.pickle', 'wb') as to_write:\n",
    "    pickle.dump(df_4, to_write)\n",
    "\n",
    "with open('/Users/robertpagano/src/metis_project_kojak/network_files/mccain/community_pickles_pre_nlp/preproccessed_text/df_5_preprocess.pickle', 'wb') as to_write:\n",
    "    pickle.dump(df_5, to_write)\n",
    "\n",
    "with open('/Users/robertpagano/src/metis_project_kojak/network_files/mccain/community_pickles_pre_nlp/preproccessed_text/df_6_preprocess.pickle', 'wb') as to_write:\n",
    "    pickle.dump(df_6, to_write)\n",
    "\n",
    "with open('/Users/robertpagano/src/metis_project_kojak/network_files/mccain/community_pickles_pre_nlp/preproccessed_text/df_7_preprocess.pickle', 'wb') as to_write:\n",
    "    pickle.dump(df_7, to_write)\n",
    "\n",
    "with open('/Users/robertpagano/src/metis_project_kojak/network_files/mccain/community_pickles_pre_nlp/preproccessed_text/df_8_preprocess.pickle', 'wb') as to_write:\n",
    "    pickle.dump(df_8, to_write)\n",
    "\n",
    "with open('/Users/robertpagano/src/metis_project_kojak/network_files/mccain/community_pickles_pre_nlp/preproccessed_text/df_9_preprocess.pickle', 'wb') as to_write:\n",
    "    pickle.dump(df_9, to_write)\n",
    "\n",
    "with open('/Users/robertpagano/src/metis_project_kojak/network_files/mccain/community_pickles_pre_nlp/preproccessed_text/df_10_preprocess.pickle', 'wb') as to_write:\n",
    "    pickle.dump(df_10, to_write)\n",
    "\n",
    "with open('/Users/robertpagano/src/metis_project_kojak/network_files/mccain/community_pickles_pre_nlp/preproccessed_text/df_11_preprocess.pickle', 'wb') as to_write:\n",
    "    pickle.dump(df_11, to_write)\n",
    "\n",
    "with open('/Users/robertpagano/src/metis_project_kojak/network_files/mccain/community_pickles_pre_nlp/preproccessed_text/df_12_preprocess.pickle', 'wb') as to_write:\n",
    "    pickle.dump(df_12, to_write)\n",
    "\n",
    "with open('/Users/robertpagano/src/metis_project_kojak/network_files/mccain/community_pickles_pre_nlp/preproccessed_text/df_13_preprocess.pickle', 'wb') as to_write:\n",
    "    pickle.dump(df_13, to_write)\n",
    "\n",
    "with open('/Users/robertpagano/src/metis_project_kojak/network_files/mccain/community_pickles_pre_nlp/preproccessed_text/df_14_preprocess.pickle', 'wb') as to_write:\n",
    "    pickle.dump(df_14, to_write)\n",
    "\n",
    "with open('/Users/robertpagano/src/metis_project_kojak/network_files/mccain/community_pickles_pre_nlp/preproccessed_text/df_15_preprocess.pickle', 'wb') as to_write:\n",
    "    pickle.dump(df_15, to_write)\n",
    "\n"
   ]
  },
  {
   "cell_type": "code",
   "execution_count": 11,
   "metadata": {},
   "outputs": [],
   "source": [
    "X_0 = df_1['tweet_processed']\n",
    "X_1 = df_1['tweet_processed']\n",
    "X_3 = df_3['tweet_processed']\n",
    "X_4 = df_4['tweet_processed']\n",
    "X_5 = df_5['tweet_processed']\n",
    "X_6 = df_6['tweet_processed']\n",
    "X_7 = df_7['tweet_processed']\n",
    "X_8 = df_8['tweet_processed']\n",
    "X_9 = df_9['tweet_processed']\n",
    "X_10 = df_10['tweet_processed']\n",
    "X_11 = df_11['tweet_processed']\n",
    "X_12 = df_12['tweet_processed']\n",
    "X_13 = df_13['tweet_processed']\n",
    "X_14 = df_14['tweet_processed']\n",
    "X_15 = df_15['tweet_processed']"
   ]
  },
  {
   "cell_type": "code",
   "execution_count": 12,
   "metadata": {},
   "outputs": [],
   "source": [
    "tfidf_0 = TfidfVectorizer(stop_words=tweet_stopwords, token_pattern=\"\\\\b[a-z][a-z]+\\\\b\", ngram_range=(1,2))\n",
    "tfidf_1 = TfidfVectorizer(stop_words=tweet_stopwords, token_pattern=\"\\\\b[a-z][a-z]+\\\\b\", ngram_range=(1,2))\n",
    "tfidf_3 = TfidfVectorizer(stop_words=tweet_stopwords, token_pattern=\"\\\\b[a-z][a-z]+\\\\b\", ngram_range=(1,2))\n",
    "tfidf_4 = TfidfVectorizer(stop_words=tweet_stopwords, token_pattern=\"\\\\b[a-z][a-z]+\\\\b\", ngram_range=(1,2))\n",
    "tfidf_5 = TfidfVectorizer(stop_words=tweet_stopwords, token_pattern=\"\\\\b[a-z][a-z]+\\\\b\", ngram_range=(1,2))\n",
    "tfidf_6 = TfidfVectorizer(stop_words=tweet_stopwords, token_pattern=\"\\\\b[a-z][a-z]+\\\\b\", ngram_range=(1,2))\n",
    "tfidf_7 = TfidfVectorizer(stop_words=tweet_stopwords, token_pattern=\"\\\\b[a-z][a-z]+\\\\b\", ngram_range=(1,2))\n",
    "tfidf_8 = TfidfVectorizer(stop_words=tweet_stopwords, token_pattern=\"\\\\b[a-z][a-z]+\\\\b\", ngram_range=(1,2))\n",
    "tfidf_9 = TfidfVectorizer(stop_words=tweet_stopwords, token_pattern=\"\\\\b[a-z][a-z]+\\\\b\", ngram_range=(1,2))\n",
    "tfidf_10 = TfidfVectorizer(stop_words=tweet_stopwords, token_pattern=\"\\\\b[a-z][a-z]+\\\\b\", ngram_range=(1,2))\n",
    "tfidf_11 = TfidfVectorizer(stop_words=tweet_stopwords, token_pattern=\"\\\\b[a-z][a-z]+\\\\b\", ngram_range=(1,2))\n",
    "tfidf_12 = TfidfVectorizer(stop_words=tweet_stopwords, token_pattern=\"\\\\b[a-z][a-z]+\\\\b\", ngram_range=(1,2))\n",
    "tfidf_13 = TfidfVectorizer(stop_words=tweet_stopwords, token_pattern=\"\\\\b[a-z][a-z]+\\\\b\", ngram_range=(1,2))\n",
    "tfidf_14 = TfidfVectorizer(stop_words=tweet_stopwords, token_pattern=\"\\\\b[a-z][a-z]+\\\\b\", ngram_range=(1,2))\n",
    "tfidf_15 = TfidfVectorizer(stop_words=tweet_stopwords, token_pattern=\"\\\\b[a-z][a-z]+\\\\b\", ngram_range=(1,2))\n"
   ]
  },
  {
   "cell_type": "markdown",
   "metadata": {},
   "source": [
    "Community_0"
   ]
  },
  {
   "cell_type": "code",
   "execution_count": 13,
   "metadata": {},
   "outputs": [
    {
     "data": {
      "text/plain": [
       "array([0.02001522, 0.02271835, 0.0225802 , 0.01939186, 0.01878646,\n",
       "       0.01759758, 0.01712557, 0.01368664, 0.01378972, 0.0133207 ,\n",
       "       0.01290244, 0.01246944, 0.01199284, 0.01176239, 0.01138351,\n",
       "       0.01022373, 0.00905451, 0.00846325, 0.00822894, 0.0082056 ])"
      ]
     },
     "execution_count": 13,
     "metadata": {},
     "output_type": "execute_result"
    }
   ],
   "source": [
    "bag_of_words_0 = tfidf_0.fit_transform(X_0)\n",
    "lsa_0 = TruncatedSVD(20)\n",
    "doc_topic_0 = lsa_0.fit_transform(bag_of_words_0)\n",
    "lsa_0.explained_variance_ratio_"
   ]
  },
  {
   "cell_type": "code",
   "execution_count": 14,
   "metadata": {},
   "outputs": [
    {
     "name": "stdout",
     "output_type": "stream",
     "text": [
      "\n",
      "Topic  0\n",
      "pron, aide, former aide, trump lie, lie, former, trump, senator, president, today\n",
      "\n",
      "Topic  1\n",
      "aide, former aide, trump lie, former, lie, replace effort, go support, mind nope, effort change, mislead wh\n",
      "\n",
      "Topic  2\n",
      "abandon pron, pron lose, abandon, lose pron, lose, pron friend, friend, life lindseygrahamsc, pow offer, apart abandon\n",
      "\n",
      "Topic  3\n",
      "cathedral, funeral, national cathedral, national, funeral pron, kind funeral, president approve, pron want, want president, approve\n",
      "\n",
      "Topic  4\n",
      "billion, cut trillion, trillion medicaid, medicare billion, billion medicare, billion social, medicaid billion, budget cut, medicaid, divert attention\n",
      "\n",
      "Topic  5\n",
      "american, smear, american hero, hero, soon introduce, legislation name, forward soon, pron legislation, building american, introduce pron\n",
      "\n",
      "Topic  6\n",
      "forward soon, soon introduce, legislation name, pron legislation, building american, introduce pron, senate russell, look forward, russell building, name senate\n",
      "\n",
      "Topic  7\n",
      "pron, co, well, week, country pron, kid country, tear hear, week well, hear story, lack focus\n",
      "\n",
      "Topic  8\n",
      "pron needchangeinthewhitehouse, story president, health kid, needchangeinthewhitehouse, needchangeinthewhitehouse co, kid country, focus mental, hear story, lack focus, tear hear\n",
      "\n",
      "Topic  9\n",
      "american, donald trump, donald, dictator, jinp pron, xi jinp, admire anti, jinp, resent american, american dictator\n",
      "\n",
      "Topic  10\n",
      "american, dictator, vladimir, vladimir putin, admire anti, resent american, jinp pron, xi jinp, jinp, american dictator\n",
      "\n",
      "Topic  11\n",
      "travesty co, co mfxfdgv, mfxfdgv, soul travesty, really republican, disgusting really, election badly, woman courage, idea senator, speak disgusting\n",
      "\n",
      "Topic  12\n",
      "self, duty family, empathetic drive, efface self, sacrifice empathetic, drive duty, patriotic honorable, courageous patriotic, self efface, efface\n",
      "\n",
      "Topic  13\n",
      "co pnhtxqvrrx, pnhtxqvrrx, vietnamese usnavy, week five, usnavy co, release week, imprison north, year imprison, usnavy, imprison\n",
      "\n",
      "Topic  14\n",
      "spit american, profile chickenshit, american greatness, trump spit, chickenshit grand, grand old, old party, profile, grand, greatness\n",
      "\n",
      "Topic  15\n",
      "lie, official, lie apart, shamelessly defend, compulsion lie, pron mendacity, mendacity, mendacity unprecedented, apart disgrace, unprecedented public\n",
      "\n",
      "Topic  16\n",
      "recently, defend recently, slander expect, recently pass, attack pathetic, pass hero, trump slander, fellow republican, hero attack, earn respect\n",
      "\n",
      "Topic  17\n",
      "lack, speak, tear demonstration, demonstration genuinely, dignity empathy, soul president, president disorder, die reminder, lack dignity, empathy family\n",
      "\n",
      "Topic  18\n",
      "year, ago senator, year award, captive vietnam, navy serve, award purple, senator step, pron captain, plane hold, heart silver\n",
      "\n",
      "Topic  19\n",
      "year, speak, defend recently, slander expect, attack pathetic, recently pass, pass hero, trump slander, hero attack, earn respect\n"
     ]
    }
   ],
   "source": [
    "display_topics(lsa_0, tfidf_0.get_feature_names(), 10)"
   ]
  },
  {
   "cell_type": "markdown",
   "metadata": {},
   "source": [
    "Community_1"
   ]
  },
  {
   "cell_type": "code",
   "execution_count": 15,
   "metadata": {},
   "outputs": [
    {
     "data": {
      "text/plain": [
       "array([0.02001541, 0.02271841, 0.02258013, 0.01939218, 0.01878621,\n",
       "       0.01759694, 0.01712559, 0.01368559, 0.01378718, 0.01331913,\n",
       "       0.01290128, 0.01246776, 0.01200079, 0.01175976, 0.01137744,\n",
       "       0.01023973, 0.00904567, 0.00844509, 0.0083269 , 0.00822608])"
      ]
     },
     "execution_count": 15,
     "metadata": {},
     "output_type": "execute_result"
    }
   ],
   "source": [
    "bag_of_words_1 = tfidf_1.fit_transform(X_1)\n",
    "lsa_1 = TruncatedSVD(20)\n",
    "doc_topic_1 = lsa_1.fit_transform(bag_of_words_1)\n",
    "lsa_1.explained_variance_ratio_"
   ]
  },
  {
   "cell_type": "code",
   "execution_count": 16,
   "metadata": {},
   "outputs": [
    {
     "name": "stdout",
     "output_type": "stream",
     "text": [
      "\n",
      "Topic  0\n",
      "pron, aide, former aide, trump lie, lie, former, trump, senator, president, today\n",
      "\n",
      "Topic  1\n",
      "aide, former aide, trump lie, former, lie, mind nope, go support, effort change, replace effort, mislead wh\n",
      "\n",
      "Topic  2\n",
      "abandon pron, pron lose, abandon, lose pron, lose, pron friend, friend, pow offer, life lindseygrahamsc, silence bully\n",
      "\n",
      "Topic  3\n",
      "cathedral, funeral, national cathedral, national, funeral pron, kind funeral, president approve, pron want, want president, approve\n",
      "\n",
      "Topic  4\n",
      "billion, trillion medicaid, cut trillion, medicare billion, billion medicare, billion social, medicaid billion, budget cut, medicaid, divert attention\n",
      "\n",
      "Topic  5\n",
      "american, smear, american hero, hero, legislation name, forward soon, soon introduce, pron legislation, building american, introduce pron\n",
      "\n",
      "Topic  6\n",
      "forward soon, legislation name, soon introduce, pron legislation, building american, introduce pron, senate russell, look forward, russell building, name senate\n",
      "\n",
      "Topic  7\n",
      "pron, co, well, week, country pron, lack focus, focus mental, tear hear, hear story, kid country\n",
      "\n",
      "Topic  8\n",
      "story president, needchangeinthewhitehouse co, pron needchangeinthewhitehouse, health kid, needchangeinthewhitehouse, hear story, week well, lack focus, kid country, tear hear\n",
      "\n",
      "Topic  9\n",
      "american, donald trump, donald, dictator, xi jinp, admire anti, jinp pron, jinp, american dictator, resent american\n",
      "\n",
      "Topic  10\n",
      "american, dictator, vladimir, vladimir putin, jinp, admire anti, resent american, american dictator, xi jinp, jinp pron\n",
      "\n",
      "Topic  11\n",
      "election badly, really republican, mfxfdgv, co mfxfdgv, travesty co, disgusting really, woman courage, soul travesty, idea senator, speak disgusting\n",
      "\n",
      "Topic  12\n",
      "self, duty family, efface self, empathetic drive, sacrifice empathetic, drive duty, courageous patriotic, patriotic honorable, self efface, efface\n",
      "\n",
      "Topic  13\n",
      "co pnhtxqvrrx, pnhtxqvrrx, vietnamese usnavy, week five, usnavy co, release week, year imprison, imprison north, usnavy, imprison\n",
      "\n",
      "Topic  14\n",
      "spit american, profile chickenshit, american greatness, trump spit, chickenshit grand, grand old, old party, profile, grand, greatness\n",
      "\n",
      "Topic  15\n",
      "lie, official, lie apart, pron mendacity, apart disgrace, mendacity unprecedented, mendacity, pron compulsion, unprecedented public, public official\n",
      "\n",
      "Topic  16\n",
      "recently, defend recently, slander expect, recently pass, attack pathetic, pass hero, trump slander, hero attack, fellow republican, earn respect\n",
      "\n",
      "Topic  17\n",
      "lack, genuinely broken, demonstration genuinely, president disorder, tear demonstration, soul president, empathy family, obsession tear, resentment utter, die reminder\n",
      "\n",
      "Topic  18\n",
      "year, plane hold, award purple, captive vietnam, navy serve, ago senator, senator step, pron captain, year award, heart silver\n",
      "\n",
      "Topic  19\n",
      "year, award purple, ago senator, plane hold, year award, navy serve, captive vietnam, pron captain, senator step, heart silver\n"
     ]
    }
   ],
   "source": [
    "display_topics(lsa_1, tfidf_1.get_feature_names(), 10)"
   ]
  },
  {
   "cell_type": "markdown",
   "metadata": {},
   "source": [
    "Community_3"
   ]
  },
  {
   "cell_type": "code",
   "execution_count": 17,
   "metadata": {},
   "outputs": [
    {
     "data": {
      "text/plain": [
       "array([0.14410814, 0.04251032, 0.03159695, 0.02312115, 0.02288691,\n",
       "       0.01860273, 0.01648849, 0.01666266, 0.01376408, 0.01381197,\n",
       "       0.0120043 , 0.01056348, 0.01020041, 0.00920348, 0.00905875,\n",
       "       0.0080828 , 0.00781501, 0.00737169, 0.00720637, 0.00695077])"
      ]
     },
     "execution_count": 17,
     "metadata": {},
     "output_type": "execute_result"
    }
   ],
   "source": [
    "bag_of_words_3 = tfidf_3.fit_transform(X_3)\n",
    "lsa_3 = TruncatedSVD(20)\n",
    "doc_topic_3 = lsa_3.fit_transform(bag_of_words_3)\n",
    "lsa_3.explained_variance_ratio_"
   ]
  },
  {
   "cell_type": "code",
   "execution_count": 18,
   "metadata": {},
   "outputs": [
    {
     "name": "stdout",
     "output_type": "stream",
     "text": [
      "\n",
      "Topic  0\n",
      "smear, pron, trump, therefore repugnant, continuously maliciously, answer smear, repugnant donald, smear attack, longer answer, maliciously\n",
      "\n",
      "Topic  1\n",
      "pron, whether pron, whether, pron friend, friend, pron pron, president, pron honor, honor, serve\n",
      "\n",
      "Topic  2\n",
      "disability order, also follow, behavior president, order avoid, attack depart, focus behavior, serve attack, president fake, example focus, future pron\n",
      "\n",
      "Topic  3\n",
      "pron, country, put pron, put, towards family, direct towards, less attack, nearly give, family wrong, pron less\n",
      "\n",
      "Topic  4\n",
      "billion, billion social, medicare billion, pron budget, budget cut, budget, medicaid billion, medicaid, attention fact, cut trillion\n",
      "\n",
      "Topic  5\n",
      "cathedral, funeral, president, funeral pron, president approve, kind funeral, want president, pron want, approve, national cathedral\n",
      "\n",
      "Topic  6\n",
      "aide, tomorrow ever, legacy tarnish, integrity conviction, tarnish realdonaldtrump, today tomorrow, conviction service, realdonaldtrump today, honor integrity, man honor\n",
      "\n",
      "Topic  7\n",
      "today tomorrow, tarnish realdonaldtrump, conviction service, tomorrow ever, integrity conviction, legacy tarnish, realdonaldtrump today, honor integrity, man honor, tomorrow\n",
      "\n",
      "Topic  8\n",
      "lose pron, lose, abandon pron, pron lose, abandon, pron, love, co vr, vr, refer sen\n",
      "\n",
      "Topic  9\n",
      "love, also put, else especially, shocking bash, partisan politic, especially partisan, pron surprising, bash beyond, love fight, disgraceful love\n",
      "\n",
      "Topic  10\n",
      "remember president, obama refer, co vr, everyone lose, pron allegedly, obamacare hearing, vr hn, vr, allegedly disrespectful, refer sen\n",
      "\n",
      "Topic  11\n",
      "american, american hero, look, soon introduce, building american, introduce pron, legislation name, senate russell, pron legislation, forward soon\n",
      "\n",
      "Topic  12\n",
      "co lxxxltuczu, dodger cadetbonespur, issue doubt, comment vile, vile especially, lxxxltuczu, especially come, come draft, disagree many, many policy\n",
      "\n",
      "Topic  13\n",
      "sen, state, self, pron, pron president, care, trump, president united, united state, united\n",
      "\n",
      "Topic  14\n",
      "self, man exemplary, patriotic honorable, courageous patriotic, heroic courageous, sacrifice empathetic, duty family, self efface, efface, efface self\n",
      "\n",
      "Topic  15\n",
      "speak, mfxfdgv, woman courage, republican man, disgusting really, soul travesty, speak disgusting, co mfxfdgv, travesty co, badly pron\n",
      "\n",
      "Topic  16\n",
      "idea senator, disgusting really, really republican, co mfxfdgv, travesty co, badly pron, republican man, speak disgusting, willing sell, election badly\n",
      "\n",
      "Topic  17\n",
      "graham, kavanaugh pron, kavanaugh, pron look, look pron, defense, look, lindsey, sen, lindsey graham\n",
      "\n",
      "Topic  18\n",
      "year, heart silver, award purple, captive vietnam, ago senator, captain pron, kaiy, senator step, step plane, year award\n",
      "\n",
      "Topic  19\n",
      "kavanaugh pron, kavanaugh, pron look, look pron, defense, look, graham, needchangeinthewhitehouse, mdirm, mdirm akc\n"
     ]
    }
   ],
   "source": [
    "display_topics(lsa_3, tfidf_3.get_feature_names(), 10)"
   ]
  },
  {
   "cell_type": "markdown",
   "metadata": {},
   "source": [
    "Community_4"
   ]
  },
  {
   "cell_type": "code",
   "execution_count": 19,
   "metadata": {},
   "outputs": [
    {
     "data": {
      "text/plain": [
       "array([0.03759144, 0.02011964, 0.02020406, 0.01739594, 0.01489511,\n",
       "       0.01370668, 0.01297365, 0.01294088, 0.01261985, 0.01208543,\n",
       "       0.0114064 , 0.01061825, 0.00989825, 0.00871479, 0.00777381,\n",
       "       0.00779426, 0.00762062, 0.00744792, 0.00682538, 0.00638487])"
      ]
     },
     "execution_count": 19,
     "metadata": {},
     "output_type": "execute_result"
    }
   ],
   "source": [
    "bag_of_words_4 = tfidf_4.fit_transform(X_4)\n",
    "lsa_4 = TruncatedSVD(20)\n",
    "doc_topic_4 = lsa_4.fit_transform(bag_of_words_4)\n",
    "lsa_4.explained_variance_ratio_"
   ]
  },
  {
   "cell_type": "code",
   "execution_count": 20,
   "metadata": {},
   "outputs": [
    {
     "name": "stdout",
     "output_type": "stream",
     "text": [
      "\n",
      "Topic  0\n",
      "pron, obsess, pron pron, co, great man, great, man, father sen, obsess great, pron weekend\n",
      "\n",
      "Topic  1\n",
      "pron, president, funeral, funeral pron, hero, pron attention, disability order, serve attack, example focus, president fake\n",
      "\n",
      "Topic  2\n",
      "president future, also follow, focus behavior, example focus, depart war, behavior president, serve attack, president fake, attack depart, disability order\n",
      "\n",
      "Topic  3\n",
      "pron pron, pron, hurt, criticize, criticize pron, weekend obsess, never great, man co, pron spend, tweet\n",
      "\n",
      "Topic  4\n",
      "republican, fire back, back trump, cheapen white, silence complicity, complicity republican, party enable, trump cheapen, house presidency, cheapen\n",
      "\n",
      "Topic  5\n",
      "aide, former aide, trump lie, lie, former, surprised trump, go support, replace effort, mislead wh, effort change\n",
      "\n",
      "Topic  6\n",
      "self, patriotic honorable, courageous patriotic, efface self, empathetic, sacrifice empathetic, drive duty, empathetic drive, duty family, heroic courageous\n",
      "\n",
      "Topic  7\n",
      "dominate news, hilarious pron, pron dominate, cycle death, president jealous, cycle, news cycle, dominate, pron hilarious, hilarious\n",
      "\n",
      "Topic  8\n",
      "smear, hero longer, continuously maliciously, maliciously, pron therefore, therefore repugnant, longer answer, smear attack, maliciously trump, answer smear\n",
      "\n",
      "Topic  9\n",
      "billion, trillion medicaid, medicare billion, cut trillion, medicaid billion, trump divert, budget cut, pron budget, billion social, attention fact\n",
      "\n",
      "Topic  10\n",
      "hurt, sen, comment sen, comment, hurt legacy, pron hurt, sen hurt, legacy sen, president comment, hurt pron\n",
      "\n",
      "Topic  11\n",
      "pron funeral, funeral, funeral pron, earn co, funeral funeral, want pron, deserve pron, pron earn, earn, sen funeral\n",
      "\n",
      "Topic  12\n",
      "cathedral, national cathedral, government official, government, washington national, approval president, require approval, funeral cathedral, cathedral require, president government\n",
      "\n",
      "Topic  13\n",
      "american, american hero, hero, year, cathedral, building american, soon introduce, forward soon, legislation name, senate russell\n",
      "\n",
      "Topic  14\n",
      "legislation name, pron legislation, senate russell, soon introduce, forward soon, building american, introduce pron, look forward, forward, soon\n",
      "\n",
      "Topic  15\n",
      "year, serve, live forever, step plane, year ago, plane, forever, serve pron, step, ago\n",
      "\n",
      "Topic  16\n",
      "pron, anything unseemly, denigrate widow, today always, unseemly trump, always denigrate, widow lindsay, graham nothing, trump constantly, constantly attack\n",
      "\n",
      "Topic  17\n",
      "live forever, forever, serve pron, stop, live, agree pron, gutter live, defend candidate, gutter, stop serve\n",
      "\n",
      "Topic  18\n",
      "abandon pron, abandon, pron lose, lose pron, lose, stand, pow offer, fear pron, silence bully, life lindseygrahamsc\n",
      "\n",
      "Topic  19\n",
      "never, fan, never fan, fan never, trump never, never co, abandon pron, abandon, pron lose, lose pron\n"
     ]
    }
   ],
   "source": [
    "display_topics(lsa_4, tfidf_4.get_feature_names(), 10)"
   ]
  },
  {
   "cell_type": "markdown",
   "metadata": {},
   "source": [
    "Community_5"
   ]
  },
  {
   "cell_type": "code",
   "execution_count": 21,
   "metadata": {},
   "outputs": [
    {
     "data": {
      "text/plain": [
       "array([0.09433127, 0.05377971, 0.03691388, 0.02320218, 0.02593193,\n",
       "       0.02328587, 0.02320208, 0.01938591, 0.01710514, 0.01361791,\n",
       "       0.0134561 , 0.01235638, 0.01213643, 0.01169754, 0.01064588,\n",
       "       0.01025818, 0.00956481, 0.00866903, 0.00850827, 0.0082233 ])"
      ]
     },
     "execution_count": 21,
     "metadata": {},
     "output_type": "execute_result"
    }
   ],
   "source": [
    "bag_of_words_5 = tfidf_5.fit_transform(X_5)\n",
    "lsa_5 = TruncatedSVD(20)\n",
    "doc_topic_5 = lsa_5.fit_transform(bag_of_words_5)\n",
    "lsa_5.explained_variance_ratio_"
   ]
  },
  {
   "cell_type": "code",
   "execution_count": 22,
   "metadata": {},
   "outputs": [
    {
     "name": "stdout",
     "output_type": "stream",
     "text": [
      "\n",
      "Topic  0\n",
      "pron, ejtb, axp, complain come, ejtb axp, co ejtb, nice funeral, pron hold, pron nice, hold pron\n",
      "\n",
      "Topic  1\n",
      "tempt ghost, tempt, ghost twitter, trump bait, twitter account, bait, account trump, account, twitter, ghost\n",
      "\n",
      "Topic  2\n",
      "behind motorcade, exhume corpse, ramp, drag senator, corpse behind, motorcade co, motorcade, attack drag, ramp attack, exhume\n",
      "\n",
      "Topic  3\n",
      "pron, decide, court, number, pron pron, president, politic, pron president, hat, unite supreme\n",
      "\n",
      "Topic  4\n",
      "fight, gravelgang co, fight die, co vo, american youth, vo, bernie disagree, meet problem, pron strongly, peace gravelgang\n",
      "\n",
      "Topic  5\n",
      "ask, hat, pron, pron want, president hat, hat white, hat pron, policy impact, impact people, impact\n",
      "\n",
      "Topic  6\n",
      "hat, hat white, president hat, hat pron, white nationalist, nationalist, pron hat, white, president, kill\n",
      "\n",
      "Topic  7\n",
      "pron pron, talk, pron, til, pron major, talk pee, die nothing, medium star, kingmaker conservative, til die\n",
      "\n",
      "Topic  8\n",
      "pron lifeless, counterproductive, flail, lifeless, national mall, bounce flail, lifeless body, insult memory, mall co, mall\n",
      "\n",
      "Topic  9\n",
      "pron, attention, focus, attack, billion, order avoid, disability order, president future, attention pron, also follow\n",
      "\n",
      "Topic  10\n",
      "infrastructure investment, infrastructure, house insider, hell kill, campaign platform, insider trump, platform include, include infrastructure, trump campaign, investment\n",
      "\n",
      "Topic  11\n",
      "rude pron, rude, pron talk, talk pron, pron want, want, talk, pron, ghost rude, guy mad\n",
      "\n",
      "Topic  12\n",
      "billion, feud deceased, attention fact, billion social, trump divert, cut trillion, every petty, security pron, medicare billion, nation focus\n",
      "\n",
      "Topic  13\n",
      "since august, tweet since, august, since, tweet, deficit, love pron, allow, love, deficit reduction\n",
      "\n",
      "Topic  14\n",
      "dead co, pron dead, violence lead, njj, lead senseless, thousand human, push unforgivable, co itqjrq, unforgivable act, act military\n",
      "\n",
      "Topic  15\n",
      "cathedral, funeral, national cathedral, government official, government, president approve, official, want president, kind funeral, approval president\n",
      "\n",
      "Topic  16\n",
      "nope, people lot, hat person, kill vietnamese, vietnamese people, person nope, draft go, trump someone, trump dodge, dodge draft\n",
      "\n",
      "Topic  17\n",
      "anywhere pron, ouhi, anywhere, co ouhi, untrue live, check untrue, live anywhere, untrue, fact check, check\n",
      "\n",
      "Topic  18\n",
      "strict zero, nuance internment, reactionary, reactionary pud, potato brain, potato, zero tolerance, internment, internment camp, pron potato\n",
      "\n",
      "Topic  19\n",
      "aide, change, former aide, trump lie, lie, former, ghost lurk, menu spanish, pron shower, house ceaselessly\n"
     ]
    }
   ],
   "source": [
    "display_topics(lsa_5, tfidf_5.get_feature_names(), 10)"
   ]
  },
  {
   "cell_type": "markdown",
   "metadata": {},
   "source": [
    "Community_6"
   ]
  },
  {
   "cell_type": "code",
   "execution_count": 23,
   "metadata": {},
   "outputs": [
    {
     "data": {
      "text/plain": [
       "array([0.40774028, 0.0236948 , 0.0112205 , 0.00990356, 0.00928404,\n",
       "       0.00907323, 0.0072282 , 0.00632771, 0.00609492, 0.00583153,\n",
       "       0.00551634, 0.00545411, 0.00522067, 0.00491896, 0.0046174 ,\n",
       "       0.00441877, 0.00388423, 0.0038702 , 0.00364844, 0.00362795])"
      ]
     },
     "execution_count": 23,
     "metadata": {},
     "output_type": "execute_result"
    }
   ],
   "source": [
    "bag_of_words_6 = tfidf_6.fit_transform(X_6)\n",
    "lsa_6 = TruncatedSVD(20)\n",
    "doc_topic_6 = lsa_6.fit_transform(bag_of_words_6)\n",
    "lsa_6.explained_variance_ratio_"
   ]
  },
  {
   "cell_type": "code",
   "execution_count": 24,
   "metadata": {},
   "outputs": [
    {
     "name": "stdout",
     "output_type": "stream",
     "text": [
      "\n",
      "Topic  0\n",
      "pron, president, president future, attack depart, order avoid, senator also, behavior president, example focus, also follow, pron attention\n",
      "\n",
      "Topic  1\n",
      "stuff co, state retweet, wztlcvztnx, standard stuff, attack daughter, co wztlcvztnx, daughter standard, retweet attack, standard, stuff\n",
      "\n",
      "Topic  2\n",
      "trump, pron, co, funeral, pron pron, never, give, sen, thank, aide\n",
      "\n",
      "Topic  3\n",
      "russell building, russell, building, isakson, effort rename, schumer play, politic effort, play politic, johnny, johnny isakson\n",
      "\n",
      "Topic  4\n",
      "aide, former aide, trump lie, lie, former, replace, repeal replace, repeal, go support, replace effort\n",
      "\n",
      "Topic  5\n",
      "smear, aide, former aide, trump lie, answer smear, maliciously, apologize hard, must stop, smear attack, therefore\n",
      "\n",
      "Topic  6\n",
      "funeral, cathedral, kind funeral, funeral pron, pron want, president approve, want, want president, kind, approve\n",
      "\n",
      "Topic  7\n",
      "american hero, american, senate russell, look forward, soon introduce, forward soon, pron legislation, legislation name, introduce pron, building american\n",
      "\n",
      "Topic  8\n",
      "courage integrity, election badly, badly, willing sell, idea senator, senator colleague, soul travesty, pron election, mfxfdgv, speak disgusting\n",
      "\n",
      "Topic  9\n",
      "billion, medicare, cut, social security, security, divert, attention fact, trillion medicaid, medicare billion, petty attack\n",
      "\n",
      "Topic  10\n",
      "self, hero thankful, respect admiration, legacy pron, country arizona, admiration peace, family respect, service legacy, arizona everyone, everyone give\n",
      "\n",
      "Topic  11\n",
      "self, friend, pron friend, disparage man, exemplary, man exemplary, heroic courageous, president disparage, empathetic, friend heroic\n",
      "\n",
      "Topic  12\n",
      "dear senate, berate disrespect, pron seat, longer max, time dear, pron cower, last longer, max, max term, house republican\n",
      "\n",
      "Topic  13\n",
      "never, never pron, fan, never fan, life, pron life, tear reputation, reputation war, president feel, lot never\n",
      "\n",
      "Topic  14\n",
      "cathedral, sen, national cathedral, national, official, graham, pron pron, washington national, yesterday, friend\n",
      "\n",
      "Topic  15\n",
      "pron, thank pron, thank, trump give, never pron, pron pron, tear reputation, particularly pron, disagree lot, reputation war\n",
      "\n",
      "Topic  16\n",
      "never, sen, fan, never fan, ohio, lima, manufacture instead, save lima, effort save, team seek\n",
      "\n",
      "Topic  17\n",
      "defend, lie, friend, pron friend, apart, kavanaugh pron, kavanaugh, look pron, defense, pron look\n",
      "\n",
      "Topic  18\n",
      "year, vietnam, heart, american, ago, purple, pron navy, year ago, captive, silver\n",
      "\n",
      "Topic  19\n",
      "never, friend, fan, never fan, pron friend, pron pron, whether pron, whether, gop senator, fan never\n"
     ]
    }
   ],
   "source": [
    "display_topics(lsa_6, tfidf_6.get_feature_names(), 10)"
   ]
  },
  {
   "cell_type": "markdown",
   "metadata": {},
   "source": [
    "Community_7"
   ]
  },
  {
   "cell_type": "code",
   "execution_count": 25,
   "metadata": {},
   "outputs": [
    {
     "data": {
      "text/plain": [
       "array([0.09679411, 0.06586066, 0.04968053, 0.02144779, 0.01794947,\n",
       "       0.018559  , 0.01781719, 0.01778743, 0.01716122, 0.01661907,\n",
       "       0.01629482, 0.01551139, 0.01526644, 0.01205663, 0.01080944,\n",
       "       0.00947872, 0.00904783, 0.00864707, 0.00816903, 0.00761576])"
      ]
     },
     "execution_count": 25,
     "metadata": {},
     "output_type": "execute_result"
    }
   ],
   "source": [
    "bag_of_words_7 = tfidf_7.fit_transform(X_7)\n",
    "lsa_7 = TruncatedSVD(20)\n",
    "doc_topic_7 = lsa_7.fit_transform(bag_of_words_7)\n",
    "lsa_7.explained_variance_ratio_"
   ]
  },
  {
   "cell_type": "code",
   "execution_count": 26,
   "metadata": {},
   "outputs": [
    {
     "name": "stdout",
     "output_type": "stream",
     "text": [
      "\n",
      "Topic  0\n",
      "graham nothing, unseemly trump, today always, denigrate widow, always denigrate, widow lindsay, anything unseemly, trump constantly, constantly attack, denigrate\n",
      "\n",
      "Topic  1\n",
      "haunt sadden, wonder implication, petty insecurity, help expose, implication, sadden infuriate, expose pron, implication guilty, poetic, poetic justice\n",
      "\n",
      "Topic  2\n",
      "disgusting ananavarro, plain disgusting, hero plain, dead national, indecent immoral, abominable inhumane, sen abominable, everybody condemn, co wr, wr lcgmm\n",
      "\n",
      "Topic  3\n",
      "aide, pron, former aide, trump lie, lie, former, trump, happen, senator, support\n",
      "\n",
      "Topic  4\n",
      "pron, president, funeral, country, attention, focus, man, late senator, billion, trump\n",
      "\n",
      "Topic  5\n",
      "want, happen scrooge, resign turn, scrooge, holiday turkey, holiday, turkey, turkey pron, generous good, scrooge instead\n",
      "\n",
      "Topic  6\n",
      "self, sacrifice, man, honorable self, efface, empathetic, drive duty, patriotic honorable, president disparage, understand president\n",
      "\n",
      "Topic  7\n",
      "self, empathetic, patriotic honorable, empathetic drive, courageous patriotic, heroic courageous, understand president, efface self, efface, president disparage\n",
      "\n",
      "Topic  8\n",
      "billion, self, pron budget, billion medicare, keep nation, nation focus, medicaid billion, attention fact, billion social, cut trillion\n",
      "\n",
      "Topic  9\n",
      "funeral, cathedral, funeral pron, pron want, kind funeral, president approve, want president, approve, kind, national cathedral\n",
      "\n",
      "Topic  10\n",
      "smear, donald trump, donald, believe, first, put, hero longer, longer, trump, continuously\n",
      "\n",
      "Topic  11\n",
      "donlemon pause, aftermath, aftermath trump, apology support, support family, family aftermath, send apology, pause send, deal pron, pron deal\n",
      "\n",
      "Topic  12\n",
      "believe, first, put, put trump, believe great, trump first, greatly trump, spur man, america first, greatly\n",
      "\n",
      "Topic  13\n",
      "abandon pron, abandon, pron lose, lose pron, lose, pron, friend, pron friend, lindseygrahamsc, life\n",
      "\n",
      "Topic  14\n",
      "american, american hero, hero, introduce pron, forward soon, building american, legislation name, senate russell, soon introduce, pron legislation\n",
      "\n",
      "Topic  15\n",
      "hat pron, hat, co, donald trump, donald, pron, rebuke donald, hope co, trump beyond, political strategist\n",
      "\n",
      "Topic  16\n",
      "friend ruining, ruining, tv dexq, evil plan, dexq, trump evil, healthcare co, co tv, ruining trump, plan healthcare\n",
      "\n",
      "Topic  17\n",
      "hat pron, hat, legislation name, pron legislation, introduce pron, soon introduce, forward soon, senate russell, building american, look forward\n",
      "\n",
      "Topic  18\n",
      "pron, funeral, thank, pron funeral, thank pron, pron pron, trump give, give kind, approve thank, request pron\n",
      "\n",
      "Topic  19\n",
      "year, hold captive, heart silver, silver star, captive vietnam, award purple, captive, purple, silver, award\n"
     ]
    }
   ],
   "source": [
    "display_topics(lsa_7, tfidf_7.get_feature_names(), 10)"
   ]
  },
  {
   "cell_type": "markdown",
   "metadata": {},
   "source": [
    "Community_8"
   ]
  },
  {
   "cell_type": "code",
   "execution_count": 27,
   "metadata": {},
   "outputs": [
    {
     "data": {
      "text/plain": [
       "array([0.15442106, 0.1386269 , 0.04714734, 0.04132887, 0.03427103,\n",
       "       0.03266857, 0.02159418, 0.02064273, 0.01373231, 0.01279388,\n",
       "       0.01249282, 0.00771677, 0.0079162 , 0.00737697, 0.00723962,\n",
       "       0.0060897 , 0.00591213, 0.00545161, 0.00499105, 0.00471164])"
      ]
     },
     "execution_count": 27,
     "metadata": {},
     "output_type": "execute_result"
    }
   ],
   "source": [
    "bag_of_words_8 = tfidf_8.fit_transform(X_8)\n",
    "lsa_8 = TruncatedSVD(20)\n",
    "doc_topic_8 = lsa_8.fit_transform(bag_of_words_8)\n",
    "lsa_8.explained_variance_ratio_"
   ]
  },
  {
   "cell_type": "code",
   "execution_count": 28,
   "metadata": {},
   "outputs": [
    {
     "name": "stdout",
     "output_type": "stream",
     "text": [
      "\n",
      "Topic  0\n",
      "president seriously, seriously stop, stop talk, seriously, stop, talk senator, mr president, mr, talk, senator\n",
      "\n",
      "Topic  1\n",
      "self, empathetic drive, heroic courageous, courageous patriotic, duty family, drive duty, efface self, friend heroic, sacrifice empathetic, efface\n",
      "\n",
      "Topic  2\n",
      "pron, reason talk, pron poltical, enemy mr, poltical enemy, poltical, pass pron, pron pass, pron pron, enemy\n",
      "\n",
      "Topic  3\n",
      "hero, pron, pron life, pron country, life, patriot, american hero, country, american, lot never\n",
      "\n",
      "Topic  4\n",
      "disagree lot, reputation war, lot never, anything patriot, feel tear, willing lay, hero particularly, idea president, country idea, patriot willing\n",
      "\n",
      "Topic  5\n",
      "every, patriot genuine, rare patriot, memory continue, every miss, blessing serve, alongside, continue remind, nation sustain, serve alongside\n",
      "\n",
      "Topic  6\n",
      "hit, late, attack, pron, president, man, pron hit, hit back, mark first, repellent\n",
      "\n",
      "Topic  7\n",
      "depart war, focus behavior, attack depart, order avoid, also follow, pron attention, serve attack, example focus, president fake, behavior president\n",
      "\n",
      "Topic  8\n",
      "cathedral, funeral, trump, funeral pron, kind funeral, president approve, want president, national cathedral, pron want, government official\n",
      "\n",
      "Topic  9\n",
      "smear, pron, trump, hero longer, longer, hard gop, repugnant donald, therefore, pron apologize, must stop\n",
      "\n",
      "Topic  10\n",
      "dispute someone, continue feud, hear beyond, co rcyqu, petty dispute, someone american, late bother, involve petty, rcyqu, bother co\n",
      "\n",
      "Topic  11\n",
      "aide, pron, lie, trump lie, former aide, trump, former, co, hoa lo, jaketapper co\n",
      "\n",
      "Topic  12\n",
      "rcdn gtx, time vietnamese, rcdn, lo prison, display hanoi, helmet flight, flight suit, flight, hoa lo, helmet\n",
      "\n",
      "Topic  13\n",
      "soon introduce, legislation name, forward soon, introduce pron, senate russell, building american, russell building, pron legislation, look forward, name senate\n",
      "\n",
      "Topic  14\n",
      "billion, nation focus, medicare billion, attention fact, medicaid billion, divert attention, billion social, trump divert, security pron, pron rather\n",
      "\n",
      "Topic  15\n",
      "pron, anti, co, hand anything, anti twitter, dear anti, twitter hand, fbi treasonous, anything pron, treasonous\n",
      "\n",
      "Topic  16\n",
      "fbi treasonous, dear anti, hand anything, anti twitter, twitter hand, anti, anything pron, treasonous, pron fbi, hand\n",
      "\n",
      "Topic  17\n",
      "american, anti american, un vladimir, putin xi, jinp pron, american dictator, jinp, xi jinp, resent, pron resent\n",
      "\n",
      "Topic  18\n",
      "abandon pron, abandon, pron lose, lose pron, lose, bully tear, leave refuse, silence bully, chance leave, offer chance\n",
      "\n",
      "Topic  19\n",
      "year, vietnam, purple, step plane, pron captain, captain pron, kaiy, navy serve, hold captive, year award\n"
     ]
    }
   ],
   "source": [
    "display_topics(lsa_8, tfidf_8.get_feature_names(), 10)"
   ]
  },
  {
   "cell_type": "markdown",
   "metadata": {},
   "source": [
    "Community_9"
   ]
  },
  {
   "cell_type": "code",
   "execution_count": 29,
   "metadata": {},
   "outputs": [
    {
     "data": {
      "text/plain": [
       "array([0.03039051, 0.04054664, 0.03519066, 0.03459796, 0.02988777,\n",
       "       0.02932804, 0.0174524 , 0.01723368, 0.0163917 , 0.01495337,\n",
       "       0.01307522, 0.01302869, 0.01211169, 0.01195712, 0.01076811,\n",
       "       0.01068463, 0.01024478, 0.00976488, 0.00946673, 0.00926948])"
      ]
     },
     "execution_count": 29,
     "metadata": {},
     "output_type": "execute_result"
    }
   ],
   "source": [
    "bag_of_words_9 = tfidf_9.fit_transform(X_9)\n",
    "lsa_9 = TruncatedSVD(20)\n",
    "doc_topic_9 = lsa_9.fit_transform(bag_of_words_9)\n",
    "lsa_9.explained_variance_ratio_"
   ]
  },
  {
   "cell_type": "code",
   "execution_count": 30,
   "metadata": {},
   "outputs": [
    {
     "name": "stdout",
     "output_type": "stream",
     "text": [
      "\n",
      "Topic  0\n",
      "pron, pron pron, trump, rino, trump pron, medium, bad, president, donald trump, donald\n",
      "\n",
      "Topic  1\n",
      "fbi, december senator, agent bill, confirm fbi, copy first, priestap confirm, fbi receive, receive copy, counterintelligence fbi, senior counterintelligence\n",
      "\n",
      "Topic  2\n",
      "fake, medium, indeed prove, paper last, annapolis send, court paper, prove court, print election, medium hop, dem work\n",
      "\n",
      "Topic  3\n",
      "donald trump, donald, medium, hate donald, use advance, racist divisive, divisive voice, advance narrative, voice medium, narrative trump\n",
      "\n",
      "Topic  4\n",
      "young, yrs, home propose, imagine wait, woman yrs, yrs young, propose woman, husband return, propose, young pron\n",
      "\n",
      "Topic  5\n",
      "today change, trust rino, conservative never, discredit trump, change trump, never trust, every conservative, pron everything, continue pron, trust\n",
      "\n",
      "Topic  6\n",
      "yes, trump, yes trump, back, pron want, want, pron, air force, body dc, transfer body\n",
      "\n",
      "Topic  7\n",
      "involve, give, president, election, accounting, complicit foment, deserve full, hysteria american, player involve, full accounting\n",
      "\n",
      "Topic  8\n",
      "yes, player involve, accounting player, full accounting, accounting, complicit foment, deserve full, hysteria american, involve fact, fact unsettling\n",
      "\n",
      "Topic  9\n",
      "defend attack, remove dumb, favor unfollow, pron remove, unfollow pron, dumb pron, unfollow, pron feed, pron favor, favor\n",
      "\n",
      "Topic  10\n",
      "go, donald trump, donald, senator, pron go, trump, correct fact, senator ohio, ohio correct, far enough\n",
      "\n",
      "Topic  11\n",
      "democrat, love, love pron, nation stab, back conspire, try hillary, lie nation, hillary elect, conspire democrat, elect peddle\n",
      "\n",
      "Topic  12\n",
      "donald trump, donald, trump donald, memo, trump, participate, participate vicious, vicious smear, disseminate steele, trump disseminate\n",
      "\n",
      "Topic  13\n",
      "donald trump, donald, trump donald, trump, defend attack, remove dumb, favor unfollow, pron remove, dumb pron, unfollow pron\n",
      "\n",
      "Topic  14\n",
      "afbfhtev, co afbfhtev, criticize co, pron criticize, co, criticize, donald trump, donald, pron, ue txkulun\n",
      "\n",
      "Topic  15\n",
      "disseminate, txkulun, ue txkulun, detail associate, evjrro, reporter obama, cover news, significant role, kramer significant, news last\n",
      "\n",
      "Topic  16\n",
      "afbfhtev, co afbfhtev, criticize co, pron criticize, criticize, co, memo, vicious smear, participate vicious, trump disseminate\n",
      "\n",
      "Topic  17\n",
      "service, two mutually, service absolute, disgrace two, thankful military, year public, absolute disgrace, latter year, pron thankful, service still\n",
      "\n",
      "Topic  18\n",
      "spread, pron memoir, memoir, memoir spread, discredit pron, go hell, pron anyone, write pron, spread steele, anyone pron\n",
      "\n",
      "Topic  19\n",
      "spread, pron memoir, memoir, memoir spread, discredit pron, go hell, pron anyone, write pron, spread steele, anyone pron\n"
     ]
    }
   ],
   "source": [
    "display_topics(lsa_9, tfidf_9.get_feature_names(), 10)"
   ]
  },
  {
   "cell_type": "markdown",
   "metadata": {},
   "source": [
    "Community_10"
   ]
  },
  {
   "cell_type": "code",
   "execution_count": 31,
   "metadata": {},
   "outputs": [
    {
     "data": {
      "text/plain": [
       "array([0.10104706, 0.07003953, 0.03796956, 0.04223051, 0.03818715,\n",
       "       0.02236901, 0.02465911, 0.01868463, 0.0189153 , 0.01787809,\n",
       "       0.01596609, 0.01416978, 0.01266458, 0.01072196, 0.00967455,\n",
       "       0.00884844, 0.0077876 , 0.00748038, 0.00689016, 0.00620884])"
      ]
     },
     "execution_count": 31,
     "metadata": {},
     "output_type": "execute_result"
    }
   ],
   "source": [
    "bag_of_words_10 = tfidf_10.fit_transform(X_10)\n",
    "lsa_10 = TruncatedSVD(20)\n",
    "doc_topic_10 = lsa_10.fit_transform(bag_of_words_10)\n",
    "lsa_10.explained_variance_ratio_"
   ]
  },
  {
   "cell_type": "code",
   "execution_count": 32,
   "metadata": {},
   "outputs": [
    {
     "name": "stdout",
     "output_type": "stream",
     "text": [
      "\n",
      "Topic  0\n",
      "save health, entire adult, adult life, life help, people disgraceful, help save, care million, million people, adult, realdonaldtrump continue\n",
      "\n",
      "Topic  1\n",
      "always, always shame, lqc mcgmh, lqc, co lqc, senjohnmccain always, mcgmh, always fan, fan senjohnmccain, realdonaldtrump co\n",
      "\n",
      "Topic  2\n",
      "enough, tweet attack, tweet, inspirational public, enough inspirational, servant sacrifice, sacrifice much, gqgipdywzx, realdonaldtrump enough, co gqgipdywzx\n",
      "\n",
      "Topic  3\n",
      "enough, gqgipdywzx, co gqgipdywzx, enough inspirational, sacrifice much, inspirational public, servant sacrifice, realdonaldtrump enough, inspirational, enough realdonaldtrump\n",
      "\n",
      "Topic  4\n",
      "kudo, egfdjv, reintroduce pron, resolution last, pleased co, xoh, sponsor resolution, xoh egfdjv, tribute kudo, pleased\n",
      "\n",
      "Topic  5\n",
      "pron, president, self, war hero, friend, war, trump, pron friend, attention, attack depart\n",
      "\n",
      "Topic  6\n",
      "self, empathetic, patriotic honorable, sacrifice empathetic, family country, honorable self, country god, friend heroic, self sacrifice, efface\n",
      "\n",
      "Topic  7\n",
      "trump, pron, funeral, cathedral, aide, smear, today, lie, funeral pron, trump lie\n",
      "\n",
      "Topic  8\n",
      "cathedral, funeral, president, national cathedral, government official, government, president approve, want president, kind funeral, funeral pron\n",
      "\n",
      "Topic  9\n",
      "aide, former aide, trump lie, lie, former, claim today, support repeal, lie ex, mislead wh, today senator\n",
      "\n",
      "Topic  10\n",
      "billion, pron budget, divert, cut trillion, budget, budget cut, trillion medicaid, attention fact, trump divert, billion medicare\n",
      "\n",
      "Topic  11\n",
      "abandon pron, pron lose, abandon, lose pron, pron, lose, friend, pron friend, lindseygrahamsc, tear apart\n",
      "\n",
      "Topic  12\n",
      "inspiring life, miss statement, co pkgeqkely, pkgeqkely, serve remind, decent inspiring, honorable decent, statement president, pron honorable, president serve\n",
      "\n",
      "Topic  13\n",
      "introduce pron, soon introduce, pron legislation, legislation name, look forward, building american, forward soon, senate russell, russell building, name senate\n",
      "\n",
      "Topic  14\n",
      "soon introduce, forward soon, building american, introduce pron, legislation name, pron legislation, look forward, russell building, senate russell, name senate\n",
      "\n",
      "Topic  15\n",
      "year, dyb, kaiy, captive vietnam, heart silver, star pron, pron captain, serve year, navy serve, senator step\n",
      "\n",
      "Topic  16\n",
      "american, despicable president, insult defame, longer stand, defame attack, state continue, stand defend, dead american, attack dead, defame\n",
      "\n",
      "Topic  17\n",
      "servant shameful, veteran public, continue disparage, president continue, senator veteran, disparage remark, shameful, remark late, remark, veteran\n",
      "\n",
      "Topic  18\n",
      "talk senator, mr president, stop talk, seriously stop, president seriously, seriously, mr, talk, stop, president\n",
      "\n",
      "Topic  19\n",
      "attack pron, country pron, deserve good, ashamed pron, alone attack, never someone, someone attack, friend month, die alone, patriotism service\n"
     ]
    }
   ],
   "source": [
    "display_topics(lsa_10, tfidf_10.get_feature_names(), 10)"
   ]
  },
  {
   "cell_type": "markdown",
   "metadata": {},
   "source": [
    "Community_11"
   ]
  },
  {
   "cell_type": "code",
   "execution_count": 33,
   "metadata": {},
   "outputs": [
    {
     "data": {
      "text/plain": [
       "array([0.12644582, 0.07579709, 0.05832819, 0.02868003, 0.02595414,\n",
       "       0.02056228, 0.01723094, 0.01434452, 0.01303006, 0.01161785,\n",
       "       0.01093918, 0.01099001, 0.01066403, 0.00957572, 0.00846772,\n",
       "       0.00814263, 0.00808905, 0.00712089, 0.00678499, 0.00645209])"
      ]
     },
     "execution_count": 33,
     "metadata": {},
     "output_type": "execute_result"
    }
   ],
   "source": [
    "bag_of_words_11 = tfidf_11.fit_transform(X_11)\n",
    "lsa_11 = TruncatedSVD(20)\n",
    "doc_topic_11 = lsa_11.fit_transform(bag_of_words_11)\n",
    "lsa_11.explained_variance_ratio_"
   ]
  },
  {
   "cell_type": "code",
   "execution_count": 34,
   "metadata": {},
   "outputs": [
    {
     "name": "stdout",
     "output_type": "stream",
     "text": [
      "\n",
      "Topic  0\n",
      "pron, president, xwoiibo, hg, co hg, hg xwoiibo, approve care, care thank, pron ok, fan co\n",
      "\n",
      "Topic  1\n",
      "choose pron, choose, pron pron, pron, test never, ever end, choice hard, loyalty test, friend kellyanne, pron principle\n",
      "\n",
      "Topic  2\n",
      "never, kunhwo, co kunhwo, never co, trump never, fan never, never fan, fan, president trump, co\n",
      "\n",
      "Topic  3\n",
      "pron, instead, team, headline sen, team seek, adversary muell, adversary, manufacture instead, coverage pron, instead headline\n",
      "\n",
      "Topic  4\n",
      "pron pron, turn, pron, also, hop put, fbi hop, jeopardy, pron jeopardy, instead alert, dossier authority\n",
      "\n",
      "Topic  5\n",
      "follow pron, order avoid, example focus, also follow, pron attention, serve attack, disability order, future pron, president future, attack depart\n",
      "\n",
      "Topic  6\n",
      "remember, sfpiw, incredible speech, co sfpiw, remember meghan, fanfare, meghan incredible, fanfare funeral, credit remember, remember fanfare\n",
      "\n",
      "Topic  7\n",
      "aide, former aide, trump lie, lie, former, pron, repeal replace, replace, repeal, mind nope\n",
      "\n",
      "Topic  8\n",
      "cathedral, national cathedral, national, washington national, government official, government, washington, approval president, funeral cathedral, cathedral require\n",
      "\n",
      "Topic  9\n",
      "smear, pron, attack pron, attack, donald trump, donald, hero longer, longer, hard gop, longer answer\n",
      "\n",
      "Topic  10\n",
      "fake, billion, work together, indeed prove, print election, print, paper last, send fake, fail usual, usual\n",
      "\n",
      "Topic  11\n",
      "billion, medicaid, attention fact, agenda, petty attack, budget, medicaid billion, medicare billion, trump divert, every petty\n",
      "\n",
      "Topic  12\n",
      "self, pron friend, exemplary pron, honorable self, friend heroic, disparage man, country god, empathetic, self efface, man exemplary\n",
      "\n",
      "Topic  13\n",
      "late, pron, pron never, pron co, want thank, late sen, weekend, mxqgosfcd, co mxqgosfcd, grant late\n",
      "\n",
      "Topic  14\n",
      "want thank, co mxqgosfcd, trump suggest, late funeral, credit grant, suggest ohio, never credit, grant late, mxqgosfcd, funeral give\n",
      "\n",
      "Topic  15\n",
      "america, great, great meghan, dsmogchtvb, great america, always great, co dsmogchtvb, meghan mccainmemorial, america always, mccainmemorial\n",
      "\n",
      "Topic  16\n",
      "obamacare, vote, late sen, repeal, tweet, zcskdkbajp, tweet critical, co zcskdkbajp, critical late, unhappy vote\n",
      "\n",
      "Topic  17\n",
      "abandon pron, pron lose, abandon, lose pron, lose, pron friend, friend, silence bully, tear apart, stand silence\n",
      "\n",
      "Topic  18\n",
      "willing lay, particularly pron, country idea, anything patriot, reputation war, idea president, tear reputation, hero particularly, lot never, disagree lot\n",
      "\n",
      "Topic  19\n",
      "fbi, senator, first page, page dossier, receive copy, declaration september, september former, senior counterintelligence, dossier december, factsarefact co\n"
     ]
    }
   ],
   "source": [
    "display_topics(lsa_11, tfidf_11.get_feature_names(), 10)"
   ]
  },
  {
   "cell_type": "markdown",
   "metadata": {},
   "source": [
    "Community_12"
   ]
  },
  {
   "cell_type": "code",
   "execution_count": 35,
   "metadata": {},
   "outputs": [
    {
     "data": {
      "text/plain": [
       "array([0.28535069, 0.0494183 , 0.04790749, 0.03195337, 0.02791916,\n",
       "       0.01987265, 0.01340569, 0.00967651, 0.00936284, 0.00898643,\n",
       "       0.0084225 , 0.00732225, 0.0072493 , 0.00668028, 0.00647529,\n",
       "       0.00615781, 0.00592635, 0.00574501, 0.00529965, 0.00492186])"
      ]
     },
     "execution_count": 35,
     "metadata": {},
     "output_type": "execute_result"
    }
   ],
   "source": [
    "bag_of_words_12 = tfidf_12.fit_transform(X_12)\n",
    "lsa_12 = TruncatedSVD(20)\n",
    "doc_topic_12 = lsa_12.fit_transform(bag_of_words_12)\n",
    "lsa_12.explained_variance_ratio_"
   ]
  },
  {
   "cell_type": "code",
   "execution_count": 36,
   "metadata": {},
   "outputs": [
    {
     "name": "stdout",
     "output_type": "stream",
     "text": [
      "\n",
      "Topic  0\n",
      "pron, billion, feud deceased, focus pron, nation focus, agenda, keep nation, pron agenda, pron rather, rather keep\n",
      "\n",
      "Topic  1\n",
      "pron, great courage, aohksjgeqe, co aohksjgeqe, memory american, veteran attack, sen friend, attack memory, president fight, man great\n",
      "\n",
      "Topic  2\n",
      "pron, dead note, par famous, write fond, coward par, remembrance pron, dodger donald, fond, leader keep, fond remembrance\n",
      "\n",
      "Topic  3\n",
      "president, attack depart, also follow, example focus, pron attention, depart war, behavior president, serve attack, president fake, president future\n",
      "\n",
      "Topic  4\n",
      "bi frkphc, frkphc, co bi, bi, trump funeral, reminder trump, reminder, funeral co, funeral, co\n",
      "\n",
      "Topic  5\n",
      "time, give, kfxfkhh, co kfxfkhh, jr, separate contribution, separate, give co, ahsaklx gr, ahsaklx\n",
      "\n",
      "Topic  6\n",
      "smear, smear attack, must stop, therefore repugnant, smear pron, continuously, pron continuously, apologize hard, therefore, trump smear\n",
      "\n",
      "Topic  7\n",
      "pron, aide, funeral, lie, cathedral, former aide, trump lie, former, funeral pron, want\n",
      "\n",
      "Topic  8\n",
      "aide, former aide, trump lie, former, lie, go support, today senator, claim today, aide pron, mind nope\n",
      "\n",
      "Topic  9\n",
      "abandon pron, abandon, pron lose, lose pron, pron friend, lose, friend, pron, silence bully, apart abandon\n",
      "\n",
      "Topic  10\n",
      "sketch, sketch alec, alec baldwin, alec, baldwin ghost, baldwin, snl sketch, hope snl, snl, ghost\n",
      "\n",
      "Topic  11\n",
      "look, attack dead, graham, constantly attack, trump constantly, constantly, nothing, anything, dead, pron\n",
      "\n",
      "Topic  12\n",
      "bank, commit bank, bank fraud, fraud secure, news break, spend wrongfully, loan, loan pron, child jail, guy news\n",
      "\n",
      "Topic  13\n",
      "building american, forward soon, senate russell, introduce pron, soon introduce, legislation name, russell building, look forward, soon, pron legislation\n",
      "\n",
      "Topic  14\n",
      "oligarch, graham, lindsey, lindsey graham, mitch mcconnell, mitch, mcconnell, kasich, scott walker, ukrainian bear\n",
      "\n",
      "Topic  15\n",
      "oligarch, cathedral, vladimir, vladimir putin, ukrainian bear, two russian, walker, scott walker, ukrainian, pac\n",
      "\n",
      "Topic  16\n",
      "story president, health kid, go week, needchangeinthewhitehouse co, needchangeinthewhitehouse, bring tear, week well, well lack, co mdirm, mental health\n",
      "\n",
      "Topic  17\n",
      "kavanaugh, kavanaugh pron, pron look, look pron, defense, look, sen, graham, defend brett, record sen\n",
      "\n",
      "Topic  18\n",
      "self, self sacrifice, courageous patriotic, duty family, president disparage, heroic, man exemplary, drive duty, disparage man, patriotic honorable\n",
      "\n",
      "Topic  19\n",
      "speak, colleague, woman courage, republican man, disgusting really, badly pron, soul travesty, willing sell, speak disgusting, senator colleague\n"
     ]
    }
   ],
   "source": [
    "display_topics(lsa_12, tfidf_12.get_feature_names(), 10)"
   ]
  },
  {
   "cell_type": "markdown",
   "metadata": {},
   "source": [
    "Community_13"
   ]
  },
  {
   "cell_type": "code",
   "execution_count": 37,
   "metadata": {},
   "outputs": [
    {
     "data": {
      "text/plain": [
       "array([0.17618321, 0.10003196, 0.0802793 , 0.03356087, 0.02598526,\n",
       "       0.02159846, 0.02092684, 0.01898224, 0.01630273, 0.01520078,\n",
       "       0.01307238, 0.00941866, 0.00816834, 0.00780229, 0.00750061,\n",
       "       0.00742914, 0.00659331, 0.00594933, 0.00590404, 0.00587636])"
      ]
     },
     "execution_count": 37,
     "metadata": {},
     "output_type": "execute_result"
    }
   ],
   "source": [
    "bag_of_words_13 = tfidf_13.fit_transform(X_13)\n",
    "lsa_13 = TruncatedSVD(20)\n",
    "doc_topic_13 = lsa_13.fit_transform(bag_of_words_13)\n",
    "lsa_13.explained_variance_ratio_"
   ]
  },
  {
   "cell_type": "code",
   "execution_count": 38,
   "metadata": {},
   "outputs": [
    {
     "name": "stdout",
     "output_type": "stream",
     "text": [
      "\n",
      "Topic  0\n",
      "republican, republican colin, anthem also, kaepernick disrespectful, disrespectful military, colin kaepernick, veteran kneel, also republican, kneel anthem, kneel\n",
      "\n",
      "Topic  1\n",
      "takeaway, takeaway pron, pron beef, past lose, beef trump, spend past, argument dead, lose argument, argument, beef\n",
      "\n",
      "Topic  2\n",
      "vjkikfqsb, co vjkikfqsb, trump today, fan trump, today never, trump co, never fan, fan, today, never\n",
      "\n",
      "Topic  3\n",
      "pron, shut fuck, fuck, whine, shut, pron country, serve, country, chickenshit serve, fuck forever\n",
      "\n",
      "Topic  4\n",
      "pron, president, attention, focus, late, president future, serve attack, also follow, depart war, example focus\n",
      "\n",
      "Topic  5\n",
      "billion, pron, funeral, keep, every petty, keep nation, divert attention, attention fact, trump divert, medicare billion\n",
      "\n",
      "Topic  6\n",
      "funeral, cathedral, funeral pron, kind funeral, pron want, want, kind, give, president approve, approve\n",
      "\n",
      "Topic  7\n",
      "smear, pron, answer smear, therefore repugnant, apologize hard, pron continuously, must stop, hard gop, maliciously trump, gop pron\n",
      "\n",
      "Topic  8\n",
      "aide, former aide, trump lie, lie, former, pron, happen former, mind nope, effort change, wh pron\n",
      "\n",
      "Topic  9\n",
      "abandon pron, pron lose, abandon, lose pron, pron friend, friend, pron, lose, life lindseygrahamsc, pow offer\n",
      "\n",
      "Topic  10\n",
      "want thank, thank pron, thank, pool, bewrwv vss, shot late, trump ohio, pool photo, co bewrwv, keep shot\n",
      "\n",
      "Topic  11\n",
      "pron, pron pron, american, look, graham, american hero, sen, kavanaugh, kavanaugh pron, look pron\n",
      "\n",
      "Topic  12\n",
      "american, american hero, russell building, forward soon, soon introduce, look forward, building american, senate russell, pron legislation, legislation name\n",
      "\n",
      "Topic  13\n",
      "co mfxfdgv, senator colleague, badly pron, soul travesty, election badly, stand speak, speak disgusting, woman courage, republican man, idea senator\n",
      "\n",
      "Topic  14\n",
      "self, drive duty, sacrifice empathetic, honorable self, understand president, friend heroic, duty family, efface, efface self, president disparage\n",
      "\n",
      "Topic  15\n",
      "look, kavanaugh pron, kavanaugh, look pron, defense, pron look, graham, self, sen, pron friend\n",
      "\n",
      "Topic  16\n",
      "trump die, donald trump, donald, die, american, anti, trump, trump condemn, week donald, week\n",
      "\n",
      "Topic  17\n",
      "always, widow, widow lindsay, anything unseemly, unseemly trump, today always, denigrate widow, always denigrate, graham nothing, trump constantly\n",
      "\n",
      "Topic  18\n",
      "lie, pron, late sen, late, pron pron, ohio, address, choice, speak typical, particularly bad\n",
      "\n",
      "Topic  19\n",
      "talk senator, president seriously, seriously stop, stop talk, seriously, mr president, mr, talk, stop, senator\n"
     ]
    }
   ],
   "source": [
    "display_topics(lsa_13, tfidf_13.get_feature_names(), 10)"
   ]
  },
  {
   "cell_type": "markdown",
   "metadata": {},
   "source": [
    "Community_14"
   ]
  },
  {
   "cell_type": "code",
   "execution_count": 39,
   "metadata": {},
   "outputs": [
    {
     "data": {
      "text/plain": [
       "array([0.15050327, 0.06045983, 0.04722558, 0.04991774, 0.03501545,\n",
       "       0.02735105, 0.02468907, 0.02131494, 0.01813945, 0.0154613 ,\n",
       "       0.01551777, 0.01366327, 0.01357324, 0.01202131, 0.01131519,\n",
       "       0.01045217, 0.00984472, 0.00970974, 0.0090017 , 0.00778447])"
      ]
     },
     "execution_count": 39,
     "metadata": {},
     "output_type": "execute_result"
    }
   ],
   "source": [
    "bag_of_words_14 = tfidf_14.fit_transform(X_14)\n",
    "lsa_14 = TruncatedSVD(20)\n",
    "doc_topic_14 = lsa_14.fit_transform(bag_of_words_14)\n",
    "lsa_14.explained_variance_ratio_"
   ]
  },
  {
   "cell_type": "code",
   "execution_count": 40,
   "metadata": {},
   "outputs": [
    {
     "name": "stdout",
     "output_type": "stream",
     "text": [
      "\n",
      "Topic  0\n",
      "pron, cell, dead god, god sake, inch, trash truly, cell beat, spur matter, yacht, lock cell\n",
      "\n",
      "Topic  1\n",
      "death certificate, long form, ppfy, senator release, form death, ubrac, co ubrac, ubrac ppfy, call senator, certificate co\n",
      "\n",
      "Topic  2\n",
      "still donald, xvhjt, full clip, clip, clip co, lose late, mind full, co xvhjt, senator still, really believe\n",
      "\n",
      "Topic  3\n",
      "actually plan, cater macdonald, pron cater, macdonald, plan senator, president actually, cater, actually, plan, senator funeral\n",
      "\n",
      "Topic  4\n",
      "peteratlantic, absolutely unacceptable, late absolutely, schwarzenegger call, arnold schwarzenegger, arnold, schwarzenegger, unacceptable, absolutely, attack late\n",
      "\n",
      "Topic  5\n",
      "pron, attention, president, focus, order avoid, future, attack depart, also follow, depart war, depart\n",
      "\n",
      "Topic  6\n",
      "argue pron, pron person, trump narcissism, lack empathy, empathy argue, degree psychology, psychology trump, argue, psychology, narcissism lack\n",
      "\n",
      "Topic  7\n",
      "billion, feud deceased, cut trillion, billion social, billion medicare, trillion medicaid, security pron, divert attention, pron agenda, focus pron\n",
      "\n",
      "Topic  8\n",
      "smear, pron, attack pron, continuously maliciously, hard gop, longer answer, must stop, trump smear, apologize hard, repugnant donald\n",
      "\n",
      "Topic  9\n",
      "cathedral, pron, funeral, else, damning, endure public, gift pron, public outcry, gift, shocker\n",
      "\n",
      "Topic  10\n",
      "cathedral, funeral, kind funeral, president approve, want president, pron want, approve, national cathedral, kind, want\n",
      "\n",
      "Topic  11\n",
      "aide, former aide, trump lie, lie, former, pron, self, aide trump, nope, mind nope\n",
      "\n",
      "Topic  12\n",
      "self, pron friend, friend, honorable self, patriotic honorable, efface, duty family, empathetic, understand president, empathetic drive\n",
      "\n",
      "Topic  13\n",
      "peteratlantic co, report peteratlantic, unacceptable report, co mnxljspvfq, mnxljspvfq, call president, report, president trump, president, absolutely unacceptable\n",
      "\n",
      "Topic  14\n",
      "abandon pron, pron lose, abandon, lose pron, pron, lose, pron friend, friend, offer chance, leave refuse\n",
      "\n",
      "Topic  15\n",
      "kellyanne, laoqoo, co rw, beef kellyanne, rw laoqoo, rw, kellyanne boss, boss escalate, boss, escalate pron\n",
      "\n",
      "Topic  16\n",
      "american, hero, american hero, attack dead, always, always denigrate, widow lindsay, today always, unseemly trump, anything unseemly\n",
      "\n",
      "Topic  17\n",
      "conway, xk rcwayfw, marriage miss, dr phtrevor, conway marriage, conway feud, miss teen, dressing, dressing room, phtrevor\n",
      "\n",
      "Topic  18\n",
      "american, american hero, senate russell, forward soon, building american, soon introduce, legislation, pron legislation, russell building, look forward\n",
      "\n",
      "Topic  19\n",
      "year, pron, vietnam pron, navy serve, dyb kaiy, serve year, zero co, step plane, hold captive, kaiy\n"
     ]
    }
   ],
   "source": [
    "display_topics(lsa_14, tfidf_14.get_feature_names(), 10)"
   ]
  },
  {
   "cell_type": "markdown",
   "metadata": {},
   "source": [
    "Community_15"
   ]
  },
  {
   "cell_type": "code",
   "execution_count": 41,
   "metadata": {},
   "outputs": [
    {
     "data": {
      "text/plain": [
       "array([0.216564  , 0.07338363, 0.02567562, 0.02409867, 0.01470284,\n",
       "       0.01431488, 0.01421944, 0.01102413, 0.00999701, 0.00893798,\n",
       "       0.00825014, 0.00773957, 0.00747898, 0.00685462, 0.006825  ,\n",
       "       0.00659733, 0.00580656, 0.00559686, 0.00537897, 0.00529608])"
      ]
     },
     "execution_count": 41,
     "metadata": {},
     "output_type": "execute_result"
    }
   ],
   "source": [
    "bag_of_words_15 = tfidf_15.fit_transform(X_15)\n",
    "lsa_15 = TruncatedSVD(20)\n",
    "doc_topic_15 = lsa_15.fit_transform(bag_of_words_15)\n",
    "lsa_15.explained_variance_ratio_"
   ]
  },
  {
   "cell_type": "code",
   "execution_count": 42,
   "metadata": {},
   "outputs": [
    {
     "name": "stdout",
     "output_type": "stream",
     "text": [
      "\n",
      "Topic  0\n",
      "cathedral, funeral, president, today funeral, cathedral today, yesterday give, approve washington, sen kind, give sen, government official\n",
      "\n",
      "Topic  1\n",
      "pron, client jeffrey, scandal pron, criminal client, moralize, journalist ask, moralize dark, tv moralize, assault scandal, watch baylor\n",
      "\n",
      "Topic  2\n",
      "pron, attention, focus, behavior president, serve attack, disability order, future pron, president future, example focus, also follow\n",
      "\n",
      "Topic  3\n",
      "billion, every petty, billion social, medicaid billion, deceased pron, feud deceased, rather keep, cut trillion, nation focus, trillion medicaid\n",
      "\n",
      "Topic  4\n",
      "never, aide, pron, former aide, trump lie, lie, former, never fan, fan, fan never\n",
      "\n",
      "Topic  5\n",
      "white, white supremacist, supremacist, muslim, kill, reminder pron, cable news, walk mosque, week hour, prayer cable\n",
      "\n",
      "Topic  6\n",
      "never, never fan, fan never, trump today, fan, co nvnifdhh, nvnifdhh, never trump, today co, co\n",
      "\n",
      "Topic  7\n",
      "pron, friend, pron friend, abandon pron, abandon, pron lose, lose pron, lose, smear, attack\n",
      "\n",
      "Topic  8\n",
      "abandon pron, abandon, pron lose, lose pron, lose, pron friend, friend, silence bully, tear apart, chance leave\n",
      "\n",
      "Topic  9\n",
      "vigor, enforcement, clinton obama, use attack, obama law, press clinton, enforcement muslim, supremacist vigor, attack press, dedication pron\n",
      "\n",
      "Topic  10\n",
      "dead, pron, last, american, man, co, attack dead, jong, jong un, kim jong\n",
      "\n",
      "Topic  11\n",
      "last, dead, jong, jong un, kim jong, kim, un, trump spend, mb, un kill\n",
      "\n",
      "Topic  12\n",
      "calculation, nz yet, devoted, devoted time, family pain, tweet family, hand wringing, cnn devoted, shooting muslim, muslim white\n",
      "\n",
      "Topic  13\n",
      "look, american hero, soon introduce, forward soon, building american, legislation name, pron legislation, senate russell, forward, look forward\n",
      "\n",
      "Topic  14\n",
      "co mfxfdgv, willing sell, senator colleague, soul travesty, stand speak, idea senator, colleague stand, mfxfdgv, really republican, woman courage\n",
      "\n",
      "Topic  15\n",
      "well, trump well, nation safe, well long, safe co, president pron, pron nation, long pron, safe, long\n",
      "\n",
      "Topic  16\n",
      "country pron, needchangeinthewhitehouse co, health kid, bring tear, tear hear, hear story, focus mental, akc, story president, go week\n",
      "\n",
      "Topic  17\n",
      "graham, kavanaugh pron, pron look, kavanaugh, look pron, defense, lindsey, lindsey graham, friend, look\n",
      "\n",
      "Topic  18\n",
      "death, pron death, month pron, month, pron attack, attack month, stayclassy co, trump unhappy, abruptly end, disgraceful never\n",
      "\n",
      "Topic  19\n",
      "self, pron friend, disparage man, man exemplary, exemplary pron, president disparage, empathetic, understand president, sacrifice empathetic, courageous patriotic\n"
     ]
    }
   ],
   "source": [
    "display_topics(lsa_15, tfidf_15.get_feature_names(), 10)"
   ]
  },
  {
   "cell_type": "markdown",
   "metadata": {},
   "source": [
    "Now I have my top words in each LSA object w/ 20 topics each. I'm going to pickle each model and then use a new file to:\n",
    " - Find which tweets score the highest in each topic to get examples\n",
    " - Name communities\n",
    " - Sentiment analysis (maybe weekend)"
   ]
  },
  {
   "cell_type": "code",
   "execution_count": 43,
   "metadata": {
    "code_folding": []
   },
   "outputs": [],
   "source": [
    "with open('/Users/robertpagano/metis_data/project_5/topic_modeling/lsa_mccain/lsa_0.pickle', 'wb') as to_write:\n",
    "    pickle.dump(lsa_0, to_write)\n",
    "    \n",
    "with open('/Users/robertpagano/metis_data/project_5/topic_modeling/lsa_mccain/lsa_1.pickle', 'wb') as to_write:\n",
    "    pickle.dump(lsa_1, to_write)\n",
    "    \n",
    "with open('/Users/robertpagano/metis_data/project_5/topic_modeling/lsa_mccain/lsa_3.pickle', 'wb') as to_write:\n",
    "    pickle.dump(lsa_3, to_write)\n",
    "    \n",
    "with open('/Users/robertpagano/metis_data/project_5/topic_modeling/lsa_mccain/lsa_4.pickle', 'wb') as to_write:\n",
    "    pickle.dump(lsa_4, to_write)\n",
    "    \n",
    "with open('/Users/robertpagano/metis_data/project_5/topic_modeling/lsa_mccain/lsa_5.pickle', 'wb') as to_write:\n",
    "    pickle.dump(lsa_5, to_write)\n",
    "    \n",
    "with open('/Users/robertpagano/metis_data/project_5/topic_modeling/lsa_mccain/lsa_6.pickle', 'wb') as to_write:\n",
    "    pickle.dump(lsa_6, to_write)\n",
    "    \n",
    "with open('/Users/robertpagano/metis_data/project_5/topic_modeling/lsa_mccain/lsa_7.pickle', 'wb') as to_write:\n",
    "    pickle.dump(lsa_7, to_write)\n",
    "    \n",
    "with open('/Users/robertpagano/metis_data/project_5/topic_modeling/lsa_mccain/lsa_8.pickle', 'wb') as to_write:\n",
    "    pickle.dump(lsa_8, to_write)\n",
    "    \n",
    "with open('/Users/robertpagano/metis_data/project_5/topic_modeling/lsa_mccain/lsa_9.pickle', 'wb') as to_write:\n",
    "    pickle.dump(lsa_9, to_write)\n",
    "    \n",
    "with open('/Users/robertpagano/metis_data/project_5/topic_modeling/lsa_mccain/lsa_10.pickle', 'wb') as to_write:\n",
    "    pickle.dump(lsa_10, to_write)\n",
    "    \n",
    "with open('/Users/robertpagano/metis_data/project_5/topic_modeling/lsa_mccain/lsa_11.pickle', 'wb') as to_write:\n",
    "    pickle.dump(lsa_11, to_write)\n",
    "    \n",
    "with open('/Users/robertpagano/metis_data/project_5/topic_modeling/lsa_mccain/lsa_12.pickle', 'wb') as to_write:\n",
    "    pickle.dump(lsa_12, to_write)\n",
    "    \n",
    "with open('/Users/robertpagano/metis_data/project_5/topic_modeling/lsa_mccain/lsa_13.pickle', 'wb') as to_write:\n",
    "    pickle.dump(lsa_13, to_write)\n",
    "    \n",
    "with open('/Users/robertpagano/metis_data/project_5/topic_modeling/lsa_mccain/lsa_14.pickle', 'wb') as to_write:\n",
    "    pickle.dump(lsa_14, to_write)\n",
    "    \n",
    "with open('/Users/robertpagano/metis_data/project_5/topic_modeling/lsa_mccain/lsa_15.pickle', 'wb') as to_write:\n",
    "    pickle.dump(lsa_15, to_write)\n"
   ]
  },
  {
   "cell_type": "markdown",
   "metadata": {},
   "source": [
    "NMF Models?"
   ]
  },
  {
   "cell_type": "code",
   "execution_count": 44,
   "metadata": {
    "scrolled": true
   },
   "outputs": [
    {
     "name": "stdout",
     "output_type": "stream",
     "text": [
      "420.84452677736454\n",
      "\n",
      "Topic  0\n",
      "aide, former aide, trump lie, lie, former, pron, replace effort, go support, mind nope, mislead wh\n",
      "\n",
      "Topic  1\n",
      "president, president fake, disability order, order avoid, serve attack, focus behavior, example focus, president future, attack depart, also follow\n",
      "\n",
      "Topic  2\n",
      "abandon pron, pron lose, abandon, lose pron, lose, pron friend, pron, friend, pow offer, life lindseygrahamsc\n",
      "\n",
      "Topic  3\n",
      "cathedral, funeral, national cathedral, national, president, government official, want president, president approve, washington national, government\n",
      "\n",
      "Topic  4\n",
      "billion, cut trillion, trillion medicaid, billion medicare, medicare billion, medicaid billion, billion social, budget cut, medicaid, divert attention\n",
      "\n",
      "Topic  5\n",
      "smear, repugnant donald, longer answer, therefore repugnant, maliciously trump, continuously maliciously, answer smear, smear attack, apologize hard, pron continuously\n",
      "\n",
      "Topic  6\n",
      "soon introduce, forward soon, legislation name, pron legislation, building american, introduce pron, senate russell, look forward, russell building, name senate\n",
      "\n",
      "Topic  7\n",
      "pron, pron pron, trump, co, attack, thank, give, funeral, friend, trump pron\n",
      "\n",
      "Topic  8\n",
      "needchangeinthewhitehouse co, health kid, pron needchangeinthewhitehouse, story president, needchangeinthewhitehouse, kid country, lack focus, focus mental, tear hear, hear story\n",
      "\n",
      "Topic  9\n",
      "transgressive, draw energy, weak honorable, attack weak, maliciousness transgressive, maliciousness, energy purpose, purpose maliciousness, transgressive act, honorable dead\n",
      "\n",
      "Topic  10\n",
      "american, dictator, xi jinp, resent american, jinp, admire anti, jinp pron, american dictator, un vladimir, putin xi\n",
      "\n",
      "Topic  11\n",
      "really republican, disgusting really, election badly, travesty co, mfxfdgv, co mfxfdgv, woman courage, soul travesty, idea senator, speak disgusting\n",
      "\n",
      "Topic  12\n",
      "self, efface self, drive duty, sacrifice empathetic, duty family, empathetic drive, courageous patriotic, patriotic honorable, self efface, efface\n",
      "\n",
      "Topic  13\n",
      "co pnhtxqvrrx, pnhtxqvrrx, vietnamese usnavy, week five, usnavy co, release week, imprison north, year imprison, usnavy, imprison\n",
      "\n",
      "Topic  14\n",
      "spit american, profile chickenshit, american greatness, trump spit, chickenshit grand, grand old, profile, old party, grand, greatness\n",
      "\n",
      "Topic  15\n",
      "pron, lie, mendacity unprecedented, public official, unprecedented public, pron mendacity, compulsion lie, shamelessly defend, mendacity, pron compulsion\n",
      "\n",
      "Topic  16\n",
      "recently, defend recently, slander expect, recently pass, attack pathetic, pass hero, trump slander, hero attack, fellow republican, earn respect\n",
      "\n",
      "Topic  17\n",
      "speak, senator speak, also censure, remark statement, speak regard, single senator, speak lack, censure potus, matter side, cowardly speak\n",
      "\n",
      "Topic  18\n",
      "widow, always, attack dead, anything unseemly, unseemly trump, widow lindsay, today always, always denigrate, denigrate widow, graham nothing\n",
      "\n",
      "Topic  19\n",
      "year, ago senator, year award, captive vietnam, navy serve, senator step, plane hold, award purple, pron captain, heart silver\n"
     ]
    }
   ],
   "source": [
    "nmf_0 = NMF(20)\n",
    "doc_topic_NMF_0 = nmf_0.fit_transform(bag_of_words_0)\n",
    "print(nmf_0.reconstruction_err_)\n",
    "\n",
    "display_topics(nmf_0, tfidf_0.get_feature_names(), 10)"
   ]
  },
  {
   "cell_type": "code",
   "execution_count": 45,
   "metadata": {},
   "outputs": [
    {
     "name": "stdout",
     "output_type": "stream",
     "text": [
      "420.6619709338844\n",
      "\n",
      "Topic  0\n",
      "aide, former aide, trump lie, lie, former, pron, mind nope, mislead wh, replace effort, effort change\n",
      "\n",
      "Topic  1\n",
      "order avoid, disability order, serve attack, president fake, focus behavior, example focus, president future, attack depart, also follow, behavior president\n",
      "\n",
      "Topic  2\n",
      "abandon pron, pron lose, abandon, lose pron, lose, pron friend, pron, friend, pow offer, life lindseygrahamsc\n",
      "\n",
      "Topic  3\n",
      "cathedral, funeral, national cathedral, national, president, want president, president approve, government official, kind funeral, washington national\n",
      "\n",
      "Topic  4\n",
      "billion, trillion medicaid, cut trillion, medicaid billion, medicare billion, billion social, billion medicare, budget cut, medicaid, divert attention\n",
      "\n",
      "Topic  5\n",
      "smear, longer answer, repugnant donald, answer smear, therefore repugnant, maliciously trump, continuously maliciously, smear attack, apologize hard, pron continuously\n",
      "\n",
      "Topic  6\n",
      "legislation name, soon introduce, forward soon, pron legislation, building american, introduce pron, senate russell, look forward, russell building, name senate\n",
      "\n",
      "Topic  7\n",
      "pron, pron pron, trump, attack, co, graham, fan, thank, friend, trump pron\n",
      "\n",
      "Topic  8\n",
      "story president, needchangeinthewhitehouse co, health kid, needchangeinthewhitehouse, pron needchangeinthewhitehouse, focus mental, lack focus, kid country, tear hear, hear story\n",
      "\n",
      "Topic  9\n",
      "draw energy, maliciousness transgressive, attack weak, purpose maliciousness, transgressive act, transgressive, energy purpose, maliciousness, weak honorable, honorable dead\n",
      "\n",
      "Topic  10\n",
      "american, dictator, jinp, admire anti, jinp pron, american dictator, xi jinp, resent american, un vladimir, putin xi\n",
      "\n",
      "Topic  11\n",
      "soul travesty, election badly, disgusting really, co mfxfdgv, really republican, mfxfdgv, woman courage, travesty co, idea senator, speak disgusting\n",
      "\n",
      "Topic  12\n",
      "self, sacrifice empathetic, drive duty, duty family, efface self, empathetic drive, courageous patriotic, patriotic honorable, self efface, efface\n",
      "\n",
      "Topic  13\n",
      "co pnhtxqvrrx, pnhtxqvrrx, vietnamese usnavy, week five, usnavy co, release week, year imprison, imprison north, usnavy, imprison\n",
      "\n",
      "Topic  14\n",
      "spit american, profile chickenshit, american greatness, trump spit, chickenshit grand, grand old, profile, old party, grand, greatness\n",
      "\n",
      "Topic  15\n",
      "pron, lie, shamelessly defend, pron compulsion, pron mendacity, apart disgrace, especially shamelessly, mendacity, mendacity unprecedented, public official\n",
      "\n",
      "Topic  16\n",
      "defend recently, slander expect, recently pass, attack pathetic, pass hero, trump slander, hero attack, fellow republican, earn respect, respect trump\n",
      "\n",
      "Topic  17\n",
      "speak, senator speak, also censure, remark statement, speak regard, single senator, matter side, censure potus, speak lack, cowardly speak\n",
      "\n",
      "Topic  18\n",
      "president disorder, resentment utter, empathy family, obsession tear, broken soul, dignity empathy, tear demonstration, demonstration genuinely, die reminder, genuinely broken\n",
      "\n",
      "Topic  19\n",
      "year, plane hold, ago senator, captive vietnam, year award, senator step, navy serve, award purple, pron captain, heart silver\n"
     ]
    }
   ],
   "source": [
    "nmf_1 = NMF(20)\n",
    "doc_topic_NMF_1 = nmf_1.fit_transform(bag_of_words_1)\n",
    "print(nmf_1.reconstruction_err_)\n",
    "\n",
    "display_topics(nmf_1, tfidf_1.get_feature_names(), 10)"
   ]
  },
  {
   "cell_type": "code",
   "execution_count": 46,
   "metadata": {},
   "outputs": [
    {
     "name": "stdout",
     "output_type": "stream",
     "text": [
      "121.27821203086582\n",
      "\n",
      "Topic  0\n",
      "smear, pron, trump, therefore repugnant, pron continuously, apologize hard, smear attack, repugnant donald, longer answer, maliciously\n",
      "\n",
      "Topic  1\n",
      "pron, whether pron, whether, pron friend, friend, pron pron, slap back, inspiring irascible, friend foe, irascible whether\n",
      "\n",
      "Topic  2\n",
      "president, future pron, president future, example focus, also follow, focus behavior, serve attack, disability order, depart war, behavior president\n",
      "\n",
      "Topic  3\n",
      "pron, country, towards family, nearly give, record particularly, ahead pron, country ahead, particularly direct, pron less, direct towards\n",
      "\n",
      "Topic  4\n",
      "billion, medicaid billion, attention fact, trillion medicaid, pron budget, every petty, cut trillion, budget cut, budget, medicare billion\n",
      "\n",
      "Topic  5\n",
      "cathedral, funeral, national cathedral, want president, government official, president, president approve, government, kind funeral, require approval\n",
      "\n",
      "Topic  6\n",
      "aide, former aide, trump lie, lie, former, aide add, mislead wh, mind nope, claim today, replace effort\n",
      "\n",
      "Topic  7\n",
      "legacy tarnish, integrity conviction, conviction service, tarnish realdonaldtrump, tomorrow ever, today tomorrow, realdonaldtrump today, honor integrity, man honor, tomorrow\n",
      "\n",
      "Topic  8\n",
      "abandon pron, abandon, pron lose, lose pron, lose, pron friend, pron, friend, refuse abandon, stand silence\n",
      "\n",
      "Topic  9\n",
      "love, pron, surprising pron, partisan politic, pron surprising, pron shocking, always president, love fight, country anything, surprising\n",
      "\n",
      "Topic  10\n",
      "everyone lose, vr, obamacare hearing, vr hn, co vr, remember president, hearing everyone, allegedly disrespectful, refer sen, pron allegedly\n",
      "\n",
      "Topic  11\n",
      "senate russell, building american, soon introduce, introduce pron, legislation name, forward soon, pron legislation, russell building, look forward, name senate\n",
      "\n",
      "Topic  12\n",
      "come draft, dodger cadetbonespur, lxxxltuczu, issue doubt, vile especially, comment vile, especially come, co lxxxltuczu, disagree many, many policy\n",
      "\n",
      "Topic  13\n",
      "sen, real estate, estate, sen johnny, johnny, johnny isakson, great immigration, system world, immigration system, build great\n",
      "\n",
      "Topic  14\n",
      "self, heroic courageous, courageous patriotic, man exemplary, patriotic honorable, efface, empathetic, sacrifice empathetic, empathetic drive, self efface\n",
      "\n",
      "Topic  15\n",
      "pron, trump, pron pron, funeral, thank, attack, nothing, thank pron, co, dead\n",
      "\n",
      "Topic  16\n",
      "colleague stand, travesty co, woman courage, election badly, really republican, soul travesty, mfxfdgv, badly pron, co mfxfdgv, disgusting really\n",
      "\n",
      "Topic  17\n",
      "well, president, nation safe, well long, trump well, safe co, safe, long pron, transgressive, honorable dead\n",
      "\n",
      "Topic  18\n",
      "year, american, american hero, zero co, senator step, pron navy, heart silver, pron captain, step plane, co dyb\n",
      "\n",
      "Topic  19\n",
      "kavanaugh pron, kavanaugh, pron look, look pron, defense, graham, look, sen, pron, lindsey\n"
     ]
    }
   ],
   "source": [
    "nmf_3 = NMF(20)\n",
    "doc_topic_NMF_3 = nmf_3.fit_transform(bag_of_words_3)\n",
    "print(nmf_3.reconstruction_err_)\n",
    "\n",
    "display_topics(nmf_3, tfidf_3.get_feature_names(), 10)"
   ]
  },
  {
   "cell_type": "code",
   "execution_count": 47,
   "metadata": {},
   "outputs": [
    {
     "name": "stdout",
     "output_type": "stream",
     "text": [
      "185.8740887770584\n",
      "\n",
      "Topic  0\n",
      "pron, obsess, obsess obsess, life spend, friend obsess, never live, weekend pron, live co, family pron, pron life\n",
      "\n",
      "Topic  1\n",
      "pron, thank pron, thank, kind funeral, kind, give, pron want, want, pron kind, give pron\n",
      "\n",
      "Topic  2\n",
      "pron, president fake, example focus, focus behavior, president future, depart war, also follow, behavior president, attack depart, serve attack\n",
      "\n",
      "Topic  3\n",
      "pron pron, pron, great man, great, man, weekend obsess, never great, man co, pron spend, tweet\n",
      "\n",
      "Topic  4\n",
      "republican, fire back, back trump, house presidency, cheapen white, silence complicity, trump cheapen, party enable, complicity republican, cheapen\n",
      "\n",
      "Topic  5\n",
      "aide, former aide, trump lie, lie, former, pron, pron surprised, effort change, surprised trump, go support\n",
      "\n",
      "Topic  6\n",
      "self, empathetic drive, duty family, efface self, drive duty, empathetic, sacrifice empathetic, courageous patriotic, patriotic honorable, heroic courageous\n",
      "\n",
      "Topic  7\n",
      "pron, pron pron, dominate news, pron dominate, hilarious pron, cycle death, president jealous, news cycle, cycle, dominate\n",
      "\n",
      "Topic  8\n",
      "smear, pron, hard gop, repugnant donald, longer answer, therefore repugnant, continuously maliciously, smear attack, maliciously trump, answer smear\n",
      "\n",
      "Topic  9\n",
      "billion, medicare billion, divert attention, cut trillion, trillion medicaid, medicaid billion, pron budget, budget cut, every petty, billion social\n",
      "\n",
      "Topic  10\n",
      "hurt, pron pron, sen, pron, hurt legacy, sen hurt, pron hurt, legacy sen, president comment, hurt pron\n",
      "\n",
      "Topic  11\n",
      "funeral, funeral pron, pron funeral, pron, funeral funeral, earn co, want pron, deserve pron, sen funeral, pron earn\n",
      "\n",
      "Topic  12\n",
      "cathedral, funeral, national cathedral, government official, government, funeral cathedral, cathedral require, approval president, require approval, president government\n",
      "\n",
      "Topic  13\n",
      "always, anything unseemly, today always, always denigrate, denigrate widow, unseemly trump, widow lindsay, graham nothing, trump constantly, constantly attack\n",
      "\n",
      "Topic  14\n",
      "forward soon, senate russell, soon introduce, pron legislation, legislation name, building american, introduce pron, look forward, soon, forward\n",
      "\n",
      "Topic  15\n",
      "year, step plane, year ago, plane, step, ago, silver star, award, dyb kaiy, serve year\n",
      "\n",
      "Topic  16\n",
      "never, co, never fan, fan, fan never, trump, never co, late, president trump, president\n",
      "\n",
      "Topic  17\n",
      "live forever, forever, serve pron, pron, serve, live, pron agree, defend candidate, hero couldt, stop serve\n",
      "\n",
      "Topic  18\n",
      "abandon pron, abandon, pron lose, lose pron, lose, pron, friend, pron friend, pow offer, tear apart\n",
      "\n",
      "Topic  19\n",
      "talk senator, president seriously, seriously stop, stop talk, seriously, mr president, mr, talk, stop, senator\n"
     ]
    }
   ],
   "source": [
    "nmf_4 = NMF(20)\n",
    "doc_topic_NMF_4 = nmf_4.fit_transform(bag_of_words_4)\n",
    "print(nmf_4.reconstruction_err_)\n",
    "\n",
    "display_topics(nmf_4, tfidf_4.get_feature_names(), 10)"
   ]
  },
  {
   "cell_type": "code",
   "execution_count": 48,
   "metadata": {},
   "outputs": [
    {
     "name": "stdout",
     "output_type": "stream",
     "text": [
      "81.44147736690383\n",
      "\n",
      "Topic  0\n",
      "pron, ejtb axp, axp, ejtb, co ejtb, complain come, nice funeral, pron hold, pron nice, hold pron\n",
      "\n",
      "Topic  1\n",
      "tempt ghost, ghost twitter, tempt, trump bait, twitter account, bait, account trump, account, twitter, ghost\n",
      "\n",
      "Topic  2\n",
      "drag senator, exhume, senator exhume, behind motorcade, ramp, ramp attack, attack drag, exhume corpse, trump ramp, corpse behind\n",
      "\n",
      "Topic  3\n",
      "decide, court, number, pron, decide number, court decide, already decide, haggle number, gop already, number seat\n",
      "\n",
      "Topic  4\n",
      "fight, vo, hero fight, send american, youth fight, co vo, pron solve, intervention real, pron strongly, solve invasion\n",
      "\n",
      "Topic  5\n",
      "ask, many area, public policy, impact, consider ask, yet question, policy impact, want consider, impact people, area\n",
      "\n",
      "Topic  6\n",
      "hat, president hat, hat white, hat pron, white nationalist, nationalist, pron hat, white, president, pron\n",
      "\n",
      "Topic  7\n",
      "pron pron, pron, die nothing, conservative medium, republican politic, go shit, pee dossier, medium star, politic kingmaker, talk pee\n",
      "\n",
      "Topic  8\n",
      "pron counterproductive, vmckiduq, pron lifeless, lifeless body, flail across, flail, lifeless, national mall, mall co, counterproductive insult\n",
      "\n",
      "Topic  9\n",
      "pron, president, order avoid, disability order, attack depart, example focus, pron attention, future pron, president fake, focus behavior\n",
      "\n",
      "Topic  10\n",
      "house insider, hell kill, insider trump, infrastructure investment, investment, include infrastructure, campaign platform, trump campaign, platform include, investment go\n",
      "\n",
      "Topic  11\n",
      "pron, rude pron, rude, pron talk, talk pron, talk, pron want, want, pron pron, pron rude\n",
      "\n",
      "Topic  12\n",
      "billion, pron, medicare billion, trump divert, pron budget, rather keep, budget cut, every petty, attention fact, feud deceased\n",
      "\n",
      "Topic  13\n",
      "since august, tweet since, august, since, tweet, deficit, love pron, allow, love, reduction\n",
      "\n",
      "Topic  14\n",
      "thousand human, act military, push unforgivable, unforgivable act, co itqjrq, lead senseless, violence lead, senseless death, warmongering psychopath, senseless\n",
      "\n",
      "Topic  15\n",
      "cathedral, funeral, president, national cathedral, government official, government, president approve, want president, kind funeral, official\n",
      "\n",
      "Topic  16\n",
      "vietnamese people, draft go, person nope, hat person, people lot, kill vietnamese, trump someone, trump dodge, dodge draft, lot pron\n",
      "\n",
      "Topic  17\n",
      "anywhere, anywhere pron, co ouhi, live anywhere, ouhi, check untrue, untrue live, untrue, fact check, check\n",
      "\n",
      "Topic  18\n",
      "zero tolerance, toddler strict, camp toddler, strict zero, strict, pud nuance, pud, pron potato, reactionary pud, reactionary\n",
      "\n",
      "Topic  19\n",
      "aide, former aide, trump lie, pron, lie, former, change, trump, lurk white, dvr menu\n"
     ]
    }
   ],
   "source": [
    "nmf_5 = NMF(20)\n",
    "doc_topic_NMF_5 = nmf_5.fit_transform(bag_of_words_5)\n",
    "print(nmf_5.reconstruction_err_)\n",
    "\n",
    "display_topics(nmf_5, tfidf_5.get_feature_names(), 10)"
   ]
  },
  {
   "cell_type": "code",
   "execution_count": 49,
   "metadata": {},
   "outputs": [
    {
     "name": "stdout",
     "output_type": "stream",
     "text": [
      "47.99574553257303\n",
      "\n",
      "Topic  0\n",
      "pron, president, focus behavior, serve attack, pron attention, depart, senator also, future pron, future, depart war\n",
      "\n",
      "Topic  1\n",
      "co wztlcvztnx, state retweet, standard stuff, attack daughter, wztlcvztnx, daughter standard, stuff co, retweet attack, standard, stuff\n",
      "\n",
      "Topic  2\n",
      "funeral, thank, thank pron, funeral pron, want, pron want, give, kind funeral, pron, kind\n",
      "\n",
      "Topic  3\n",
      "isakson, johnny isakson, johnny, play politic, effort rename, politic effort, schumer play, co ielln, cme, ielln\n",
      "\n",
      "Topic  4\n",
      "aide, former aide, trump lie, former, lie, replace, repeal replace, repeal, mislead wh, go support\n",
      "\n",
      "Topic  5\n",
      "smear, repugnant donald, longer answer, pron apologize, apologize hard, maliciously, trump smear, answer smear, smear attack, pron therefore\n",
      "\n",
      "Topic  6\n",
      "pron pron, pron, trump, co, turn, call, pron call, dossier, friend, fbi\n",
      "\n",
      "Topic  7\n",
      "pron legislation, soon introduce, forward soon, look forward, legislation name, senate russell, introduce pron, building american, name senate, legislation\n",
      "\n",
      "Topic  8\n",
      "courage integrity, integrity pron, woman courage, willing sell, pron election, soul travesty, speak disgusting, stand speak, colleague stand, election badly\n",
      "\n",
      "Topic  9\n",
      "billion, cut, security, medicare, social security, petty attack, budget, billion medicare, pron budget, cut trillion\n",
      "\n",
      "Topic  10\n",
      "country arizona, legacy pron, admiration peace, arizona everyone, hero thankful, everyone give, family respect, service legacy, respect admiration, life service\n",
      "\n",
      "Topic  11\n",
      "self, disparage man, man exemplary, exemplary, heroic courageous, president disparage, country god, sacrifice empathetic, drive duty, understand president\n",
      "\n",
      "Topic  12\n",
      "house republican, dear senate, cower fear, term presidency, cower, continuously berate, disrespect family, senate house, berate disrespect, last longer\n",
      "\n",
      "Topic  13\n",
      "never pron, president feel, patriot willing, tear reputation, feel tear, reputation war, anything patriot, particularly pron, disagree lot, idea president\n",
      "\n",
      "Topic  14\n",
      "cathedral, funeral, national cathedral, national, washington national, government official, government, washington, approval president, president government\n",
      "\n",
      "Topic  15\n",
      "never, trump, never fan, fan, co, donald trump, donald, trump never, fan never, pron never\n",
      "\n",
      "Topic  16\n",
      "tout, pron coverage, team, ohio promote, script pron, adversary, save lima, promote pron, tout manufacture, team seek\n",
      "\n",
      "Topic  17\n",
      "lie, pron, defend pron, yet, defend, apart disgrace, pron debase, compulsion, public official, pron compulsion\n",
      "\n",
      "Topic  18\n",
      "year, vietnam, american, co, american hero, purple, pron navy, year ago, trump zero, zero co\n",
      "\n",
      "Topic  19\n",
      "graham, friend, kavanaugh pron, kavanaugh, look pron, defense, pron look, look, pron friend, sen\n"
     ]
    }
   ],
   "source": [
    "nmf_6 = NMF(20)\n",
    "doc_topic_NMF_6 = nmf_6.fit_transform(bag_of_words_6)\n",
    "print(nmf_6.reconstruction_err_)\n",
    "\n",
    "display_topics(nmf_6, tfidf_6.get_feature_names(), 10)"
   ]
  },
  {
   "cell_type": "code",
   "execution_count": 50,
   "metadata": {},
   "outputs": [
    {
     "name": "stdout",
     "output_type": "stream",
     "text": [
      "99.09434616882511\n",
      "\n",
      "Topic  0\n",
      "always denigrate, today always, unseemly trump, denigrate widow, widow lindsay, anything unseemly, graham nothing, trump constantly, constantly attack, denigrate\n",
      "\n",
      "Topic  1\n",
      "implication, infuriate many, expose pron, wonder implication, implication guilty, haunt sadden, sense poetic, insecurity wonder, sadden infuriate, poetic justice\n",
      "\n",
      "Topic  2\n",
      "disgusting ananavarro, hero plain, dead national, plain disgusting, wr lcgmm, indecent immoral, everybody condemn, immoral everybody, lcgmm, co wr\n",
      "\n",
      "Topic  3\n",
      "aide, former aide, trump lie, lie, former, pron, happen former, aide add, mind nope, mislead wh\n",
      "\n",
      "Topic  4\n",
      "disability order, example focus, serve attack, focus behavior, future pron, behavior president, also follow, president future, president fake, attack depart\n",
      "\n",
      "Topic  5\n",
      "give holiday, scrooge instead, holiday turkey, holiday, haunt crap, trump happen, happen scrooge, back haunt, man give, resign turn\n",
      "\n",
      "Topic  6\n",
      "fear inadequacy, lt col, male, inadequacy, retire lt, appear physical, male fear, dodger appear, classic case, pron classic\n",
      "\n",
      "Topic  7\n",
      "self, self sacrifice, understand president, president disparage, country god, patriotic honorable, heroic courageous, drive duty, courageous patriotic, duty family\n",
      "\n",
      "Topic  8\n",
      "billion, medicare billion, trump divert, attention fact, cut trillion, pron budget, budget cut, billion medicare, trillion medicaid, nation focus\n",
      "\n",
      "Topic  9\n",
      "cathedral, funeral, national cathedral, government official, government, require approval, approval president, funeral cathedral, cathedral require, washington national\n",
      "\n",
      "Topic  10\n",
      "smear, hard gop, pron therefore, smear attack, continuously, continuously maliciously, longer answer, answer smear, therefore repugnant, therefore\n",
      "\n",
      "Topic  11\n",
      "donlemon pause, family aftermath, support family, apology support, send apology, pause send, aftermath trump, aftermath, deal pron, pron deal\n",
      "\n",
      "Topic  12\n",
      "believe, first, put, trump, man, invent, first co, america first, first trump, trump believe\n",
      "\n",
      "Topic  13\n",
      "abandon pron, abandon, pron lose, lose pron, lose, pron friend, pron, friend, apart abandon, chance leave\n",
      "\n",
      "Topic  14\n",
      "american, american hero, hero, trump coward, defame attack, insult defame, longer stand, state continue, despicable president, dead american\n",
      "\n",
      "Topic  15\n",
      "hat pron, hat, donald trump, donald, gop political, therickwilson hat, trump beyond, rebuke donald, possibly hope, hope co\n",
      "\n",
      "Topic  16\n",
      "trump evil, plan healthcare, ruining trump, evil plan, co tv, ruining, friend ruining, remember moment, tv dexq, healthcare co\n",
      "\n",
      "Topic  17\n",
      "building american, legislation name, senate russell, soon introduce, introduce pron, pron legislation, forward soon, look forward, russell building, legislation\n",
      "\n",
      "Topic  18\n",
      "pron, funeral, thank, thank pron, pron funeral, funeral pron, pron want, trump give, want, trump\n",
      "\n",
      "Topic  19\n",
      "year, heart silver, silver star, captive vietnam, hold captive, award purple, captive, purple, silver, award\n"
     ]
    }
   ],
   "source": [
    "nmf_7 = NMF(20)\n",
    "doc_topic_NMF_7 = nmf_7.fit_transform(bag_of_words_7)\n",
    "print(nmf_7.reconstruction_err_)\n",
    "\n",
    "display_topics(nmf_7, tfidf_7.get_feature_names(), 10)"
   ]
  },
  {
   "cell_type": "code",
   "execution_count": 51,
   "metadata": {},
   "outputs": [
    {
     "name": "stdout",
     "output_type": "stream",
     "text": [
      "109.35131151150915\n",
      "\n",
      "Topic  0\n",
      "president seriously, seriously stop, stop talk, seriously, stop, talk senator, mr president, mr, talk, senator\n",
      "\n",
      "Topic  1\n",
      "self, friend heroic, drive duty, heroic courageous, duty family, empathetic drive, efface self, courageous patriotic, sacrifice empathetic, self efface\n",
      "\n",
      "Topic  2\n",
      "poltical, poltical enemy, enemy mr, pron poltical, reason talk, pass pron, pron, pron pass, enemy, pass\n",
      "\n",
      "Topic  3\n",
      "pron, service legacy, admiration peace, everyone give, hero thankful, country arizona, arizona everyone, family respect, respect admiration, thankful pron\n",
      "\n",
      "Topic  4\n",
      "pron, lot never, tear reputation, country idea, anything patriot, willing lay, hero particularly, patriot willing, feel tear, reputation war\n",
      "\n",
      "Topic  5\n",
      "every, pron, hero, memory continue, sustain, continue remind, every miss, hero senate, rare patriot, blessing serve\n",
      "\n",
      "Topic  6\n",
      "hit, man, pron hit, late mark, patriotic man, president pick, man hit, memory president, lose saint, repellent\n",
      "\n",
      "Topic  7\n",
      "pron, serve attack, future pron, behavior president, president fake, depart war, pron attention, also follow, president future, order avoid\n",
      "\n",
      "Topic  8\n",
      "cathedral, funeral, government official, national cathedral, government, want president, president approve, kind funeral, funeral pron, approval president\n",
      "\n",
      "Topic  9\n",
      "smear, maliciously trump, smear pron, hard gop, answer smear, pron apologize, maliciously, repugnant donald, must stop, apologize hard\n",
      "\n",
      "Topic  10\n",
      "co rcyqu, rcyqu, bother co, dispute someone, late bother, involve petty, petty dispute, hear beyond, state involve, someone american\n",
      "\n",
      "Topic  11\n",
      "aide, former aide, trump lie, lie, former, repeal, repeal replace, replace, today senator, mislead wh\n",
      "\n",
      "Topic  12\n",
      "flight suit, vietnamese return, rcdn, rcdn gtx, helmet flight, prison perhaps, display hanoi, family jaketapper, jaketapper co, return item\n",
      "\n",
      "Topic  13\n",
      "soon introduce, senate russell, legislation name, forward soon, introduce pron, building american, russell building, pron legislation, look forward, name senate\n",
      "\n",
      "Topic  14\n",
      "billion, divert attention, trump divert, security pron, trillion medicaid, cut trillion, pron budget, attention fact, every petty, billion medicare\n",
      "\n",
      "Topic  15\n",
      "pron, trump, co, attack, pron pron, sen, thank, funeral, never, obsess\n",
      "\n",
      "Topic  16\n",
      "anti twitter, dear anti, twitter hand, hand anything, fbi treasonous, anything pron, treasonous, pron fbi, hand, dear\n",
      "\n",
      "Topic  17\n",
      "american, putin xi, american dictator, pron resent, xi jinp, anti american, un vladimir, jinp, jinp pron, resent\n",
      "\n",
      "Topic  18\n",
      "abandon pron, abandon, pron lose, lose pron, lose, pron, chance leave, pow offer, bully tear, offer chance\n",
      "\n",
      "Topic  19\n",
      "always, always fan, always shame, mcgmh, lqc, co lqc, fan senjohnmccain, lqc mcgmh, senjohnmccain always, realdonaldtrump co\n"
     ]
    }
   ],
   "source": [
    "nmf_8 = NMF(20)\n",
    "doc_topic_NMF_8 = nmf_8.fit_transform(bag_of_words_8)\n",
    "print(nmf_8.reconstruction_err_)\n",
    "\n",
    "display_topics(nmf_8, tfidf_8.get_feature_names(), 10)"
   ]
  },
  {
   "cell_type": "code",
   "execution_count": 52,
   "metadata": {},
   "outputs": [
    {
     "name": "stdout",
     "output_type": "stream",
     "text": [
      "389.51038720690843\n",
      "\n",
      "Topic  0\n",
      "pron, pron pron, trust rino, today change, conservative never, discredit trump, change trump, never trust, every conservative, pron everything\n",
      "\n",
      "Topic  1\n",
      "fbi, december senator, agent bill, confirm fbi, priestap confirm, copy first, fbi receive, receive copy, senior counterintelligence, counterintelligence fbi\n",
      "\n",
      "Topic  2\n",
      "fake, pron, paper last, annapolis send, indeed prove, court paper, prove court, medium hop, print election, together fail\n",
      "\n",
      "Topic  3\n",
      "medium, racist divisive, divisive voice, advance narrative, use advance, voice medium, narrative trump, medium use, medium attack, hate donald\n",
      "\n",
      "Topic  4\n",
      "young, pron, yrs, woman yrs, imagine wait, home propose, yrs young, propose woman, husband return, propose\n",
      "\n",
      "Topic  5\n",
      "bad, rino, pron, pron pron, angry president, rino angry, center bitter, insufferable self, pron insufferable, bitter rino\n",
      "\n",
      "Topic  6\n",
      "yes, yes trump, trump, help win, force transfer, transfer body, az race, body dc, announce pron, yes back\n",
      "\n",
      "Topic  7\n",
      "give, involve, especially elect, official involve, fbi dismantle, dismantle election, involve political, dismantle, president veteran, complete disdain\n",
      "\n",
      "Topic  8\n",
      "full accounting, complicit foment, player involve, accounting player, deserve full, accounting, hysteria american, unsettling reconcile, unsettling, fact unsettling\n",
      "\n",
      "Topic  9\n",
      "pron, defend attack, favor unfollow, remove dumb, pron remove, unfollow pron, dumb pron, unfollow, pron feed, pron favor\n",
      "\n",
      "Topic  10\n",
      "go, senator, president trump, correct fact, senator ohio, ohio correct, far enough, history tension, tension, tension president\n",
      "\n",
      "Topic  11\n",
      "democrat, love, love pron, try hillary, back conspire, nation stab, lie nation, hillary elect, conspire democrat, elect peddle\n",
      "\n",
      "Topic  12\n",
      "memo, participate, participate vicious, vicious smear, disseminate steele, trump disseminate, memo include, memo memo, obscene libelous, preposterous obscene\n",
      "\n",
      "Topic  13\n",
      "donald trump, donald, trump donald, trump, hand, people, love, dossier donald, hand hand, hand leftist\n",
      "\n",
      "Topic  14\n",
      "txkulun, ue txkulun, cover news, reveal detail, evjrro, reporter obama, kramer significant, co evjrro, detail associate, txkulun co\n",
      "\n",
      "Topic  15\n",
      "vote, pron, pron vote, jim track, track senator, sen unpredictable, vote everyone, unpredictable none, solid pron, pron solid\n",
      "\n",
      "Topic  16\n",
      "co afbfhtev, afbfhtev, criticize co, pron criticize, criticize, co, pron, never, fan, never fan\n",
      "\n",
      "Topic  17\n",
      "service, two mutually, disgrace two, thankful military, service absolute, year public, absolute disgrace, latter year, pron thankful, service still\n",
      "\n",
      "Topic  18\n",
      "pron, president trump, always, president, always traitor, traitor pron, member america, america burden, bitter problem, problem screw\n",
      "\n",
      "Topic  19\n",
      "pron, spread, pron memoir, memoir, memoir spread, go hell, discredit pron, pron anyone, write pron, spread steele\n"
     ]
    }
   ],
   "source": [
    "nmf_9 = NMF(20)\n",
    "doc_topic_NMF_9 = nmf_9.fit_transform(bag_of_words_9)\n",
    "print(nmf_9.reconstruction_err_)\n",
    "\n",
    "display_topics(nmf_9, tfidf_9.get_feature_names(), 10)"
   ]
  },
  {
   "cell_type": "code",
   "execution_count": 53,
   "metadata": {},
   "outputs": [
    {
     "name": "stdout",
     "output_type": "stream",
     "text": [
      "76.2921931518059\n",
      "\n",
      "Topic  0\n",
      "people disgraceful, care million, save health, adult life, life help, entire adult, help save, million people, adult, realdonaldtrump continue\n",
      "\n",
      "Topic  1\n",
      "always, mcgmh, always fan, fan senjohnmccain, always shame, lqc, lqc mcgmh, co lqc, senjohnmccain always, realdonaldtrump co\n",
      "\n",
      "Topic  2\n",
      "tweet attack, tweet, snl fox, clinton paris, obama doj, democrat hillary, zealand shooting, cia pron, shooting realdonaldtrump, anchor muell\n",
      "\n",
      "Topic  3\n",
      "enough, sacrifice much, enough inspirational, realdonaldtrump enough, co gqgipdywzx, inspirational public, servant sacrifice, inspirational, gqgipdywzx, enough realdonaldtrump\n",
      "\n",
      "Topic  4\n",
      "co xoh, pleased, xoh egfdjv, egfdjv, kudo senator, pleased co, sponsor resolution, xoh, fitting tribute, tribute kudo\n",
      "\n",
      "Topic  5\n",
      "president, also follow, president future, order avoid, attack depart, example focus, depart, depart war, serve attack, president fake\n",
      "\n",
      "Topic  6\n",
      "self, empathetic, duty family, family country, sacrifice empathetic, courageous patriotic, honorable self, self sacrifice, empathetic drive, disparage man\n",
      "\n",
      "Topic  7\n",
      "smear, answer smear, hard gop, longer answer, pron apologize, maliciously, maliciously trump, must stop, continuously maliciously, repugnant donald\n",
      "\n",
      "Topic  8\n",
      "cathedral, funeral, president, national cathedral, government official, government, president approve, want president, kind funeral, funeral pron\n",
      "\n",
      "Topic  9\n",
      "aide, former aide, trump lie, lie, former, mind nope, claim today, today senator, nope never, replace effort\n",
      "\n",
      "Topic  10\n",
      "billion, budget cut, medicaid, attention fact, medicaid billion, medicare billion, billion social, every petty, trump divert, pron budget\n",
      "\n",
      "Topic  11\n",
      "abandon pron, pron lose, abandon, lose pron, lose, pron friend, friend, pron, refuse abandon, chance leave\n",
      "\n",
      "Topic  12\n",
      "co pkgeqkely, serve remind, miss statement, pkgeqkely, inspiring life, honorable decent, decent inspiring, statement president, pron honorable, president serve\n",
      "\n",
      "Topic  13\n",
      "pron, trump, pron pron, sen, graham, friend, attack, man, co, nothing\n",
      "\n",
      "Topic  14\n",
      "introduce pron, look forward, forward soon, pron legislation, legislation name, building american, soon introduce, russell building, senate russell, name senate\n",
      "\n",
      "Topic  15\n",
      "year, heart silver, award, dyb, dyb kaiy, pron captain, kaiy, senator step, navy serve, award purple\n",
      "\n",
      "Topic  16\n",
      "american, american hero, hero, president united, trump coward, defame attack, longer stand, insult defame, state continue, despicable president\n",
      "\n",
      "Topic  17\n",
      "servant shameful, veteran public, continue disparage, president continue, senator veteran, disparage remark, shameful, remark late, remark, veteran\n",
      "\n",
      "Topic  18\n",
      "talk senator, mr president, stop talk, seriously stop, president seriously, seriously, mr, talk, stop, president\n",
      "\n",
      "Topic  19\n",
      "attack pron, pron, country pron, deserve good, ashamed pron, ashamed, someone attack, friend month, patriotism service, never someone\n"
     ]
    }
   ],
   "source": [
    "nmf_10 = NMF(20)\n",
    "doc_topic_NMF_10 = nmf_10.fit_transform(bag_of_words_10)\n",
    "print(nmf_10.reconstruction_err_)\n",
    "\n",
    "display_topics(nmf_10, tfidf_10.get_feature_names(), 10)"
   ]
  },
  {
   "cell_type": "code",
   "execution_count": 54,
   "metadata": {},
   "outputs": [
    {
     "name": "stdout",
     "output_type": "stream",
     "text": [
      "75.38324813119145\n",
      "\n",
      "Topic  0\n",
      "pron, president, co hg, xwoiibo, hg xwoiibo, hg, approve care, care thank, pron ok, fan co\n",
      "\n",
      "Topic  1\n",
      "choose pron, choose, pron pron, pron, test never, conway choose, end choice, husband loyalty, pron principle, graham choose\n",
      "\n",
      "Topic  2\n",
      "never, kunhwo, co kunhwo, never co, trump never, fan never, never fan, fan, president trump, president\n",
      "\n",
      "Topic  3\n",
      "pron, tout manufacture, script, muell pron, pron team, save lima, effort save, tout, ohio promote, foreign adversary\n",
      "\n",
      "Topic  4\n",
      "pron pron, pron, turn, hop put, fbi hop, pron jeopardy, jeopardy, campaign instead, nb co, mblvt nb\n",
      "\n",
      "Topic  5\n",
      "pron, order avoid, attack depart, serve attack, focus behavior, president future, also follow, attention pron, follow pron, depart war\n",
      "\n",
      "Topic  6\n",
      "remember, speech co, fanfare funeral, incredible speech, sfpiw, meghan incredible, remember meghan, co sfpiw, remember fanfare, fanfare\n",
      "\n",
      "Topic  7\n",
      "aide, former aide, trump lie, lie, former, pron, ex aide, support repeal, surprised trump, replace effort\n",
      "\n",
      "Topic  8\n",
      "cathedral, national cathedral, washington national, government official, government, national, washington, approval president, funeral cathedral, require approval\n",
      "\n",
      "Topic  9\n",
      "smear, smear attack, maliciously trump, maliciously, smear pron, longer answer, trump smear, must stop, answer smear, repugnant donald\n",
      "\n",
      "Topic  10\n",
      "fake, usual fake, pron print, news refuse, paper last, pron indeed, work together, court paper, send fake, prove court\n",
      "\n",
      "Topic  11\n",
      "billion, divert, billion medicare, keep nation, agenda, billion social, pron budget, cut trillion, trump divert, budget\n",
      "\n",
      "Topic  12\n",
      "self, drive duty, self efface, self sacrifice, duty family, president disparage, efface, efface self, disparage man, man exemplary\n",
      "\n",
      "Topic  13\n",
      "pron, vote, obamacare, late sen, weekend, repeal, sen, late, pron weekend, pre trump\n",
      "\n",
      "Topic  14\n",
      "want thank, pron, trump suggest, grant late, late funeral, suggest ohio, credit grant, co mxqgosfcd, mxqgosfcd, never credit\n",
      "\n",
      "Topic  15\n",
      "america, great, dsmogchtvb, always great, great america, america always, great meghan, meghan mccainmemorial, mccainmemorial co, mccainmemorial\n",
      "\n",
      "Topic  16\n",
      "american, pron, american hero, hero, attack, dead, trump, attack dead, donald, donald trump\n",
      "\n",
      "Topic  17\n",
      "abandon pron, pron lose, abandon, lose pron, lose, pron friend, pron, friend, tear apart, torture pow\n",
      "\n",
      "Topic  18\n",
      "hero particularly, country idea, reputation war, disagree lot, idea president, lot never, feel tear, patriot willing, particularly pron, anything patriot\n",
      "\n",
      "Topic  19\n",
      "fbi, page dossier, first page, dossier december, newly unseal, copy, copy first, newly, counterintelligence, counterintelligence fbi\n"
     ]
    }
   ],
   "source": [
    "nmf_11 = NMF(20)\n",
    "doc_topic_NMF_11 = nmf_11.fit_transform(bag_of_words_11)\n",
    "print(nmf_11.reconstruction_err_)\n",
    "\n",
    "display_topics(nmf_11, tfidf_11.get_feature_names(), 10)"
   ]
  },
  {
   "cell_type": "code",
   "execution_count": 55,
   "metadata": {},
   "outputs": [
    {
     "name": "stdout",
     "output_type": "stream",
     "text": [
      "73.26584195065841\n",
      "\n",
      "Topic  0\n",
      "pron, billion, pron agenda, nation focus, pron rather, feud deceased, keep nation, focus pron, agenda, rather keep\n",
      "\n",
      "Topic  1\n",
      "veteran attack, great courage, memory american, aohksjgeqe, co aohksjgeqe, sen friend, attack memory, president fight, man great, friend man\n",
      "\n",
      "Topic  2\n",
      "pron, famous draft, remembrance pron, coward par, fond remembrance, fond, dead note, par, par famous, write fond\n",
      "\n",
      "Topic  3\n",
      "president, president fake, focus behavior, depart war, attack depart, behavior president, serve attack, example focus, pron attention, president future\n",
      "\n",
      "Topic  4\n",
      "bi frkphc, co bi, frkphc, bi, trump funeral, reminder trump, reminder, funeral co, funeral, co\n",
      "\n",
      "Topic  5\n",
      "time, give, ahsaklx, gr, limit prompt, limit, kfxfkhh co, campaign refund, separate, prompt campaign\n",
      "\n",
      "Topic  6\n",
      "smear, trump smear, therefore, repugnant donald, smear attack, answer smear, continuously maliciously, longer answer, apologize hard, pron continuously\n",
      "\n",
      "Topic  7\n",
      "pron, pron pron, funeral, thank, trump, thank pron, senator pron, pron funeral, senator, pathetic\n",
      "\n",
      "Topic  8\n",
      "aide, former aide, trump lie, former, lie, nope never, aide pron, mislead wh, mind nope, support repeal\n",
      "\n",
      "Topic  9\n",
      "abandon pron, abandon, pron lose, lose pron, lose, pron friend, friend, pron, tear apart, leave refuse\n",
      "\n",
      "Topic  10\n",
      "sketch alec, hope snl, baldwin, baldwin ghost, sketch, alec, alec baldwin, snl sketch, snl, ghost\n",
      "\n",
      "Topic  11\n",
      "constantly attack, trump constantly, constantly, attack dead, anything, nothing, veteran, dead, veteran oh, look nothing\n",
      "\n",
      "Topic  12\n",
      "bank, pron commit, still give, loan, loan pron, fraud secure, billionaire pron, child jail, immigrant child, spend wrongfully\n",
      "\n",
      "Topic  13\n",
      "russell building, look forward, building american, legislation name, soon introduce, forward soon, introduce pron, senate russell, soon, name senate\n",
      "\n",
      "Topic  14\n",
      "oligarch, vladimir, vladimir putin, mitch mcconnell, mitch, mcconnell, partner two, bear oligarch, two russian, million contribution\n",
      "\n",
      "Topic  15\n",
      "cathedral, funeral, president, kind funeral, national cathedral, president approve, funeral pron, pron want, want president, approve\n",
      "\n",
      "Topic  16\n",
      "go week, tear hear, bring tear, focus mental, well lack, health kid, lack focus, akc, needchangeinthewhitehouse co, needchangeinthewhitehouse\n",
      "\n",
      "Topic  17\n",
      "kavanaugh pron, kavanaugh, pron look, look pron, defense, graham, look, pron, sen, lindsey\n",
      "\n",
      "Topic  18\n",
      "self, duty family, self sacrifice, empathetic, disparage man, patriotic honorable, friend heroic, honorable self, courageous patriotic, self efface\n",
      "\n",
      "Topic  19\n",
      "speak, republican man, willing sell, soul travesty, badly pron, travesty co, stand speak, really republican, disgusting really, election badly\n"
     ]
    }
   ],
   "source": [
    "nmf_12 = NMF(20)\n",
    "doc_topic_NMF_12 = nmf_12.fit_transform(bag_of_words_12)\n",
    "print(nmf_12.reconstruction_err_)\n",
    "\n",
    "display_topics(nmf_12, tfidf_12.get_feature_names(), 10)"
   ]
  },
  {
   "cell_type": "code",
   "execution_count": 56,
   "metadata": {},
   "outputs": [
    {
     "name": "stdout",
     "output_type": "stream",
     "text": [
      "56.29235108081401\n",
      "\n",
      "Topic  0\n",
      "republican, republican colin, anthem also, disrespectful military, colin kaepernick, veteran kneel, kneel anthem, kaepernick disrespectful, also republican, colin\n",
      "\n",
      "Topic  1\n",
      "pron beef, takeaway pron, takeaway, past lose, spend past, beef trump, argument dead, lose argument, argument, beef\n",
      "\n",
      "Topic  2\n",
      "co vjkikfqsb, vjkikfqsb, trump today, fan trump, today never, trump co, never fan, fan, never, today\n",
      "\n",
      "Topic  3\n",
      "shut fuck, fuck, whine, shut, pron, bullshit excuse, excuse imaginary, quack, quack doctor, nice poltroon\n",
      "\n",
      "Topic  4\n",
      "pron, president, follow pron, serve attack, example focus, disability order, focus behavior, attack depart, depart war, future pron\n",
      "\n",
      "Topic  5\n",
      "billion, pron, billion medicare, medicare billion, medicaid billion, medicaid, billion social, pron budget, nation focus, divert attention\n",
      "\n",
      "Topic  6\n",
      "cathedral, funeral, president, national cathedral, national, government official, government, want president, cathedral require, require approval\n",
      "\n",
      "Topic  7\n",
      "smear, pron, hard gop, must stop, continuously maliciously, continuously, therefore repugnant, smear attack, longer answer, smear pron\n",
      "\n",
      "Topic  8\n",
      "aide, former aide, trump lie, former, lie, pron, senator mislead, nope never, mislead wh, lie ex\n",
      "\n",
      "Topic  9\n",
      "abandon pron, pron lose, abandon, lose pron, pron, pron friend, friend, lose, stand silence, life lindseygrahamsc\n",
      "\n",
      "Topic  10\n",
      "funeral, want thank, pron kind, keep shot, bewrwv, pool, pool photo, shot, photo co, shot late\n",
      "\n",
      "Topic  11\n",
      "pron, pron pron, funeral, thank, trump, thank pron, pron funeral, senator pron, senator, pathetic\n",
      "\n",
      "Topic  12\n",
      "russell building, legislation name, building american, pron legislation, look forward, soon introduce, forward soon, senate russell, introduce pron, forward\n",
      "\n",
      "Topic  13\n",
      "travesty co, woman courage, election badly, soul travesty, colleague stand, senator colleague, republican man, really republican, co mfxfdgv, mfxfdgv\n",
      "\n",
      "Topic  14\n",
      "self, disparage man, efface, exemplary pron, duty family, family country, president disparage, country god, self efface, self sacrifice\n",
      "\n",
      "Topic  15\n",
      "kavanaugh pron, kavanaugh, look pron, defense, pron look, look, graham, pron, sen, lindsey\n",
      "\n",
      "Topic  16\n",
      "donald trump, donald, trump die, die, american, trump, american hero, vladimir putin, vladimir, dictator\n",
      "\n",
      "Topic  17\n",
      "always, constantly attack, trump constantly, graham nothing, widow lindsay, anything unseemly, denigrate widow, always denigrate, today always, unseemly trump\n",
      "\n",
      "Topic  18\n",
      "lie, late sen, sen veteran, distortion, either distortion, particularly bad, bad wwr, outright lie, outright, address pron\n",
      "\n",
      "Topic  19\n",
      "talk senator, seriously stop, president seriously, stop talk, seriously, mr president, mr, talk, stop, president\n"
     ]
    }
   ],
   "source": [
    "nmf_13 = NMF(20)\n",
    "doc_topic_NMF_13 = nmf_13.fit_transform(bag_of_words_13)\n",
    "print(nmf_13.reconstruction_err_)\n",
    "\n",
    "display_topics(nmf_13, tfidf_13.get_feature_names(), 10)"
   ]
  },
  {
   "cell_type": "code",
   "execution_count": 57,
   "metadata": {},
   "outputs": [
    {
     "name": "stdout",
     "output_type": "stream",
     "text": [
      "52.13385940535964\n",
      "\n",
      "Topic  0\n",
      "pron, matter pron, god sake, cell, listen trump, cell beat, disturb guy, within inch, lock cell, truly disturb\n",
      "\n",
      "Topic  1\n",
      "pron long, call senator, senator release, death certificate, form death, co ubrac, ubrac ppfy, ubrac, certificate co, long form\n",
      "\n",
      "Topic  2\n",
      "clip, lose late, full clip, xvhjt, co xvhjt, still donald, senator still, clip co, mind full, trump beef\n",
      "\n",
      "Topic  3\n",
      "plan senator, cater macdonald, pron cater, macdonald, actually plan, president actually, cater, actually, plan, senator funeral\n",
      "\n",
      "Topic  4\n",
      "peril online, gov trump, co xbjadjasn, xbjadjasn, consult pron, bullying co, trump consult, peteratlantic former, wife peril, calif\n",
      "\n",
      "Topic  5\n",
      "president, pron, attack depart, order avoid, example focus, depart war, president future, president fake, disability order, future\n",
      "\n",
      "Topic  6\n",
      "argue, trump narcissism, lack empathy, narcissism lack, empathy argue, psychology, psychology trump, argue pron, pron person, degree psychology\n",
      "\n",
      "Topic  7\n",
      "billion, pron, budget cut, nation focus, rather keep, trump divert, trillion medicaid, pron feud, budget, billion social\n",
      "\n",
      "Topic  8\n",
      "smear, pron, hard gop, continuously maliciously, pron apologize, answer smear, smear attack, trump smear, longer answer, repugnant donald\n",
      "\n",
      "Topic  9\n",
      "pron, produce, darkest gift, benumbed, benumbed potus, gift, damning, damning shocker, darkest, state attack\n",
      "\n",
      "Topic  10\n",
      "cathedral, funeral, president, kind funeral, president approve, want president, pron want, approve, kind, want\n",
      "\n",
      "Topic  11\n",
      "aide, former aide, trump lie, lie, former, pron, aide trump, never happen, go support, mind nope\n",
      "\n",
      "Topic  12\n",
      "self, exemplary pron, exemplary, understand president, disparage man, duty family, heroic courageous, patriotic honorable, drive duty, drive\n",
      "\n",
      "Topic  13\n",
      "peteratlantic co, unacceptable report, report peteratlantic, co mnxljspvfq, mnxljspvfq, call president, report, president trump, arnold schwarzenegger, absolutely unacceptable\n",
      "\n",
      "Topic  14\n",
      "abandon pron, pron lose, abandon, lose pron, pron, pron friend, friend, lose, bully tear, refuse abandon\n",
      "\n",
      "Topic  15\n",
      "kellyanne, co rw, laoqoo, kellyanne boss, rw, rw laoqoo, beef kellyanne, boss escalate, boss, escalate pron\n",
      "\n",
      "Topic  16\n",
      "anything unseemly, always denigrate, today always, denigrate widow, graham nothing, widow lindsay, unseemly trump, trump constantly, constantly attack, denigrate\n",
      "\n",
      "Topic  17\n",
      "conway, hvirfcja, xk rcwayfw, mediate trump, mediate, trump conway, try mediate, phtrevor, phtrevor try, dressing\n",
      "\n",
      "Topic  18\n",
      "american, american hero, hero, legislation, forward soon, soon introduce, russell building, building american, introduce pron, look forward\n",
      "\n",
      "Topic  19\n",
      "year, kaiy, award, serve year, co dyb, purple, senator step, vietnam pron, captain, zero co\n"
     ]
    }
   ],
   "source": [
    "nmf_14 = NMF(20)\n",
    "doc_topic_NMF_14 = nmf_14.fit_transform(bag_of_words_14)\n",
    "print(nmf_14.reconstruction_err_)\n",
    "\n",
    "display_topics(nmf_14, tfidf_14.get_feature_names(), 10)"
   ]
  },
  {
   "cell_type": "code",
   "execution_count": 58,
   "metadata": {},
   "outputs": [
    {
     "name": "stdout",
     "output_type": "stream",
     "text": [
      "95.39387714706673\n",
      "\n",
      "Topic  0\n",
      "cathedral, funeral, president, today funeral, approve washington, yesterday give, cathedral today, sen kind, give sen, government official\n",
      "\n",
      "Topic  1\n",
      "moralize, scandal pron, moralize dark, watch baylor, assault scandal, journalist ask, least journalist, client jeffrey, starr go, criminal client\n",
      "\n",
      "Topic  2\n",
      "serve attack, president future, depart war, attack depart, behavior president, disability order, focus behavior, also follow, future pron, order avoid\n",
      "\n",
      "Topic  3\n",
      "billion, attention fact, feud deceased, pron rather, keep nation, deceased pron, medicaid billion, every petty, pron budget, cut trillion\n",
      "\n",
      "Topic  4\n",
      "aide, former aide, trump lie, lie, former, happen former, senator mislead, lie ex, claim today, aide trump\n",
      "\n",
      "Topic  5\n",
      "prayer, prayer cable, reminder pron, supremacist walk, zealand kill, hour since, kill muslim, walk mosque, mosque zealand, exactly week\n",
      "\n",
      "Topic  6\n",
      "never, never fan, fan never, trump today, co nvnifdhh, nvnifdhh, never trump, today co, fan, co\n",
      "\n",
      "Topic  7\n",
      "abandon pron, abandon, pron lose, lose pron, lose, pron friend, friend, pron, lindseygrahamsc stand, pow offer\n",
      "\n",
      "Topic  8\n",
      "smear, repugnant donald, must stop, longer answer, answer smear, pron continuously, pron therefore, hard gop, smear attack, continuously maliciously\n",
      "\n",
      "Topic  9\n",
      "vigor, law enforcement, clinton obama, vigor dedication, obama law, enforcement muslim, dedication pron, press clinton, supremacist vigor, enforcement\n",
      "\n",
      "Topic  10\n",
      "pedophile co, theorist suggest, indicate pron, pizzagate, retweet lrihendry, pizzagate conspiracy, suggest obama, co yjgogsrchu, obama pedophile, yjgogsrchu\n",
      "\n",
      "Topic  11\n",
      "last, dead, kim jong, jong un, jong, kim, un, kill, attack dead, trump spend\n",
      "\n",
      "Topic  12\n",
      "devoted, cnn devoted, tweet family, calculation, muslim white, devoted time, wringing pron, wringing, shooting muslim, suffering shooting\n",
      "\n",
      "Topic  13\n",
      "american hero, soon introduce, forward soon, legislation name, senate russell, building american, pron legislation, forward, look forward, name senate\n",
      "\n",
      "Topic  14\n",
      "mfxfdgv, badly pron, stand speak, woman courage, republican man, election badly, idea senator, senator colleague, soul travesty, co mfxfdgv\n",
      "\n",
      "Topic  15\n",
      "trump well, nation safe, well long, safe co, long pron, pron nation, safe, long, president pron, pron president\n",
      "\n",
      "Topic  16\n",
      "vet bring, hear story, akc, kid country, mdirm, mental health, well lack, focus mental, mdirm akc, health kid\n",
      "\n",
      "Topic  17\n",
      "pron, friend, graham, pron friend, pron pron, whether pron, whether, kavanaugh pron, pron look, kavanaugh\n",
      "\n",
      "Topic  18\n",
      "pron, thank, thank pron, co, trump, pron fan, send pron, pron send, send, attack\n",
      "\n",
      "Topic  19\n",
      "self, president disparage, man exemplary, exemplary pron, disparage man, friend heroic, efface self, self sacrifice, empathetic, sacrifice empathetic\n"
     ]
    }
   ],
   "source": [
    "nmf_15 = NMF(20)\n",
    "doc_topic_NMF_15 = nmf_15.fit_transform(bag_of_words_15)\n",
    "print(nmf_15.reconstruction_err_)\n",
    "\n",
    "display_topics(nmf_15, tfidf_15.get_feature_names(), 10)"
   ]
  },
  {
   "cell_type": "code",
   "execution_count": 59,
   "metadata": {},
   "outputs": [],
   "source": [
    "with open('/Users/robertpagano/metis_data/project_5/topic_modeling/nmf_mccain/nmf_0.pickle', 'wb') as to_write:\n",
    "    pickle.dump(nmf_0, to_write)\n",
    "    \n",
    "with open('/Users/robertpagano/metis_data/project_5/topic_modeling/nmf_mccain/nmf_1.pickle', 'wb') as to_write:\n",
    "    pickle.dump(nmf_1, to_write)\n",
    "    \n",
    "with open('/Users/robertpagano/metis_data/project_5/topic_modeling/nmf_mccain/nmf_3.pickle', 'wb') as to_write:\n",
    "    pickle.dump(nmf_3, to_write)\n",
    "    \n",
    "with open('/Users/robertpagano/metis_data/project_5/topic_modeling/nmf_mccain/nmf_4.pickle', 'wb') as to_write:\n",
    "    pickle.dump(nmf_4, to_write)\n",
    "    \n",
    "with open('/Users/robertpagano/metis_data/project_5/topic_modeling/nmf_mccain/nmf_5.pickle', 'wb') as to_write:\n",
    "    pickle.dump(nmf_5, to_write)\n",
    "    \n",
    "with open('/Users/robertpagano/metis_data/project_5/topic_modeling/nmf_mccain/nmf_6.pickle', 'wb') as to_write:\n",
    "    pickle.dump(nmf_6, to_write)\n",
    "    \n",
    "with open('/Users/robertpagano/metis_data/project_5/topic_modeling/nmf_mccain/nmf_7.pickle', 'wb') as to_write:\n",
    "    pickle.dump(nmf_7, to_write)\n",
    "    \n",
    "with open('/Users/robertpagano/metis_data/project_5/topic_modeling/nmf_mccain/nmf_8.pickle', 'wb') as to_write:\n",
    "    pickle.dump(nmf_8, to_write)\n",
    "    \n",
    "with open('/Users/robertpagano/metis_data/project_5/topic_modeling/nmf_mccain/nmf_9.pickle', 'wb') as to_write:\n",
    "    pickle.dump(nmf_9, to_write)\n",
    "    \n",
    "with open('/Users/robertpagano/metis_data/project_5/topic_modeling/nmf_mccain/nmf_10.pickle', 'wb') as to_write:\n",
    "    pickle.dump(nmf_10, to_write)\n",
    "    \n",
    "with open('/Users/robertpagano/metis_data/project_5/topic_modeling/nmf_mccain/nmf_11.pickle', 'wb') as to_write:\n",
    "    pickle.dump(nmf_11, to_write)\n",
    "    \n",
    "with open('/Users/robertpagano/metis_data/project_5/topic_modeling/nmf_mccain/nmf_12.pickle', 'wb') as to_write:\n",
    "    pickle.dump(nmf_12, to_write)\n",
    "\n",
    "with open('/Users/robertpagano/metis_data/project_5/topic_modeling/nmf_mccain/nmf_13.pickle', 'wb') as to_write:\n",
    "    pickle.dump(nmf_13, to_write)\n",
    "\n",
    "with open('/Users/robertpagano/metis_data/project_5/topic_modeling/nmf_mccain/nmf_14.pickle', 'wb') as to_write:\n",
    "    pickle.dump(nmf_14, to_write)\n",
    "\n",
    "with open('/Users/robertpagano/metis_data/project_5/topic_modeling/nmf_mccain/nmf_15.pickle', 'wb') as to_write:\n",
    "    pickle.dump(nmf_15, to_write)\n",
    "    "
   ]
  },
  {
   "cell_type": "code",
   "execution_count": null,
   "metadata": {},
   "outputs": [],
   "source": []
  },
  {
   "cell_type": "markdown",
   "metadata": {},
   "source": [
    "Running Topic Modeling on ALL text data, both NMF and LSA, on various topic counts, to feed into DBScan / KMeans for cluster analysis"
   ]
  },
  {
   "cell_type": "code",
   "execution_count": 60,
   "metadata": {},
   "outputs": [],
   "source": [
    "# ## Creating list of the processed text files to merge, so it's all in the same format and can re-use code\n",
    "# dfs_to_merge = [df_0, df_1, df_2, df_3, df_4, df_5, df_6, df_7, df_8, df_9, df_10, df_11, df_26, df_40]"
   ]
  },
  {
   "cell_type": "code",
   "execution_count": 61,
   "metadata": {},
   "outputs": [],
   "source": [
    "# total = 0\n",
    "\n",
    "# for df in dfs_to_merge:\n",
    "#     print(df.shape)\n",
    "#     total += df.shape[0]\n",
    "    \n",
    "# print(total)"
   ]
  },
  {
   "cell_type": "code",
   "execution_count": 62,
   "metadata": {},
   "outputs": [],
   "source": [
    "# df_all_preprocessed = pd.concat(dfs_to_merge)"
   ]
  },
  {
   "cell_type": "code",
   "execution_count": 63,
   "metadata": {},
   "outputs": [],
   "source": [
    "# df_all_preprocessed.shape"
   ]
  },
  {
   "cell_type": "code",
   "execution_count": 64,
   "metadata": {},
   "outputs": [],
   "source": [
    "# df_all = df_all_preprocessed.copy()"
   ]
  },
  {
   "cell_type": "code",
   "execution_count": 65,
   "metadata": {},
   "outputs": [],
   "source": [
    "# df_all.head()"
   ]
  },
  {
   "cell_type": "code",
   "execution_count": 66,
   "metadata": {},
   "outputs": [],
   "source": [
    "# with open('/Users/robertpagano/metis_data/project_5/community_pickles_pre_nlp/preprocessed_dfs/df_all.pickle', 'wb') as to_write:\n",
    "#     pickle.dump(df_all, to_write)"
   ]
  },
  {
   "cell_type": "code",
   "execution_count": 67,
   "metadata": {},
   "outputs": [],
   "source": [
    "# with open('/Users/robertpagano/metis_data/project_5/community_pickles_pre_nlp/preprocessed_dfs/df_all.pickle', 'rb') as f:\n",
    "#     df_all = pickle.load(f)"
   ]
  },
  {
   "cell_type": "markdown",
   "metadata": {},
   "source": [
    "So the concat worked, the # of rows equals the number of all the rows added up (just to be safe)\n",
    "\n",
    "Now I'll run a few different LSAs and NMFs on the total data, and move on to clustering"
   ]
  },
  {
   "cell_type": "markdown",
   "metadata": {},
   "source": [
    "# Preprocess Text - for both LSA and NMF"
   ]
  },
  {
   "cell_type": "code",
   "execution_count": 68,
   "metadata": {},
   "outputs": [],
   "source": [
    "# # Can come back to tweek this if I notice anything\n",
    "# tweet_stopwords = stopwords.words('english') + \\\n",
    "#     ['rt', 'https', 'http', 'amp', 'via', 'one', 'around', 'would', 'let', 'could', 'going', 'like', \n",
    "#      'get', 'may', 'says', 'say', 'make', 'based', 'even', 'another', 'completely', 'thanks', 'way', \n",
    "#      'find', 'used', 'thing', '2019', 'see', 'need', 'know', 'knows', 'think', 'thinks', 'take', 'new', \n",
    "#      'day', 'days', 'aoc', 'alexandria', 'ocasio', 'cortez', 'ocasio-cortez', 'pron']"
   ]
  },
  {
   "cell_type": "code",
   "execution_count": 69,
   "metadata": {},
   "outputs": [],
   "source": [
    "# tfidf_all = TfidfVectorizer(stop_words=tweet_stopwords, token_pattern=\"\\\\b[a-z][a-z]+\\\\b\", ngram_range=(1,2))"
   ]
  },
  {
   "cell_type": "code",
   "execution_count": 70,
   "metadata": {},
   "outputs": [],
   "source": [
    "# X_all = df_all['tweet_processed']"
   ]
  },
  {
   "cell_type": "code",
   "execution_count": 71,
   "metadata": {},
   "outputs": [],
   "source": [
    "# bag_of_words_all = tfidf_all.fit_transform(X_all)"
   ]
  },
  {
   "cell_type": "code",
   "execution_count": 72,
   "metadata": {},
   "outputs": [],
   "source": [
    "# type(bag_of_words_all)"
   ]
  },
  {
   "cell_type": "markdown",
   "metadata": {},
   "source": [
    "# LSA on all text\n",
    "*10, 15, 20, 25 topics*"
   ]
  },
  {
   "cell_type": "code",
   "execution_count": 73,
   "metadata": {},
   "outputs": [],
   "source": [
    "# # LSA on 10 topics\n",
    "# lsa_all_10 = TruncatedSVD(10)\n",
    "# lsa_all_10.fit_transform(bag_of_words_all)\n",
    "# lsa_all_10.explained_variance_ratio_"
   ]
  },
  {
   "cell_type": "code",
   "execution_count": 74,
   "metadata": {
    "scrolled": false
   },
   "outputs": [],
   "source": [
    "# display_topics(lsa_all_10, tfidf_all.get_feature_names(), 10)"
   ]
  },
  {
   "cell_type": "code",
   "execution_count": 75,
   "metadata": {},
   "outputs": [],
   "source": [
    "# with open('/Users/robertpagano/metis_data/project_5/topic_modeling/lsa_aoc/lsa_all_10.pickle', 'wb') as to_write:\n",
    "#     pickle.dump(lsa_all_10, to_write)"
   ]
  },
  {
   "cell_type": "markdown",
   "metadata": {},
   "source": [
    "---------"
   ]
  },
  {
   "cell_type": "code",
   "execution_count": 76,
   "metadata": {},
   "outputs": [],
   "source": [
    "# # LSA on 15 topics\n",
    "# lsa_all_15 = TruncatedSVD(15)\n",
    "# lsa_all_15.fit_transform(bag_of_words_all)\n",
    "# lsa_all_15.explained_variance_ratio_"
   ]
  },
  {
   "cell_type": "code",
   "execution_count": 77,
   "metadata": {},
   "outputs": [],
   "source": [
    "# display_topics(lsa_all_15, tfidf_all.get_feature_names(), 10)"
   ]
  },
  {
   "cell_type": "code",
   "execution_count": 78,
   "metadata": {},
   "outputs": [],
   "source": [
    "# with open('/Users/robertpagano/metis_data/project_5/topic_modeling/lsa_aoc/lsa_all_15.pickle', 'wb') as to_write:\n",
    "#     pickle.dump(lsa_all_15, to_write)"
   ]
  },
  {
   "cell_type": "markdown",
   "metadata": {},
   "source": [
    "---------"
   ]
  },
  {
   "cell_type": "code",
   "execution_count": 79,
   "metadata": {},
   "outputs": [],
   "source": [
    "# # LSA on 20 topics\n",
    "# lsa_all_20 = TruncatedSVD(20)\n",
    "# lsa_all_20.fit_transform(bag_of_words_all)\n",
    "# lsa_all_20.explained_variance_ratio_"
   ]
  },
  {
   "cell_type": "code",
   "execution_count": 80,
   "metadata": {},
   "outputs": [],
   "source": [
    "# display_topics(lsa_all_20, tfidf_all.get_feature_names(), 10)"
   ]
  },
  {
   "cell_type": "code",
   "execution_count": 81,
   "metadata": {},
   "outputs": [],
   "source": [
    "# with open('/Users/robertpagano/metis_data/project_5/topic_modeling/lsa_aoc/lsa_all_20.pickle', 'wb') as to_write:\n",
    "#     pickle.dump(lsa_all_20, to_write)"
   ]
  },
  {
   "cell_type": "markdown",
   "metadata": {},
   "source": [
    "---------"
   ]
  },
  {
   "cell_type": "code",
   "execution_count": 82,
   "metadata": {},
   "outputs": [],
   "source": [
    "# # LSA on 25 topics\n",
    "# lsa_all_25 = TruncatedSVD(25)\n",
    "# lsa_all_25.fit_transform(bag_of_words_all)\n",
    "# lsa_all_25.explained_variance_ratio_"
   ]
  },
  {
   "cell_type": "code",
   "execution_count": 83,
   "metadata": {},
   "outputs": [],
   "source": [
    "# display_topics(lsa_all_25, tfidf_all.get_feature_names(), 10)"
   ]
  },
  {
   "cell_type": "code",
   "execution_count": 84,
   "metadata": {},
   "outputs": [],
   "source": [
    "# with open('/Users/robertpagano/metis_data/project_5/topic_modeling/lsa_aoc/lsa_all_25.pickle', 'wb') as to_write:\n",
    "#     pickle.dump(lsa_all_25, to_write)"
   ]
  },
  {
   "cell_type": "markdown",
   "metadata": {},
   "source": [
    "# NMF on all text\n",
    "*10, 15, 20, 25 topics*"
   ]
  },
  {
   "cell_type": "code",
   "execution_count": 85,
   "metadata": {},
   "outputs": [],
   "source": [
    "# # NMF on 10 topics\n",
    "# nmf_all_10 = NMF(10)\n",
    "# nmf_all_10.fit_transform(bag_of_words_all)\n",
    "# print(nmf_all_10.reconstruction_err_)"
   ]
  },
  {
   "cell_type": "code",
   "execution_count": 86,
   "metadata": {},
   "outputs": [],
   "source": [
    "# display_topics(nmf_all_10, tfidf_all.get_feature_names(), 10)"
   ]
  },
  {
   "cell_type": "code",
   "execution_count": 87,
   "metadata": {},
   "outputs": [],
   "source": [
    "# with open('/Users/robertpagano/metis_data/project_5/topic_modeling/nmf_aoc/nmf_all_10.pickle', 'wb') as to_write:\n",
    "#     pickle.dump(nmf_all_10, to_write)"
   ]
  },
  {
   "cell_type": "markdown",
   "metadata": {},
   "source": [
    "---------"
   ]
  },
  {
   "cell_type": "code",
   "execution_count": 88,
   "metadata": {},
   "outputs": [],
   "source": [
    "# # NMF on 15 topics\n",
    "# nmf_all_15 = NMF(15)\n",
    "# nmf_all_15.fit_transform(bag_of_words_all)\n",
    "# print(nmf_all_15.reconstruction_err_)"
   ]
  },
  {
   "cell_type": "code",
   "execution_count": 89,
   "metadata": {},
   "outputs": [],
   "source": [
    "# display_topics(nmf_all_15, tfidf_all.get_feature_names(), 10)"
   ]
  },
  {
   "cell_type": "code",
   "execution_count": 90,
   "metadata": {},
   "outputs": [],
   "source": [
    "# with open('/Users/robertpagano/metis_data/project_5/topic_modeling/nmf_aoc/nmf_all_15.pickle', 'wb') as to_write:\n",
    "#     pickle.dump(nmf_all_15, to_write)"
   ]
  },
  {
   "cell_type": "markdown",
   "metadata": {},
   "source": [
    "---------"
   ]
  },
  {
   "cell_type": "code",
   "execution_count": 91,
   "metadata": {},
   "outputs": [],
   "source": [
    "# # NMF on 20 topics\n",
    "# nmf_all_20 = NMF(20)\n",
    "# nmf_all_20.fit_transform(bag_of_words_all)\n",
    "# print(nmf_all_20.reconstruction_err_)"
   ]
  },
  {
   "cell_type": "code",
   "execution_count": 92,
   "metadata": {},
   "outputs": [],
   "source": [
    "# display_topics(nmf_all_20, tfidf_all.get_feature_names(), 10)"
   ]
  },
  {
   "cell_type": "code",
   "execution_count": 93,
   "metadata": {},
   "outputs": [],
   "source": [
    "# with open('/Users/robertpagano/metis_data/project_5/topic_modeling/nmf_aoc/nmf_all_20.pickle', 'wb') as to_write:\n",
    "#     pickle.dump(nmf_all_20, to_write)"
   ]
  },
  {
   "cell_type": "markdown",
   "metadata": {},
   "source": [
    "---------"
   ]
  },
  {
   "cell_type": "code",
   "execution_count": 94,
   "metadata": {},
   "outputs": [],
   "source": [
    "# # NMF on 25 topics\n",
    "# nmf_all_25 = NMF(25)\n",
    "# nmf_all_25.fit_transform(bag_of_words_all)\n",
    "# print(nmf_all_25.reconstruction_err_)\n",
    "\n",
    "# ## setting a variable to the fit transformed"
   ]
  },
  {
   "cell_type": "code",
   "execution_count": 95,
   "metadata": {},
   "outputs": [],
   "source": [
    "# nmf_model_25_df = pd.DataFrame(data=nmf_all_25.fit_transform(bag_of_words_all))\n",
    "# nmf_model_25_df.shape"
   ]
  },
  {
   "cell_type": "code",
   "execution_count": 96,
   "metadata": {},
   "outputs": [],
   "source": [
    "# print(nmf_all_25.reconstruction_err_)\n",
    "# nmf_model_25_df.head()"
   ]
  },
  {
   "cell_type": "markdown",
   "metadata": {},
   "source": [
    "NOTE TO SELF - if the above works, I'll need to make DFs of all versions again (which will take around another hour) :(\n",
    "\n",
    "Then I'll concat them with index and screen name, so I can assign values back to the tweeters otherwise. One annoying thing is I didn't pass in tweet ID so I'll have to think about that too"
   ]
  },
  {
   "cell_type": "code",
   "execution_count": 97,
   "metadata": {},
   "outputs": [],
   "source": [
    "# display_topics(nmf_all_25, tfidf_all.get_feature_names(), 10)"
   ]
  },
  {
   "cell_type": "code",
   "execution_count": 98,
   "metadata": {},
   "outputs": [],
   "source": [
    "# with open('/Users/robertpagano/metis_data/project_5/topic_modeling/nmf_aoc/nmf_all_25.pickle', 'wb') as to_write:\n",
    "#     pickle.dump(nmf_all_25, to_write)"
   ]
  },
  {
   "cell_type": "markdown",
   "metadata": {},
   "source": [
    "Now I will create DF's where I append this info to a dataframe\n",
    "\n",
    "then try dbscan with these"
   ]
  },
  {
   "cell_type": "code",
   "execution_count": 99,
   "metadata": {},
   "outputs": [],
   "source": [
    "# df_topic_base = df_all.reset_index()\n",
    "# df_topic_base.head()"
   ]
  },
  {
   "cell_type": "markdown",
   "metadata": {},
   "source": [
    "crap - now I know why I saved the fit_transform(bag_of_words_ objects previously, that's what I need to use to create the df. For now I'm seeing if I can just call that as the \"data\" and see if that works. Otherwise I will need to set them all equal to variables"
   ]
  },
  {
   "cell_type": "code",
   "execution_count": 100,
   "metadata": {},
   "outputs": [],
   "source": [
    "# df_topic_base.shape"
   ]
  },
  {
   "cell_type": "code",
   "execution_count": null,
   "metadata": {},
   "outputs": [],
   "source": []
  },
  {
   "cell_type": "code",
   "execution_count": 101,
   "metadata": {},
   "outputs": [],
   "source": [
    "# lsa_all_10 = TruncatedSVD(10)\n",
    "\n",
    "# lsa_model_10_df = pd.DataFrame(data=lsa_all_10.fit_transform(bag_of_words_all))\n",
    "# lsa_model_10_df.shape"
   ]
  },
  {
   "cell_type": "code",
   "execution_count": 102,
   "metadata": {},
   "outputs": [],
   "source": [
    "# lsa_all_15 = TruncatedSVD(15)\n",
    "\n",
    "# lsa_model_15_df = pd.DataFrame(data=lsa_all_15.fit_transform(bag_of_words_all))\n",
    "# lsa_model_15_df.shape"
   ]
  },
  {
   "cell_type": "code",
   "execution_count": 103,
   "metadata": {},
   "outputs": [],
   "source": [
    "# lsa_all_20 = TruncatedSVD(20)\n",
    "\n",
    "# lsa_model_20_df = pd.DataFrame(data=lsa_all_20.fit_transform(bag_of_words_all))\n",
    "# lsa_model_20_df.shape"
   ]
  },
  {
   "cell_type": "code",
   "execution_count": 104,
   "metadata": {},
   "outputs": [],
   "source": [
    "# lsa_all_25 = TruncatedSVD(25)\n",
    "\n",
    "# lsa_model_25_df = pd.DataFrame(data=lsa_all_25.fit_transform(bag_of_words_all))\n",
    "# lsa_model_25_df.shape"
   ]
  },
  {
   "cell_type": "code",
   "execution_count": null,
   "metadata": {},
   "outputs": [],
   "source": []
  },
  {
   "cell_type": "code",
   "execution_count": 105,
   "metadata": {},
   "outputs": [],
   "source": [
    "# df_lsa_model_10 = pd.merge(df_topic_base, lsa_model_10_df, left_index=True, right_index=True)\n",
    "# df_lsa_model_15 = pd.merge(df_topic_base, lsa_model_15_df, left_index=True, right_index=True)\n",
    "# df_lsa_model_20 = pd.merge(df_topic_base, lsa_model_20_df, left_index=True, right_index=True)\n",
    "# df_lsa_model_25 = pd.merge(df_topic_base, lsa_model_25_df, left_index=True, right_index=True)"
   ]
  },
  {
   "cell_type": "markdown",
   "metadata": {},
   "source": [
    "---------"
   ]
  },
  {
   "cell_type": "code",
   "execution_count": 106,
   "metadata": {},
   "outputs": [],
   "source": [
    "# nmf_all_10 = NMF(10)\n",
    "\n",
    "# nmf_model_10_df = pd.DataFrame(data=nmf_all_10.fit_transform(bag_of_words_all))\n",
    "# nmf_model_10_df.shape"
   ]
  },
  {
   "cell_type": "code",
   "execution_count": 107,
   "metadata": {},
   "outputs": [],
   "source": [
    "# nmf_all_15 = NMF(15)\n",
    "\n",
    "# nmf_model_15_df = pd.DataFrame(data=nmf_all_15.fit_transform(bag_of_words_all))\n",
    "# nmf_model_15_df.shape"
   ]
  },
  {
   "cell_type": "code",
   "execution_count": 108,
   "metadata": {},
   "outputs": [],
   "source": [
    "# nmf_all_20 = NMF(20)\n",
    "\n",
    "# nmf_model_20_df = pd.DataFrame(data=nmf_all_20.fit_transform(bag_of_words_all))\n",
    "# nmf_model_20_df.shape"
   ]
  },
  {
   "cell_type": "code",
   "execution_count": 109,
   "metadata": {},
   "outputs": [],
   "source": [
    "# # nmf_model_25_df = pd.DataFrame(data=nmf_all_25.fit_transform(bag_of_words_all)) ALREADY DONE!\n",
    "# nmf_model_25_df.shape"
   ]
  },
  {
   "cell_type": "code",
   "execution_count": null,
   "metadata": {},
   "outputs": [],
   "source": []
  },
  {
   "cell_type": "code",
   "execution_count": 110,
   "metadata": {},
   "outputs": [],
   "source": [
    "# df_nmf_model_10 = pd.merge(df_topic_base, nmf_model_10_df, left_index=True, right_index=True)\n",
    "# df_nmf_model_15 = pd.merge(df_topic_base, nmf_model_15_df, left_index=True, right_index=True)\n",
    "# df_nmf_model_20 = pd.merge(df_topic_base, nmf_model_20_df, left_index=True, right_index=True)\n",
    "# df_nmf_model_25 = pd.merge(df_topic_base, nmf_model_25_df, left_index=True, right_index=True)\n"
   ]
  },
  {
   "cell_type": "code",
   "execution_count": 112,
   "metadata": {},
   "outputs": [],
   "source": [
    "# with open('/Users/robertpagano/metis_data/project_5/topic_modeling/topic_dfs/df_lsa_model_10.pickle', 'wb') as to_write:\n",
    "#     pickle.dump(df_lsa_model_10, to_write)\n",
    "    \n",
    "# with open('/Users/robertpagano/metis_data/project_5/topic_modeling/topic_dfs/df_lsa_model_15.pickle', 'wb') as to_write:\n",
    "#     pickle.dump(df_lsa_model_15, to_write)\n",
    "    \n",
    "# with open('/Users/robertpagano/metis_data/project_5/topic_modeling/topic_dfs/df_lsa_model_20.pickle', 'wb') as to_write:\n",
    "#     pickle.dump(df_lsa_model_20, to_write)\n",
    "    \n",
    "# with open('/Users/robertpagano/metis_data/project_5/topic_modeling/topic_dfs/df_lsa_model_25.pickle', 'wb') as to_write:\n",
    "#     pickle.dump(df_lsa_model_25, to_write)\n",
    "    \n",
    "\n",
    "# with open('/Users/robertpagano/metis_data/project_5/topic_modeling/topic_dfs/df_nmf_model_10.pickle', 'wb') as to_write:\n",
    "#     pickle.dump(df_nmf_model_10, to_write)\n",
    "    \n",
    "# with open('/Users/robertpagano/metis_data/project_5/topic_modeling/topic_dfs/df_nmf_model_15.pickle', 'wb') as to_write:\n",
    "#     pickle.dump(df_nmf_model_15, to_write)\n",
    "    \n",
    "# with open('/Users/robertpagano/metis_data/project_5/topic_modeling/topic_dfs/df_nmf_model_20.pickle', 'wb') as to_write:\n",
    "#     pickle.dump(df_nmf_model_20, to_write)\n",
    "    \n",
    "# with open('/Users/robertpagano/metis_data/project_5/topic_modeling/topic_dfs/df_nmf_model_25.pickle', 'wb') as to_write:\n",
    "#     pickle.dump(df_nmf_model_25, to_write)\n",
    "    \n",
    "    \n",
    "\n",
    "    \n"
   ]
  },
  {
   "cell_type": "code",
   "execution_count": null,
   "metadata": {},
   "outputs": [],
   "source": []
  }
 ],
 "metadata": {
  "kernelspec": {
   "display_name": "Python 3",
   "language": "python",
   "name": "python3"
  },
  "language_info": {
   "codemirror_mode": {
    "name": "ipython",
    "version": 3
   },
   "file_extension": ".py",
   "mimetype": "text/x-python",
   "name": "python",
   "nbconvert_exporter": "python",
   "pygments_lexer": "ipython3",
   "version": "3.6.7"
  }
 },
 "nbformat": 4,
 "nbformat_minor": 2
}
