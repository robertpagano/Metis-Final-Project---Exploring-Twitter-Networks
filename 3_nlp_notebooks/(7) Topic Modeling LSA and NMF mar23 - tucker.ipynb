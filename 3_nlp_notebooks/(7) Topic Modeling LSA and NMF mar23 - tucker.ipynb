{
 "cells": [
  {
   "cell_type": "code",
   "execution_count": 1,
   "metadata": {},
   "outputs": [],
   "source": [
    "import pandas as pd\n",
    "import numpy as np\n",
    "\n",
    "import pickle\n",
    "\n",
    "# gensim\n",
    "from gensim import corpora, models, similarities, matutils\n",
    "\n",
    "# sklearn\n",
    "from sklearn.feature_extraction.text import CountVectorizer\n",
    "from sklearn.feature_extraction.text import TfidfVectorizer\n",
    "\n",
    "# logging for gensim (set to INFO)\n",
    "import logging\n",
    "logging.basicConfig(format='%(asctime)s : %(levelname)s : %(message)s', level=logging.INFO)\n",
    "\n",
    "import nltk\n",
    "import spacy\n",
    "\n",
    "from textblob import TextBlob, Word\n",
    "\n",
    "import re\n",
    "\n",
    "from nltk.corpus import stopwords\n",
    "from nltk.tokenize import RegexpTokenizer\n",
    "\n",
    "from sklearn.decomposition import TruncatedSVD\n",
    "from sklearn.decomposition import NMF\n",
    "from sklearn.metrics.pairwise import cosine_similarity"
   ]
  },
  {
   "cell_type": "markdown",
   "metadata": {},
   "source": [
    "Edited version of AOC to make it more organized"
   ]
  },
  {
   "cell_type": "code",
   "execution_count": 3,
   "metadata": {},
   "outputs": [],
   "source": [
    "pd.set_option('display.max_colwidth', 400)  # or 199"
   ]
  },
  {
   "cell_type": "markdown",
   "metadata": {},
   "source": [
    "Now, preprocessing (using same code as for kickstarter as baseline, come back here to tweak later)\n",
    "\n",
    "Look into https://pypi.org/project/tweet-preprocessor/ for tweet processing later!"
   ]
  },
  {
   "cell_type": "code",
   "execution_count": 4,
   "metadata": {},
   "outputs": [],
   "source": [
    "nlp = spacy.load('en', disable=['parser', 'ner'])\n",
    "# nlp = spacy.load('en')"
   ]
  },
  {
   "cell_type": "code",
   "execution_count": 5,
   "metadata": {},
   "outputs": [],
   "source": [
    "def pre_process(text):\n",
    "    \n",
    "    # lowercase\n",
    "    text=text.lower()\n",
    "    \n",
    "    #remove tags\n",
    "    text=re.sub(\"&lt;/?.*?&gt;\",\" &lt;&gt; \",text)\n",
    "\n",
    "    # remove special characters and digits\n",
    "    text=re.sub(\"(\\\\d|\\\\W)+\",\" \",text)\n",
    "    \n",
    "    #lemmatize with Spacy\n",
    "    doc = nlp(text)\n",
    "    text = \" \".join([token.lemma_ for token in doc])\n",
    "    \n",
    "    return text"
   ]
  },
  {
   "cell_type": "code",
   "execution_count": 6,
   "metadata": {},
   "outputs": [],
   "source": [
    "tweet_stopwords = stopwords.words('english') + \\\n",
    "    ['rt', 'https', 'http', 'amp', 'via', 'one', 'around', 'would', 'let', 'could', 'going', 'like', \n",
    "     'get', 'may', 'says', 'say', 'make', 'based', 'even', 'another', 'completely', 'thanks', 'way', \n",
    "     'find', 'used', 'thing', '2019', 'see', 'need', 'know', 'knows', 'think', 'thinks', 'take', 'new', \n",
    "     'day', 'days', 'tucker', 'carlson', 'tuckercarlson', 'pron']"
   ]
  },
  {
   "cell_type": "code",
   "execution_count": 7,
   "metadata": {},
   "outputs": [],
   "source": [
    "def display_topics(model, feature_names, no_top_words, topic_names=None):\n",
    "    for ix, topic in enumerate(model.components_):\n",
    "        if not topic_names or not topic_names[ix]:\n",
    "            print(\"\\nTopic \", ix)\n",
    "        else:\n",
    "            print(\"\\nTopic: '\",topic_names[ix],\"'\")\n",
    "        print(\", \".join([feature_names[i]\n",
    "                        for i in topic.argsort()[:-no_top_words - 1:-1]]))"
   ]
  },
  {
   "cell_type": "code",
   "execution_count": 9,
   "metadata": {},
   "outputs": [],
   "source": [
    "with open('/Users/robertpagano/src/metis_project_kojak/network_files/tucker/community_pickles_pre_nlp/df_0.pickle', 'rb') as f:\n",
    "    df_0 = pickle.load(f)\n",
    "\n",
    "with open('/Users/robertpagano/src/metis_project_kojak/network_files/tucker/community_pickles_pre_nlp/df_1.pickle', 'rb') as f:\n",
    "    df_1 = pickle.load(f)\n",
    "    \n",
    "with open('/Users/robertpagano/src/metis_project_kojak/network_files/tucker/community_pickles_pre_nlp/df_2.pickle', 'rb') as f:\n",
    "    df_2 = pickle.load(f)\n",
    "    \n",
    "with open('/Users/robertpagano/src/metis_project_kojak/network_files/tucker/community_pickles_pre_nlp/df_3.pickle', 'rb') as f:\n",
    "    df_3 = pickle.load(f)\n",
    "    \n",
    "with open('/Users/robertpagano/src/metis_project_kojak/network_files/tucker/community_pickles_pre_nlp/df_4.pickle', 'rb') as f:\n",
    "    df_4 = pickle.load(f)\n",
    "    \n",
    "with open('/Users/robertpagano/src/metis_project_kojak/network_files/tucker/community_pickles_pre_nlp/df_5.pickle', 'rb') as f:\n",
    "    df_5 = pickle.load(f)\n",
    "    \n",
    "with open('/Users/robertpagano/src/metis_project_kojak/network_files/tucker/community_pickles_pre_nlp/df_6.pickle', 'rb') as f:\n",
    "    df_6 = pickle.load(f)\n",
    "    \n",
    "with open('/Users/robertpagano/src/metis_project_kojak/network_files/tucker/community_pickles_pre_nlp/df_7.pickle', 'rb') as f:\n",
    "    df_7 = pickle.load(f)\n",
    "    \n",
    "with open('/Users/robertpagano/src/metis_project_kojak/network_files/tucker/community_pickles_pre_nlp/df_8.pickle', 'rb') as f:\n",
    "    df_8 = pickle.load(f)\n",
    "    \n",
    "with open('/Users/robertpagano/src/metis_project_kojak/network_files/tucker/community_pickles_pre_nlp/df_9.pickle', 'rb') as f:\n",
    "    df_9 = pickle.load(f)\n",
    "    \n",
    "with open('/Users/robertpagano/src/metis_project_kojak/network_files/tucker/community_pickles_pre_nlp/df_10.pickle', 'rb') as f:\n",
    "    df_10 = pickle.load(f)\n",
    "    \n",
    "with open('/Users/robertpagano/src/metis_project_kojak/network_files/tucker/community_pickles_pre_nlp/df_11.pickle', 'rb') as f:\n",
    "    df_11 = pickle.load(f)\n",
    "    \n",
    "with open('/Users/robertpagano/src/metis_project_kojak/network_files/tucker/community_pickles_pre_nlp/df_12.pickle', 'rb') as f:\n",
    "    df_12 = pickle.load(f)"
   ]
  },
  {
   "cell_type": "code",
   "execution_count": 10,
   "metadata": {},
   "outputs": [],
   "source": [
    "df_0['final_text'] = np.where((df_0['retweet_text'].isnull() == False), df_0['retweet_text'], df_0['main_text'])\n",
    "df_1['final_text'] = np.where((df_1['retweet_text'].isnull() == False), df_1['retweet_text'], df_1['main_text'])\n",
    "df_2['final_text'] = np.where((df_2['retweet_text'].isnull() == False), df_2['retweet_text'], df_2['main_text'])\n",
    "df_3['final_text'] = np.where((df_3['retweet_text'].isnull() == False), df_3['retweet_text'], df_3['main_text'])\n",
    "df_4['final_text'] = np.where((df_4['retweet_text'].isnull() == False), df_4['retweet_text'], df_4['main_text'])\n",
    "df_5['final_text'] = np.where((df_5['retweet_text'].isnull() == False), df_5['retweet_text'], df_5['main_text'])\n",
    "df_6['final_text'] = np.where((df_6['retweet_text'].isnull() == False), df_6['retweet_text'], df_6['main_text'])\n",
    "df_7['final_text'] = np.where((df_7['retweet_text'].isnull() == False), df_7['retweet_text'], df_7['main_text'])\n",
    "df_8['final_text'] = np.where((df_8['retweet_text'].isnull() == False), df_8['retweet_text'], df_8['main_text'])\n",
    "df_9['final_text'] = np.where((df_9['retweet_text'].isnull() == False), df_9['retweet_text'], df_9['main_text'])\n",
    "df_10['final_text'] = np.where((df_10['retweet_text'].isnull() == False), df_10['retweet_text'], df_10['main_text'])\n",
    "df_11['final_text'] = np.where((df_11['retweet_text'].isnull() == False), df_11['retweet_text'], df_11['main_text'])\n",
    "df_12['final_text'] = np.where((df_12['retweet_text'].isnull() == False), df_12['retweet_text'], df_12['main_text'])"
   ]
  },
  {
   "cell_type": "code",
   "execution_count": 11,
   "metadata": {},
   "outputs": [],
   "source": [
    "df_0['tweet_processed'] = df_0['final_text'].apply(lambda x:pre_process(x))\n",
    "df_1['tweet_processed'] = df_1['final_text'].apply(lambda x:pre_process(x))\n",
    "df_2['tweet_processed'] = df_2['final_text'].apply(lambda x:pre_process(x))\n",
    "df_3['tweet_processed'] = df_3['final_text'].apply(lambda x:pre_process(x))\n",
    "df_4['tweet_processed'] = df_4['final_text'].apply(lambda x:pre_process(x))\n",
    "df_5['tweet_processed'] = df_5['final_text'].apply(lambda x:pre_process(x))\n",
    "df_6['tweet_processed'] = df_6['final_text'].apply(lambda x:pre_process(x))\n",
    "df_7['tweet_processed'] = df_7['final_text'].apply(lambda x:pre_process(x))\n",
    "df_8['tweet_processed'] = df_8['final_text'].apply(lambda x:pre_process(x))\n",
    "df_9['tweet_processed'] = df_9['final_text'].apply(lambda x:pre_process(x))\n",
    "df_10['tweet_processed'] = df_10['final_text'].apply(lambda x:pre_process(x))\n",
    "df_11['tweet_processed'] = df_11['final_text'].apply(lambda x:pre_process(x))\n",
    "df_12['tweet_processed'] = df_12['final_text'].apply(lambda x:pre_process(x))"
   ]
  },
  {
   "cell_type": "code",
   "execution_count": 12,
   "metadata": {},
   "outputs": [],
   "source": [
    "with open('/Users/robertpagano/src/metis_project_kojak/network_files/tucker/community_pickles_pre_nlp/preproccessed_text/df_0_preprocess.pickle', 'wb') as to_write:\n",
    "    pickle.dump(df_0, to_write)\n",
    "\n",
    "with open('/Users/robertpagano/src/metis_project_kojak/network_files/tucker/community_pickles_pre_nlp/preproccessed_text/df_1_preprocess.pickle', 'wb') as to_write:\n",
    "    pickle.dump(df_1, to_write)\n",
    "\n",
    "with open('/Users/robertpagano/src/metis_project_kojak/network_files/tucker/community_pickles_pre_nlp/preproccessed_text/df_2_preprocess.pickle', 'wb') as to_write:\n",
    "    pickle.dump(df_2, to_write)\n",
    "\n",
    "with open('/Users/robertpagano/src/metis_project_kojak/network_files/tucker/community_pickles_pre_nlp/preproccessed_text/df_3_preprocess.pickle', 'wb') as to_write:\n",
    "    pickle.dump(df_3, to_write)\n",
    "\n",
    "with open('/Users/robertpagano/src/metis_project_kojak/network_files/tucker/community_pickles_pre_nlp/preproccessed_text/df_4_preprocess.pickle', 'wb') as to_write:\n",
    "    pickle.dump(df_4, to_write)\n",
    "\n",
    "with open('/Users/robertpagano/src/metis_project_kojak/network_files/tucker/community_pickles_pre_nlp/preproccessed_text/df_5_preprocess.pickle', 'wb') as to_write:\n",
    "    pickle.dump(df_5, to_write)\n",
    "\n",
    "with open('/Users/robertpagano/src/metis_project_kojak/network_files/tucker/community_pickles_pre_nlp/preproccessed_text/df_6_preprocess.pickle', 'wb') as to_write:\n",
    "    pickle.dump(df_6, to_write)\n",
    "\n",
    "with open('/Users/robertpagano/src/metis_project_kojak/network_files/tucker/community_pickles_pre_nlp/preproccessed_text/df_7_preprocess.pickle', 'wb') as to_write:\n",
    "    pickle.dump(df_7, to_write)\n",
    "\n",
    "with open('/Users/robertpagano/src/metis_project_kojak/network_files/tucker/community_pickles_pre_nlp/preproccessed_text/df_8_preprocess.pickle', 'wb') as to_write:\n",
    "    pickle.dump(df_8, to_write)\n",
    "\n",
    "with open('/Users/robertpagano/src/metis_project_kojak/network_files/tucker/community_pickles_pre_nlp/preproccessed_text/df_9_preprocess.pickle', 'wb') as to_write:\n",
    "    pickle.dump(df_9, to_write)\n",
    "\n",
    "with open('/Users/robertpagano/src/metis_project_kojak/network_files/tucker/community_pickles_pre_nlp/preproccessed_text/df_10_preprocess.pickle', 'wb') as to_write:\n",
    "    pickle.dump(df_10, to_write)\n",
    "\n",
    "with open('/Users/robertpagano/src/metis_project_kojak/network_files/tucker/community_pickles_pre_nlp/preproccessed_text/df_11_preprocess.pickle', 'wb') as to_write:\n",
    "    pickle.dump(df_11, to_write)\n",
    "\n",
    "with open('/Users/robertpagano/src/metis_project_kojak/network_files/tucker/community_pickles_pre_nlp/preproccessed_text/df_12_preprocess.pickle', 'wb') as to_write:\n",
    "    pickle.dump(df_12, to_write)\n"
   ]
  },
  {
   "cell_type": "code",
   "execution_count": 13,
   "metadata": {},
   "outputs": [],
   "source": [
    "X_0 = df_1['tweet_processed']\n",
    "X_1 = df_1['tweet_processed']\n",
    "X_2 = df_2['tweet_processed']\n",
    "X_3 = df_3['tweet_processed']\n",
    "X_4 = df_4['tweet_processed']\n",
    "X_5 = df_5['tweet_processed']\n",
    "X_6 = df_6['tweet_processed']\n",
    "X_7 = df_7['tweet_processed']\n",
    "X_8 = df_8['tweet_processed']\n",
    "X_9 = df_9['tweet_processed']\n",
    "X_10 = df_10['tweet_processed']\n",
    "X_11 = df_11['tweet_processed']\n",
    "X_12 = df_12['tweet_processed']\n"
   ]
  },
  {
   "cell_type": "code",
   "execution_count": 14,
   "metadata": {},
   "outputs": [],
   "source": [
    "tfidf_0 = TfidfVectorizer(stop_words=tweet_stopwords, token_pattern=\"\\\\b[a-z][a-z]+\\\\b\", ngram_range=(1,2))\n",
    "tfidf_1 = TfidfVectorizer(stop_words=tweet_stopwords, token_pattern=\"\\\\b[a-z][a-z]+\\\\b\", ngram_range=(1,2))\n",
    "tfidf_2 = TfidfVectorizer(stop_words=tweet_stopwords, token_pattern=\"\\\\b[a-z][a-z]+\\\\b\", ngram_range=(1,2))\n",
    "tfidf_3 = TfidfVectorizer(stop_words=tweet_stopwords, token_pattern=\"\\\\b[a-z][a-z]+\\\\b\", ngram_range=(1,2))\n",
    "tfidf_4 = TfidfVectorizer(stop_words=tweet_stopwords, token_pattern=\"\\\\b[a-z][a-z]+\\\\b\", ngram_range=(1,2))\n",
    "tfidf_5 = TfidfVectorizer(stop_words=tweet_stopwords, token_pattern=\"\\\\b[a-z][a-z]+\\\\b\", ngram_range=(1,2))\n",
    "tfidf_6 = TfidfVectorizer(stop_words=tweet_stopwords, token_pattern=\"\\\\b[a-z][a-z]+\\\\b\", ngram_range=(1,2))\n",
    "tfidf_7 = TfidfVectorizer(stop_words=tweet_stopwords, token_pattern=\"\\\\b[a-z][a-z]+\\\\b\", ngram_range=(1,2))\n",
    "tfidf_8 = TfidfVectorizer(stop_words=tweet_stopwords, token_pattern=\"\\\\b[a-z][a-z]+\\\\b\", ngram_range=(1,2))\n",
    "tfidf_9 = TfidfVectorizer(stop_words=tweet_stopwords, token_pattern=\"\\\\b[a-z][a-z]+\\\\b\", ngram_range=(1,2))\n",
    "tfidf_10 = TfidfVectorizer(stop_words=tweet_stopwords, token_pattern=\"\\\\b[a-z][a-z]+\\\\b\", ngram_range=(1,2))\n",
    "tfidf_11 = TfidfVectorizer(stop_words=tweet_stopwords, token_pattern=\"\\\\b[a-z][a-z]+\\\\b\", ngram_range=(1,2))\n",
    "tfidf_12 = TfidfVectorizer(stop_words=tweet_stopwords, token_pattern=\"\\\\b[a-z][a-z]+\\\\b\", ngram_range=(1,2))\n"
   ]
  },
  {
   "cell_type": "markdown",
   "metadata": {},
   "source": [
    "Community_0"
   ]
  },
  {
   "cell_type": "code",
   "execution_count": 15,
   "metadata": {},
   "outputs": [
    {
     "data": {
      "text/plain": [
       "array([0.20472547, 0.0362846 , 0.03682357, 0.03117483, 0.02392398,\n",
       "       0.02124166, 0.02186123, 0.01470538, 0.01401623, 0.01259035,\n",
       "       0.0125832 , 0.01043019, 0.00917623, 0.00899052, 0.0075041 ,\n",
       "       0.00741644, 0.00645229, 0.00625008, 0.00589862, 0.00550977])"
      ]
     },
     "execution_count": 15,
     "metadata": {},
     "output_type": "execute_result"
    }
   ],
   "source": [
    "bag_of_words_0 = tfidf_0.fit_transform(X_0)\n",
    "lsa_0 = TruncatedSVD(20)\n",
    "doc_topic_0 = lsa_0.fit_transform(bag_of_words_0)\n",
    "lsa_0.explained_variance_ratio_"
   ]
  },
  {
   "cell_type": "code",
   "execution_count": 16,
   "metadata": {},
   "outputs": [
    {
     "name": "stdout",
     "output_type": "stream",
     "text": [
      "\n",
      "Topic  0\n",
      "exclusive sexual, exclusive, yet unearthed, audio co, unearthed audio, shocking yet, pageant shocking, shocking, usa pageant, yet\n",
      "\n",
      "Topic  1\n",
      "harass teen, teen lecture, pageant dressing, room roy, brag go, go pageant, ban shopping, dressing, contestant donald, mall\n",
      "\n",
      "Topic  2\n",
      "wife, good, herd probably, usa vulnerable, wife mean, mean wife, old miss, pretty good, wife dumb, probably pretty\n",
      "\n",
      "Topic  3\n",
      "co qcozayvyic, qcozayvyic, usa pageant, sexual comment, pageant shocking, shocking yet, shocking, comment miss, yet, sexual\n",
      "\n",
      "Topic  4\n",
      "rjw, child beauty, ob rjw, repeatedly talk, co ob, talk sex, ob, pageant co, sex child, repeatedly\n",
      "\n",
      "Topic  5\n",
      "co wubucc, vile sort, dtj, sort locker, language predatory, defend stop, stop co, wubucc, wubucc dtj, predatory disgusting\n",
      "\n",
      "Topic  6\n",
      "haodcdldqg, co haodcdldqg, bayer still, still advertise, advertise show, show co, advertise, bayer, still, show\n",
      "\n",
      "Topic  7\n",
      "news, fox news, fox, protest, pirro, protest place, host, news headquarters, headquarters, outside fox\n",
      "\n",
      "Topic  8\n",
      "radio, ask immigrant, appearanc co, really smart, smart recently, immigrant hot, monkey vote, vote bigot, appearanc, bigot president\n",
      "\n",
      "Topic  9\n",
      "yet firetuckercarlson, firetuckercarlson boycotttuckercarlson, boycotttuckercarlson co, kuer sl, co kuer, kuer, sl, boycotttuckercarlson, firetuckercarlson, compilation clip\n",
      "\n",
      "Topic  10\n",
      "yet firetuckercarlson, firetuckercarlson boycotttuckercarlson, boycotttuckercarlson co, co kuer, kuer, kuer sl, sl, boycotttuckercarlson, firetuckercarlson, comment miss\n",
      "\n",
      "Topic  11\n",
      "underage miss, neutral, vulnerable underage, public bathroom, bathroom endanger, gender neutral, endanger girl, neutral public, want fuck, endanger\n",
      "\n",
      "Topic  12\n",
      "late, late senator, time range, show collude, collude democrat, insult late, snl late, theory snl, judge pirro, night talk\n",
      "\n",
      "Topic  13\n",
      "word woman, joke year, old molest, newly unearthed, molest newly, radio appearance, appearance co, primitive dog, dog joke, unearthed radio\n",
      "\n",
      "Topic  14\n",
      "speech, donaldson, hate speech, sam donaldson, vulgarity hate, vulgarity, homophobic speech, speech homophobic, sam, anchor sam\n",
      "\n",
      "Topic  15\n",
      "koch course, hateful propaganda, bankroll hateful, propaganda koch, bankroll, vxfrb ni, co vxfrb, googlealert, ni, vxfrb\n",
      "\n",
      "Topic  16\n",
      "dictionary picture, chauvinist pig, chauvinist, male chauvinist, pig dictionary, next male, dictionary, male, pig, picture\n",
      "\n",
      "Topic  17\n",
      "contestant co, sexually, sexist, fox, tlsq, co yzkqq, yzkqq tlsq, yzkqq, job oh, oh right\n",
      "\n",
      "Topic  18\n",
      "obtain, obtain full, nowthis obtain, news refuse, full segment, segment historian, brain moron, bregman fox, tiny brain, interview nowthis\n",
      "\n",
      "Topic  19\n",
      "bounty, dawndish, crest, mycascade, downy, gillette, universalpic pacificlife, pacificlife, pfizer universalpic, voya cigna\n"
     ]
    }
   ],
   "source": [
    "display_topics(lsa_0, tfidf_0.get_feature_names(), 10)"
   ]
  },
  {
   "cell_type": "markdown",
   "metadata": {},
   "source": [
    "Community_1"
   ]
  },
  {
   "cell_type": "code",
   "execution_count": 17,
   "metadata": {},
   "outputs": [
    {
     "data": {
      "text/plain": [
       "array([0.20472547, 0.0362846 , 0.03682357, 0.03117483, 0.02392398,\n",
       "       0.02124165, 0.02186122, 0.01470533, 0.01401628, 0.01259031,\n",
       "       0.01258315, 0.01043041, 0.00917577, 0.00899023, 0.00750309,\n",
       "       0.00741596, 0.00645184, 0.00625259, 0.00589639, 0.00549781])"
      ]
     },
     "execution_count": 17,
     "metadata": {},
     "output_type": "execute_result"
    }
   ],
   "source": [
    "bag_of_words_1 = tfidf_1.fit_transform(X_1)\n",
    "lsa_1 = TruncatedSVD(20)\n",
    "doc_topic_1 = lsa_1.fit_transform(bag_of_words_1)\n",
    "lsa_1.explained_variance_ratio_"
   ]
  },
  {
   "cell_type": "code",
   "execution_count": 18,
   "metadata": {},
   "outputs": [
    {
     "name": "stdout",
     "output_type": "stream",
     "text": [
      "\n",
      "Topic  0\n",
      "exclusive sexual, exclusive, yet unearthed, audio co, unearthed audio, shocking yet, pageant shocking, shocking, usa pageant, yet\n",
      "\n",
      "Topic  1\n",
      "pageant dressing, moore ban, shopping mall, republican defend, lecture family, dressing, harass teen, ban shopping, contestant donald, brag go\n",
      "\n",
      "Topic  2\n",
      "wife, good, herd probably, usa vulnerable, wife mean, mean wife, old miss, pretty good, wife dumb, probably pretty\n",
      "\n",
      "Topic  3\n",
      "co qcozayvyic, qcozayvyic, usa pageant, sexual comment, pageant shocking, shocking yet, shocking, comment miss, yet, sexual\n",
      "\n",
      "Topic  4\n",
      "rjw, repeatedly talk, child beauty, ob rjw, co ob, talk sex, ob, pageant co, sex child, repeatedly\n",
      "\n",
      "Topic  5\n",
      "co wubucc, wubucc, sort locker, wubucc dtj, room language, vile sort, dtj, stop co, predatory disgusting, language predatory\n",
      "\n",
      "Topic  6\n",
      "co haodcdldqg, haodcdldqg, bayer still, still advertise, advertise show, show co, advertise, bayer, still, show\n",
      "\n",
      "Topic  7\n",
      "news, fox news, fox, protest, pirro, protest place, host, headquarters, news headquarters, outside fox\n",
      "\n",
      "Topic  8\n",
      "radio, monkey vote, hot really, appearanc, appearanc co, vote bigot, really smart, smart recently, president ask, show appearanc\n",
      "\n",
      "Topic  9\n",
      "yet firetuckercarlson, firetuckercarlson boycotttuckercarlson, boycotttuckercarlson co, kuer, kuer sl, co kuer, sl, boycotttuckercarlson, firetuckercarlson, various\n",
      "\n",
      "Topic  10\n",
      "yet firetuckercarlson, firetuckercarlson boycotttuckercarlson, boycotttuckercarlson co, kuer sl, co kuer, kuer, sl, boycotttuckercarlson, firetuckercarlson, comment miss\n",
      "\n",
      "Topic  11\n",
      "underage miss, vulnerable underage, bathroom endanger, endanger girl, public bathroom, neutral, neutral public, gender neutral, want fuck, endanger\n",
      "\n",
      "Topic  12\n",
      "late, democrat support, night talk, pirro insult, show collude, collude, collude democrat, senator john, hour president, range theory\n",
      "\n",
      "Topic  13\n",
      "word woman, joke year, old molest, newly unearthed, molest newly, radio appearance, appearance co, primitive dog, dog joke, unearthed radio\n",
      "\n",
      "Topic  14\n",
      "speech, donaldson, hate speech, sam donaldson, speech homophobic, homophobic speech, vulgarity hate, vulgarity, sam, anchor sam\n",
      "\n",
      "Topic  15\n",
      "hateful propaganda, bankroll hateful, propaganda koch, koch course, bankroll, ni googlealert, vxfrb, ni, co vxfrb, googlealert\n",
      "\n",
      "Topic  16\n",
      "pig dictionary, male chauvinist, dictionary picture, chauvinist pig, chauvinist, next male, dictionary, male, pig, picture\n",
      "\n",
      "Topic  17\n",
      "contestant co, sexually, sexist, fox, racist, tlsq, co yzkqq, yzkqq tlsq, yzkqq, demean\n",
      "\n",
      "Topic  18\n",
      "obtain, nowthis obtain, obtain full, news refuse, full segment, bregman fox, brain moron, tiny brain, interview nowthis, segment historian\n",
      "\n",
      "Topic  19\n",
      "bounty, dawndish, crest, mycascade, downy, gillette, bayer pfizer, voya cigna, cigna, pacificlife\n"
     ]
    }
   ],
   "source": [
    "display_topics(lsa_1, tfidf_1.get_feature_names(), 10)"
   ]
  },
  {
   "cell_type": "markdown",
   "metadata": {},
   "source": [
    "Community_2"
   ]
  },
  {
   "cell_type": "code",
   "execution_count": 19,
   "metadata": {},
   "outputs": [
    {
     "data": {
      "text/plain": [
       "array([0.0608889 , 0.02440875, 0.01730847, 0.01769216, 0.01744139,\n",
       "       0.01402515, 0.01330772, 0.01352222, 0.01141726, 0.01062276,\n",
       "       0.00976345, 0.00957896, 0.00825222, 0.0072184 , 0.00670939,\n",
       "       0.00637342, 0.00536751, 0.00533393, 0.00511885, 0.00506078])"
      ]
     },
     "execution_count": 19,
     "metadata": {},
     "output_type": "execute_result"
    }
   ],
   "source": [
    "bag_of_words_2 = tfidf_2.fit_transform(X_2)\n",
    "lsa_2 = TruncatedSVD(20)\n",
    "doc_topic_2 = lsa_2.fit_transform(bag_of_words_2)\n",
    "lsa_2.explained_variance_ratio_"
   ]
  },
  {
   "cell_type": "code",
   "execution_count": 20,
   "metadata": {},
   "outputs": [
    {
     "name": "stdout",
     "output_type": "stream",
     "text": [
      "\n",
      "Topic  0\n",
      "deplatform every, every effective, hunt attempt, effective conservative, attempt deplatform, indication officially, throe election, week serve, matter continue, serve nothing\n",
      "\n",
      "Topic  1\n",
      "call brian, stelter eunuch, co wdyknkxroh, wdyknkxroh, eunuch co, brian stelter, eunuch, stelter, brian, call\n",
      "\n",
      "Topic  2\n",
      "destroy, co ngcc, ngcc nk, ngcc, nk vt, destroy judgejeanine, nk, vt, judgejeanine co, co\n",
      "\n",
      "Topic  3\n",
      "fox news, fox, news, judge jeanine, jeanine, judge, hannity retweet, seem goal, brazile cancellation, co bogguio\n",
      "\n",
      "Topic  4\n",
      "people, praise kkk, byrd denigrate, denigrate tran, leader robert, describe bag, kkk leader, robert byrd, jap praise, campaign write\n",
      "\n",
      "Topic  5\n",
      "co xqb, jeanine happen, destroy judge, happen co, xqb, happen, judge jeanine, judge, jeanine, destroy\n",
      "\n",
      "Topic  6\n",
      "xyisuty, co xyisuty, xyisuty judgejeanine, foxnew number, number co, judgejeanine salemmediagrp, go foxnew, salemmediagrp, number, go\n",
      "\n",
      "Topic  7\n",
      "boy joke, frat, old frat, frat boy, give less, sh year, less sh, retweet give, sh, less\n",
      "\n",
      "Topic  8\n",
      "allow lefty, michellemalkin something, ita, commentator trash, lefty commentator, ej eer, trash potus, eer ita, eer, tonight wth\n",
      "\n",
      "Topic  9\n",
      "carusone, writing, matter, medium matter, msnbc chris, chris haye, haye, haye ignore, medium, bigoted writing\n",
      "\n",
      "Topic  10\n",
      "fox, unjufqn, greg etc, etc together, payne varney, continue disrespect, co unjufqn, bus reason, unjufqn fox, reason whatsoever\n",
      "\n",
      "Topic  11\n",
      "zbumzo, sqj, border suitcase, speakerpelosi offer, nancy speakerpelosi, zbumzo sqj, suitcase, suitcase enough, tweet deleting, deleting later\n",
      "\n",
      "Topic  12\n",
      "jihfiuegxv, dishonest medium, co jihfiuegxv, matter co, dishonest, matter, medium matter, medium, savagery move, move goangelo\n",
      "\n",
      "Topic  13\n",
      "savagery move, move goangelo, pure savagery, matter two, minute pure, burie medium, savagery, two minute, burie, co apjtgsa\n",
      "\n",
      "Topic  14\n",
      "protester win, idlzhjvkpy, co idlzhjvkpy, heart mind, mind neighbor, win heart, neighbor co, neighbor, protester, heart\n",
      "\n",
      "Topic  15\n",
      "fox, co rkunrvh, scott lib, political lynching, lynching judgejeanine, fox suzanne, moment truth, rkunrvh, rkunrvh mn, channel buckle\n",
      "\n",
      "Topic  16\n",
      "cair, boycott, pirro, fire, jeanine pirro, lead sponsor, cair retweet, fascist cair, pirro lead, boycott tell\n",
      "\n",
      "Topic  17\n",
      "believe savage, savage support, mip, ofz mip, ofz, co ofz, savage, support co, believe, support\n",
      "\n",
      "Topic  18\n",
      "home, terrorize family, terrorize, family home, sxei, dujaz sxei, allow ban, co dujaz, plan harass, dujaz\n",
      "\n",
      "Topic  19\n",
      "agent, consultant bribe, foreign power, power wait, firsthand experience, firsthand, saracarterdc since, dnc pay, segment seanhannity, donnabrazile firsthand\n"
     ]
    }
   ],
   "source": [
    "display_topics(lsa_2, tfidf_2.get_feature_names(), 10)"
   ]
  },
  {
   "cell_type": "markdown",
   "metadata": {},
   "source": [
    "Community_3"
   ]
  },
  {
   "cell_type": "code",
   "execution_count": 21,
   "metadata": {},
   "outputs": [
    {
     "data": {
      "text/plain": [
       "array([0.06696098, 0.05836745, 0.02872296, 0.02911257, 0.02159089,\n",
       "       0.01490198, 0.01404814, 0.01328185, 0.01333077, 0.01281172,\n",
       "       0.01198265, 0.01075585, 0.01015773, 0.00930102, 0.00892984,\n",
       "       0.00812248, 0.00827696, 0.00812979, 0.00703821, 0.00693857])"
      ]
     },
     "execution_count": 21,
     "metadata": {},
     "output_type": "execute_result"
    }
   ],
   "source": [
    "bag_of_words_3 = tfidf_3.fit_transform(X_3)\n",
    "lsa_3 = TruncatedSVD(20)\n",
    "doc_topic_3 = lsa_3.fit_transform(bag_of_words_3)\n",
    "lsa_3.explained_variance_ratio_"
   ]
  },
  {
   "cell_type": "code",
   "execution_count": 22,
   "metadata": {},
   "outputs": [
    {
     "name": "stdout",
     "output_type": "stream",
     "text": [
      "\n",
      "Topic  0\n",
      "retweet give, less sh, sh year, give less, sh, old frat, boy joke, frat boy, frat, less\n",
      "\n",
      "Topic  1\n",
      "people, campaign write, lead medium, leader robert, byrd denigrate, guy lead, kkk leader, denigrate tran, denigrate, describe bag\n",
      "\n",
      "Topic  2\n",
      "carusone, writing, week, medium matter, matter, medium, bigoted writing, semitic bigoted, dkz, writing medium\n",
      "\n",
      "Topic  3\n",
      "nothing indication, continue hunt, attempt deplatform, deplatform every, election medium, serve nothing, hunt attempt, throe, throe election, every effective\n",
      "\n",
      "Topic  4\n",
      "co apjtgsa, savagery, minute pure, apjtgsa va, matter two, pure savagery, apjtgsa, move goangelo, savagery move, burie medium\n",
      "\n",
      "Topic  5\n",
      "destruction exactly, warn last, congrat mmfa, hbk, ycp, ycp hbk, night rule, president congrat, mutually assured, mutually\n",
      "\n",
      "Topic  6\n",
      "co wdyknkxroh, wdyknkxroh, stelter eunuch, call brian, eunuch co, brian stelter, brian, eunuch, stelter, call\n",
      "\n",
      "Topic  7\n",
      "plan harass, home facebook, harass terrorize, facebook allow, sxei, allow ban, dujaz sxei, dujaz, co dujaz, use mean\n",
      "\n",
      "Topic  8\n",
      "change country, change, country, country forever, forever, forever give, give change, probably decade, audio bubba, enw\n",
      "\n",
      "Topic  9\n",
      "whuhmqyjvv, co whuhmqyjvv, epic co, ok epic, epic, ok, co, bigot capitalone, advice spend, look advice\n",
      "\n",
      "Topic  10\n",
      "light hateful, astrazeneca look, look advice, advice spend, advertising dollar, bigot capitalone, hateful bigot, spend advertising, yjog, co yjog\n",
      "\n",
      "Topic  11\n",
      "else left, care sincere, gunn bad, left care, co jycximdh, jycximdh, anything anyone, bad anything, jam gunn, jam\n",
      "\n",
      "Topic  12\n",
      "dianne, praisin, happydavid, happykat, lindanix roe, aztattude, tammychabot, creamsickill, trumponly docevangelista, trumponly\n",
      "\n",
      "Topic  13\n",
      "political, smear, generation speech, smear generation, speech police, give small, group political, crime refuse, police crime, small group\n",
      "\n",
      "Topic  14\n",
      "tell, come, consider foxnew, come exactly, often consider, machine meet, tell often, people ask, story people, meet tell\n",
      "\n",
      "Topic  15\n",
      "matter co, co qczjg, qczjg, qczjg vv, shred medium, vv, shred, destroy, co, destroy judgejeanine\n",
      "\n",
      "Topic  16\n",
      "destroy, destroy judgejeanine, nk vt, co ngcc, ngcc nk, ngcc, vt, nk, judgejeanine co, judgejeanine\n",
      "\n",
      "Topic  17\n",
      "dwg, friend lifelong, co hitdn, hitdn, hitdn dwg, send co, lefty send, lifelong lefty, old friend, lifelong\n",
      "\n",
      "Topic  18\n",
      "angelo carusone, angelo, carusone, remark blog, give angelo, highlight angelo, carusone racist, antisemitic remark, matter taste, clip context\n",
      "\n",
      "Topic  19\n",
      "raise hand, hand stand, gb yb, dh gb, dh, co dh, gb, yb, stand co, raise\n"
     ]
    }
   ],
   "source": [
    "display_topics(lsa_3, tfidf_3.get_feature_names(), 10)"
   ]
  },
  {
   "cell_type": "markdown",
   "metadata": {},
   "source": [
    "Community_4"
   ]
  },
  {
   "cell_type": "code",
   "execution_count": 23,
   "metadata": {},
   "outputs": [
    {
     "data": {
      "text/plain": [
       "array([0.16347441, 0.09288822, 0.05322989, 0.02847312, 0.02518633,\n",
       "       0.02367749, 0.01912305, 0.01936446, 0.01867064, 0.01546717,\n",
       "       0.01510128, 0.01410622, 0.01224245, 0.01095318, 0.01071494,\n",
       "       0.00866776, 0.00861659, 0.00798693, 0.00806394, 0.00776563])"
      ]
     },
     "execution_count": 23,
     "metadata": {},
     "output_type": "execute_result"
    }
   ],
   "source": [
    "bag_of_words_4 = tfidf_4.fit_transform(X_4)\n",
    "lsa_4 = TruncatedSVD(20)\n",
    "doc_topic_4 = lsa_4.fit_transform(bag_of_words_4)\n",
    "lsa_4.explained_variance_ratio_"
   ]
  },
  {
   "cell_type": "code",
   "execution_count": 24,
   "metadata": {},
   "outputs": [
    {
     "name": "stdout",
     "output_type": "stream",
     "text": [
      "\n",
      "Topic  0\n",
      "skbkckxj, icymi white, icymi, co skbkckxj, supremacist co, supremacist, white supremacist, white, co, trump\n",
      "\n",
      "Topic  1\n",
      "trump, russia, dossier, start, policy adviser, foreign, uk, russia dirt, russia investigation, hhvpzo\n",
      "\n",
      "Topic  2\n",
      "comment recently, upsetting comment, unearth different, deeply, deeply upsetting, radio tv, vtwi, different radio, number deeply, eblgx vtwi\n",
      "\n",
      "Topic  3\n",
      "call, jai ex, iqn, co jai, jai, ex iqn, ex, dig hour, world pain, sponge co\n",
      "\n",
      "Topic  4\n",
      "teen usa, miss teen, usa, miss, teen, usa pageant, shocking, shocking yet, pageant shocking, comment miss\n",
      "\n",
      "Topic  5\n",
      "mollyjongfast, piece, piece glamorous, co ov, wdr, ov wdr, ov, glamorous mollyjongfast, glamorous, fabulous\n",
      "\n",
      "Topic  6\n",
      "koch course, googlealert, bankroll, vxfrb, course co, vxfrb ni, ni googlealert, ni, co vxfrb, bankroll hateful\n",
      "\n",
      "Topic  7\n",
      "want co, syotaodv, excellent people, mollyjongfast far, piece mollyjongfast, co syotaodv, show want, favorite piece, far excellent, people watch\n",
      "\n",
      "Topic  8\n",
      "night, lkxs xibm, blitzer lawrence, classy television, classy, donnell, donnell fair, fair talk, television program, night night\n",
      "\n",
      "Topic  9\n",
      "always, always impressed, ability, wrong everything, jz mmpaliz, always co, impressed ability, impressed, everything always, mmpaliz\n",
      "\n",
      "Topic  10\n",
      "male chauvinist, next male, chauvinist, chauvinist pig, dictionary, pig dictionary, dictionary picture, male, pig, picture\n",
      "\n",
      "Topic  11\n",
      "underage miss, bathroom, shout want, vulnerable underage, endanger girl, want fuck, endanger, gender neutral, gender, neutral public\n",
      "\n",
      "Topic  12\n",
      "fox, news, fox news, trump, boycott, pirro, jeanine, jeanine pirro, fox co, much\n",
      "\n",
      "Topic  13\n",
      "co pqq, pqq, iz yid, yid, look charle, charle koch, charle, bad look, koch co, pqq iz\n",
      "\n",
      "Topic  14\n",
      "speech, donaldson, change country, unchecked, speech left, unchecked change, left unchecked, kind speech, forever, country forever\n",
      "\n",
      "Topic  15\n",
      "still, matt gaetz, gaetz, matt, selfie, fox live, gaetz still, still secretary, still fox, still congress\n",
      "\n",
      "Topic  16\n",
      "pvh wxx, wxx, pm pvh, pvh, read peltzmadeline, pm, co pm, peltzmadeline co, read, peltzmadeline\n",
      "\n",
      "Topic  17\n",
      "suck, share, stop, precisely, suck today, share shitty, candace owen, precisely suck, sharpio, sharpio jacob\n",
      "\n",
      "Topic  18\n",
      "advertiser, zero, advertiser leave, co cnjxpfnj, lot viewer, zero co, cnjxpfnj, leave zero, viewer advertiser, lot\n",
      "\n",
      "Topic  19\n",
      "iraqi, iraqi semiliterate, semiliterate, monkey, week, immigrant country, dehumanize people, kind statement, dirtier kind, air week\n"
     ]
    }
   ],
   "source": [
    "display_topics(lsa_4, tfidf_4.get_feature_names(), 10)"
   ]
  },
  {
   "cell_type": "markdown",
   "metadata": {},
   "source": [
    "Community_5"
   ]
  },
  {
   "cell_type": "code",
   "execution_count": 25,
   "metadata": {},
   "outputs": [
    {
     "data": {
      "text/plain": [
       "array([0.23132361, 0.21119127, 0.07700845, 0.06478183, 0.02779131,\n",
       "       0.02628309, 0.01498442, 0.01149473, 0.01121925, 0.00943686,\n",
       "       0.00830325, 0.00643777, 0.00614467, 0.00596982, 0.00509523,\n",
       "       0.00489001, 0.00447072, 0.00418132, 0.00410397, 0.00381725])"
      ]
     },
     "execution_count": 25,
     "metadata": {},
     "output_type": "execute_result"
    }
   ],
   "source": [
    "bag_of_words_5 = tfidf_5.fit_transform(X_5)\n",
    "lsa_5 = TruncatedSVD(20)\n",
    "doc_topic_5 = lsa_5.fit_transform(bag_of_words_5)\n",
    "lsa_5.explained_variance_ratio_"
   ]
  },
  {
   "cell_type": "code",
   "execution_count": 26,
   "metadata": {},
   "outputs": [
    {
     "name": "stdout",
     "output_type": "stream",
     "text": [
      "\n",
      "Topic  0\n",
      "suck, precisely, laura loomer, owen laura, sharpio, sharpio jacob, stop share, else suck, share shitty, precisely suck\n",
      "\n",
      "Topic  1\n",
      "shout want, neutral public, fuck vulnerable, endanger girl, public bathroom, girl shout, vulnerable underage, bathroom endanger, endanger, want fuck\n",
      "\n",
      "Topic  2\n",
      "maher gofundme, gofundme, gofundme support, support effort, effort, maher, bill maher, bill, support, promise bill\n",
      "\n",
      "Topic  3\n",
      "complicit, course, complicit course, vacuum, course candace, happen vacuum, complicit none, course ben, course complicit, pewdiepie complicit\n",
      "\n",
      "Topic  4\n",
      "chan, anyone, trump, right, talk radio, chan chan, redpill kotaku, redpill, radio donald, anyone manosphere\n",
      "\n",
      "Topic  5\n",
      "demonetize mean, something right, bulrcfl, video instantly, co bulrcfl, must something, instantly demonetize, demonetize, mean must, instantly\n",
      "\n",
      "Topic  6\n",
      "yet, pageant shocking, shocking yet, shocking, sexual comment, usa pageant, comment miss, pageant, yet unearthed, exclusive sexual\n",
      "\n",
      "Topic  7\n",
      "co hta, ydzko, hta ydzko, hta, co, possibly hate, call crazy, hate call, yesterday possibly, yet co\n",
      "\n",
      "Topic  8\n",
      "possibly hate, crazy yet, co lcemsmqbqq, hate call, yet co, yesterday possibly, lcemsmqbqq, call crazy, tell yesterday, someone tell\n",
      "\n",
      "Topic  9\n",
      "feyg, co feyg, marry care, promise marry, care anything, child different, rap child, anything horrifying, harpersbazaarus, harpersbazaarus co\n",
      "\n",
      "Topic  10\n",
      "reason culture, create christchurch, people semi, comment call, point racist, obvious point, monkey reason, culture create, muslim people, literate monkey\n",
      "\n",
      "Topic  11\n",
      "manifesto, show, shooter manifesto, gunman, medium outlet, dbdjwrhpzw, gunman share, shooting medium, encourage share, manifesto use\n",
      "\n",
      "Topic  12\n",
      "zzbxya sbq, somemorenew miss, zzbxya, sbq, miss video, kiss finger, finger co, finger, video kiss, co zzbxya\n",
      "\n",
      "Topic  13\n",
      "white, manager white, speak manager, demand speak, white history, history month, lovechild demand, lovechild, manager, month\n",
      "\n",
      "Topic  14\n",
      "white, supremacist, white supremacist, win argument, blatant, news hub, existence prove, show validate, worth time, validate\n",
      "\n",
      "Topic  15\n",
      "sponge, love sponge, bubba, bubba love, love, tape, hulk hogan, hulk, hogan, wife\n",
      "\n",
      "Topic  16\n",
      "frack, job, people, people lose, lose, area, lose job, brother, california, automation ben\n",
      "\n",
      "Topic  17\n",
      "man, piece shit, piece, shit, herd, separate, gazelle separate, separate herd, wound gazelle, wound\n",
      "\n",
      "Topic  18\n",
      "powerful bully, meet year, victim powerful, bully meet, meet, bully, old tape, victim, powerful, year old\n",
      "\n",
      "Topic  19\n",
      "bankroll hateful, propaganda koch, vxfrb ni, vxfrb, hateful propaganda, course co, co vxfrb, ni googlealert, koch course, ni\n"
     ]
    }
   ],
   "source": [
    "display_topics(lsa_5, tfidf_5.get_feature_names(), 10)"
   ]
  },
  {
   "cell_type": "markdown",
   "metadata": {},
   "source": [
    "Community_6"
   ]
  },
  {
   "cell_type": "code",
   "execution_count": 27,
   "metadata": {},
   "outputs": [
    {
     "data": {
      "text/plain": [
       "array([0.37314481, 0.04842933, 0.0404977 , 0.03833522, 0.03033319,\n",
       "       0.02026201, 0.01782307, 0.01647664, 0.01432949, 0.01356378,\n",
       "       0.01214984, 0.00782997, 0.00760106, 0.00658863, 0.00649975,\n",
       "       0.00643117, 0.00604095, 0.00544597, 0.00484676, 0.00456493])"
      ]
     },
     "execution_count": 27,
     "metadata": {},
     "output_type": "execute_result"
    }
   ],
   "source": [
    "bag_of_words_6 = tfidf_6.fit_transform(X_6)\n",
    "lsa_6 = TruncatedSVD(20)\n",
    "doc_topic_6 = lsa_6.fit_transform(bag_of_words_6)\n",
    "lsa_6.explained_variance_ratio_"
   ]
  },
  {
   "cell_type": "code",
   "execution_count": 28,
   "metadata": {},
   "outputs": [
    {
     "name": "stdout",
     "output_type": "stream",
     "text": [
      "\n",
      "Topic  0\n",
      "blame, blame mikestuchbery, nt gun, islam blame, briannawu candace, online right, online, blame williamlegate, blame online, blame nt\n",
      "\n",
      "Topic  1\n",
      "old, medium matter, matter, medium, dumb shit, statute limitation, air medium, vastly, limitation, different conservative\n",
      "\n",
      "Topic  2\n",
      "frat boy, boy joke, boy, frat, old frat, give less, retweet give, less sh, sh, sh year\n",
      "\n",
      "Topic  3\n",
      "dirt, dig old, old dirt, dig, medium matter, matter, medium, dirt dig, finally co, co tsduhcnzly\n",
      "\n",
      "Topic  4\n",
      "use, use dirty, thermal energy, co nxvdtpom, china india, use thermal, nxvdtpom, auspol energypoverty, auspol, nxvdtpom theboltreport\n",
      "\n",
      "Topic  5\n",
      "limb, abe ztb, shitty howard, good joke, co abe, brown, world limb, stern wannabe, skinned year, show bad\n",
      "\n",
      "Topic  6\n",
      "anncoulter machinegunkelly, mrrogerstone, skynew piersmorgan, lisamurkowski waynedupreeshow, lisamurkowski, tgowdysc, tgowdysc genflynn, lindseygrahamsc politicalshort, anncoulter, ingrahamangle realcandaceo\n",
      "\n",
      "Topic  7\n",
      "yanggang, co, describe, yanggang yanggang, yanggang co, bring country, giannabarnhart dem, giannabarnhart, yang political, figure sense\n",
      "\n",
      "Topic  8\n",
      "people, leader robert, byrd, praise kkk, campaign write, byrd denigrate, lead medium, leader, tran people, time radio\n",
      "\n",
      "Topic  9\n",
      "throe, voice important, nothing indication, important fight, officially throe, deplatform every, deplatform, serve nothing, throe election, officially\n",
      "\n",
      "Topic  10\n",
      "division, harrowing, dlgeuak bk, drumpfler, hrm co, army, army authorize, hrm, drumpfler gun, pretty harrowing\n",
      "\n",
      "Topic  11\n",
      "change country, change, country, country forever, forever, co, decade old, decade, year co, bubba\n",
      "\n",
      "Topic  12\n",
      "oouwewaduc, co oouwewaduc, dignity, affinity, compromise dignity, compromise, partly, partly root, dignity attention, trump partly\n",
      "\n",
      "Topic  13\n",
      "co wdyknkxroh, wdyknkxroh, call brian, stelter eunuch, eunuch co, eunuch, brian, brian stelter, stelter, call\n",
      "\n",
      "Topic  14\n",
      "co dujaz, family home, harass, allow ban, sxei, terrorize family, terrorize, ban people, dujaz, antifa plan\n",
      "\n",
      "Topic  15\n",
      "gunn back, fuck bring, bring jame, quit, marvel, marvel quit, quit fuck, fuck, back, bring\n",
      "\n",
      "Topic  16\n",
      "comment, outrage, faux outrage, faux, old comment, radio well, discuss, well catholic, outrage decade, comment shock\n",
      "\n",
      "Topic  17\n",
      "piece conor, good co, whole piece, conor good, conor, piece, whole, good, co oouwewaduc, oouwewaduc\n",
      "\n",
      "Topic  18\n",
      "mob, outrage mob, year, go, comment, refuse apologise, mob america, comment fight, comment year, hunt faux\n",
      "\n",
      "Topic  19\n",
      "come, tell, exactly, foxnew, co, wing, president, story, consider, propaganda machine\n"
     ]
    }
   ],
   "source": [
    "display_topics(lsa_6, tfidf_6.get_feature_names(), 10)"
   ]
  },
  {
   "cell_type": "markdown",
   "metadata": {},
   "source": [
    "Community_7"
   ]
  },
  {
   "cell_type": "code",
   "execution_count": 29,
   "metadata": {},
   "outputs": [
    {
     "data": {
      "text/plain": [
       "array([0.03919197, 0.0357567 , 0.01990274, 0.01969083, 0.01315743,\n",
       "       0.01484985, 0.01364197, 0.01366964, 0.01238418, 0.01240378,\n",
       "       0.01119541, 0.01091663, 0.01062641, 0.00989356, 0.00996021,\n",
       "       0.00947761, 0.00933236, 0.00866492, 0.00869365, 0.00803585])"
      ]
     },
     "execution_count": 29,
     "metadata": {},
     "output_type": "execute_result"
    }
   ],
   "source": [
    "bag_of_words_7 = tfidf_7.fit_transform(X_7)\n",
    "lsa_7 = TruncatedSVD(20)\n",
    "doc_topic_7 = lsa_7.fit_transform(bag_of_words_7)\n",
    "lsa_7.explained_variance_ratio_"
   ]
  },
  {
   "cell_type": "code",
   "execution_count": 30,
   "metadata": {},
   "outputs": [
    {
     "name": "stdout",
     "output_type": "stream",
     "text": [
      "\n",
      "Topic  0\n",
      "usa pageant, sexual comment, comment miss, pageant, pageant shocking, shocking yet, shocking, yet, teen usa, miss teen\n",
      "\n",
      "Topic  1\n",
      "pig dictionary, dictionary picture, next male, chauvinist pig, male chauvinist, chauvinist, dictionary, male, picture, pig\n",
      "\n",
      "Topic  2\n",
      "still, matt gaetz, gaetz, matt, donald trump, donald, trump, alternative reality, presidential selfie, question moment\n",
      "\n",
      "Topic  3\n",
      "donald trump, donald, trump, mcconnell jim, jr mitch, jordan matt, gaetz cruz, graham sean, marco, egg face\n",
      "\n",
      "Topic  4\n",
      "boycott, news, fox news, fox, advertiser, invite instruction, represent deep, entitled white, toxic unrest, oiliota\n",
      "\n",
      "Topic  5\n",
      "come shit, toxic unrest, instruction, explain entitled, oiliota, entitled white, happy come, infect country, invite instruction, co oiliota\n",
      "\n",
      "Topic  6\n",
      "downy, bounty, gillette, dawndish, charmin, dawndish downy, mycascade, crest, pacificlife, cigna\n",
      "\n",
      "Topic  7\n",
      "keep, vacation, forced immediate, go forced, keep trend, immediate vacation, vacation keep, forced, immediate, trend\n",
      "\n",
      "Topic  8\n",
      "judgejeanine next, next go, go boycott, boycott advertiser, realdonaldtrump judgejeanine, judgejeanine, realdonaldtrump, next, go, boycott\n",
      "\n",
      "Topic  9\n",
      "yet unearthed, exclusive sexual, exclusive, audio co, unearthed audio, unearthed, audio, co iorzbp, anx, iorzbp anx\n",
      "\n",
      "Topic  10\n",
      "hotelsdotcom, travelocity, hotelsdotcom orbitz, orbitz, expedia travelocity, expediagroup, expedia, expediagroup expedia, orbitz boycott, allow bigotry\n",
      "\n",
      "Topic  11\n",
      "speech, propaganda koch, koch course, bankroll hateful, hateful propaganda, course co, bankroll, googlealert, co vxfrb, ni googlealert\n",
      "\n",
      "Topic  12\n",
      "propaganda koch, koch course, bankroll hateful, hateful propaganda, course co, bankroll, googlealert, ni, ni googlealert, co vxfrb\n",
      "\n",
      "Topic  13\n",
      "child human, badly wife, really feel, feel badly, trash bow, badly, human trash, wife child, bow tie, bow\n",
      "\n",
      "Topic  14\n",
      "speech, employment, today, woman, place employment, speech defense, happen continued, nonsense walk, defense complete, walk place\n",
      "\n",
      "Topic  15\n",
      "employment, place, place employment, box shit, btw bring, employment today, defense complete, speech defense, employment btw, bring box\n",
      "\n",
      "Topic  16\n",
      "timely vacation, enjoy timely, timely, hope enjoy, vacation firetuckercarlson, enjoy, hope, vacation, firetuckercarlson, place\n",
      "\n",
      "Topic  17\n",
      "want, public, bathroom endanger, vulnerable underage, endanger girl, public bathroom, neutral public, girl shout, shout want, fuck vulnerable\n",
      "\n",
      "Topic  18\n",
      "abeqeylk, jeanine appear, co abeqeylk, appear place, news prison, prison boycott, work next, boycott work, next co, prison\n",
      "\n",
      "Topic  19\n",
      "oeico, wu oeico, dad good, beautiful daughter, hurt three, daughter super, seriously hurt, creepy dad, three beautiful, co wu\n"
     ]
    }
   ],
   "source": [
    "display_topics(lsa_7, tfidf_7.get_feature_names(), 10)"
   ]
  },
  {
   "cell_type": "markdown",
   "metadata": {},
   "source": [
    "Community_8"
   ]
  },
  {
   "cell_type": "code",
   "execution_count": 31,
   "metadata": {},
   "outputs": [
    {
     "data": {
      "text/plain": [
       "array([0.08073293, 0.03649298, 0.02403689, 0.02419245, 0.01923464,\n",
       "       0.01737225, 0.01715447, 0.01621799, 0.01586864, 0.01500928,\n",
       "       0.01415039, 0.01253307, 0.01137147, 0.01092411, 0.01074794,\n",
       "       0.01016011, 0.00981478, 0.00843264, 0.0081742 , 0.00809893])"
      ]
     },
     "execution_count": 31,
     "metadata": {},
     "output_type": "execute_result"
    }
   ],
   "source": [
    "bag_of_words_8 = tfidf_8.fit_transform(X_8)\n",
    "lsa_8 = TruncatedSVD(20)\n",
    "doc_topic_8 = lsa_8.fit_transform(bag_of_words_8)\n",
    "lsa_8.explained_variance_ratio_"
   ]
  },
  {
   "cell_type": "code",
   "execution_count": 32,
   "metadata": {},
   "outputs": [
    {
     "name": "stdout",
     "output_type": "stream",
     "text": [
      "\n",
      "Topic  0\n",
      "idea, mexico, billion, remittance, tax, go nowhere, idea go, discuss idea, sgh, wwlsw sgh\n",
      "\n",
      "Topic  1\n",
      "wl, outraged co, vyjbb wl, vyjbb, co vyjbb, medium outraged, outraged, wing medium, left wing, wing\n",
      "\n",
      "Topic  2\n",
      "iraqi insult, insult boycott, launch obama, kill iraqi, obama bolton, boycott government, vitriol launch, vitriol, much vitriol, bolton kill\n",
      "\n",
      "Topic  3\n",
      "form racism, atlantic, neo liberal, co qrfuizw, zionist neo, actually form, wokezionism, wokezionism co, supremacy lmao, predict\n",
      "\n",
      "Topic  4\n",
      "antifa, antifa plan, home, harass, plan, local government, harass whomever, creepy proud, whomever want, plan protest\n",
      "\n",
      "Topic  5\n",
      "live, good, revenge screw, yib, hater desperately, tweet hatred, pcxu yib, marm nothing, nothing good, marm\n",
      "\n",
      "Topic  6\n",
      "name, fir sex, wanna, fir, ac start, dm name, two play, leak name, date wanna, start leak\n",
      "\n",
      "Topic  7\n",
      "wdyknkxroh, co wdyknkxroh, call brian, stelter eunuch, eunuch co, brian stelter, brian, eunuch, stelter, call\n",
      "\n",
      "Topic  8\n",
      "resource, dehumanising comment, meddle maybe, meddle, woman pillage, comment iraqi, government racist, racist dehumanising, resource meddle, maybe position\n",
      "\n",
      "Topic  9\n",
      "old frat, frat boy, boy joke, frat, sh year, give less, retweet give, less sh, sh, less\n",
      "\n",
      "Topic  10\n",
      "foy, kcolema, greta ilhanmn, laielkha mowhite, laielkha, delta, dagfinnarne judgefudge, dagfinnarne, jackycohen, drewrousemusic\n",
      "\n",
      "Topic  11\n",
      "people, medium matter, matter, medium, write blog, co paykmznp, radio comment, kkk leader, lead medium, leader robert\n",
      "\n",
      "Topic  12\n",
      "continue hunt, effective conservative, conservative voice, indication, deplatform every, nothing indication, judgejeanine week, every effective, throe, throe election\n",
      "\n",
      "Topic  13\n",
      "jew, terrorize, instinct jew, team counter, organize antifa, stuck, pull stop, terrorize wife, antifa mob, right instinct\n",
      "\n",
      "Topic  14\n",
      "jew control, shit base, anti rall, oh shit, lol go, front fox, fadmsinr, street black, control wall, guy crash\n",
      "\n",
      "Topic  15\n",
      "co dujaz, sxei, facebook allow, dujaz, plan harass, allow ban, dujaz sxei, harass terrorize, home facebook, use mean\n",
      "\n",
      "Topic  16\n",
      "threat, show much, campaign show, power hannity, hannity similar, intensity, treatment threat, much threat, intensity campaign, number treatment\n",
      "\n",
      "Topic  17\n",
      "vv, qczjg vv, qczjg, co qczjg, shred medium, shred, matter co, medium matter, matter, medium\n",
      "\n",
      "Topic  18\n",
      "christian, schwarz tweet, image, christian come, christian behead, muslim kill, oseuzylaew, oseuzylaew people, come israeli, release image\n",
      "\n",
      "Topic  19\n",
      "zealand, linwood cemetery, co srraoiyhm, cemetery zealand, cemetery, lizcrokin dailycaller, wga co, srraoiyhm, lizcrokin, saracarterdc saraashcraft\n"
     ]
    }
   ],
   "source": [
    "display_topics(lsa_8, tfidf_8.get_feature_names(), 10)"
   ]
  },
  {
   "cell_type": "markdown",
   "metadata": {},
   "source": [
    "Community_9"
   ]
  },
  {
   "cell_type": "code",
   "execution_count": 33,
   "metadata": {},
   "outputs": [
    {
     "data": {
      "text/plain": [
       "array([0.20627525, 0.10119706, 0.09643892, 0.02680589, 0.0267337 ,\n",
       "       0.02730291, 0.01500499, 0.01079307, 0.01022484, 0.00904284,\n",
       "       0.00863446, 0.00874451, 0.00849691, 0.00747321, 0.0069603 ,\n",
       "       0.00680894, 0.00682217, 0.00674582, 0.00590569, 0.00580185])"
      ]
     },
     "execution_count": 33,
     "metadata": {},
     "output_type": "execute_result"
    }
   ],
   "source": [
    "bag_of_words_9 = tfidf_9.fit_transform(X_9)\n",
    "lsa_9 = TruncatedSVD(20)\n",
    "doc_topic_9 = lsa_9.fit_transform(bag_of_words_9)\n",
    "lsa_9.explained_variance_ratio_"
   ]
  },
  {
   "cell_type": "code",
   "execution_count": 34,
   "metadata": {},
   "outputs": [
    {
     "name": "stdout",
     "output_type": "stream",
     "text": [
      "\n",
      "Topic  0\n",
      "white, clip, create civilization, create, civilization, racist, old audio, dnmvc fpgd, dnmvc, civilization co\n",
      "\n",
      "Topic  1\n",
      "wing thru, right wing, interwebs, interwebs really, read, connect, connect ado, account, tweet ann, account prior\n",
      "\n",
      "Topic  2\n",
      "retweet nazi, gm america, trump tell, tell fcc, fcc investigate, weekend, misogynist retweet, weekend trump, past weekend, stand racist\n",
      "\n",
      "Topic  3\n",
      "comment miss, pageant shocking, shocking, shocking yet, usa pageant, sexual comment, teen usa, usa, miss teen, yet\n",
      "\n",
      "Topic  4\n",
      "open, co ozwnxk, ozwnxk, try tell, sucker, ago sucker, sucker firetuckercarlson, tell year, firetuckercarlson co, year ago\n",
      "\n",
      "Topic  5\n",
      "try tell, ago sucker, co ozwnxk, ozwnxk, tell year, sucker firetuckercarlson, sucker, firetuckercarlson co, year ago, ago\n",
      "\n",
      "Topic  6\n",
      "iraqi, everything white, everything, blame white, man everything, monkey, lunatic, primative, supremacist black, monkey obama\n",
      "\n",
      "Topic  7\n",
      "semiliterate, semiliterate primitive, uncover radio, uncover, recently uncover, really smart, hot really, appearanc co, radio show, appearanc\n",
      "\n",
      "Topic  8\n",
      "force apologize, supremacist still, force, job, apologize, news, fox, fox news, still, keep\n",
      "\n",
      "Topic  9\n",
      "head, go, medium matter, matter, matter co, medium, ls, head medium, head head, dpby\n",
      "\n",
      "Topic  10\n",
      "donald, donald trump, speech, hannity, sean hannity, sean, trump, news, fox, fox news\n",
      "\n",
      "Topic  11\n",
      "donald trump, donald, trump, sean, sean hannity, graham sean, graham, rubio, rubio lindsey, eggboy use\n",
      "\n",
      "Topic  12\n",
      "air tonight, oqxszee, droptucker demand, tomorrow co, petition advertiser, dropfox person, tonight foxnew, co oqxszee, advertiser droptucker, tomorrow\n",
      "\n",
      "Topic  13\n",
      "go, work, work hard, hard kill, kill show, hard, effort, kill, since go, air work\n",
      "\n",
      "Topic  14\n",
      "next, dictionary picture, chauvinist, pig dictionary, dictionary, male chauvinist, chauvinist pig, next male, pig, male\n",
      "\n",
      "Topic  15\n",
      "course, bankroll, propaganda koch, co vxfrb, googlealert, hateful, hateful propaganda, koch, koch course, ni\n",
      "\n",
      "Topic  16\n",
      "course, chauvinist, dictionary picture, male chauvinist, chauvinist pig, next male, dictionary, pig dictionary, propaganda koch, ni googlealert\n",
      "\n",
      "Topic  17\n",
      "earn endorsement, endorsement, richard spencer, nationalist richard, spencer, spencer co, endorsement white, richard, earn, white nationalist\n",
      "\n",
      "Topic  18\n",
      "boycotttuckercarlson, yet firetuckercarlson, firetuckercarlson boycotttuckercarlson, boycotttuckercarlson co, sl, co kuer, kuer sl, kuer, firetuckercarlson, teen\n",
      "\n",
      "Topic  19\n",
      "jeanine pirro, pirro, youtube, thin ice, ice co, luf, luf youtube, co luf, pirro thin, jeanine\n"
     ]
    }
   ],
   "source": [
    "display_topics(lsa_9, tfidf_9.get_feature_names(), 10)"
   ]
  },
  {
   "cell_type": "markdown",
   "metadata": {},
   "source": [
    "Community_10"
   ]
  },
  {
   "cell_type": "code",
   "execution_count": 35,
   "metadata": {},
   "outputs": [
    {
     "data": {
      "text/plain": [
       "array([0.03693118, 0.03412557, 0.02451661, 0.02320222, 0.01896729,\n",
       "       0.01160966, 0.01025512, 0.00962941, 0.00765032, 0.00662608,\n",
       "       0.00677669, 0.00657745, 0.00637264, 0.00586137, 0.00532975,\n",
       "       0.00543159, 0.00480619, 0.00468065, 0.00425979, 0.00396333])"
      ]
     },
     "execution_count": 35,
     "metadata": {},
     "output_type": "execute_result"
    }
   ],
   "source": [
    "bag_of_words_10 = tfidf_10.fit_transform(X_10)\n",
    "lsa_10 = TruncatedSVD(20)\n",
    "doc_topic_10 = lsa_10.fit_transform(bag_of_words_10)\n",
    "lsa_10.explained_variance_ratio_"
   ]
  },
  {
   "cell_type": "code",
   "execution_count": 36,
   "metadata": {},
   "outputs": [
    {
     "name": "stdout",
     "output_type": "stream",
     "text": [
      "\n",
      "Topic  0\n",
      "please email, call tell, enough angry, advertise foxnew, action please, left silence, silence conservative, com, news advertise, conservative action\n",
      "\n",
      "Topic  1\n",
      "mj, jr, ezkanon si, bowcrazyapril, fmeonlylol, ezkanon, marina jr, marina, burnedspy, si\n",
      "\n",
      "Topic  2\n",
      "apologize, mob, outrage, never apologize, control never, mob trump, ploy silence, trump show, co ivgt, outrage ploy\n",
      "\n",
      "Topic  3\n",
      "deplatform every, serve nothing, continue hunt, nothing indication, every effective, officially throe, voice important, effective conservative, attack judgejeanine, election medium\n",
      "\n",
      "Topic  4\n",
      "tpusa, gop marklevinshow, benshapiro tedcruz, donaldjtrumpjr tpusa, marklevinshow foxnew, tpusa charliekirk, tedcruz gop, senategop benshapiro, tedcruz, realdonaldtrump senategop\n",
      "\n",
      "Topic  5\n",
      "people, kkk, gold call, people jap, byrd denigrate, paykmznp, leader robert, matter campaign, gold, bag jewish\n",
      "\n",
      "Topic  6\n",
      "fake outrage, twqrp yhmv, co twqrp, direct twitter, censor co, twqrp, response fake, twitter actively, outrage direct, try censor\n",
      "\n",
      "Topic  7\n",
      "year, show, year old, joke, radio show, year ago, old, ago, radio, show year\n",
      "\n",
      "Topic  8\n",
      "liberal fake, irony mind, hood irony, hood, governor stay, mind blow, ago edgy, wear black, office catch, catch wear\n",
      "\n",
      "Topic  9\n",
      "co, eunuch co, stelter eunuch, call brian, eunuch, wdyknkxroh, co wdyknkxroh, brian stelter, stelter, brian\n",
      "\n",
      "Topic  10\n",
      "call brian, stelter eunuch, eunuch co, co wdyknkxroh, wdyknkxroh, eunuch, brian stelter, stelter, brian, call\n",
      "\n",
      "Topic  11\n",
      "carusone, writing, medium matter, matter, andrew, msnbc chris, racist anti, president andrew, ignore carusone, andrew carusone\n",
      "\n",
      "Topic  12\n",
      "old frat, frat boy, boy joke, frat, give less, less sh, retweet give, sh year, sh, boy\n",
      "\n",
      "Topic  13\n",
      "europe, tell, isis tell, open door, believe difficult, soldier within, admit europe, within refugee, tell something, tell europe\n",
      "\n",
      "Topic  14\n",
      "donnabrazile seanhannity, saracarterdc donnabrazile, carterwpage, carterwpage saracarterdc, donnabrazile, saracarterdc, seanhannity, fox, wth, news\n",
      "\n",
      "Topic  15\n",
      "pure savagery, minute pure, goangelo co, move goangelo, burie, burie medium, matter two, two minute, co apjtgsa, apjtgsa\n",
      "\n",
      "Topic  16\n",
      "fox, news, jeanine, fox news, judge jeanine, judge, co, bring back, show, allow\n",
      "\n",
      "Topic  17\n",
      "trash potus, potus yet, show tonight, allow lefty, back immediately, lefty commentator, yet remove, wrong seanhannity, immediately co, ej eer\n",
      "\n",
      "Topic  18\n",
      "shame, shame shame, hand, word liberal, vote word, liberal shame, speakerpelosi hold, along republican, republican vote, hold blood\n",
      "\n",
      "Topic  19\n",
      "use, co dujaz, harass terrorize, dujaz sxei, plan harass, dujaz, sxei, allow ban, ban people, use mean\n"
     ]
    }
   ],
   "source": [
    "display_topics(lsa_10, tfidf_10.get_feature_names(), 10)"
   ]
  },
  {
   "cell_type": "markdown",
   "metadata": {},
   "source": [
    "Community_11"
   ]
  },
  {
   "cell_type": "code",
   "execution_count": 37,
   "metadata": {},
   "outputs": [
    {
     "data": {
      "text/plain": [
       "array([0.0507642 , 0.0527984 , 0.02808798, 0.02235737, 0.02095825,\n",
       "       0.01311214, 0.01304679, 0.0127442 , 0.01177862, 0.01017788,\n",
       "       0.00811887, 0.00839674, 0.00835898, 0.00814437, 0.00780696,\n",
       "       0.00757053, 0.00733945, 0.00681884, 0.00659623, 0.00632224])"
      ]
     },
     "execution_count": 37,
     "metadata": {},
     "output_type": "execute_result"
    }
   ],
   "source": [
    "bag_of_words_11 = tfidf_11.fit_transform(X_11)\n",
    "lsa_11 = TruncatedSVD(20)\n",
    "doc_topic_11 = lsa_11.fit_transform(bag_of_words_11)\n",
    "lsa_11.explained_variance_ratio_"
   ]
  },
  {
   "cell_type": "code",
   "execution_count": 38,
   "metadata": {},
   "outputs": [
    {
     "name": "stdout",
     "output_type": "stream",
     "text": [
      "\n",
      "Topic  0\n",
      "speech, donaldson, news, kind speech, unchecked change, left unchecked, speech left, unchecked, change country, country forever\n",
      "\n",
      "Topic  1\n",
      "co vxfrb, ni googlealert, vxfrb, ni, vxfrb ni, googlealert, course co, koch course, propaganda koch, bankroll hateful\n",
      "\n",
      "Topic  2\n",
      "usa pageant, sexual comment, comment miss, pageant shocking, shocking yet, shocking, teen usa, miss teen, usa, pageant\n",
      "\n",
      "Topic  3\n",
      "poison body, complicity inject, body politic, search soul, soul complicity, network boss, inject poison, time advertiser, advertiser network, inject\n",
      "\n",
      "Topic  4\n",
      "sympathy use, zero sympathy, monkey zero, paper fork, fork, use toilet, zero, toilet paper, sympathy, paper\n",
      "\n",
      "Topic  5\n",
      "protester urge, show protester, news show, join co, pirro fox, urge company, company join, ditch pirro, ditch, join\n",
      "\n",
      "Topic  6\n",
      "opinion go, hn wxsnkca, wxsnkca, hn, co hn, go co, opinion, go, co, next\n",
      "\n",
      "Topic  7\n",
      "pig dictionary, chauvinist pig, male chauvinist, next male, dictionary picture, chauvinist, dictionary, pig, male, picture\n",
      "\n",
      "Topic  8\n",
      "powerful, year old, bully meet, victim powerful, meet year, meet, powerful bully, old, year, old tape\n",
      "\n",
      "Topic  9\n",
      "trump, follower steady, close vicious, tweet million, clip sean, justice department, cycle self, trump frame, cycle, expert claim\n",
      "\n",
      "Topic  10\n",
      "usa contestant, contestant, public, play, underage miss, underage, people, vulnerable, bathroom endanger, gender neutral\n",
      "\n",
      "Topic  11\n",
      "former tv, tv anchor, tv, co nrqvf, nrqvf, udjqq mc, udjqq, co udjqq, nrqvf ef, mc co\n",
      "\n",
      "Topic  12\n",
      "post college, powerful authoritarian, house five, first post, sqw, sqw iuzqp, force disappear, co sqw, work first, iuzqp\n",
      "\n",
      "Topic  13\n",
      "play, wjjy ly, believe public, vile character, turn many, figure spew, ly gk, venom cynically, use believe, wjjy\n",
      "\n",
      "Topic  14\n",
      "firetuckercarlson boycotttuckercarlson, boycotttuckercarlson co, yet firetuckercarlson, boycotttuckercarlson, co kuer, kuer sl, kuer, sl, firetuckercarlson, usa pageant\n",
      "\n",
      "Topic  15\n",
      "still, selfie still, selfie, gaetz still, alternative reality, live alternative, still secretary, question moment, still congress, presidential selfie\n",
      "\n",
      "Topic  16\n",
      "hemqmusywb co, co hemqmusywb, donaldson add, donaldson react, ljcnxyqvbb, forever donaldson, hemqmusywb, co ljcnxyqvbb, react audio, add co\n",
      "\n",
      "Topic  17\n",
      "white, white supremacist, supremacist, bee, samantha, samantha bee, woman, man, white man, host\n",
      "\n",
      "Topic  18\n",
      "include, column co, column, postopinion, postopinion column, white supremacist, supremacist, bee, samantha, samantha bee\n",
      "\n",
      "Topic  19\n",
      "include, everyone else, everyone, else, collective, collective mistake, responsibility collective, support iraq, case responsibility, critic absolve\n"
     ]
    }
   ],
   "source": [
    "display_topics(lsa_11, tfidf_11.get_feature_names(), 10)"
   ]
  },
  {
   "cell_type": "markdown",
   "metadata": {},
   "source": [
    "Community_12"
   ]
  },
  {
   "cell_type": "code",
   "execution_count": 39,
   "metadata": {},
   "outputs": [
    {
     "data": {
      "text/plain": [
       "array([0.03869903, 0.04506407, 0.04011948, 0.02975934, 0.02416634,\n",
       "       0.02254887, 0.02159857, 0.0195082 , 0.01822028, 0.01608382,\n",
       "       0.0142996 , 0.01210207, 0.01065135, 0.01124858, 0.01021679,\n",
       "       0.01014777, 0.00908826, 0.00820547, 0.00793885, 0.00739338])"
      ]
     },
     "execution_count": 39,
     "metadata": {},
     "output_type": "execute_result"
    }
   ],
   "source": [
    "bag_of_words_12 = tfidf_12.fit_transform(X_12)\n",
    "lsa_12 = TruncatedSVD(20)\n",
    "doc_topic_12 = lsa_12.fit_transform(bag_of_words_12)\n",
    "lsa_12.explained_variance_ratio_"
   ]
  },
  {
   "cell_type": "code",
   "execution_count": 40,
   "metadata": {},
   "outputs": [
    {
     "name": "stdout",
     "output_type": "stream",
     "text": [
      "\n",
      "Topic  0\n",
      "tuckercarlsonfuckshisroomba, gc, co gc, gc gkfwnrq, gkfwnrq, tuckercarlsonfuckshisroomba co, roomba deserve, dj roomba, deserve tuckercarlsonfuckshisroomba, dj\n",
      "\n",
      "Topic  1\n",
      "roomba deserve, deserve tuckercarlsonfuckshisroomba, dj roomba, dj, deserve, roomba, tuckercarlsonfuckshisroomba, fuck, refer black, friend tuckercarlsonfuckshisroomba\n",
      "\n",
      "Topic  2\n",
      "refer black, yes refer, record yes, friend tuckercarlsonfuckshisroomba, black friend, friend, record, refer, yes, black\n",
      "\n",
      "Topic  3\n",
      "mean show, show proof, proof tuckercarlsonfuckshisroomba, proof, mean, show, tuckercarlsonfuckshisroomba, fuck tuckercarlsonfuckshisroomba, fuck, show tuckercarlsonfuckshisroomba\n",
      "\n",
      "Topic  4\n",
      "fuck tuckercarlsonfuckshisroomba, fuck, tuckercarlsonfuckshisroomba, fuck roomba, roomba tuckercarlsonfuckshisroomba, roomba, suck, suck tuckercarlsonfuckshisroomba, true fuck, true\n",
      "\n",
      "Topic  5\n",
      "still cable, tv show, show tuckercarlsonfuckshisroomba, cable tv, cable, tuckercarlsonfuckshisroomba foxnew, tv, foxnew, still, show\n",
      "\n",
      "Topic  6\n",
      "stick penis, penis anywhere, shame stick, anywhere tuckercarlsonfuckshisroomba, anywhere, penis, shame, stick, tuckercarlsonfuckshisroomba, suck tuckercarlsonfuckshisroomba\n",
      "\n",
      "Topic  7\n",
      "employee man, offender tuckercarlsonfuckshisroomba, offender, foxnew employee, claim foxnew, sex offender, defend sex, man defend, employee, claim\n",
      "\n",
      "Topic  8\n",
      "suck tuckercarlsonfuckshisroomba, suck, suction suck, suction, tuckercarlsonfuckshisroomba, roomba suck, suck much, much tuckercarlsonfuckshisroomba, tuckercarlsonfuckshisroomba johnoliver, smalldickenvy\n",
      "\n",
      "Topic  9\n",
      "people nightly, outrage people, victim tuckercarlsonfuckshisroomba, basis, nightly basis, nightly, basis victim, outrage, victim, people\n",
      "\n",
      "Topic  10\n",
      "drunk, tweet, fuck roomba, roomba, drunk run, retweet lol, tuckercarlsonfucksroombas, fucking drunk, time drunk, run tweet\n",
      "\n",
      "Topic  11\n",
      "roomba, tuckercarlsonfuckshisroomba roomba, part tuckercarlsonfuckshisroomba, part, roomba tuckercarlsonfuckshisroomba, true fuck, fuck roomba, true, lastweektonight, tuckercarlsonfuckshisroomba\n",
      "\n",
      "Topic  12\n",
      "zadoiqhv, co zadoiqhv, fox news, news, fox, co, call, link, link co, news host\n",
      "\n",
      "Topic  13\n",
      "least favorite, wow late, nationalist shock, shock tuckercarlsonfuckshisroomba, revelation, revelation everyone, everyone least, favorite white, late revelation, white nationalist\n",
      "\n",
      "Topic  14\n",
      "teen usa, usa, teen, miss teen, miss, comment miss, sexual comment, usa pageant, shocking yet, pageant shocking\n",
      "\n",
      "Topic  15\n",
      "tuckercarlsonfuckshisroomba roomba, part tuckercarlsonfuckshisroomba, part, fuck tuckercarlsonfuckshisroomba, drunk, tweet, drunk tweet, lol least, lol, tweet retweet\n",
      "\n",
      "Topic  16\n",
      "home tuckercarlsonfuckshisroomba, home, couch, co fbzvlra, couch home, fbzvlra, roomba try, hide couch, try hide, hide\n",
      "\n",
      "Topic  17\n",
      "susan, call bissell, bissell, mistake last, bissell mistake, happen call, susan happen, mistake, last night, night\n",
      "\n",
      "Topic  18\n",
      "smalldickenvy, tuckercarlsonfuckshisroomba johnoliver, suck much, much tuckercarlsonfuckshisroomba, johnoliver smalldickenvy, roomba suck, much, johnoliver, suck, dirt\n",
      "\n",
      "Topic  19\n",
      "word, sbk, co sbk, iczah, sbk iczah, use, bee, use word, woman radio, degrade call\n"
     ]
    }
   ],
   "source": [
    "display_topics(lsa_12, tfidf_12.get_feature_names(), 10)"
   ]
  },
  {
   "cell_type": "markdown",
   "metadata": {},
   "source": [
    "Now I have my top words in each LSA object w/ 20 topics each. I'm going to pickle each model and then use a new file to:\n",
    " - Find which tweets score the highest in each topic to get examples\n",
    " - Name communities\n",
    " - Sentiment analysis (maybe weekend)"
   ]
  },
  {
   "cell_type": "code",
   "execution_count": 41,
   "metadata": {
    "code_folding": []
   },
   "outputs": [],
   "source": [
    "with open('/Users/robertpagano/metis_data/project_5/topic_modeling/lsa_tucker/lsa_0.pickle', 'wb') as to_write:\n",
    "    pickle.dump(lsa_0, to_write)\n",
    "    \n",
    "with open('/Users/robertpagano/metis_data/project_5/topic_modeling/lsa_tucker/lsa_1.pickle', 'wb') as to_write:\n",
    "    pickle.dump(lsa_1, to_write)\n",
    "    \n",
    "with open('/Users/robertpagano/metis_data/project_5/topic_modeling/lsa_tucker/lsa_2.pickle', 'wb') as to_write:\n",
    "    pickle.dump(lsa_2, to_write)\n",
    "    \n",
    "with open('/Users/robertpagano/metis_data/project_5/topic_modeling/lsa_tucker/lsa_3.pickle', 'wb') as to_write:\n",
    "    pickle.dump(lsa_3, to_write)\n",
    "    \n",
    "with open('/Users/robertpagano/metis_data/project_5/topic_modeling/lsa_tucker/lsa_4.pickle', 'wb') as to_write:\n",
    "    pickle.dump(lsa_4, to_write)\n",
    "    \n",
    "with open('/Users/robertpagano/metis_data/project_5/topic_modeling/lsa_tucker/lsa_5.pickle', 'wb') as to_write:\n",
    "    pickle.dump(lsa_5, to_write)\n",
    "    \n",
    "with open('/Users/robertpagano/metis_data/project_5/topic_modeling/lsa_tucker/lsa_6.pickle', 'wb') as to_write:\n",
    "    pickle.dump(lsa_6, to_write)\n",
    "    \n",
    "with open('/Users/robertpagano/metis_data/project_5/topic_modeling/lsa_tucker/lsa_7.pickle', 'wb') as to_write:\n",
    "    pickle.dump(lsa_7, to_write)\n",
    "    \n",
    "with open('/Users/robertpagano/metis_data/project_5/topic_modeling/lsa_tucker/lsa_8.pickle', 'wb') as to_write:\n",
    "    pickle.dump(lsa_8, to_write)\n",
    "    \n",
    "with open('/Users/robertpagano/metis_data/project_5/topic_modeling/lsa_tucker/lsa_9.pickle', 'wb') as to_write:\n",
    "    pickle.dump(lsa_9, to_write)\n",
    "    \n",
    "with open('/Users/robertpagano/metis_data/project_5/topic_modeling/lsa_tucker/lsa_10.pickle', 'wb') as to_write:\n",
    "    pickle.dump(lsa_10, to_write)\n",
    "    \n",
    "with open('/Users/robertpagano/metis_data/project_5/topic_modeling/lsa_tucker/lsa_11.pickle', 'wb') as to_write:\n",
    "    pickle.dump(lsa_11, to_write)\n",
    "    \n",
    "with open('/Users/robertpagano/metis_data/project_5/topic_modeling/lsa_tucker/lsa_12.pickle', 'wb') as to_write:\n",
    "    pickle.dump(lsa_12, to_write)\n",
    "      "
   ]
  },
  {
   "cell_type": "markdown",
   "metadata": {},
   "source": [
    "NMF Models?"
   ]
  },
  {
   "cell_type": "code",
   "execution_count": 42,
   "metadata": {
    "scrolled": true
   },
   "outputs": [
    {
     "name": "stdout",
     "output_type": "stream",
     "text": [
      "86.50549919623006\n",
      "\n",
      "Topic  0\n",
      "co iorzbp, anx, iorzbp anx, iorzbp, exclusive, exclusive sexual, yet unearthed, audio co, unearthed audio, shocking yet\n",
      "\n",
      "Topic  1\n",
      "republican defend, shopping mall, ban shopping, moore ban, dressing, dressing room, mall harass, lecture family, mall, brag go\n",
      "\n",
      "Topic  2\n",
      "wife, good, vulnerable wound, mean wife, herd probably, wife mean, usa vulnerable, old miss, pretty good, probably pretty\n",
      "\n",
      "Topic  3\n",
      "qcozayvyic, co qcozayvyic, exclusive sexual, exclusive, yet unearthed, audio co, unearthed audio, shocking yet, pageant shocking, shocking\n",
      "\n",
      "Topic  4\n",
      "rjw, ob rjw, child beauty, repeatedly talk, co ob, talk sex, ob, pageant co, sex child, repeatedly\n",
      "\n",
      "Topic  5\n",
      "vile sort, wubucc, predatory disgusting, co wubucc, room language, dtj, defend stop, stop co, language predatory, sort locker\n",
      "\n",
      "Topic  6\n",
      "haodcdldqg, co haodcdldqg, bayer still, still advertise, advertise show, show co, advertise, bayer, still, show\n",
      "\n",
      "Topic  7\n",
      "fox news, news, fox, protest, protest place, headquarters, news headquarters, outside fox, outside, place fox\n",
      "\n",
      "Topic  8\n",
      "monkey vote, appearanc, ask immigrant, bigot president, hot really, show appearanc, immigrant hot, appearanc co, really smart, smart recently\n",
      "\n",
      "Topic  9\n",
      "jeff cult, various misogynistic, interview put, hear various, also hear, child also, ss ov, matter defend, compilation, compilation clip\n",
      "\n",
      "Topic  10\n",
      "yet firetuckercarlson, firetuckercarlson boycotttuckercarlson, boycotttuckercarlson co, kuer sl, kuer, co kuer, sl, boycotttuckercarlson, firetuckercarlson, usa pageant\n",
      "\n",
      "Topic  11\n",
      "gender neutral, endanger girl, neutral public, public bathroom, bathroom endanger, neutral, vulnerable underage, underage miss, want fuck, endanger\n",
      "\n",
      "Topic  12\n",
      "late, theory snl, time range, pirro insult, late senator, range theory, collude, hour president, show collude, insult late\n",
      "\n",
      "Topic  13\n",
      "word woman, joke year, old molest, newly unearthed, molest newly, radio appearance, appearance co, primitive dog, unearthed radio, use word\n",
      "\n",
      "Topic  14\n",
      "speech, donaldson, news, hate speech, sam donaldson, vulgarity hate, speech homophobic, vulgarity, homophobic speech, sam\n",
      "\n",
      "Topic  15\n",
      "bankroll hateful, propaganda koch, koch course, hateful propaganda, bankroll, ni, ni googlealert, vxfrb, googlealert, vxfrb ni\n",
      "\n",
      "Topic  16\n",
      "dictionary picture, chauvinist, chauvinist pig, male chauvinist, pig dictionary, next male, dictionary, male, pig, picture\n",
      "\n",
      "Topic  17\n",
      "contestant co, sexually, usa contestant, contestant, sexist, co yzkqq, yzkqq tlsq, tlsq, yzkqq, demean\n",
      "\n",
      "Topic  18\n",
      "fox news, news, fox, obtain, nowthis obtain, obtain full, news refuse, brain moron, moron interview, segment historian\n",
      "\n",
      "Topic  19\n",
      "bounty, dawndish, crest, mycascade, downy, gillette, voya cigna, cigna, pfizer universalpic, pacificlife\n"
     ]
    }
   ],
   "source": [
    "nmf_0 = NMF(20)\n",
    "doc_topic_NMF_0 = nmf_0.fit_transform(bag_of_words_0)\n",
    "print(nmf_0.reconstruction_err_)\n",
    "\n",
    "display_topics(nmf_0, tfidf_0.get_feature_names(), 10)"
   ]
  },
  {
   "cell_type": "code",
   "execution_count": 43,
   "metadata": {},
   "outputs": [
    {
     "name": "stdout",
     "output_type": "stream",
     "text": [
      "86.50549919379984\n",
      "\n",
      "Topic  0\n",
      "co iorzbp, anx, iorzbp anx, iorzbp, exclusive, exclusive sexual, yet unearthed, audio co, unearthed audio, shocking yet\n",
      "\n",
      "Topic  1\n",
      "republican defend, shopping mall, ban shopping, moore ban, dressing, dressing room, mall harass, lecture family, mall, brag go\n",
      "\n",
      "Topic  2\n",
      "wife, good, vulnerable wound, mean wife, herd probably, wife mean, usa vulnerable, old miss, pretty good, probably pretty\n",
      "\n",
      "Topic  3\n",
      "qcozayvyic, co qcozayvyic, exclusive sexual, exclusive, yet unearthed, audio co, unearthed audio, shocking yet, pageant shocking, shocking\n",
      "\n",
      "Topic  4\n",
      "rjw, ob rjw, child beauty, repeatedly talk, co ob, talk sex, ob, pageant co, sex child, repeatedly\n",
      "\n",
      "Topic  5\n",
      "vile sort, wubucc, predatory disgusting, co wubucc, room language, dtj, defend stop, stop co, language predatory, sort locker\n",
      "\n",
      "Topic  6\n",
      "haodcdldqg, co haodcdldqg, bayer still, still advertise, advertise show, show co, advertise, bayer, still, show\n",
      "\n",
      "Topic  7\n",
      "fox news, news, fox, protest, protest place, headquarters, news headquarters, outside fox, outside, place fox\n",
      "\n",
      "Topic  8\n",
      "monkey vote, appearanc, ask immigrant, bigot president, hot really, show appearanc, immigrant hot, appearanc co, really smart, smart recently\n",
      "\n",
      "Topic  9\n",
      "jeff cult, various misogynistic, interview put, hear various, also hear, child also, ss ov, matter defend, compilation, compilation clip\n",
      "\n",
      "Topic  10\n",
      "yet firetuckercarlson, firetuckercarlson boycotttuckercarlson, boycotttuckercarlson co, kuer sl, kuer, co kuer, sl, boycotttuckercarlson, firetuckercarlson, usa pageant\n",
      "\n",
      "Topic  11\n",
      "gender neutral, endanger girl, neutral public, public bathroom, bathroom endanger, neutral, vulnerable underage, underage miss, want fuck, endanger\n",
      "\n",
      "Topic  12\n",
      "late, theory snl, time range, pirro insult, late senator, range theory, collude, hour president, show collude, insult late\n",
      "\n",
      "Topic  13\n",
      "word woman, joke year, old molest, newly unearthed, molest newly, radio appearance, appearance co, primitive dog, unearthed radio, use word\n",
      "\n",
      "Topic  14\n",
      "speech, donaldson, news, hate speech, sam donaldson, vulgarity hate, speech homophobic, vulgarity, homophobic speech, sam\n",
      "\n",
      "Topic  15\n",
      "bankroll hateful, propaganda koch, koch course, hateful propaganda, bankroll, ni, ni googlealert, vxfrb, googlealert, vxfrb ni\n",
      "\n",
      "Topic  16\n",
      "dictionary picture, chauvinist, chauvinist pig, male chauvinist, pig dictionary, next male, dictionary, male, pig, picture\n",
      "\n",
      "Topic  17\n",
      "contestant co, sexually, usa contestant, contestant, sexist, co yzkqq, yzkqq tlsq, tlsq, yzkqq, demean\n",
      "\n",
      "Topic  18\n",
      "fox news, news, fox, obtain, nowthis obtain, obtain full, news refuse, brain moron, moron interview, segment historian\n",
      "\n",
      "Topic  19\n",
      "bounty, dawndish, crest, mycascade, downy, gillette, voya cigna, cigna, pfizer universalpic, pacificlife\n"
     ]
    }
   ],
   "source": [
    "nmf_1 = NMF(20)\n",
    "doc_topic_NMF_1 = nmf_1.fit_transform(bag_of_words_1)\n",
    "print(nmf_1.reconstruction_err_)\n",
    "\n",
    "display_topics(nmf_1, tfidf_1.get_feature_names(), 10)"
   ]
  },
  {
   "cell_type": "code",
   "execution_count": 44,
   "metadata": {},
   "outputs": [
    {
     "name": "stdout",
     "output_type": "stream",
     "text": [
      "314.11402869516274\n",
      "\n",
      "Topic  0\n",
      "every effective, attempt deplatform, effective conservative, hunt attempt, deplatform every, matter continue, officially throe, continue hunt, week serve, nothing indication\n",
      "\n",
      "Topic  1\n",
      "call brian, stelter eunuch, co wdyknkxroh, wdyknkxroh, eunuch co, brian stelter, eunuch, stelter, brian, call\n",
      "\n",
      "Topic  2\n",
      "ngcc, co ngcc, ngcc nk, nk vt, destroy judgejeanine, nk, vt, judgejeanine co, destroy, judgejeanine\n",
      "\n",
      "Topic  3\n",
      "fox news, news, fox, hannity retweet, seem goal, rhetoric hiring, bogguio, co bogguio, brazile cancellation, cancellation judge\n",
      "\n",
      "Topic  4\n",
      "people, tran people, leader robert, kkk leader, matter campaign, praise kkk, jap praise, robert byrd, describe bag, campaign write\n",
      "\n",
      "Topic  5\n",
      "co xqb, jeanine happen, destroy judge, happen co, xqb, happen, destroy, judge jeanine, judge, jeanine\n",
      "\n",
      "Topic  6\n",
      "co xyisuty, xyisuty, xyisuty judgejeanine, foxnew number, number co, judgejeanine salemmediagrp, salemmediagrp, go foxnew, number, go\n",
      "\n",
      "Topic  7\n",
      "frat, frat boy, boy joke, old frat, retweet give, give less, sh year, less sh, sh, less\n",
      "\n",
      "Topic  8\n",
      "trash potus, ej eer, michellemalkin something, lefty commentator, tonight wth, ita, yet remove, eer, eer ita, allow lefty\n",
      "\n",
      "Topic  9\n",
      "carusone, writing, msnbc chris, chris haye, haye, haye ignore, bigoted writing, semitic bigoted, note msnbc, writing interview\n",
      "\n",
      "Topic  10\n",
      "fox, bus reason, payne varney, reason whatsoever, co unjufqn, greg etc, unjufqn, unjufqn fox, continue disrespect, jeanine throw\n",
      "\n",
      "Topic  11\n",
      "later explain, nancy speakerpelosi, co zbumzo, emergency valid, valid thru, enough kill, offer quote, explain national, border suitcase, speakerpelosi offer\n",
      "\n",
      "Topic  12\n",
      "jihfiuegxv, dishonest medium, co jihfiuegxv, dishonest, matter co, matter, medium matter, medium, co, shred medium\n",
      "\n",
      "Topic  13\n",
      "move goangelo, savagery move, matter two, burie medium, pure savagery, minute pure, two minute, savagery, burie, apjtgsa\n",
      "\n",
      "Topic  14\n",
      "co idlzhjvkpy, protester win, idlzhjvkpy, mind neighbor, heart mind, win heart, neighbor co, neighbor, protester, heart\n",
      "\n",
      "Topic  15\n",
      "fox, rkunrvh, lot charge, scott lib, co rkunrvh, rkunrvh mn, political lynching, moment truth, channel buckle, fox suzanne\n",
      "\n",
      "Topic  16\n",
      "cair, pirro lead, fascist cair, lead sponsor, cair retweet, boycott tell, sponsor boycott, tell cair, demand foxnew, fire jeanine\n",
      "\n",
      "Topic  17\n",
      "believe savage, ofz mip, mip, savage support, co ofz, ofz, savage, support co, believe, support\n",
      "\n",
      "Topic  18\n",
      "home, terrorize family, terrorize, family home, dujaz sxei, co dujaz, harass terrorize, sxei, allow ban, facebook allow\n",
      "\n",
      "Topic  19\n",
      "segment, rwqyeh frx, pay consultant, saracarterdc since, official agent, donnabrazile firsthand, since donnabrazile, frx, agent foreign, foreign power\n"
     ]
    }
   ],
   "source": [
    "nmf_2 = NMF(20)\n",
    "doc_topic_NMF_2 = nmf_2.fit_transform(bag_of_words_2)\n",
    "print(nmf_2.reconstruction_err_)\n",
    "\n",
    "display_topics(nmf_2, tfidf_2.get_feature_names(), 10)"
   ]
  },
  {
   "cell_type": "code",
   "execution_count": 45,
   "metadata": {},
   "outputs": [
    {
     "name": "stdout",
     "output_type": "stream",
     "text": [
      "221.9337962406793\n",
      "\n",
      "Topic  0\n",
      "sh year, less sh, retweet give, give less, sh, less, boy joke, old frat, frat boy, frat\n",
      "\n",
      "Topic  1\n",
      "people, campaign write, lead medium, byrd denigrate, guy lead, leader robert, kkk leader, denigrate, denigrate tran, describe bag\n",
      "\n",
      "Topic  2\n",
      "carusone, writing, writing medium, dkz, co dkz, carusone note, earlier week, network earlier, carusone network, semitic bigoted\n",
      "\n",
      "Topic  3\n",
      "officially throe, deplatform every, throe election, throe, indication officially, week serve, hunt attempt, nothing indication, continue hunt, serve nothing\n",
      "\n",
      "Topic  4\n",
      "minute pure, matter two, savagery move, pure savagery, co apjtgsa, apjtgsa va, savagery, burie medium, move goangelo, apjtgsa\n",
      "\n",
      "Topic  5\n",
      "president congrat, mutually, night rule, assured, hbk, matter fire, destruction exactly, warn last, mutually assured, ycp\n",
      "\n",
      "Topic  6\n",
      "wdyknkxroh, co wdyknkxroh, stelter eunuch, call brian, eunuch co, brian stelter, brian, eunuch, stelter, call\n",
      "\n",
      "Topic  7\n",
      "facebook allow, home facebook, plan harass, harass terrorize, sxei, dujaz, dujaz sxei, allow ban, co dujaz, use mean\n",
      "\n",
      "Topic  8\n",
      "change country, change, country, country forever, forever, yes probably, forever give, iarzob enw, iarzob, co iarzob\n",
      "\n",
      "Topic  9\n",
      "co whuhmqyjvv, whuhmqyjvv, epic co, ok epic, epic, ok, co, news, fox, go\n",
      "\n",
      "Topic  10\n",
      "bigot capitalone, advertising dollar, light hateful, look advice, advice spend, astrazeneca look, hateful bigot, spend advertising, yjog oapb, co yjog\n",
      "\n",
      "Topic  11\n",
      "gunn bad, else left, care sincere, left care, jycximdh, co jycximdh, anything anyone, bad anything, jam gunn, jam\n",
      "\n",
      "Topic  12\n",
      "dianne, happydavid, newzgive, craigrsawyer happykat, roe craigrsawyer, trumponly, uknowmikeoxlong, docevangelista lindanix, docevangelista, liljaebird\n",
      "\n",
      "Topic  13\n",
      "political, smear generation, generation speech, speech police, group political, crime refuse, police crime, give small, small group, refuse give\n",
      "\n",
      "Topic  14\n",
      "tell, come, people ask, consider foxnew, tell often, come exactly, story people, often consider, machine meet, meet tell\n",
      "\n",
      "Topic  15\n",
      "matter co, co qczjg, shred medium, qczjg vv, qczjg, vv, shred, matter, medium matter, medium\n",
      "\n",
      "Topic  16\n",
      "destroy, destroy judgejeanine, ngcc, co ngcc, ngcc nk, nk vt, nk, vt, judgejeanine co, judgejeanine\n",
      "\n",
      "Topic  17\n",
      "lefty send, hitdn dwg, friend lifelong, co hitdn, send co, hitdn, dwg, lifelong lefty, old friend, lifelong\n",
      "\n",
      "Topic  18\n",
      "angelo carusone, angelo, carusone, highlight angelo, remark blog, give angelo, carusone racist, antisemitic remark, matter taste, efw ikmbho\n",
      "\n",
      "Topic  19\n",
      "raise hand, hand stand, gb yb, dh gb, dh, co dh, gb, yb, stand co, raise\n"
     ]
    }
   ],
   "source": [
    "nmf_3 = NMF(20)\n",
    "doc_topic_NMF_3 = nmf_3.fit_transform(bag_of_words_3)\n",
    "print(nmf_3.reconstruction_err_)\n",
    "\n",
    "display_topics(nmf_3, tfidf_3.get_feature_names(), 10)"
   ]
  },
  {
   "cell_type": "code",
   "execution_count": 46,
   "metadata": {},
   "outputs": [
    {
     "name": "stdout",
     "output_type": "stream",
     "text": [
      "38.14936459958923\n",
      "\n",
      "Topic  0\n",
      "icymi white, icymi, co skbkckxj, skbkckxj, supremacist co, white supremacist, supremacist, white, co, bee\n",
      "\n",
      "Topic  1\n",
      "trump, dossier, russia, start, reliable co, australia, lie dossier, australia top, diplomat, diplomat uk\n",
      "\n",
      "Topic  2\n",
      "unearth different, deeply upsetting, upsetting, upsetting comment, different radio, radio tv, comment recently, recently unearth, vtwi, eblgx\n",
      "\n",
      "Topic  3\n",
      "call, ex iqn, jai ex, jai, iqn, co jai, ex, weekend wake, call radio, pain\n",
      "\n",
      "Topic  4\n",
      "usa pageant, shocking yet, shocking, pageant shocking, comment miss, pageant, sexual comment, yet, sexual, miss teen\n",
      "\n",
      "Topic  5\n",
      "co ov, glamorous mollyjongfast, wdr, glamorous, piece glamorous, fabulous, fabulous piece, ov, ov wdr, mollyjongfast co\n",
      "\n",
      "Topic  6\n",
      "co vxfrb, bankroll hateful, hateful propaganda, koch course, googlealert, propaganda koch, vxfrb ni, vxfrb, ni googlealert, ni\n",
      "\n",
      "Topic  7\n",
      "piece mollyjongfast, far excellent, want co, co syotaodv, excellent people, show want, syotaodv, favorite piece, mollyjongfast far, people watch\n",
      "\n",
      "Topic  8\n",
      "night, xibm, co lkxs, sure audio, audio wolf, lawrence, lawrence donnell, blitzer, blitzer lawrence, lkxs\n",
      "\n",
      "Topic  9\n",
      "always, always impressed, everything always, jz mmpaliz, wrong everything, always co, ability wrong, ability, mmpaliz, co jz\n",
      "\n",
      "Topic  10\n",
      "chauvinist, dictionary, next male, chauvinist pig, pig dictionary, male chauvinist, dictionary picture, male, pig, picture\n",
      "\n",
      "Topic  11\n",
      "underage miss, vulnerable underage, public bathroom, neutral public, endanger, endanger girl, neutral, want fuck, gender neutral, fuck vulnerable\n",
      "\n",
      "Topic  12\n",
      "fox, trump, wwdxnzatdy, nation instead, serve nation, heat boycott, trump spend, tweet jeanine, co wwdxnzatdy, suggest fox\n",
      "\n",
      "Topic  13\n",
      "koch co, iz yid, co pqq, charle, charle koch, pqq iz, pqq, bad look, look charle, yid\n",
      "\n",
      "Topic  14\n",
      "speech, donaldson, news, change country, left unchecked, speech left, kind speech, unchecked change, unchecked, country forever\n",
      "\n",
      "Topic  15\n",
      "still, alternative, yang peddle, still congress, fox live, cindy, still fox, cindy yang, secretary, question moment\n",
      "\n",
      "Topic  16\n",
      "read peltzmadeline, wxx, pm pvh, pvh wxx, pvh, co pm, pm, peltzmadeline co, read, peltzmadeline\n",
      "\n",
      "Topic  17\n",
      "suck, share, stop, precisely suck, stop share, shitty ben, owen, shitty, owen laura, suck today\n",
      "\n",
      "Topic  18\n",
      "advertiser, lot viewer, leave zero, co cnjxpfnj, advertiser leave, zero co, cnjxpfnj, viewer advertiser, zero, lot\n",
      "\n",
      "Topic  19\n",
      "donald trump, donald, trump, sean hannity, sean, hannity, mitch mcconnell, cruz marco, trump donald, gaetz cruz\n"
     ]
    }
   ],
   "source": [
    "nmf_4 = NMF(20)\n",
    "doc_topic_NMF_4 = nmf_4.fit_transform(bag_of_words_4)\n",
    "print(nmf_4.reconstruction_err_)\n",
    "\n",
    "display_topics(nmf_4, tfidf_4.get_feature_names(), 10)"
   ]
  },
  {
   "cell_type": "code",
   "execution_count": 47,
   "metadata": {},
   "outputs": [
    {
     "name": "stdout",
     "output_type": "stream",
     "text": [
      "47.27565519532118\n",
      "\n",
      "Topic  0\n",
      "suck, loomer everyone, precisely suck, precisely, else suck, suck today, wohl candace, suck precisely, laura loomer, owen laura\n",
      "\n",
      "Topic  1\n",
      "vulnerable underage, girl shout, public bathroom, neutral public, fuck vulnerable, bathroom endanger, shout want, endanger girl, endanger, want fuck\n",
      "\n",
      "Topic  2\n",
      "support effort, gofundme, maher gofundme, gofundme support, effort, maher, bill maher, bill, support, promise bill\n",
      "\n",
      "Topic  3\n",
      "complicit, course, complicit course, shapiro complicit, pewdiepie complicit, course donald, course complicit, owen complicit, course candace, course ben\n",
      "\n",
      "Topic  4\n",
      "chan, anyone, trump, vivian, manosphere, tumblr action, tumblr, wing talk, anyone manosphere, avatar\n",
      "\n",
      "Topic  5\n",
      "bulrcfl, must something, something right, co bulrcfl, instantly demonetize, demonetize mean, video instantly, demonetize, mean must, instantly\n",
      "\n",
      "Topic  6\n",
      "shocking, pageant shocking, shocking yet, sexual comment, usa pageant, comment miss, pageant, yet unearthed, exclusive sexual, exclusive\n",
      "\n",
      "Topic  7\n",
      "hta, co hta, ydzko, hta ydzko, co, good, people, news, good co, entitled\n",
      "\n",
      "Topic  8\n",
      "call crazy, yesterday possibly, possibly hate, yet co, co lcemsmqbqq, tell yesterday, crazy yet, hate call, lcemsmqbqq, someone tell\n",
      "\n",
      "Topic  9\n",
      "feyg, co feyg, promise marry, different rapist, child different, care anything, horrifying harpersbazaarus, rap child, anything horrifying, marry care\n",
      "\n",
      "Topic  10\n",
      "monkey reason, point racist, culture create, people semi, create christchurch, muslim people, reason culture, obvious point, comment call, literate monkey\n",
      "\n",
      "Topic  11\n",
      "manifesto, show, shooter manifesto, tonight show, attack left, show tonight, shooting medium, share picture, tie aoc, outlet encourage\n",
      "\n",
      "Topic  12\n",
      "zzbxya sbq, miss video, sbq, zzbxya, co zzbxya, finger, finger co, video kiss, somemorenew miss, kiss finger\n",
      "\n",
      "Topic  13\n",
      "speak manager, white history, history month, manager white, demand speak, manager, lovechild demand, lovechild, month, demand\n",
      "\n",
      "Topic  14\n",
      "white, supremacist, white supremacist, win argument, blatant white, supremacist worth, argument actually, worth time, hub, hub blatant\n",
      "\n",
      "Topic  15\n",
      "sponge, love sponge, bubba, bubba love, love, hulk, hogan, hulk hogan, hogan sex, gawker hulk\n",
      "\n",
      "Topic  16\n",
      "frack, job, people, people lose, lose job, area, fund frack, rural, job callousness, suggestion website\n",
      "\n",
      "Topic  17\n",
      "piece shit, piece, man, shit, gazelle separate, herd, separate, separate herd, gazelle, wound\n",
      "\n",
      "Topic  18\n",
      "powerful bully, meet year, victim powerful, bully meet, bully, meet, old tape, year old, victim, powerful\n",
      "\n",
      "Topic  19\n",
      "bankroll, course co, koch course, ni, hateful propaganda, ni googlealert, googlealert, propaganda koch, vxfrb, bankroll hateful\n"
     ]
    }
   ],
   "source": [
    "nmf_5 = NMF(20)\n",
    "doc_topic_NMF_5 = nmf_5.fit_transform(bag_of_words_5)\n",
    "print(nmf_5.reconstruction_err_)\n",
    "\n",
    "display_topics(nmf_5, tfidf_5.get_feature_names(), 10)"
   ]
  },
  {
   "cell_type": "code",
   "execution_count": 48,
   "metadata": {},
   "outputs": [
    {
     "name": "stdout",
     "output_type": "stream",
     "text": [
      "21.032618270744162\n",
      "\n",
      "Topic  0\n",
      "blame, williamlegate islam, briannawu candace, online, nt gun, nt, blame williamlegate, blame online, islam blame, blame nt\n",
      "\n",
      "Topic  1\n",
      "limitation dumb, statute limitation, different conservative, matter different, stand world, gunn fire, air medium, place fox, news air, tweet statute\n",
      "\n",
      "Topic  2\n",
      "retweet give, sh year, sh, give less, less sh, frat, frat boy, boy, boy joke, old frat\n",
      "\n",
      "Topic  3\n",
      "old dirt, dirt, dig old, dig, medium matter, matter, medium, old, finally, co tsduhcnzly\n",
      "\n",
      "Topic  4\n",
      "use, solar, theboltreport credlin, india use, india, save planet, solar panel, energypoverty, energy intensive, energy\n",
      "\n",
      "Topic  5\n",
      "limb, brown, halfway world, skinned year, skinned, co abe, wannabe, wannabe show, show bad, shitty howard\n",
      "\n",
      "Topic  6\n",
      "ingrahamangle realcandaceo, realomarnavarro kthopkin, skynew piersmorgan, skynew, judgejeanine dbongino, lindseygrahamsc politicalshort, lisamurkowski, waynedupreeshow cernovich, jeromecorsi realomarnavarro, michaelcohen\n",
      "\n",
      "Topic  7\n",
      "yanggang, dem candidate, yep, political figure, giannabarnhart dem, giannabarnhart, candidate, week fox, candidate andrewyangvfa, sense link\n",
      "\n",
      "Topic  8\n",
      "people, radio comment, robert, byrd denigrate, byrd, leader robert, guy lead, leader, lead medium, time radio\n",
      "\n",
      "Topic  9\n",
      "attempt, week serve, election, effective conservative, effective, throe election, throe, judgejeanine week, officially, officially throe\n",
      "\n",
      "Topic  10\n",
      "news oh, citizen pretty, killing citizen, agree concept, harrowing dystopian, extrajudicial killing, carry extrajudicial, secret army, secret, carry\n",
      "\n",
      "Topic  11\n",
      "change country, change, country, country forever, forever, year co, bubba, bubba love, iarzob enw, audio bubba\n",
      "\n",
      "Topic  12\n",
      "trump partly, root mutual, root, affinity trump, willingness, attention co, affinity, dignity attention, dignity, willingness compromise\n",
      "\n",
      "Topic  13\n",
      "eunuch co, co wdyknkxroh, wdyknkxroh, call brian, stelter eunuch, eunuch, brian, brian stelter, stelter, call\n",
      "\n",
      "Topic  14\n",
      "allow ban, ban people, people use, plan, plan harass, terrorize, family home, terrorize family, home facebook, facebook allow\n",
      "\n",
      "Topic  15\n",
      "fuck bring, bring jame, gunn back, quit fuck, quit, marvel, marvel quit, fuck, bring, back\n",
      "\n",
      "Topic  16\n",
      "old comment, catholic understanding, understanding, johnhirschauer discuss, johnhirschauer, understanding human, sin unapologetics, sin, igalflbrpd, catholic\n",
      "\n",
      "Topic  17\n",
      "whole piece, good co, conor good, piece conor, conor, whole, piece, oouwewaduc, co oouwewaduc, good\n",
      "\n",
      "Topic  18\n",
      "comment, mob, outrage mob, year, outrage, back give, apologise go, apologise, use past, hunt faux\n",
      "\n",
      "Topic  19\n",
      "come, tell, exactly, wing, story, foxnew, co, president, machine, come show\n"
     ]
    }
   ],
   "source": [
    "nmf_6 = NMF(20)\n",
    "doc_topic_NMF_6 = nmf_6.fit_transform(bag_of_words_6)\n",
    "print(nmf_6.reconstruction_err_)\n",
    "\n",
    "display_topics(nmf_6, tfidf_6.get_feature_names(), 10)"
   ]
  },
  {
   "cell_type": "code",
   "execution_count": 49,
   "metadata": {},
   "outputs": [
    {
     "name": "stdout",
     "output_type": "stream",
     "text": [
      "248.06255196196247\n",
      "\n",
      "Topic  0\n",
      "firetuckercarlson boycotttuckercarlson, yet firetuckercarlson, boycotttuckercarlson co, co kuer, kuer, kuer sl, sl, boycotttuckercarlson, usa pageant, sexual comment\n",
      "\n",
      "Topic  1\n",
      "dictionary picture, next male, pig dictionary, chauvinist pig, male chauvinist, chauvinist, dictionary, male, picture, pig\n",
      "\n",
      "Topic  2\n",
      "still, fox live, congress cindy, question moment, gaetz still, acosta still, presidential selfie, alternative reality, still congress, moment alex\n",
      "\n",
      "Topic  3\n",
      "donald trump, donald, trump, graham sean, gaetz cruz, jordan matt, jr mitch, mcconnell jim, marco rubio, rubio lindsey\n",
      "\n",
      "Topic  4\n",
      "unrest infect, instruction, oiliota, infect country, entitled white, explain entitled, come shit, supremacist represent, dm invite, happy come\n",
      "\n",
      "Topic  5\n",
      "hotelsdotcom, travelocity, hotelsdotcom orbitz, orbitz, expedia travelocity, expediagroup, expedia, orbitz boycott, expediagroup expedia, allow bigotry\n",
      "\n",
      "Topic  6\n",
      "downy, bounty, gillette, dawndish, charmin, dawndish downy, mycascade, crest, pacificlife, cigna\n",
      "\n",
      "Topic  7\n",
      "keep, immediate vacation, go forced, vacation keep, keep trend, forced immediate, forced, immediate, trend, vacation\n",
      "\n",
      "Topic  8\n",
      "judgejeanine next, next go, go boycott, boycott advertiser, realdonaldtrump judgejeanine, judgejeanine, realdonaldtrump, boycott, go, next\n",
      "\n",
      "Topic  9\n",
      "yet unearthed, exclusive sexual, exclusive, audio co, unearthed audio, unearthed, audio, pageant shocking, shocking yet, shocking\n",
      "\n",
      "Topic  10\n",
      "woman, jeanine pirro, muslim, pirro, mccain, jeanine, comment, black muslim, muslim woman, meghan mccain\n",
      "\n",
      "Topic  11\n",
      "speech, donaldson, change country, kind speech, speech left, left unchecked, unchecked change, country forever, unchecked, forever\n",
      "\n",
      "Topic  12\n",
      "propaganda koch, koch course, bankroll hateful, hateful propaganda, course co, bankroll, googlealert, ni, ni googlealert, vxfrb ni\n",
      "\n",
      "Topic  13\n",
      "badly wife, child human, really feel, feel badly, trash bow, human trash, badly, wife child, bow tie, bow\n",
      "\n",
      "Topic  14\n",
      "employment, place employment, bring box, walk place, employment today, employment btw, verbatim happen, speech defense, nonsense walk, today repeat\n",
      "\n",
      "Topic  15\n",
      "judge jeanine, judge, news prison, co abeqeylk, appear place, jeanine appear, work next, prison boycott, abeqeylk, boycott work\n",
      "\n",
      "Topic  16\n",
      "timely vacation, timely, enjoy timely, hope enjoy, vacation firetuckercarlson, enjoy, hope, vacation, firetuckercarlson, week\n",
      "\n",
      "Topic  17\n",
      "vulnerable underage, bathroom endanger, endanger girl, neutral public, public bathroom, fuck vulnerable, girl shout, shout want, neutral, gender neutral\n",
      "\n",
      "Topic  18\n",
      "fox news, news, fox, immediately america, much demand, background much, bigot immediately, bigoted word, word fade, fade background\n",
      "\n",
      "Topic  19\n",
      "seriously hurt, hurt three, beautiful daughter, wu oeico, oeico, dad good, daughter super, creepy dad, three beautiful, super creepy\n"
     ]
    }
   ],
   "source": [
    "nmf_7 = NMF(20)\n",
    "doc_topic_NMF_7 = nmf_7.fit_transform(bag_of_words_7)\n",
    "print(nmf_7.reconstruction_err_)\n",
    "\n",
    "display_topics(nmf_7, tfidf_7.get_feature_names(), 10)"
   ]
  },
  {
   "cell_type": "code",
   "execution_count": 50,
   "metadata": {},
   "outputs": [
    {
     "name": "stdout",
     "output_type": "stream",
     "text": [
      "52.34866073781815\n",
      "\n",
      "Topic  0\n",
      "idea, mexico, billion, remittance, tax, go nowhere, tax billion, tax lobbyist, sgh, wwlsw sgh\n",
      "\n",
      "Topic  1\n",
      "outraged co, wl, vyjbb wl, vyjbb, co vyjbb, medium outraged, outraged, wing medium, left wing, wing\n",
      "\n",
      "Topic  2\n",
      "obama bolton, iraqi insult, kill iraqi, vitriol launch, much vitriol, vitriol, government boycotttuckercarlson, boycott government, insult boycott, launch obama\n",
      "\n",
      "Topic  3\n",
      "zionist neo, co qrfuizw, magazine, liberal magazine, predict, lmao wokezionism, qrfuizw, thisth zionist, magazine atlantic, neo liberal\n",
      "\n",
      "Topic  4\n",
      "antifa, harass whomever, government protection, het, co het, protection harass, friday night, antifa thug, pm creepy, want co\n",
      "\n",
      "Topic  5\n",
      "live, good, pcxu, unhappy, unhappy school, revenge screw, live long, hater desperately, hatred co, productive good\n",
      "\n",
      "Topic  6\n",
      "name, sex gay, name college, wanna, hn, wanna go, fir sex, start leak, hn hley, fir\n",
      "\n",
      "Topic  7\n",
      "co wdyknkxroh, wdyknkxroh, call brian, stelter eunuch, eunuch co, brian stelter, brian, eunuch, stelter, call\n",
      "\n",
      "Topic  8\n",
      "dehumanising, cross line, pillage, dehumanising comment, well cross, pillage resource, government racist, maybe position, rape man, country ground\n",
      "\n",
      "Topic  9\n",
      "boy joke, frat boy, old frat, frat, retweet give, sh, sh year, less sh, give less, less\n",
      "\n",
      "Topic  10\n",
      "inquirer immort, batsaul dohanyjulian, iluvdemocracy hanialondon, yehuda, eljefejew cardsharpninja, eljefejew, immort moonwalkersama, eddyallcell, inquirer, telavivyonatan\n",
      "\n",
      "Topic  11\n",
      "people, people jap, time radio, co paykmznp, radio comment, guy lead, robert byrd, japanese people, japanese, jap praise\n",
      "\n",
      "Topic  12\n",
      "indication, week serve, voice important, hunt attempt, conservative voice, officially throe, important fight, throe, throe election, nothing indication\n",
      "\n",
      "Topic  13\n",
      "stuck, felony hate, organize antifa, fighting felony, instinct jew, jew pull, shut remember, kid team, team counter, remember joseph\n",
      "\n",
      "Topic  14\n",
      "jew control, anti rall, base jew, oh shit, black guy, shit base, lol go, rall, rall front, co fadmsinr\n",
      "\n",
      "Topic  15\n",
      "facebook allow, plan harass, co dujaz, sxei, use mean, mean word, dujaz, harass terrorize, allow ban, dujaz sxei\n",
      "\n",
      "Topic  16\n",
      "threat, hannity similar, power hannity, number treatment, much threat, treatment threat, intensity campaign, show much, campaign show, intensity\n",
      "\n",
      "Topic  17\n",
      "shred medium, qczjg vv, vv, qczjg, co qczjg, shred, matter co, medium matter, matter, medium\n",
      "\n",
      "Topic  18\n",
      "christian, tweet celebrate, demand apologize, back isis, schwarz tweet, muslim kill, release image, jews radical, radical muslim, people demand\n",
      "\n",
      "Topic  19\n",
      "zealand, saracarterdc saraashcraft, cemetery zealand, flyingkiwi freetelegraph, flyingkiwi, saraashcraft, saraashcraft usembassynz, linwood, srraoiyhm, qanon greatawakeningworldwide\n"
     ]
    }
   ],
   "source": [
    "nmf_8 = NMF(20)\n",
    "doc_topic_NMF_8 = nmf_8.fit_transform(bag_of_words_8)\n",
    "print(nmf_8.reconstruction_err_)\n",
    "\n",
    "display_topics(nmf_8, tfidf_8.get_feature_names(), 10)"
   ]
  },
  {
   "cell_type": "code",
   "execution_count": 51,
   "metadata": {},
   "outputs": [
    {
     "name": "stdout",
     "output_type": "stream",
     "text": [
      "15.253586273390718\n",
      "\n",
      "Topic  0\n",
      "white, clip, create civilization, create, civilization, racist, civilization hear, duh, reveal, fpgd\n",
      "\n",
      "Topic  1\n",
      "detective, coulter smoking, interwebs, connect, connect ado, wing, account, account prior, wing thru, fake twitter\n",
      "\n",
      "Topic  2\n",
      "foxnew reinstate, nbcsnl, deceased senjohnmccain, retweet nazi, nazi jackposobiec, jackposobiec, gm america, deny white, jackposobiec deny, judgejeanine gm\n",
      "\n",
      "Topic  3\n",
      "unearthed audio, exclusive sexual, exclusive, yet unearthed, unearthed, audio co, pageant shocking, shocking, shocking yet, usa pageant\n",
      "\n",
      "Topic  4\n",
      "open, many disagree, open national, discussion many, wdyq uwjjw, rashadrichey politicalanalyst, uwjjw, rashadrichey, also open, hit\n",
      "\n",
      "Topic  5\n",
      "sucker firetuckercarlson, ozwnxk, sucker, tell year, ago sucker, try tell, co ozwnxk, firetuckercarlson co, year ago, ago\n",
      "\n",
      "Topic  6\n",
      "white, everything white, everything, blame white, man everything, jk, obama, iraqi primative, sister muslim, primative monkey\n",
      "\n",
      "Topic  7\n",
      "iraqi semiliterate, semiliterate primitive, semiliterate, uncover, uncover radio, appearanc co, ask immigrant, appearanc, show appearanc, really smart\n",
      "\n",
      "Topic  8\n",
      "force apologize, supremacist still, force, job, apologize, still, system guy, system, keep job, honeydelasoul white\n",
      "\n",
      "Topic  9\n",
      "head, medium matter, matter, matter co, medium, go head, dpby ls, ls, dpby, head medium\n",
      "\n",
      "Topic  10\n",
      "speech, donaldson, tape fox, country forever, speech homophobic, anchor sam, speech former, left unchecked, audio tape, vulgarity\n",
      "\n",
      "Topic  11\n",
      "donald trump, donald, sean, sean hannity, trump, hannity, use help, jim, lindsey graham, gaetz cruz\n",
      "\n",
      "Topic  12\n",
      "dropfox person, tomorrow co, air tonight, petition advertiser, demand dropfox, behind petition, oqxszee, advertiser droptucker, disgusting air, co oqxszee\n",
      "\n",
      "Topic  13\n",
      "go, work hard, kill show, hard kill, hard, effort, kill, happen go, effort quiet, forward\n",
      "\n",
      "Topic  14\n",
      "fox, news, fox news, boycott, judge, judge jeanine, jeanine, advertiser, next, show\n",
      "\n",
      "Topic  15\n",
      "course, googlealert, vxfrb, bankroll hateful, vxfrb ni, hateful propaganda, co vxfrb, propaganda koch, course co, bankroll\n",
      "\n",
      "Topic  16\n",
      "chauvinist pig, dictionary picture, pig dictionary, dictionary, male chauvinist, next male, chauvinist, male, pig, picture\n",
      "\n",
      "Topic  17\n",
      "spencer, spencer co, earn endorsement, nationalist richard, earn, richard spencer, richard, endorsement, endorsement white, white nationalist\n",
      "\n",
      "Topic  18\n",
      "firetuckercarlson boycotttuckercarlson, yet firetuckercarlson, boycotttuckercarlson co, teen, boycotttuckercarlson, sl, co kuer, kuer sl, kuer, miss teen\n",
      "\n",
      "Topic  19\n",
      "jeanine pirro, pirro, jeanine, ice co, thin ice, luf, luf youtube, pirro thin, co luf, youtube\n"
     ]
    }
   ],
   "source": [
    "nmf_9 = NMF(20)\n",
    "doc_topic_NMF_9 = nmf_9.fit_transform(bag_of_words_9)\n",
    "print(nmf_9.reconstruction_err_)\n",
    "\n",
    "display_topics(nmf_9, tfidf_9.get_feature_names(), 10)"
   ]
  },
  {
   "cell_type": "code",
   "execution_count": 52,
   "metadata": {},
   "outputs": [
    {
     "name": "stdout",
     "output_type": "stream",
     "text": [
      "52.1399451193262\n",
      "\n",
      "Topic  0\n",
      "advertise foxnew, news advertise, action please, angry left, com, silence conservative, foxnew com, please email, call tell, enough angry\n",
      "\n",
      "Topic  1\n",
      "mj, jr, si bowcrazyapril, tina, ezkanon si, bowcrazyapril fmeonlylol, bowcrazyapril, ezkanon, si, marina jr\n",
      "\n",
      "Topic  2\n",
      "apologize, mob, outrage, never apologize, fake moral, mob trump, bow liberal, ploy silence, co ivgt, medium control\n",
      "\n",
      "Topic  3\n",
      "attack judgejeanine, deplatform every, election medium, every effective, throe, serve nothing, voice important, throe election, indication, indication officially\n",
      "\n",
      "Topic  4\n",
      "senategop benshapiro, donaldjtrumpjr tpusa, gop marklevinshow, marklevinshow foxnew, tpusa, benshapiro tedcruz, tpusa charliekirk, tedcruz gop, tedcruz, realdonaldtrump senategop\n",
      "\n",
      "Topic  5\n",
      "people, co paykmznp, people jap, radio comment, paykmznp, byrd denigrate, campaign write, describe bag, gold, gold call\n",
      "\n",
      "Topic  6\n",
      "twqrp, actively try, outrage direct, yhmv, try censor, response fake, direct twitter, co twqrp, twqrp yhmv, censor co\n",
      "\n",
      "Topic  7\n",
      "year, show, club, pretend flip, club everyone, ago pharisee, everyone pretend, perform strip, pharisee, pharisee moral\n",
      "\n",
      "Topic  8\n",
      "edgy radio, fine governor, stay office, office catch, face kkk, governor stay, mind blow, wear black, perfectly fine, hood\n",
      "\n",
      "Topic  9\n",
      "destroy judgejeanine, nk vt, co ngcc, ngcc, ngcc nk, nk, judgejeanine co, vt, destroy, judgejeanine\n",
      "\n",
      "Topic  10\n",
      "call brian, stelter eunuch, eunuch co, eunuch, co wdyknkxroh, wdyknkxroh, brian stelter, stelter, brian, call\n",
      "\n",
      "Topic  11\n",
      "carusone, writing, carusone network, andrew carusone, earlier week, interview carusone, carusone writing, network earlier, bigoted writing, carusone note\n",
      "\n",
      "Topic  12\n",
      "frat, old frat, boy joke, frat boy, give less, retweet give, less sh, sh year, sh, boy\n",
      "\n",
      "Topic  13\n",
      "europe, tell, charliekirk isis, soldier within, believe difficult, door wide, refugee admit, something believe, europe open, difficult understand\n",
      "\n",
      "Topic  14\n",
      "saracarterdc donnabrazile, donnabrazile seanhannity, carterwpage, carterwpage saracarterdc, donnabrazile, saracarterdc, seanhannity, seanhannity tweet, tweet president, ago wth\n",
      "\n",
      "Topic  15\n",
      "apjtgsa va, minute pure, co apjtgsa, two minute, goangelo co, savagery, savagery move, move goangelo, matter two, burie\n",
      "\n",
      "Topic  16\n",
      "fox, news, fox news, jeanine, judge, judge jeanine, co, hannity, laura, destroy judge\n",
      "\n",
      "Topic  17\n",
      "commentator trash, something bring, lefty commentator, wth wrong, immediately co, yet remove, wrong seanhannity, allow lefty, co ej, foxnew allow\n",
      "\n",
      "Topic  18\n",
      "shame, shame shame, hand along, liberal shame, blood hand, along republican, hold blood, vote word, word liberal, republican vote\n",
      "\n",
      "Topic  19\n",
      "salemmediagrp, judgejeanine salemmediagrp, xyisuty judgejeanine, xyisuty, number co, foxnew number, co xyisuty, go foxnew, number, go\n"
     ]
    }
   ],
   "source": [
    "nmf_10 = NMF(20)\n",
    "doc_topic_NMF_10 = nmf_10.fit_transform(bag_of_words_10)\n",
    "print(nmf_10.reconstruction_err_)\n",
    "\n",
    "display_topics(nmf_10, tfidf_10.get_feature_names(), 10)"
   ]
  },
  {
   "cell_type": "code",
   "execution_count": 53,
   "metadata": {},
   "outputs": [
    {
     "name": "stdout",
     "output_type": "stream",
     "text": [
      "162.33400445757422\n",
      "\n",
      "Topic  0\n",
      "speech, news, zk uoifw, ttfj, ttfj oi, uoifw co, uoifw, rl ttfj, co rl, oi\n",
      "\n",
      "Topic  1\n",
      "vxfrb, co vxfrb, ni, vxfrb ni, ni googlealert, googlealert, course co, koch course, propaganda koch, bankroll hateful\n",
      "\n",
      "Topic  2\n",
      "yet unearthed, exclusive sexual, exclusive, unearthed audio, unearthed, audio co, pageant shocking, shocking yet, shocking, usa pageant\n",
      "\n",
      "Topic  3\n",
      "poison body, search soul, inject poison, complicity inject, body politic, network boss, soul complicity, time advertiser, advertiser network, inject\n",
      "\n",
      "Topic  4\n",
      "sympathy use, zero sympathy, monkey zero, paper fork, fork, use toilet, zero, sympathy, toilet paper, paper\n",
      "\n",
      "Topic  5\n",
      "protester urge, show protester, join co, pirro fox, urge company, company join, ditch pirro, join, urge, ditch\n",
      "\n",
      "Topic  6\n",
      "opinion go, hn, wxsnkca, co hn, hn wxsnkca, go co, opinion, go, co, week\n",
      "\n",
      "Topic  7\n",
      "male chauvinist, pig dictionary, chauvinist pig, next male, chauvinist, dictionary picture, dictionary, pig, male, picture\n",
      "\n",
      "Topic  8\n",
      "bully meet, victim powerful, meet year, meet, powerful bully, old tape, tape co, victim, bully, powerful\n",
      "\n",
      "Topic  9\n",
      "trump, referential, barrage fox, clip sean, vicious cycle, tweet million, million twitter, referential propaganda, expert claim, barrage\n",
      "\n",
      "Topic  10\n",
      "usa contestant, contestant, teen, underage miss, teen usa, miss teen, usa, miss, underage, vulnerable\n",
      "\n",
      "Topic  11\n",
      "speech, former tv, tv anchor, tv, forever co, donaldson audio, co udjqq, nrqvf, udjqq mc, nrqvf ef\n",
      "\n",
      "Topic  12\n",
      "force disappear, first post, job group, sqw, sqw iuzqp, work first, five roommate, college job, roommate dog, powerful authoritarian\n",
      "\n",
      "Topic  13\n",
      "play, venom cynically, belat, figure spew, venom, play co, co wjjy, spew venom, thought use, believe public\n",
      "\n",
      "Topic  14\n",
      "firetuckercarlson boycotttuckercarlson, boycotttuckercarlson co, yet firetuckercarlson, boycotttuckercarlson, kuer, kuer sl, co kuer, sl, firetuckercarlson, usa pageant\n",
      "\n",
      "Topic  15\n",
      "still, burn question, labor matt, peddle presidential, congress cindy, presidential selfie, live alternative, secretary labor, still congress, alternative reality\n",
      "\n",
      "Topic  16\n",
      "speech, donaldson, donaldson add, donaldson react, co ljcnxyqvbb, co hemqmusywb, hemqmusywb co, hemqmusywb, forever donaldson, ljcnxyqvbb\n",
      "\n",
      "Topic  17\n",
      "white man, woman, man, civilization, white, create civilization, credit, host, describe iraqi, create\n",
      "\n",
      "Topic  18\n",
      "white supremacist, supremacist, white, bee, samantha, samantha bee, sorry yes, yes, sorry, supremacist oh\n",
      "\n",
      "Topic  19\n",
      "include, everyone else, everyone, collective, collective mistake, responsibility collective, include case, critic absolve, mistake postopinion, else include\n"
     ]
    }
   ],
   "source": [
    "nmf_11 = NMF(20)\n",
    "doc_topic_NMF_11 = nmf_11.fit_transform(bag_of_words_11)\n",
    "print(nmf_11.reconstruction_err_)\n",
    "\n",
    "display_topics(nmf_11, tfidf_11.get_feature_names(), 10)"
   ]
  },
  {
   "cell_type": "code",
   "execution_count": 54,
   "metadata": {},
   "outputs": [
    {
     "name": "stdout",
     "output_type": "stream",
     "text": [
      "31.60961042884443\n",
      "\n",
      "Topic  0\n",
      "co gc, gc gkfwnrq, gc, gkfwnrq, tuckercarlsonfuckshisroomba co, co, tuckercarlsonfuckshisroomba, asshat, asshat tuckercarlsonfuckshisroomba, face co\n",
      "\n",
      "Topic  1\n",
      "roomba deserve, dj, deserve tuckercarlsonfuckshisroomba, dj roomba, deserve, roomba, tuckercarlsonfuckshisroomba, deserve good, old, good\n",
      "\n",
      "Topic  2\n",
      "refer black, yes refer, friend tuckercarlsonfuckshisroomba, record yes, black friend, friend, record, refer, yes, black\n",
      "\n",
      "Topic  3\n",
      "proof tuckercarlsonfuckshisroomba, mean show, show proof, proof, mean, show, tuckercarlsonfuckshisroomba, asshat tuckercarlsonfuckshisroomba, asshat, mean maybe\n",
      "\n",
      "Topic  4\n",
      "fuck tuckercarlsonfuckshisroomba, fuck, tuckercarlsonfuckshisroomba, asshat tuckercarlsonfuckshisroomba, asshat, tuckercarlsonfuckshisroomba tuckercarlsonfuckshisroomba, ha, ha ha, prove, real lie\n",
      "\n",
      "Topic  5\n",
      "tv show, cable tv, still cable, show tuckercarlsonfuckshisroomba, cable, tuckercarlsonfuckshisroomba foxnew, tv, still, foxnew, show\n",
      "\n",
      "Topic  6\n",
      "stick penis, anywhere tuckercarlsonfuckshisroomba, anywhere, penis anywhere, shame stick, penis, shame, stick, tuckercarlsonfuckshisroomba, asshat tuckercarlsonfuckshisroomba\n",
      "\n",
      "Topic  7\n",
      "defend sex, offender, claim foxnew, foxnew employee, employee man, sex offender, offender tuckercarlsonfuckshisroomba, man defend, employee, claim\n",
      "\n",
      "Topic  8\n",
      "suck tuckercarlsonfuckshisroomba, suck, suction suck, suction, tuckercarlsonfuckshisroomba, dirt, dirt bag, bag, asshat tuckercarlsonfuckshisroomba, asshat\n",
      "\n",
      "Topic  9\n",
      "nightly basis, people nightly, basis, victim tuckercarlsonfuckshisroomba, outrage people, nightly, basis victim, outrage, victim, people\n",
      "\n",
      "Topic  10\n",
      "drunk, tweet, tweet retweet, retweet lol, fucking drunk, least fuck, roomba tuckercarlsonfucksroombas, lol least, tweet fucking, drunk run\n",
      "\n",
      "Topic  11\n",
      "fuck roomba, roomba tuckercarlsonfuckshisroomba, fuck, roomba, true fuck, true, tuckercarlsonfuckshisroomba, lastweektonight, tuckercarlsonfuckshisroomba lastweektonight, tuckercarlsonfuckshisroomba tuckercarlsonfuckshisroomba\n",
      "\n",
      "Topic  12\n",
      "zadoiqhv, co zadoiqhv, fox news, news, fox, co, news host, call guest, guest tiny, brain moron\n",
      "\n",
      "Topic  13\n",
      "nationalist shock, late revelation, everyone least, revelation, favorite white, revelation everyone, least favorite, shock tuckercarlsonfuckshisroomba, wow late, white nationalist\n",
      "\n",
      "Topic  14\n",
      "teen usa, usa, teen, miss teen, miss, comment miss, sexual comment, usa pageant, pageant shocking, shocking yet\n",
      "\n",
      "Topic  15\n",
      "part tuckercarlsonfuckshisroomba, tuckercarlsonfuckshisroomba roomba, part, roomba, tuckercarlsonfuckshisroomba, old, roomba year, asshat tuckercarlsonfuckshisroomba, asshat, lastweektonight tuckercarlsonfuckshisroomba\n",
      "\n",
      "Topic  16\n",
      "hide couch, home tuckercarlsonfuckshisroomba, co fbzvlra, couch home, roomba try, fbzvlra, home, couch, try hide, hide\n",
      "\n",
      "Topic  17\n",
      "susan, bissell mistake, bissell, happen call, call bissell, mistake last, susan happen, mistake, last night, night\n",
      "\n",
      "Topic  18\n",
      "tuckercarlsonfuckshisroomba johnoliver, much tuckercarlsonfuckshisroomba, suck much, johnoliver smalldickenvy, smalldickenvy, roomba suck, much, suck, johnoliver, roomba\n",
      "\n",
      "Topic  19\n",
      "word, sbk iczah, iczah, sbk, co sbk, use, bee, use word, co, woman radio\n"
     ]
    }
   ],
   "source": [
    "nmf_12 = NMF(20)\n",
    "doc_topic_NMF_12 = nmf_12.fit_transform(bag_of_words_12)\n",
    "print(nmf_12.reconstruction_err_)\n",
    "\n",
    "display_topics(nmf_12, tfidf_12.get_feature_names(), 10)"
   ]
  },
  {
   "cell_type": "code",
   "execution_count": 55,
   "metadata": {},
   "outputs": [],
   "source": [
    "with open('/Users/robertpagano/metis_data/project_5/topic_modeling/nmf_tucker/nmf_0.pickle', 'wb') as to_write:\n",
    "    pickle.dump(nmf_0, to_write)\n",
    "    \n",
    "with open('/Users/robertpagano/metis_data/project_5/topic_modeling/nmf_tucker/nmf_1.pickle', 'wb') as to_write:\n",
    "    pickle.dump(nmf_1, to_write)\n",
    "    \n",
    "with open('/Users/robertpagano/metis_data/project_5/topic_modeling/nmf_tucker/nmf_2.pickle', 'wb') as to_write:\n",
    "    pickle.dump(nmf_2, to_write)\n",
    "    \n",
    "with open('/Users/robertpagano/metis_data/project_5/topic_modeling/nmf_tucker/nmf_3.pickle', 'wb') as to_write:\n",
    "    pickle.dump(nmf_3, to_write)\n",
    "    \n",
    "with open('/Users/robertpagano/metis_data/project_5/topic_modeling/nmf_tucker/nmf_4.pickle', 'wb') as to_write:\n",
    "    pickle.dump(nmf_4, to_write)\n",
    "    \n",
    "with open('/Users/robertpagano/metis_data/project_5/topic_modeling/nmf_tucker/nmf_5.pickle', 'wb') as to_write:\n",
    "    pickle.dump(nmf_5, to_write)\n",
    "    \n",
    "with open('/Users/robertpagano/metis_data/project_5/topic_modeling/nmf_tucker/nmf_6.pickle', 'wb') as to_write:\n",
    "    pickle.dump(nmf_6, to_write)\n",
    "    \n",
    "with open('/Users/robertpagano/metis_data/project_5/topic_modeling/nmf_tucker/nmf_7.pickle', 'wb') as to_write:\n",
    "    pickle.dump(nmf_7, to_write)\n",
    "    \n",
    "with open('/Users/robertpagano/metis_data/project_5/topic_modeling/nmf_tucker/nmf_8.pickle', 'wb') as to_write:\n",
    "    pickle.dump(nmf_8, to_write)\n",
    "    \n",
    "with open('/Users/robertpagano/metis_data/project_5/topic_modeling/nmf_tucker/nmf_9.pickle', 'wb') as to_write:\n",
    "    pickle.dump(nmf_9, to_write)\n",
    "    \n",
    "with open('/Users/robertpagano/metis_data/project_5/topic_modeling/nmf_tucker/nmf_10.pickle', 'wb') as to_write:\n",
    "    pickle.dump(nmf_10, to_write)\n",
    "    \n",
    "with open('/Users/robertpagano/metis_data/project_5/topic_modeling/nmf_tucker/nmf_11.pickle', 'wb') as to_write:\n",
    "    pickle.dump(nmf_11, to_write)\n",
    "    \n",
    "with open('/Users/robertpagano/metis_data/project_5/topic_modeling/nmf_tucker/nmf_12.pickle', 'wb') as to_write:\n",
    "    pickle.dump(nmf_12, to_write)\n",
    "\n",
    "\n",
    "    "
   ]
  },
  {
   "cell_type": "code",
   "execution_count": null,
   "metadata": {},
   "outputs": [],
   "source": []
  },
  {
   "cell_type": "markdown",
   "metadata": {},
   "source": [
    "Running Topic Modeling on ALL text data, both NMF and LSA, on various topic counts, to feed into DBScan / KMeans for cluster analysis"
   ]
  },
  {
   "cell_type": "code",
   "execution_count": 146,
   "metadata": {},
   "outputs": [],
   "source": [
    "# ## Creating list of the processed text files to merge, so it's all in the same format and can re-use code\n",
    "# dfs_to_merge = [df_0, df_1, df_2, df_3, df_4, df_5, df_6, df_7, df_8, df_9, df_10, df_11, df_26, df_40]"
   ]
  },
  {
   "cell_type": "code",
   "execution_count": 149,
   "metadata": {},
   "outputs": [
    {
     "name": "stdout",
     "output_type": "stream",
     "text": [
      "(34997, 10)\n",
      "(1446, 10)\n",
      "(8345, 10)\n",
      "(9346, 10)\n",
      "(224793, 10)\n",
      "(237746, 10)\n",
      "(190998, 10)\n",
      "(135612, 10)\n",
      "(8192, 10)\n",
      "(425343, 10)\n",
      "(13157, 10)\n",
      "(2270, 10)\n",
      "(1141, 10)\n",
      "(2628, 10)\n",
      "1296014\n"
     ]
    }
   ],
   "source": [
    "# total = 0\n",
    "\n",
    "# for df in dfs_to_merge:\n",
    "#     print(df.shape)\n",
    "#     total += df.shape[0]\n",
    "    \n",
    "# print(total)"
   ]
  },
  {
   "cell_type": "code",
   "execution_count": 150,
   "metadata": {},
   "outputs": [],
   "source": [
    "# df_all_preprocessed = pd.concat(dfs_to_merge)"
   ]
  },
  {
   "cell_type": "code",
   "execution_count": 151,
   "metadata": {},
   "outputs": [
    {
     "data": {
      "text/plain": [
       "(1296014, 10)"
      ]
     },
     "execution_count": 151,
     "metadata": {},
     "output_type": "execute_result"
    }
   ],
   "source": [
    "# df_all_preprocessed.shape"
   ]
  },
  {
   "cell_type": "code",
   "execution_count": 153,
   "metadata": {},
   "outputs": [],
   "source": [
    "# df_all = df_all_preprocessed.copy()"
   ]
  },
  {
   "cell_type": "code",
   "execution_count": 157,
   "metadata": {},
   "outputs": [
    {
     "data": {
      "text/html": [
       "<div>\n",
       "<style scoped>\n",
       "    .dataframe tbody tr th:only-of-type {\n",
       "        vertical-align: middle;\n",
       "    }\n",
       "\n",
       "    .dataframe tbody tr th {\n",
       "        vertical-align: top;\n",
       "    }\n",
       "\n",
       "    .dataframe thead th {\n",
       "        text-align: right;\n",
       "    }\n",
       "</style>\n",
       "<table border=\"1\" class=\"dataframe\">\n",
       "  <thead>\n",
       "    <tr style=\"text-align: right;\">\n",
       "      <th></th>\n",
       "      <th>screen_name</th>\n",
       "      <th>followers_count</th>\n",
       "      <th>modularity_class</th>\n",
       "      <th>main_text</th>\n",
       "      <th>retweet_text</th>\n",
       "      <th>tweet_date</th>\n",
       "      <th>PageRank</th>\n",
       "      <th>rt_count</th>\n",
       "      <th>final_text</th>\n",
       "      <th>tweet_processed</th>\n",
       "    </tr>\n",
       "  </thead>\n",
       "  <tbody>\n",
       "    <tr>\n",
       "      <th>405812</th>\n",
       "      <td>DavidJHarrisJr</td>\n",
       "      <td>75631</td>\n",
       "      <td>0.0</td>\n",
       "      <td>So @aoc answered a casting call... and now she’s in Congress! @RealJamesWoods and @realDonaldTrump have to see this!!! https://t.co/HBUW78XqAo</td>\n",
       "      <td>NaN</td>\n",
       "      <td>Mon Mar 11 01:16:04 +0000 2019</td>\n",
       "      <td>0.004242</td>\n",
       "      <td>6936</td>\n",
       "      <td>So @aoc answered a casting call... and now she’s in Congress! @RealJamesWoods and @realDonaldTrump have to see this!!! https://t.co/HBUW78XqAo</td>\n",
       "      <td>so aoc answer a cast call and now -PRON- s in congress realjameswood and realdonaldtrump have to see this https t co hbuw xqao</td>\n",
       "    </tr>\n",
       "    <tr>\n",
       "      <th>712255</th>\n",
       "      <td>DavidJHarrisJr</td>\n",
       "      <td>75652</td>\n",
       "      <td>0.0</td>\n",
       "      <td>So @aoc wants to raise our taxes and she hasn’t even paid her own! https://t.co/W1m1CCnN3Y</td>\n",
       "      <td>NaN</td>\n",
       "      <td>Sun Mar 10 03:49:44 +0000 2019</td>\n",
       "      <td>0.004242</td>\n",
       "      <td>1127</td>\n",
       "      <td>So @aoc wants to raise our taxes and she hasn’t even paid her own! https://t.co/W1m1CCnN3Y</td>\n",
       "      <td>so aoc want to raise -PRON- tax and -PRON- hasn t even pay -PRON- own https t co w m ccnn y</td>\n",
       "    </tr>\n",
       "    <tr>\n",
       "      <th>465115</th>\n",
       "      <td>DavidJHarrisJr</td>\n",
       "      <td>75638</td>\n",
       "      <td>0.0</td>\n",
       "      <td>Now @aoc says America is garbage? \\nWho elected this woman!!! https://t.co/O7hsaAK9jH</td>\n",
       "      <td>NaN</td>\n",
       "      <td>Sun Mar 10 22:30:39 +0000 2019</td>\n",
       "      <td>0.004242</td>\n",
       "      <td>1056</td>\n",
       "      <td>Now @aoc says America is garbage? \\nWho elected this woman!!! https://t.co/O7hsaAK9jH</td>\n",
       "      <td>now aoc say america be garbage who elect this woman https t co o hsaak jh</td>\n",
       "    </tr>\n",
       "    <tr>\n",
       "      <th>62994</th>\n",
       "      <td>DavidJHarrisJr</td>\n",
       "      <td>75620</td>\n",
       "      <td>0.0</td>\n",
       "      <td>Former FEC Commissioner says there’s more than enough evidence to launch a criminal investigation into @aoc! https://t.co/XPL6LhrZFD</td>\n",
       "      <td>NaN</td>\n",
       "      <td>Tue Mar 12 01:25:16 +0000 2019</td>\n",
       "      <td>0.004242</td>\n",
       "      <td>997</td>\n",
       "      <td>Former FEC Commissioner says there’s more than enough evidence to launch a criminal investigation into @aoc! https://t.co/XPL6LhrZFD</td>\n",
       "      <td>former fec commissioner say there s more than enough evidence to launch a criminal investigation into aoc https t co xpl lhrzfd</td>\n",
       "    </tr>\n",
       "    <tr>\n",
       "      <th>1205837</th>\n",
       "      <td>DavidJHarrisJr</td>\n",
       "      <td>75690</td>\n",
       "      <td>0.0</td>\n",
       "      <td>Hey AOC! Guess what? Climate change and global warming IS a hoax!!!! https://t.co/OwY68EMVMm</td>\n",
       "      <td>NaN</td>\n",
       "      <td>Fri Mar 08 05:02:07 +0000 2019</td>\n",
       "      <td>0.004242</td>\n",
       "      <td>838</td>\n",
       "      <td>Hey AOC! Guess what? Climate change and global warming IS a hoax!!!! https://t.co/OwY68EMVMm</td>\n",
       "      <td>hey aoc guess what climate change and global warming be a hoax https t co owy emvmm</td>\n",
       "    </tr>\n",
       "  </tbody>\n",
       "</table>\n",
       "</div>"
      ],
      "text/plain": [
       "            screen_name  followers_count  modularity_class  \\\n",
       "405812   DavidJHarrisJr            75631               0.0   \n",
       "712255   DavidJHarrisJr            75652               0.0   \n",
       "465115   DavidJHarrisJr            75638               0.0   \n",
       "62994    DavidJHarrisJr            75620               0.0   \n",
       "1205837  DavidJHarrisJr            75690               0.0   \n",
       "\n",
       "                                                                                                                                              main_text  \\\n",
       "405812   So @aoc answered a casting call... and now she’s in Congress! @RealJamesWoods and @realDonaldTrump have to see this!!! https://t.co/HBUW78XqAo   \n",
       "712255                                                       So @aoc wants to raise our taxes and she hasn’t even paid her own! https://t.co/W1m1CCnN3Y   \n",
       "465115                                                            Now @aoc says America is garbage? \\nWho elected this woman!!! https://t.co/O7hsaAK9jH   \n",
       "62994              Former FEC Commissioner says there’s more than enough evidence to launch a criminal investigation into @aoc! https://t.co/XPL6LhrZFD   \n",
       "1205837                                                    Hey AOC! Guess what? Climate change and global warming IS a hoax!!!! https://t.co/OwY68EMVMm   \n",
       "\n",
       "        retweet_text                      tweet_date  PageRank  rt_count  \\\n",
       "405812           NaN  Mon Mar 11 01:16:04 +0000 2019  0.004242      6936   \n",
       "712255           NaN  Sun Mar 10 03:49:44 +0000 2019  0.004242      1127   \n",
       "465115           NaN  Sun Mar 10 22:30:39 +0000 2019  0.004242      1056   \n",
       "62994            NaN  Tue Mar 12 01:25:16 +0000 2019  0.004242       997   \n",
       "1205837          NaN  Fri Mar 08 05:02:07 +0000 2019  0.004242       838   \n",
       "\n",
       "                                                                                                                                             final_text  \\\n",
       "405812   So @aoc answered a casting call... and now she’s in Congress! @RealJamesWoods and @realDonaldTrump have to see this!!! https://t.co/HBUW78XqAo   \n",
       "712255                                                       So @aoc wants to raise our taxes and she hasn’t even paid her own! https://t.co/W1m1CCnN3Y   \n",
       "465115                                                            Now @aoc says America is garbage? \\nWho elected this woman!!! https://t.co/O7hsaAK9jH   \n",
       "62994              Former FEC Commissioner says there’s more than enough evidence to launch a criminal investigation into @aoc! https://t.co/XPL6LhrZFD   \n",
       "1205837                                                    Hey AOC! Guess what? Climate change and global warming IS a hoax!!!! https://t.co/OwY68EMVMm   \n",
       "\n",
       "                                                                                                                         tweet_processed  \n",
       "405812    so aoc answer a cast call and now -PRON- s in congress realjameswood and realdonaldtrump have to see this https t co hbuw xqao  \n",
       "712255                                       so aoc want to raise -PRON- tax and -PRON- hasn t even pay -PRON- own https t co w m ccnn y  \n",
       "465115                                                         now aoc say america be garbage who elect this woman https t co o hsaak jh  \n",
       "62994    former fec commissioner say there s more than enough evidence to launch a criminal investigation into aoc https t co xpl lhrzfd  \n",
       "1205837                                              hey aoc guess what climate change and global warming be a hoax https t co owy emvmm  "
      ]
     },
     "execution_count": 157,
     "metadata": {},
     "output_type": "execute_result"
    }
   ],
   "source": [
    "# df_all.head()"
   ]
  },
  {
   "cell_type": "code",
   "execution_count": 165,
   "metadata": {},
   "outputs": [],
   "source": [
    "# with open('/Users/robertpagano/metis_data/project_5/community_pickles_pre_nlp/preprocessed_dfs/df_all.pickle', 'wb') as to_write:\n",
    "#     pickle.dump(df_all, to_write)"
   ]
  },
  {
   "cell_type": "code",
   "execution_count": 2,
   "metadata": {},
   "outputs": [],
   "source": [
    "# with open('/Users/robertpagano/metis_data/project_5/community_pickles_pre_nlp/preprocessed_dfs/df_all.pickle', 'rb') as f:\n",
    "#     df_all = pickle.load(f)"
   ]
  },
  {
   "cell_type": "markdown",
   "metadata": {},
   "source": [
    "So the concat worked, the # of rows equals the number of all the rows added up (just to be safe)\n",
    "\n",
    "Now I'll run a few different LSAs and NMFs on the total data, and move on to clustering"
   ]
  },
  {
   "cell_type": "markdown",
   "metadata": {},
   "source": [
    "# Preprocess Text - for both LSA and NMF"
   ]
  },
  {
   "cell_type": "code",
   "execution_count": 3,
   "metadata": {},
   "outputs": [],
   "source": [
    "# # Can come back to tweek this if I notice anything\n",
    "# tweet_stopwords = stopwords.words('english') + \\\n",
    "#     ['rt', 'https', 'http', 'amp', 'via', 'one', 'around', 'would', 'let', 'could', 'going', 'like', \n",
    "#      'get', 'may', 'says', 'say', 'make', 'based', 'even', 'another', 'completely', 'thanks', 'way', \n",
    "#      'find', 'used', 'thing', '2019', 'see', 'need', 'know', 'knows', 'think', 'thinks', 'take', 'new', \n",
    "#      'day', 'days', 'aoc', 'alexandria', 'ocasio', 'cortez', 'ocasio-cortez', 'pron']"
   ]
  },
  {
   "cell_type": "code",
   "execution_count": 4,
   "metadata": {},
   "outputs": [],
   "source": [
    "# tfidf_all = TfidfVectorizer(stop_words=tweet_stopwords, token_pattern=\"\\\\b[a-z][a-z]+\\\\b\", ngram_range=(1,2))"
   ]
  },
  {
   "cell_type": "code",
   "execution_count": 5,
   "metadata": {},
   "outputs": [],
   "source": [
    "# X_all = df_all['tweet_processed']"
   ]
  },
  {
   "cell_type": "code",
   "execution_count": 6,
   "metadata": {},
   "outputs": [],
   "source": [
    "# bag_of_words_all = tfidf_all.fit_transform(X_all)"
   ]
  },
  {
   "cell_type": "code",
   "execution_count": 7,
   "metadata": {},
   "outputs": [
    {
     "data": {
      "text/plain": [
       "scipy.sparse.csr.csr_matrix"
      ]
     },
     "execution_count": 7,
     "metadata": {},
     "output_type": "execute_result"
    }
   ],
   "source": [
    "# type(bag_of_words_all)"
   ]
  },
  {
   "cell_type": "markdown",
   "metadata": {},
   "source": [
    "# LSA on all text\n",
    "*10, 15, 20, 25 topics*"
   ]
  },
  {
   "cell_type": "code",
   "execution_count": 170,
   "metadata": {},
   "outputs": [
    {
     "data": {
      "text/plain": [
       "array([0.01284424, 0.01030946, 0.00990273, 0.00920476, 0.00827643,\n",
       "       0.00781187, 0.00793363, 0.0072784 , 0.00735234, 0.00721214])"
      ]
     },
     "execution_count": 170,
     "metadata": {},
     "output_type": "execute_result"
    }
   ],
   "source": [
    "# # LSA on 10 topics\n",
    "# lsa_all_10 = TruncatedSVD(10)\n",
    "# lsa_all_10.fit_transform(bag_of_words_all)\n",
    "# lsa_all_10.explained_variance_ratio_"
   ]
  },
  {
   "cell_type": "code",
   "execution_count": 175,
   "metadata": {
    "scrolled": false
   },
   "outputs": [
    {
     "name": "stdout",
     "output_type": "stream",
     "text": [
      "\n",
      "Topic  0\n",
      "claim, box fraud, visit film, represent neighbor, crew postal, film news, never boyfriend, claim visit, apartment local, claim mail\n",
      "\n",
      "Topic  1\n",
      "skill libs, libs nice, cookie teach, co cvfc, kjzum, cvfc, cvfc kjzum, boycott cookie, nice job, teach little\n",
      "\n",
      "Topic  2\n",
      "file bogus, case conspiracy, allege untrue, spamm file, group spamm, untrue scandal, theory run, scandal misinformation, complaint fox, report allege\n",
      "\n",
      "Topic  3\n",
      "society job, live society, job leave, leave die, automate work, automate, die core, core problem, excited live, reason excited\n",
      "\n",
      "Topic  4\n",
      "hawaii, crazy, green deal, green, deal, hawaii anyone, crazy green, oppose green, senator mazie, hirono hawaii\n",
      "\n",
      "Topic  5\n",
      "address, climate change, inequality address, divide address, change together, together work, address income, tsbac, co tsbac, work sxsw\n",
      "\n",
      "Topic  6\n",
      "moderate, time rewrite, edge solve, visionary tinker, naive visionary, moderate naive, moderate spot, problem democracy, democracy economy, critique moderate\n",
      "\n",
      "Topic  7\n",
      "black, ilhanmn finally, folk former, hat respect, klan celebrate, wizard ku, left exactly, celebrate party, stupid jews, respect ilhanmn\n",
      "\n",
      "Topic  8\n",
      "service, long, learn, service customer, bartender long, co fzvfdsnue, fzvfdsnue, lot life, customer service, job lot\n",
      "\n",
      "Topic  9\n",
      "garbage, america, america garbage, call america, garbage congresswoman, congresswoman garbage, hellhole praise, praise venezuela, garbage citizen, force eat\n"
     ]
    }
   ],
   "source": [
    "# display_topics(lsa_all_10, tfidf_all.get_feature_names(), 10)"
   ]
  },
  {
   "cell_type": "code",
   "execution_count": 176,
   "metadata": {},
   "outputs": [],
   "source": [
    "# with open('/Users/robertpagano/metis_data/project_5/topic_modeling/lsa_aoc/lsa_all_10.pickle', 'wb') as to_write:\n",
    "#     pickle.dump(lsa_all_10, to_write)"
   ]
  },
  {
   "cell_type": "markdown",
   "metadata": {},
   "source": [
    "---------"
   ]
  },
  {
   "cell_type": "code",
   "execution_count": 187,
   "metadata": {},
   "outputs": [
    {
     "data": {
      "text/plain": [
       "array([0.01284409, 0.01030946, 0.00990181, 0.00920577, 0.00827817,\n",
       "       0.00780601, 0.00793854, 0.00728814, 0.00735668, 0.00721322,\n",
       "       0.00614608, 0.00581037, 0.00529221, 0.00522468, 0.00525943])"
      ]
     },
     "execution_count": 187,
     "metadata": {},
     "output_type": "execute_result"
    }
   ],
   "source": [
    "# # LSA on 15 topics\n",
    "# lsa_all_15 = TruncatedSVD(15)\n",
    "# lsa_all_15.fit_transform(bag_of_words_all)\n",
    "# lsa_all_15.explained_variance_ratio_"
   ]
  },
  {
   "cell_type": "code",
   "execution_count": 188,
   "metadata": {},
   "outputs": [
    {
     "name": "stdout",
     "output_type": "stream",
     "text": [
      "\n",
      "Topic  0\n",
      "claim, claim visit, visit film, crew postal, film news, represent neighbor, apartment local, never boyfriend, box fraud, claim mail\n",
      "\n",
      "Topic  1\n",
      "skill libs, libs nice, cookie teach, cvfc kjzum, cvfc, co cvfc, kjzum, boycott cookie, nice job, teach little\n",
      "\n",
      "Topic  2\n",
      "file bogus, case conspiracy, allege untrue, spamm file, group spamm, untrue scandal, theory run, scandal misinformation, complaint fox, report allege\n",
      "\n",
      "Topic  3\n",
      "society job, live society, job leave, leave die, automate work, automate, die core, core problem, excited live, reason excited\n",
      "\n",
      "Topic  4\n",
      "hawaii, crazy, green deal, green, deal, hawaii anyone, crazy green, oppose green, senator mazie, hirono hawaii\n",
      "\n",
      "Topic  5\n",
      "address, climate change, inequality address, divide address, change together, together work, address income, co tsbac, tsbac, work sxsw\n",
      "\n",
      "Topic  6\n",
      "moderate, time rewrite, visionary tinker, edge solve, naive visionary, moderate naive, moderate spot, problem democracy, democracy economy, critique moderate\n",
      "\n",
      "Topic  7\n",
      "ilhanmn finally, folk former, hat respect, klan celebrate, wizard ku, left exactly, celebrate party, stupid jews, respect ilhanmn, exactly hateful\n",
      "\n",
      "Topic  8\n",
      "service, long, learn, service customer, bartender long, co fzvfdsnue, fzvfdsnue, lot life, customer service, job lot\n",
      "\n",
      "Topic  9\n",
      "garbage, america, america garbage, call america, garbage congresswoman, congresswoman garbage, hellhole praise, praise venezuela, garbage citizen, force eat\n",
      "\n",
      "Topic  10\n",
      "instead, uber, subway, spend, everything, world go, go end, lyft instead, demise instead, subway fly\n",
      "\n",
      "Topic  11\n",
      "class, class american, american, reagan, working class, working, work class, screw, ronald reagan, ronald\n",
      "\n",
      "Topic  12\n",
      "cnn msnbc, msnbc, blackout cnn, ignore fec, medium blackout, msnbc ignore, kxadajq jl, co kxadajq, kxadajq, jl\n",
      "\n",
      "Topic  13\n",
      "palestinian, israel, right exist, israel right, believe israel, terrorist kill, tlaib grow, faction hama, choose palestinian, palestinian faction\n",
      "\n",
      "Topic  14\n",
      "boy, uh, necessary boy, scouts away, away boy, co xkadfguk, xkadfguk, boy co, boy scouts, necessary\n"
     ]
    }
   ],
   "source": [
    "# display_topics(lsa_all_15, tfidf_all.get_feature_names(), 10)"
   ]
  },
  {
   "cell_type": "code",
   "execution_count": 189,
   "metadata": {},
   "outputs": [],
   "source": [
    "# with open('/Users/robertpagano/metis_data/project_5/topic_modeling/lsa_aoc/lsa_all_15.pickle', 'wb') as to_write:\n",
    "#     pickle.dump(lsa_all_15, to_write)"
   ]
  },
  {
   "cell_type": "markdown",
   "metadata": {},
   "source": [
    "---------"
   ]
  },
  {
   "cell_type": "code",
   "execution_count": 180,
   "metadata": {},
   "outputs": [
    {
     "data": {
      "text/plain": [
       "array([0.01284416, 0.01031006, 0.00990201, 0.0092044 , 0.00827566,\n",
       "       0.00780765, 0.00793947, 0.00729166, 0.00735414, 0.00721279,\n",
       "       0.00615355, 0.00581353, 0.00530054, 0.0052364 , 0.0052897 ,\n",
       "       0.00525525, 0.00489424, 0.00446149, 0.00414687, 0.00423378])"
      ]
     },
     "execution_count": 180,
     "metadata": {},
     "output_type": "execute_result"
    }
   ],
   "source": [
    "# # LSA on 20 topics\n",
    "# lsa_all_20 = TruncatedSVD(20)\n",
    "# lsa_all_20.fit_transform(bag_of_words_all)\n",
    "# lsa_all_20.explained_variance_ratio_"
   ]
  },
  {
   "cell_type": "code",
   "execution_count": 181,
   "metadata": {},
   "outputs": [
    {
     "name": "stdout",
     "output_type": "stream",
     "text": [
      "\n",
      "Topic  0\n",
      "claim, film news, box fraud, crew postal, visit film, claim visit, apartment local, represent neighbor, never boyfriend, claim mail\n",
      "\n",
      "Topic  1\n",
      "skill libs, libs nice, cookie teach, cvfc kjzum, co cvfc, cvfc, kjzum, boycott cookie, nice job, teach little\n",
      "\n",
      "Topic  2\n",
      "file bogus, case conspiracy, allege untrue, spamm file, group spamm, untrue scandal, theory run, scandal misinformation, complaint fox, report allege\n",
      "\n",
      "Topic  3\n",
      "society job, live society, job leave, leave die, automate work, automate, die core, core problem, excited live, reason excited\n",
      "\n",
      "Topic  4\n",
      "hawaii, crazy, green deal, green, deal, hawaii anyone, crazy green, oppose green, senator mazie, hirono hawaii\n",
      "\n",
      "Topic  5\n",
      "address, climate change, inequality address, divide address, change together, together work, address income, co tsbac, tsbac, work sxsw\n",
      "\n",
      "Topic  6\n",
      "moderate, time rewrite, edge solve, visionary tinker, naive visionary, moderate naive, moderate spot, problem democracy, democracy economy, critique moderate\n",
      "\n",
      "Topic  7\n",
      "ilhanmn finally, folk former, hat respect, klan celebrate, wizard ku, left exactly, celebrate party, stupid jews, respect ilhanmn, exactly hateful\n",
      "\n",
      "Topic  8\n",
      "service, long, learn, service customer, bartender long, co fzvfdsnue, fzvfdsnue, lot life, customer service, job lot\n",
      "\n",
      "Topic  9\n",
      "garbage, america, america garbage, call america, garbage congresswoman, congresswoman garbage, hellhole praise, praise venezuela, garbage citizen, force eat\n",
      "\n",
      "Topic  10\n",
      "instead, uber, subway, spend, everything, world go, go end, demise instead, lyft instead, subway fly\n",
      "\n",
      "Topic  11\n",
      "class, class american, american, reagan, working class, working, work class, screw, white, ronald reagan\n",
      "\n",
      "Topic  12\n",
      "cnn msnbc, fec, msnbc, blackout cnn, ignore fec, msnbc ignore, medium blackout, fec complaint, co kxadajq, kxadajq jl\n",
      "\n",
      "Topic  13\n",
      "uh, palestinian, israel, boy, omar, right exist, israel right, believe israel, terrorist kill, tlaib grow\n",
      "\n",
      "Topic  14\n",
      "palestinian, israel, believe israel, right exist, israel right, tlaib grow, palestinian faction, choose palestinian, faction hama, pay terrorist\n",
      "\n",
      "Topic  15\n",
      "boy, necessary boy, scouts away, away boy, co xkadfguk, xkadfguk, boy co, boy scouts, necessary, scouts\n",
      "\n",
      "Topic  16\n",
      "answer cast, cast call, congress realjameswood, hbuw, hbuw xqao, xqao, co hbuw, call congress, realjameswood realdonaldtrump, cast\n",
      "\n",
      "Topic  17\n",
      "grip slip, friend throw, grandparent home, leave grandparent, slip friend, pelosi grip, throw party, party leave, grandparent, newt\n",
      "\n",
      "Topic  18\n",
      "anti, anti semitism, semitism, condemn, resolution, sham, sham resolution, design, vote, rep\n",
      "\n",
      "Topic  19\n",
      "public transportation, transportation, public, car, subway ft, ft campaign, emission spend, transportation association, transportation instead, association single\n"
     ]
    }
   ],
   "source": [
    "# display_topics(lsa_all_20, tfidf_all.get_feature_names(), 10)"
   ]
  },
  {
   "cell_type": "code",
   "execution_count": 182,
   "metadata": {},
   "outputs": [],
   "source": [
    "# with open('/Users/robertpagano/metis_data/project_5/topic_modeling/lsa_aoc/lsa_all_20.pickle', 'wb') as to_write:\n",
    "#     pickle.dump(lsa_all_20, to_write)"
   ]
  },
  {
   "cell_type": "markdown",
   "metadata": {},
   "source": [
    "---------"
   ]
  },
  {
   "cell_type": "code",
   "execution_count": 8,
   "metadata": {},
   "outputs": [
    {
     "data": {
      "text/plain": [
       "array([0.01284428, 0.01031   , 0.00990254, 0.0092052 , 0.0082777 ,\n",
       "       0.00780795, 0.00793927, 0.00729185, 0.00735446, 0.00721273,\n",
       "       0.00615261, 0.00580615, 0.00530464, 0.00523566, 0.00529585,\n",
       "       0.00525649, 0.00492341, 0.0044789 , 0.00419832, 0.00428453,\n",
       "       0.00406109, 0.00396976, 0.00393049, 0.00365576, 0.00348358])"
      ]
     },
     "execution_count": 8,
     "metadata": {},
     "output_type": "execute_result"
    }
   ],
   "source": [
    "# # LSA on 25 topics\n",
    "# lsa_all_25 = TruncatedSVD(25)\n",
    "# lsa_all_25.fit_transform(bag_of_words_all)\n",
    "# lsa_all_25.explained_variance_ratio_"
   ]
  },
  {
   "cell_type": "code",
   "execution_count": 11,
   "metadata": {},
   "outputs": [
    {
     "name": "stdout",
     "output_type": "stream",
     "text": [
      "\n",
      "Topic  0\n",
      "claim, box fraud, apartment local, represent neighbor, crew postal, never boyfriend, claim visit, film news, visit film, claim mail\n",
      "\n",
      "Topic  1\n",
      "skill libs, libs nice, cookie teach, co cvfc, kjzum, cvfc, cvfc kjzum, boycott cookie, nice job, teach little\n",
      "\n",
      "Topic  2\n",
      "file bogus, case conspiracy, allege untrue, spamm file, group spamm, untrue scandal, theory run, scandal misinformation, complaint fox, report allege\n",
      "\n",
      "Topic  3\n",
      "society job, live society, job leave, leave die, automate work, automate, die core, core problem, excited live, reason excited\n",
      "\n",
      "Topic  4\n",
      "hawaii, crazy, green deal, green, deal, hawaii anyone, crazy green, oppose green, senator mazie, hirono hawaii\n",
      "\n",
      "Topic  5\n",
      "address, climate change, inequality address, divide address, change together, together work, address income, co tsbac, tsbac, work sxsw\n",
      "\n",
      "Topic  6\n",
      "moderate, time rewrite, visionary tinker, edge solve, naive visionary, moderate naive, moderate spot, problem democracy, democracy economy, critique moderate\n",
      "\n",
      "Topic  7\n",
      "ilhanmn finally, folk former, hat respect, klan celebrate, wizard ku, left exactly, celebrate party, stupid jews, respect ilhanmn, exactly hateful\n",
      "\n",
      "Topic  8\n",
      "service, long, learn, service customer, bartender long, co fzvfdsnue, fzvfdsnue, lot life, customer service, job lot\n",
      "\n",
      "Topic  9\n",
      "garbage, america, america garbage, call america, garbage congresswoman, congresswoman garbage, hellhole praise, praise venezuela, garbage citizen, force eat\n",
      "\n",
      "Topic  10\n",
      "instead, uber, subway, spend, everything, world go, go end, lyft instead, demise instead, subway fly\n",
      "\n",
      "Topic  11\n",
      "class, class american, american, reagan, working class, working, work class, screw, white, ronald reagan\n",
      "\n",
      "Topic  12\n",
      "cnn msnbc, msnbc, fec, blackout cnn, ignore fec, msnbc ignore, medium blackout, co kxadajq, kxadajq, kxadajq jl\n",
      "\n",
      "Topic  13\n",
      "uh, palestinian, israel, uh uh, clapback game, perfect clapback, xatvtcm, without roasted, jh xatvtcm, roasted act\n",
      "\n",
      "Topic  14\n",
      "palestinian, israel, believe israel, right exist, israel right, tlaib grow, palestinian faction, faction hama, choose palestinian, pay terrorist\n",
      "\n",
      "Topic  15\n",
      "boy, necessary boy, scouts away, away boy, co xkadfguk, xkadfguk, boy co, boy scouts, necessary, scouts\n",
      "\n",
      "Topic  16\n",
      "answer cast, cast call, congress realjameswood, hbuw xqao, xqao, hbuw, co hbuw, call congress, realjameswood realdonaldtrump, cast\n",
      "\n",
      "Topic  17\n",
      "grip slip, friend throw, leave grandparent, grandparent home, slip friend, pelosi grip, throw party, party leave, grandparent, newt\n",
      "\n",
      "Topic  18\n",
      "anti, anti semitism, semitism, resolution, condemn, sham resolution, sham, design, anti semitic, semitic\n",
      "\n",
      "Topic  19\n",
      "public transportation, transportation, public, car, ft campaign, emission spend, association single, subway ft, instead car, car realize\n",
      "\n",
      "Topic  20\n",
      "harris, rate, multiple job, low people, work multiple, rate low, unemployment rate, kamala harris, people work, unemployment\n",
      "\n",
      "Topic  21\n",
      "state america, united state, united, america, state, harris, low, rate, multiple job, unemployment\n",
      "\n",
      "Topic  22\n",
      "tax, high tax, week, high, possible coordination, travel mom, coordination want, uber air, ton uber, list fec\n",
      "\n",
      "Topic  23\n",
      "landslide, elect, reagan, landslide elect, big landslide, elect landslide, elect big, lord brilliant, reagan elect, co aywff\n",
      "\n",
      "Topic  24\n",
      "learn, everything, economic, everything judaism, professor everything, judaism learn, learn louis, leftist college, farrakhan everything, learn leftist\n"
     ]
    }
   ],
   "source": [
    "# display_topics(lsa_all_25, tfidf_all.get_feature_names(), 10)"
   ]
  },
  {
   "cell_type": "code",
   "execution_count": 12,
   "metadata": {},
   "outputs": [],
   "source": [
    "# with open('/Users/robertpagano/metis_data/project_5/topic_modeling/lsa_aoc/lsa_all_25.pickle', 'wb') as to_write:\n",
    "#     pickle.dump(lsa_all_25, to_write)"
   ]
  },
  {
   "cell_type": "markdown",
   "metadata": {},
   "source": [
    "# NMF on all text\n",
    "*10, 15, 20, 25 topics*"
   ]
  },
  {
   "cell_type": "code",
   "execution_count": 13,
   "metadata": {},
   "outputs": [
    {
     "name": "stdout",
     "output_type": "stream",
     "text": [
      "1085.5968911147454\n"
     ]
    }
   ],
   "source": [
    "# # NMF on 10 topics\n",
    "# nmf_all_10 = NMF(10)\n",
    "# nmf_all_10.fit_transform(bag_of_words_all)\n",
    "# print(nmf_all_10.reconstruction_err_)"
   ]
  },
  {
   "cell_type": "code",
   "execution_count": 14,
   "metadata": {},
   "outputs": [
    {
     "name": "stdout",
     "output_type": "stream",
     "text": [
      "\n",
      "Topic  0\n",
      "claim, crew postal, film news, visit film, represent neighbor, claim visit, apartment local, box fraud, never boyfriend, claim mail\n",
      "\n",
      "Topic  1\n",
      "skill libs, libs nice, cookie teach, cvfc, cvfc kjzum, kjzum, co cvfc, boycott cookie, nice job, teach little\n",
      "\n",
      "Topic  2\n",
      "file bogus, case conspiracy, allege untrue, spamm file, group spamm, untrue scandal, theory run, news report, complaint fox, scandal misinformation\n",
      "\n",
      "Topic  3\n",
      "society job, live society, job leave, leave die, automate work, automate, die core, core problem, excited live, reason excited\n",
      "\n",
      "Topic  4\n",
      "hawaii, crazy, green deal, green, deal, hawaii anyone, crazy green, oppose green, senator mazie, hirono hawaii\n",
      "\n",
      "Topic  5\n",
      "address, inequality address, divide address, change together, together work, address income, co tsbac, tsbac, work sxsw, fear divide\n",
      "\n",
      "Topic  6\n",
      "moderate, time rewrite, visionary tinker, edge solve, naive visionary, moderate naive, moderate spot, problem democracy, democracy economy, critique moderate\n",
      "\n",
      "Topic  7\n",
      "ilhanmn finally, folk former, hat respect, klan celebrate, wizard ku, left exactly, celebrate party, stupid jews, respect ilhanmn, exactly hateful\n",
      "\n",
      "Topic  8\n",
      "service, long, learn, service customer, bartender long, fzvfdsnue, co fzvfdsnue, lot life, customer service, job lot\n",
      "\n",
      "Topic  9\n",
      "garbage, america, america garbage, call america, garbage congresswoman, congresswoman garbage, hellhole praise, praise venezuela, garbage citizen, force eat\n"
     ]
    }
   ],
   "source": [
    "# display_topics(nmf_all_10, tfidf_all.get_feature_names(), 10)"
   ]
  },
  {
   "cell_type": "code",
   "execution_count": 15,
   "metadata": {},
   "outputs": [],
   "source": [
    "# with open('/Users/robertpagano/metis_data/project_5/topic_modeling/nmf_aoc/nmf_all_10.pickle', 'wb') as to_write:\n",
    "#     pickle.dump(nmf_all_10, to_write)"
   ]
  },
  {
   "cell_type": "markdown",
   "metadata": {},
   "source": [
    "---------"
   ]
  },
  {
   "cell_type": "code",
   "execution_count": 16,
   "metadata": {},
   "outputs": [
    {
     "name": "stdout",
     "output_type": "stream",
     "text": [
      "1068.5427287389832\n"
     ]
    }
   ],
   "source": [
    "# # NMF on 15 topics\n",
    "# nmf_all_15 = NMF(15)\n",
    "# nmf_all_15.fit_transform(bag_of_words_all)\n",
    "# print(nmf_all_15.reconstruction_err_)"
   ]
  },
  {
   "cell_type": "code",
   "execution_count": 17,
   "metadata": {},
   "outputs": [
    {
     "name": "stdout",
     "output_type": "stream",
     "text": [
      "\n",
      "Topic  0\n",
      "claim, claim visit, crew postal, apartment local, box fraud, visit film, represent neighbor, film news, never boyfriend, claim mail\n",
      "\n",
      "Topic  1\n",
      "skill libs, libs nice, cookie teach, kjzum, co cvfc, cvfc kjzum, cvfc, boycott cookie, nice job, teach little\n",
      "\n",
      "Topic  2\n",
      "file bogus, case conspiracy, allege untrue, spamm file, group spamm, untrue scandal, theory run, news report, scandal misinformation, complaint fox\n",
      "\n",
      "Topic  3\n",
      "society job, live society, job leave, leave die, automate work, automate, die core, core problem, excited live, reason excited\n",
      "\n",
      "Topic  4\n",
      "hawaii, crazy, green deal, green, deal, hawaii anyone, crazy green, oppose green, senator mazie, hirono hawaii\n",
      "\n",
      "Topic  5\n",
      "address, inequality address, divide address, change together, together work, address income, co tsbac, tsbac, work sxsw, fear divide\n",
      "\n",
      "Topic  6\n",
      "moderate, time rewrite, visionary tinker, edge solve, naive visionary, moderate naive, moderate spot, problem democracy, democracy economy, critique moderate\n",
      "\n",
      "Topic  7\n",
      "ilhanmn finally, folk former, hat respect, klan celebrate, wizard ku, left exactly, celebrate party, stupid jews, respect ilhanmn, exactly hateful\n",
      "\n",
      "Topic  8\n",
      "service, long, learn, service customer, bartender long, fzvfdsnue, co fzvfdsnue, lot life, customer service, job lot\n",
      "\n",
      "Topic  9\n",
      "garbage, america, america garbage, call america, garbage congresswoman, congresswoman garbage, hellhole praise, praise venezuela, garbage citizen, force eat\n",
      "\n",
      "Topic  10\n",
      "instead, subway, uber, spend, everything, world go, go end, demise instead, lyft instead, subway fly\n",
      "\n",
      "Topic  11\n",
      "class, class american, american, reagan, working class, working, work class, screw, ronald reagan, ronald\n",
      "\n",
      "Topic  12\n",
      "cnn msnbc, msnbc, blackout cnn, ignore fec, medium blackout, msnbc ignore, kxadajq, co kxadajq, kxadajq jl, jl\n",
      "\n",
      "Topic  13\n",
      "uh, boy, uh uh, clapback game, mess bronx, xatvtcm, though borough, without roasted, roasted act, perfect clapback\n",
      "\n",
      "Topic  14\n",
      "palestinian, israel, right exist, israel right, believe israel, terrorist kill, faction hama, palestinian faction, tlaib grow, choose palestinian\n"
     ]
    }
   ],
   "source": [
    "# display_topics(nmf_all_15, tfidf_all.get_feature_names(), 10)"
   ]
  },
  {
   "cell_type": "code",
   "execution_count": 18,
   "metadata": {},
   "outputs": [],
   "source": [
    "# with open('/Users/robertpagano/metis_data/project_5/topic_modeling/nmf_aoc/nmf_all_15.pickle', 'wb') as to_write:\n",
    "#     pickle.dump(nmf_all_15, to_write)"
   ]
  },
  {
   "cell_type": "markdown",
   "metadata": {},
   "source": [
    "---------"
   ]
  },
  {
   "cell_type": "code",
   "execution_count": 19,
   "metadata": {},
   "outputs": [
    {
     "name": "stdout",
     "output_type": "stream",
     "text": [
      "1054.2875702490992\n"
     ]
    }
   ],
   "source": [
    "# # NMF on 20 topics\n",
    "# nmf_all_20 = NMF(20)\n",
    "# nmf_all_20.fit_transform(bag_of_words_all)\n",
    "# print(nmf_all_20.reconstruction_err_)"
   ]
  },
  {
   "cell_type": "code",
   "execution_count": 20,
   "metadata": {},
   "outputs": [
    {
     "name": "stdout",
     "output_type": "stream",
     "text": [
      "\n",
      "Topic  0\n",
      "claim, film news, apartment local, crew postal, never boyfriend, box fraud, represent neighbor, visit film, claim visit, claim mail\n",
      "\n",
      "Topic  1\n",
      "skill libs, libs nice, cookie teach, co cvfc, kjzum, cvfc kjzum, cvfc, boycott cookie, nice job, teach little\n",
      "\n",
      "Topic  2\n",
      "file bogus, case conspiracy, allege untrue, spamm file, group spamm, untrue scandal, theory run, news report, scandal misinformation, complaint fox\n",
      "\n",
      "Topic  3\n",
      "society job, live society, job leave, leave die, automate work, automate, die core, core problem, excited live, reason excited\n",
      "\n",
      "Topic  4\n",
      "hawaii, crazy, green deal, green, deal, hawaii anyone, crazy green, oppose green, senator mazie, hirono hawaii\n",
      "\n",
      "Topic  5\n",
      "address, inequality address, divide address, change together, together work, address income, tsbac, co tsbac, work sxsw, fear divide\n",
      "\n",
      "Topic  6\n",
      "moderate, time rewrite, visionary tinker, edge solve, naive visionary, moderate naive, moderate spot, problem democracy, democracy economy, critique moderate\n",
      "\n",
      "Topic  7\n",
      "ilhanmn finally, folk former, hat respect, klan celebrate, wizard ku, left exactly, celebrate party, stupid jews, respect ilhanmn, exactly hateful\n",
      "\n",
      "Topic  8\n",
      "service, long, learn, service customer, bartender long, co fzvfdsnue, fzvfdsnue, lot life, customer service, job lot\n",
      "\n",
      "Topic  9\n",
      "garbage, america, america garbage, call america, garbage congresswoman, congresswoman garbage, hellhole praise, praise venezuela, garbage citizen, force eat\n",
      "\n",
      "Topic  10\n",
      "instead, everything, world go, go end, demise instead, lyft instead, subway fly, use amtrak, slow demise, everything slow\n",
      "\n",
      "Topic  11\n",
      "class, class american, american, reagan, working class, working, work class, screw, ronald reagan, ronald\n",
      "\n",
      "Topic  12\n",
      "cnn msnbc, msnbc, blackout cnn, ignore fec, medium blackout, msnbc ignore, co kxadajq, kxadajq, kxadajq jl, jl\n",
      "\n",
      "Topic  13\n",
      "palestinian, israel, right exist, believe israel, israel right, terrorist kill, tlaib grow, faction hama, choose palestinian, palestinian faction\n",
      "\n",
      "Topic  14\n",
      "uh, uh uh, clapback game, mess bronx, though borough, perfect clapback, roasted act, jh xatvtcm, xatvtcm, without roasted\n",
      "\n",
      "Topic  15\n",
      "boy, necessary boy, scouts away, away boy, xkadfguk, co xkadfguk, boy co, boy scouts, necessary, scouts\n",
      "\n",
      "Topic  16\n",
      "answer cast, cast call, congress realjameswood, co hbuw, xqao, hbuw xqao, hbuw, call congress, realjameswood realdonaldtrump, cast\n",
      "\n",
      "Topic  17\n",
      "grip slip, friend throw, leave grandparent, grandparent home, slip friend, pelosi grip, throw party, party leave, grandparent, newt\n",
      "\n",
      "Topic  18\n",
      "anti, anti semitism, semitism, resolution, condemn, sham resolution, sham, design, omar, rep\n",
      "\n",
      "Topic  19\n",
      "public transportation, transportation, public, car, uber, spend, emission spend, transportation association, car realize, transportation instead\n"
     ]
    }
   ],
   "source": [
    "# display_topics(nmf_all_20, tfidf_all.get_feature_names(), 10)"
   ]
  },
  {
   "cell_type": "code",
   "execution_count": 21,
   "metadata": {},
   "outputs": [],
   "source": [
    "# with open('/Users/robertpagano/metis_data/project_5/topic_modeling/nmf_aoc/nmf_all_20.pickle', 'wb') as to_write:\n",
    "#     pickle.dump(nmf_all_20, to_write)"
   ]
  },
  {
   "cell_type": "markdown",
   "metadata": {},
   "source": [
    "---------"
   ]
  },
  {
   "cell_type": "code",
   "execution_count": 22,
   "metadata": {},
   "outputs": [
    {
     "name": "stdout",
     "output_type": "stream",
     "text": [
      "1042.4274847932734\n"
     ]
    }
   ],
   "source": [
    "# # NMF on 25 topics\n",
    "# nmf_all_25 = NMF(25)\n",
    "# nmf_all_25.fit_transform(bag_of_words_all)\n",
    "# print(nmf_all_25.reconstruction_err_)\n",
    "\n",
    "# ## setting a variable to the fit transformed"
   ]
  },
  {
   "cell_type": "code",
   "execution_count": 28,
   "metadata": {},
   "outputs": [
    {
     "data": {
      "text/plain": [
       "(1296014, 25)"
      ]
     },
     "execution_count": 28,
     "metadata": {},
     "output_type": "execute_result"
    }
   ],
   "source": [
    "# nmf_model_25_df = pd.DataFrame(data=nmf_all_25.fit_transform(bag_of_words_all))\n",
    "# nmf_model_25_df.shape"
   ]
  },
  {
   "cell_type": "code",
   "execution_count": 29,
   "metadata": {},
   "outputs": [
    {
     "name": "stdout",
     "output_type": "stream",
     "text": [
      "1042.4277109200966\n"
     ]
    },
    {
     "data": {
      "text/html": [
       "<div>\n",
       "<style scoped>\n",
       "    .dataframe tbody tr th:only-of-type {\n",
       "        vertical-align: middle;\n",
       "    }\n",
       "\n",
       "    .dataframe tbody tr th {\n",
       "        vertical-align: top;\n",
       "    }\n",
       "\n",
       "    .dataframe thead th {\n",
       "        text-align: right;\n",
       "    }\n",
       "</style>\n",
       "<table border=\"1\" class=\"dataframe\">\n",
       "  <thead>\n",
       "    <tr style=\"text-align: right;\">\n",
       "      <th></th>\n",
       "      <th>0</th>\n",
       "      <th>1</th>\n",
       "      <th>2</th>\n",
       "      <th>3</th>\n",
       "      <th>4</th>\n",
       "      <th>5</th>\n",
       "      <th>6</th>\n",
       "      <th>7</th>\n",
       "      <th>8</th>\n",
       "      <th>9</th>\n",
       "      <th>...</th>\n",
       "      <th>15</th>\n",
       "      <th>16</th>\n",
       "      <th>17</th>\n",
       "      <th>18</th>\n",
       "      <th>19</th>\n",
       "      <th>20</th>\n",
       "      <th>21</th>\n",
       "      <th>22</th>\n",
       "      <th>23</th>\n",
       "      <th>24</th>\n",
       "    </tr>\n",
       "  </thead>\n",
       "  <tbody>\n",
       "    <tr>\n",
       "      <th>0</th>\n",
       "      <td>0.0</td>\n",
       "      <td>0.000000</td>\n",
       "      <td>0.000000</td>\n",
       "      <td>0.000000</td>\n",
       "      <td>0.0</td>\n",
       "      <td>0.000000</td>\n",
       "      <td>0.000000</td>\n",
       "      <td>0.000000</td>\n",
       "      <td>0.000000</td>\n",
       "      <td>0.000000</td>\n",
       "      <td>...</td>\n",
       "      <td>0.000000</td>\n",
       "      <td>0.112873</td>\n",
       "      <td>0.000000</td>\n",
       "      <td>0.000000</td>\n",
       "      <td>0.000000</td>\n",
       "      <td>0.000000</td>\n",
       "      <td>0.000000</td>\n",
       "      <td>0.000000</td>\n",
       "      <td>0.000000</td>\n",
       "      <td>0.0</td>\n",
       "    </tr>\n",
       "    <tr>\n",
       "      <th>1</th>\n",
       "      <td>0.0</td>\n",
       "      <td>0.000341</td>\n",
       "      <td>0.000030</td>\n",
       "      <td>0.000488</td>\n",
       "      <td>0.0</td>\n",
       "      <td>0.000410</td>\n",
       "      <td>0.000302</td>\n",
       "      <td>0.000239</td>\n",
       "      <td>0.000329</td>\n",
       "      <td>0.000000</td>\n",
       "      <td>...</td>\n",
       "      <td>0.000617</td>\n",
       "      <td>0.000773</td>\n",
       "      <td>0.000503</td>\n",
       "      <td>0.000775</td>\n",
       "      <td>0.000000</td>\n",
       "      <td>0.000674</td>\n",
       "      <td>0.003253</td>\n",
       "      <td>0.010097</td>\n",
       "      <td>0.000656</td>\n",
       "      <td>0.0</td>\n",
       "    </tr>\n",
       "    <tr>\n",
       "      <th>2</th>\n",
       "      <td>0.0</td>\n",
       "      <td>0.000201</td>\n",
       "      <td>0.000123</td>\n",
       "      <td>0.000141</td>\n",
       "      <td>0.0</td>\n",
       "      <td>0.000175</td>\n",
       "      <td>0.000109</td>\n",
       "      <td>0.000000</td>\n",
       "      <td>0.000000</td>\n",
       "      <td>0.010703</td>\n",
       "      <td>...</td>\n",
       "      <td>0.000017</td>\n",
       "      <td>0.000000</td>\n",
       "      <td>0.000183</td>\n",
       "      <td>0.000109</td>\n",
       "      <td>0.000043</td>\n",
       "      <td>0.000000</td>\n",
       "      <td>0.015331</td>\n",
       "      <td>0.000000</td>\n",
       "      <td>0.010695</td>\n",
       "      <td>0.0</td>\n",
       "    </tr>\n",
       "    <tr>\n",
       "      <th>3</th>\n",
       "      <td>0.0</td>\n",
       "      <td>0.000227</td>\n",
       "      <td>0.000000</td>\n",
       "      <td>0.000168</td>\n",
       "      <td>0.0</td>\n",
       "      <td>0.000199</td>\n",
       "      <td>0.000243</td>\n",
       "      <td>0.002161</td>\n",
       "      <td>0.000307</td>\n",
       "      <td>0.000000</td>\n",
       "      <td>...</td>\n",
       "      <td>0.000441</td>\n",
       "      <td>0.000516</td>\n",
       "      <td>0.000245</td>\n",
       "      <td>0.000574</td>\n",
       "      <td>0.000057</td>\n",
       "      <td>0.000031</td>\n",
       "      <td>0.000271</td>\n",
       "      <td>0.003239</td>\n",
       "      <td>0.000439</td>\n",
       "      <td>0.0</td>\n",
       "    </tr>\n",
       "    <tr>\n",
       "      <th>4</th>\n",
       "      <td>0.0</td>\n",
       "      <td>0.000223</td>\n",
       "      <td>0.000073</td>\n",
       "      <td>0.000072</td>\n",
       "      <td>0.0</td>\n",
       "      <td>0.007420</td>\n",
       "      <td>0.000188</td>\n",
       "      <td>0.000149</td>\n",
       "      <td>0.000092</td>\n",
       "      <td>0.000000</td>\n",
       "      <td>...</td>\n",
       "      <td>0.000427</td>\n",
       "      <td>0.000664</td>\n",
       "      <td>0.000307</td>\n",
       "      <td>0.000473</td>\n",
       "      <td>0.000000</td>\n",
       "      <td>0.000000</td>\n",
       "      <td>0.000351</td>\n",
       "      <td>0.000020</td>\n",
       "      <td>0.000372</td>\n",
       "      <td>0.0</td>\n",
       "    </tr>\n",
       "  </tbody>\n",
       "</table>\n",
       "<p>5 rows × 25 columns</p>\n",
       "</div>"
      ],
      "text/plain": [
       "    0         1         2         3    4         5         6         7   \\\n",
       "0  0.0  0.000000  0.000000  0.000000  0.0  0.000000  0.000000  0.000000   \n",
       "1  0.0  0.000341  0.000030  0.000488  0.0  0.000410  0.000302  0.000239   \n",
       "2  0.0  0.000201  0.000123  0.000141  0.0  0.000175  0.000109  0.000000   \n",
       "3  0.0  0.000227  0.000000  0.000168  0.0  0.000199  0.000243  0.002161   \n",
       "4  0.0  0.000223  0.000073  0.000072  0.0  0.007420  0.000188  0.000149   \n",
       "\n",
       "         8         9  ...         15        16        17        18        19  \\\n",
       "0  0.000000  0.000000 ...   0.000000  0.112873  0.000000  0.000000  0.000000   \n",
       "1  0.000329  0.000000 ...   0.000617  0.000773  0.000503  0.000775  0.000000   \n",
       "2  0.000000  0.010703 ...   0.000017  0.000000  0.000183  0.000109  0.000043   \n",
       "3  0.000307  0.000000 ...   0.000441  0.000516  0.000245  0.000574  0.000057   \n",
       "4  0.000092  0.000000 ...   0.000427  0.000664  0.000307  0.000473  0.000000   \n",
       "\n",
       "         20        21        22        23   24  \n",
       "0  0.000000  0.000000  0.000000  0.000000  0.0  \n",
       "1  0.000674  0.003253  0.010097  0.000656  0.0  \n",
       "2  0.000000  0.015331  0.000000  0.010695  0.0  \n",
       "3  0.000031  0.000271  0.003239  0.000439  0.0  \n",
       "4  0.000000  0.000351  0.000020  0.000372  0.0  \n",
       "\n",
       "[5 rows x 25 columns]"
      ]
     },
     "execution_count": 29,
     "metadata": {},
     "output_type": "execute_result"
    }
   ],
   "source": [
    "# print(nmf_all_25.reconstruction_err_)\n",
    "# nmf_model_25_df.head()"
   ]
  },
  {
   "cell_type": "markdown",
   "metadata": {},
   "source": [
    "NOTE TO SELF - if the above works, I'll need to make DFs of all versions again (which will take around another hour) :(\n",
    "\n",
    "Then I'll concat them with index and screen name, so I can assign values back to the tweeters otherwise. One annoying thing is I didn't pass in tweet ID so I'll have to think about that too"
   ]
  },
  {
   "cell_type": "code",
   "execution_count": 23,
   "metadata": {},
   "outputs": [
    {
     "name": "stdout",
     "output_type": "stream",
     "text": [
      "\n",
      "Topic  0\n",
      "claim, apartment local, crew postal, never boyfriend, claim visit, film news, visit film, box fraud, represent neighbor, claim mail\n",
      "\n",
      "Topic  1\n",
      "skill libs, libs nice, cookie teach, cvfc, cvfc kjzum, co cvfc, kjzum, boycott cookie, nice job, teach little\n",
      "\n",
      "Topic  2\n",
      "file bogus, case conspiracy, allege untrue, spamm file, group spamm, untrue scandal, theory run, news report, scandal misinformation, complaint fox\n",
      "\n",
      "Topic  3\n",
      "society job, live society, job leave, leave die, automate work, automate, die core, core problem, excited live, reason excited\n",
      "\n",
      "Topic  4\n",
      "hawaii, crazy, green deal, green, deal, hawaii anyone, oppose green, crazy green, senator mazie, hirono hawaii\n",
      "\n",
      "Topic  5\n",
      "address, inequality address, divide address, change together, together work, address income, tsbac, co tsbac, work sxsw, fear divide\n",
      "\n",
      "Topic  6\n",
      "moderate, time rewrite, edge solve, visionary tinker, naive visionary, moderate naive, moderate spot, problem democracy, democracy economy, critique moderate\n",
      "\n",
      "Topic  7\n",
      "ilhanmn finally, folk former, hat respect, klan celebrate, wizard ku, left exactly, celebrate party, stupid jews, respect ilhanmn, exactly hateful\n",
      "\n",
      "Topic  8\n",
      "service, long, service customer, bartender long, fzvfdsnue, co fzvfdsnue, lot life, customer service, job lot, work service\n",
      "\n",
      "Topic  9\n",
      "garbage, congresswoman garbage, hellhole praise, praise venezuela, garbage congresswoman, garbage citizen, force eat, socialist hellhole, eat socialist, seriously call\n",
      "\n",
      "Topic  10\n",
      "instead, world go, go end, demise instead, lyft instead, subway fly, use amtrak, slow demise, everything slow, thousand uber\n",
      "\n",
      "Topic  11\n",
      "class american, class, american, working class, working, reagan, work class, screw, white, ronald reagan\n",
      "\n",
      "Topic  12\n",
      "cnn msnbc, msnbc, blackout cnn, ignore fec, medium blackout, msnbc ignore, co kxadajq, kxadajq jl, kxadajq, jl\n",
      "\n",
      "Topic  13\n",
      "palestinian, israel, right exist, believe israel, israel right, terrorist kill, tlaib grow, faction hama, choose palestinian, palestinian faction\n",
      "\n",
      "Topic  14\n",
      "uh, uh uh, clapback game, mess bronx, perfect clapback, xatvtcm, roasted act, jh xatvtcm, without roasted, though borough\n",
      "\n",
      "Topic  15\n",
      "boy, necessary boy, scouts away, away boy, xkadfguk, co xkadfguk, boy co, boy scouts, necessary, scouts\n",
      "\n",
      "Topic  16\n",
      "answer cast, cast call, congress realjameswood, hbuw, hbuw xqao, xqao, co hbuw, call congress, realjameswood realdonaldtrump, cast\n",
      "\n",
      "Topic  17\n",
      "grip slip, friend throw, grandparent home, leave grandparent, slip friend, pelosi grip, throw party, party leave, grandparent, newt\n",
      "\n",
      "Topic  18\n",
      "anti, anti semitism, semitism, resolution, condemn, sham resolution, sham, design, omar, anti semitic\n",
      "\n",
      "Topic  19\n",
      "public transportation, transportation, public, transportation instead, car realize, transportation association, instead car, subway ft, ft campaign, association single\n",
      "\n",
      "Topic  20\n",
      "harris, claim, multiple job, work multiple, low people, rate low, unemployment rate, kamala harris, people work, rate\n",
      "\n",
      "Topic  21\n",
      "america, state america, great, garbage, united state, united, state, america garbage, firsthand united, immigrate united\n",
      "\n",
      "Topic  22\n",
      "high tax, tax, week, high, want, uber air, travel mom, coordination want, ton uber, possible coordination\n",
      "\n",
      "Topic  23\n",
      "landslide, elect, landslide elect, elect landslide, big landslide, elect big, lord brilliant, co aywff, landslide bu, aywff tpdy\n",
      "\n",
      "Topic  24\n",
      "learn, everything, economic, everything judaism, judaism learn, professor everything, learn louis, leftist college, farrakhan everything, learn leftist\n"
     ]
    }
   ],
   "source": [
    "# display_topics(nmf_all_25, tfidf_all.get_feature_names(), 10)"
   ]
  },
  {
   "cell_type": "code",
   "execution_count": 24,
   "metadata": {},
   "outputs": [],
   "source": [
    "# with open('/Users/robertpagano/metis_data/project_5/topic_modeling/nmf_aoc/nmf_all_25.pickle', 'wb') as to_write:\n",
    "#     pickle.dump(nmf_all_25, to_write)"
   ]
  },
  {
   "cell_type": "markdown",
   "metadata": {},
   "source": [
    "Now I will create DF's where I append this info to a dataframe\n",
    "\n",
    "then try dbscan with these"
   ]
  },
  {
   "cell_type": "code",
   "execution_count": 31,
   "metadata": {},
   "outputs": [
    {
     "data": {
      "text/html": [
       "<div>\n",
       "<style scoped>\n",
       "    .dataframe tbody tr th:only-of-type {\n",
       "        vertical-align: middle;\n",
       "    }\n",
       "\n",
       "    .dataframe tbody tr th {\n",
       "        vertical-align: top;\n",
       "    }\n",
       "\n",
       "    .dataframe thead th {\n",
       "        text-align: right;\n",
       "    }\n",
       "</style>\n",
       "<table border=\"1\" class=\"dataframe\">\n",
       "  <thead>\n",
       "    <tr style=\"text-align: right;\">\n",
       "      <th></th>\n",
       "      <th>index</th>\n",
       "      <th>screen_name</th>\n",
       "      <th>followers_count</th>\n",
       "      <th>modularity_class</th>\n",
       "      <th>main_text</th>\n",
       "      <th>retweet_text</th>\n",
       "      <th>tweet_date</th>\n",
       "      <th>PageRank</th>\n",
       "      <th>rt_count</th>\n",
       "      <th>final_text</th>\n",
       "      <th>tweet_processed</th>\n",
       "    </tr>\n",
       "  </thead>\n",
       "  <tbody>\n",
       "    <tr>\n",
       "      <th>0</th>\n",
       "      <td>405812</td>\n",
       "      <td>DavidJHarrisJr</td>\n",
       "      <td>75631</td>\n",
       "      <td>0.0</td>\n",
       "      <td>So @aoc answered a casting call... and now she...</td>\n",
       "      <td>NaN</td>\n",
       "      <td>Mon Mar 11 01:16:04 +0000 2019</td>\n",
       "      <td>0.004242</td>\n",
       "      <td>6936</td>\n",
       "      <td>So @aoc answered a casting call... and now she...</td>\n",
       "      <td>so aoc answer a cast call and now -PRON- s in ...</td>\n",
       "    </tr>\n",
       "    <tr>\n",
       "      <th>1</th>\n",
       "      <td>712255</td>\n",
       "      <td>DavidJHarrisJr</td>\n",
       "      <td>75652</td>\n",
       "      <td>0.0</td>\n",
       "      <td>So @aoc wants to raise our taxes and she hasn’...</td>\n",
       "      <td>NaN</td>\n",
       "      <td>Sun Mar 10 03:49:44 +0000 2019</td>\n",
       "      <td>0.004242</td>\n",
       "      <td>1127</td>\n",
       "      <td>So @aoc wants to raise our taxes and she hasn’...</td>\n",
       "      <td>so aoc want to raise -PRON- tax and -PRON- has...</td>\n",
       "    </tr>\n",
       "    <tr>\n",
       "      <th>2</th>\n",
       "      <td>465115</td>\n",
       "      <td>DavidJHarrisJr</td>\n",
       "      <td>75638</td>\n",
       "      <td>0.0</td>\n",
       "      <td>Now @aoc says America is garbage? \\nWho electe...</td>\n",
       "      <td>NaN</td>\n",
       "      <td>Sun Mar 10 22:30:39 +0000 2019</td>\n",
       "      <td>0.004242</td>\n",
       "      <td>1056</td>\n",
       "      <td>Now @aoc says America is garbage? \\nWho electe...</td>\n",
       "      <td>now aoc say america be garbage who elect this ...</td>\n",
       "    </tr>\n",
       "    <tr>\n",
       "      <th>3</th>\n",
       "      <td>62994</td>\n",
       "      <td>DavidJHarrisJr</td>\n",
       "      <td>75620</td>\n",
       "      <td>0.0</td>\n",
       "      <td>Former FEC Commissioner says there’s more than...</td>\n",
       "      <td>NaN</td>\n",
       "      <td>Tue Mar 12 01:25:16 +0000 2019</td>\n",
       "      <td>0.004242</td>\n",
       "      <td>997</td>\n",
       "      <td>Former FEC Commissioner says there’s more than...</td>\n",
       "      <td>former fec commissioner say there s more than ...</td>\n",
       "    </tr>\n",
       "    <tr>\n",
       "      <th>4</th>\n",
       "      <td>1205837</td>\n",
       "      <td>DavidJHarrisJr</td>\n",
       "      <td>75690</td>\n",
       "      <td>0.0</td>\n",
       "      <td>Hey AOC! Guess what? Climate change and global...</td>\n",
       "      <td>NaN</td>\n",
       "      <td>Fri Mar 08 05:02:07 +0000 2019</td>\n",
       "      <td>0.004242</td>\n",
       "      <td>838</td>\n",
       "      <td>Hey AOC! Guess what? Climate change and global...</td>\n",
       "      <td>hey aoc guess what climate change and global w...</td>\n",
       "    </tr>\n",
       "  </tbody>\n",
       "</table>\n",
       "</div>"
      ],
      "text/plain": [
       "     index     screen_name  followers_count  modularity_class  \\\n",
       "0   405812  DavidJHarrisJr            75631               0.0   \n",
       "1   712255  DavidJHarrisJr            75652               0.0   \n",
       "2   465115  DavidJHarrisJr            75638               0.0   \n",
       "3    62994  DavidJHarrisJr            75620               0.0   \n",
       "4  1205837  DavidJHarrisJr            75690               0.0   \n",
       "\n",
       "                                           main_text retweet_text  \\\n",
       "0  So @aoc answered a casting call... and now she...          NaN   \n",
       "1  So @aoc wants to raise our taxes and she hasn’...          NaN   \n",
       "2  Now @aoc says America is garbage? \\nWho electe...          NaN   \n",
       "3  Former FEC Commissioner says there’s more than...          NaN   \n",
       "4  Hey AOC! Guess what? Climate change and global...          NaN   \n",
       "\n",
       "                       tweet_date  PageRank  rt_count  \\\n",
       "0  Mon Mar 11 01:16:04 +0000 2019  0.004242      6936   \n",
       "1  Sun Mar 10 03:49:44 +0000 2019  0.004242      1127   \n",
       "2  Sun Mar 10 22:30:39 +0000 2019  0.004242      1056   \n",
       "3  Tue Mar 12 01:25:16 +0000 2019  0.004242       997   \n",
       "4  Fri Mar 08 05:02:07 +0000 2019  0.004242       838   \n",
       "\n",
       "                                          final_text  \\\n",
       "0  So @aoc answered a casting call... and now she...   \n",
       "1  So @aoc wants to raise our taxes and she hasn’...   \n",
       "2  Now @aoc says America is garbage? \\nWho electe...   \n",
       "3  Former FEC Commissioner says there’s more than...   \n",
       "4  Hey AOC! Guess what? Climate change and global...   \n",
       "\n",
       "                                     tweet_processed  \n",
       "0  so aoc answer a cast call and now -PRON- s in ...  \n",
       "1  so aoc want to raise -PRON- tax and -PRON- has...  \n",
       "2  now aoc say america be garbage who elect this ...  \n",
       "3  former fec commissioner say there s more than ...  \n",
       "4  hey aoc guess what climate change and global w...  "
      ]
     },
     "execution_count": 31,
     "metadata": {},
     "output_type": "execute_result"
    }
   ],
   "source": [
    "# df_topic_base = df_all.reset_index()\n",
    "# df_topic_base.head()"
   ]
  },
  {
   "cell_type": "markdown",
   "metadata": {},
   "source": [
    "crap - now I know why I saved the fit_transform(bag_of_words_ objects previously, that's what I need to use to create the df. For now I'm seeing if I can just call that as the \"data\" and see if that works. Otherwise I will need to set them all equal to variables"
   ]
  },
  {
   "cell_type": "code",
   "execution_count": 32,
   "metadata": {},
   "outputs": [
    {
     "data": {
      "text/plain": [
       "(1296014, 11)"
      ]
     },
     "execution_count": 32,
     "metadata": {},
     "output_type": "execute_result"
    }
   ],
   "source": [
    "# df_topic_base.shape"
   ]
  },
  {
   "cell_type": "code",
   "execution_count": null,
   "metadata": {},
   "outputs": [],
   "source": []
  },
  {
   "cell_type": "code",
   "execution_count": 34,
   "metadata": {},
   "outputs": [
    {
     "data": {
      "text/plain": [
       "(1296014, 10)"
      ]
     },
     "execution_count": 34,
     "metadata": {},
     "output_type": "execute_result"
    }
   ],
   "source": [
    "# lsa_all_10 = TruncatedSVD(10)\n",
    "\n",
    "# lsa_model_10_df = pd.DataFrame(data=lsa_all_10.fit_transform(bag_of_words_all))\n",
    "# lsa_model_10_df.shape"
   ]
  },
  {
   "cell_type": "code",
   "execution_count": 36,
   "metadata": {},
   "outputs": [
    {
     "data": {
      "text/plain": [
       "(1296014, 15)"
      ]
     },
     "execution_count": 36,
     "metadata": {},
     "output_type": "execute_result"
    }
   ],
   "source": [
    "# lsa_all_15 = TruncatedSVD(15)\n",
    "\n",
    "# lsa_model_15_df = pd.DataFrame(data=lsa_all_15.fit_transform(bag_of_words_all))\n",
    "# lsa_model_15_df.shape"
   ]
  },
  {
   "cell_type": "code",
   "execution_count": 37,
   "metadata": {},
   "outputs": [
    {
     "data": {
      "text/plain": [
       "(1296014, 20)"
      ]
     },
     "execution_count": 37,
     "metadata": {},
     "output_type": "execute_result"
    }
   ],
   "source": [
    "# lsa_all_20 = TruncatedSVD(20)\n",
    "\n",
    "# lsa_model_20_df = pd.DataFrame(data=lsa_all_20.fit_transform(bag_of_words_all))\n",
    "# lsa_model_20_df.shape"
   ]
  },
  {
   "cell_type": "code",
   "execution_count": 38,
   "metadata": {},
   "outputs": [
    {
     "data": {
      "text/plain": [
       "(1296014, 25)"
      ]
     },
     "execution_count": 38,
     "metadata": {},
     "output_type": "execute_result"
    }
   ],
   "source": [
    "# lsa_all_25 = TruncatedSVD(25)\n",
    "\n",
    "# lsa_model_25_df = pd.DataFrame(data=lsa_all_25.fit_transform(bag_of_words_all))\n",
    "# lsa_model_25_df.shape"
   ]
  },
  {
   "cell_type": "code",
   "execution_count": null,
   "metadata": {},
   "outputs": [],
   "source": []
  },
  {
   "cell_type": "code",
   "execution_count": 39,
   "metadata": {},
   "outputs": [],
   "source": [
    "# df_lsa_model_10 = pd.merge(df_topic_base, lsa_model_10_df, left_index=True, right_index=True)\n",
    "# df_lsa_model_15 = pd.merge(df_topic_base, lsa_model_15_df, left_index=True, right_index=True)\n",
    "# df_lsa_model_20 = pd.merge(df_topic_base, lsa_model_20_df, left_index=True, right_index=True)\n",
    "# df_lsa_model_25 = pd.merge(df_topic_base, lsa_model_25_df, left_index=True, right_index=True)"
   ]
  },
  {
   "cell_type": "markdown",
   "metadata": {},
   "source": [
    "---------"
   ]
  },
  {
   "cell_type": "code",
   "execution_count": 40,
   "metadata": {},
   "outputs": [
    {
     "data": {
      "text/plain": [
       "(1296014, 10)"
      ]
     },
     "execution_count": 40,
     "metadata": {},
     "output_type": "execute_result"
    }
   ],
   "source": [
    "# nmf_all_10 = NMF(10)\n",
    "\n",
    "# nmf_model_10_df = pd.DataFrame(data=nmf_all_10.fit_transform(bag_of_words_all))\n",
    "# nmf_model_10_df.shape"
   ]
  },
  {
   "cell_type": "code",
   "execution_count": 41,
   "metadata": {},
   "outputs": [
    {
     "data": {
      "text/plain": [
       "(1296014, 15)"
      ]
     },
     "execution_count": 41,
     "metadata": {},
     "output_type": "execute_result"
    }
   ],
   "source": [
    "# nmf_all_15 = NMF(15)\n",
    "\n",
    "# nmf_model_15_df = pd.DataFrame(data=nmf_all_15.fit_transform(bag_of_words_all))\n",
    "# nmf_model_15_df.shape"
   ]
  },
  {
   "cell_type": "code",
   "execution_count": 42,
   "metadata": {},
   "outputs": [
    {
     "data": {
      "text/plain": [
       "(1296014, 20)"
      ]
     },
     "execution_count": 42,
     "metadata": {},
     "output_type": "execute_result"
    }
   ],
   "source": [
    "# nmf_all_20 = NMF(20)\n",
    "\n",
    "# nmf_model_20_df = pd.DataFrame(data=nmf_all_20.fit_transform(bag_of_words_all))\n",
    "# nmf_model_20_df.shape"
   ]
  },
  {
   "cell_type": "code",
   "execution_count": null,
   "metadata": {},
   "outputs": [],
   "source": [
    "# # nmf_model_25_df = pd.DataFrame(data=nmf_all_25.fit_transform(bag_of_words_all)) ALREADY DONE!\n",
    "# nmf_model_25_df.shape"
   ]
  },
  {
   "cell_type": "code",
   "execution_count": null,
   "metadata": {},
   "outputs": [],
   "source": []
  },
  {
   "cell_type": "code",
   "execution_count": 43,
   "metadata": {},
   "outputs": [],
   "source": [
    "# df_nmf_model_10 = pd.merge(df_topic_base, nmf_model_10_df, left_index=True, right_index=True)\n",
    "# df_nmf_model_15 = pd.merge(df_topic_base, nmf_model_15_df, left_index=True, right_index=True)\n",
    "# df_nmf_model_20 = pd.merge(df_topic_base, nmf_model_20_df, left_index=True, right_index=True)\n",
    "# df_nmf_model_25 = pd.merge(df_topic_base, nmf_model_25_df, left_index=True, right_index=True)\n"
   ]
  },
  {
   "cell_type": "code",
   "execution_count": 44,
   "metadata": {},
   "outputs": [],
   "source": [
    "# with open('/Users/robertpagano/metis_data/project_5/topic_modeling/topic_dfs/df_lsa_model_10.pickle', 'wb') as to_write:\n",
    "#     pickle.dump(df_lsa_model_10, to_write)\n",
    "    \n",
    "# with open('/Users/robertpagano/metis_data/project_5/topic_modeling/topic_dfs/df_lsa_model_15.pickle', 'wb') as to_write:\n",
    "#     pickle.dump(df_lsa_model_15, to_write)\n",
    "    \n",
    "# with open('/Users/robertpagano/metis_data/project_5/topic_modeling/topic_dfs/df_lsa_model_20.pickle', 'wb') as to_write:\n",
    "#     pickle.dump(df_lsa_model_20, to_write)\n",
    "    \n",
    "# with open('/Users/robertpagano/metis_data/project_5/topic_modeling/topic_dfs/df_lsa_model_25.pickle', 'wb') as to_write:\n",
    "#     pickle.dump(df_lsa_model_25, to_write)\n",
    "    \n",
    "\n",
    "# with open('/Users/robertpagano/metis_data/project_5/topic_modeling/topic_dfs/df_nmf_model_10.pickle', 'wb') as to_write:\n",
    "#     pickle.dump(df_nmf_model_10, to_write)\n",
    "    \n",
    "# with open('/Users/robertpagano/metis_data/project_5/topic_modeling/topic_dfs/df_nmf_model_15.pickle', 'wb') as to_write:\n",
    "#     pickle.dump(df_nmf_model_15, to_write)\n",
    "    \n",
    "# with open('/Users/robertpagano/metis_data/project_5/topic_modeling/topic_dfs/df_nmf_model_20.pickle', 'wb') as to_write:\n",
    "#     pickle.dump(df_nmf_model_20, to_write)\n",
    "    \n",
    "# with open('/Users/robertpagano/metis_data/project_5/topic_modeling/topic_dfs/df_nmf_model_25.pickle', 'wb') as to_write:\n",
    "#     pickle.dump(df_nmf_model_25, to_write)\n",
    "    \n",
    "    \n",
    "\n",
    "    \n"
   ]
  },
  {
   "cell_type": "code",
   "execution_count": null,
   "metadata": {},
   "outputs": [],
   "source": []
  }
 ],
 "metadata": {
  "kernelspec": {
   "display_name": "Python 3",
   "language": "python",
   "name": "python3"
  },
  "language_info": {
   "codemirror_mode": {
    "name": "ipython",
    "version": 3
   },
   "file_extension": ".py",
   "mimetype": "text/x-python",
   "name": "python",
   "nbconvert_exporter": "python",
   "pygments_lexer": "ipython3",
   "version": "3.6.7"
  }
 },
 "nbformat": 4,
 "nbformat_minor": 2
}
