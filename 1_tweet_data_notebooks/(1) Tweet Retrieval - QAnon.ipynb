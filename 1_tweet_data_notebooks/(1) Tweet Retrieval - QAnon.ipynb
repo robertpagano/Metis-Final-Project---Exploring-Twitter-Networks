{
 "cells": [
  {
   "cell_type": "code",
   "execution_count": 5,
   "metadata": {},
   "outputs": [],
   "source": [
    "import pandas as pd"
   ]
  },
  {
   "cell_type": "markdown",
   "metadata": {},
   "source": [
    "\n",
    "Very basic idea here is to create a network of democrats / liberals and segment them for the upcoming primaries (i.e. centrists, leftists, etc.)"
   ]
  },
  {
   "cell_type": "code",
   "execution_count": 6,
   "metadata": {},
   "outputs": [],
   "source": [
    "import tweepy, sys, os, logging, json\n",
    "from twitter_config import consumer_key, consumer_secret"
   ]
  },
  {
   "cell_type": "code",
   "execution_count": 7,
   "metadata": {},
   "outputs": [],
   "source": [
    "logging.basicConfig(filename='twitter_error_log_capt_marv.log',filemode='w', level=logging.ERROR)"
   ]
  },
  {
   "cell_type": "markdown",
   "metadata": {},
   "source": [
    "First I'm just going to store JSON log files, but eventually I'm going to try to load it into postgres, because I think that makes the most since. I am using the code from https://bhaskarvk.github.io/2015/01/how-to-use-twitters-search-rest-api-most-effectively./"
   ]
  },
  {
   "cell_type": "code",
   "execution_count": 8,
   "metadata": {},
   "outputs": [],
   "source": [
    "auth = tweepy.AppAuthHandler(consumer_key, consumer_secret)\n",
    " \n",
    "api = tweepy.API(auth, wait_on_rate_limit=True, wait_on_rate_limit_notify=True,\n",
    "                 parser=tweepy.parsers.JSONParser()\n",
    "                )\n",
    " \n",
    "if (not api):\n",
    "    print (\"Can't Authenticate\")\n",
    "    sys.exit(-1)"
   ]
  },
  {
   "cell_type": "code",
   "execution_count": 9,
   "metadata": {},
   "outputs": [],
   "source": [
    "# Here are my search terms - I can change the text string if I want to change my terms\n",
    "# topic_search = ('aoc OR #aoc OR (alexandria AND ocasio-cortez) OR (alexandria AND ocasio) OR (alexandria AND cortez) OR ocasio-cortez OR ocasiocortez OR (alexandria AND ocasio AND cortez)')\n",
    "# topic_search = ('(captain AND marvel) OR captainmarvel OR #captainmarvel OR (brie AND larson) OR brielarson OR #brielarson')\n",
    "topic_search = ('#QAnon OR #Qarmy OR QAnon OR Qarmy OR #WWG1WGA OR WWG1WGA OR #TrustThePlan OR #GreatAwakening')\n",
    "searchQuery = topic_search"
   ]
  },
  {
   "cell_type": "code",
   "execution_count": null,
   "metadata": {},
   "outputs": [],
   "source": []
  },
  {
   "cell_type": "code",
   "execution_count": null,
   "metadata": {},
   "outputs": [],
   "source": []
  },
  {
   "cell_type": "markdown",
   "metadata": {},
   "source": [
    "## Download as many search-relevant tweets from the API as possible, while respecting the rate limit.\n",
    "This code is largely taken from https://bhaskarvk.github.io/2015/01/how-to-use-twitters-search-rest-api-most-effectively./\n",
    "tweaked it to save json files every 4000 tweets, and to use logging rather than printing.\n",
    "\n",
    "ALso, adding tweet_mode = extended to every api.search method, and changing langauge as well"
   ]
  },
  {
   "cell_type": "code",
   "execution_count": 28,
   "metadata": {},
   "outputs": [],
   "source": [
    "maxTweets = 2000000000 # Some arbitrary large number\n",
    "tweetsPerQry = 100  # this is the max the API permits\n",
    "\n",
    "# If results from a specific ID onwards are reqd, set since_id to that ID.\n",
    "# else default to no lower limit, go as far back as API allows\n",
    "sinceId = 1106243583114252293\n",
    "\n",
    "# If results only below a specific ID are reqd, set max_id to that ID.\n",
    "# else default to no upper limit, start from the most recent tweet matching the search query.\n",
    "max_id = -1\n",
    "\n",
    "tweetCount = 0\n",
    "tweetFiles = 71\n",
    "msg =  \"Downloading max {0} tweets\".format(maxTweets)\n",
    "logging.error(msg)\n",
    "tweets = []\n",
    "while 4000*tweetFiles + tweetCount < maxTweets:\n",
    "    try:\n",
    "        if (max_id <= 0):\n",
    "            if (not sinceId):\n",
    "                new_tweets = api.search(q=searchQuery, count=tweetsPerQry, tweet_mode='extended', lang='en')\n",
    "            else:\n",
    "                new_tweets = api.search(q=searchQuery, count=tweetsPerQry, tweet_mode='extended', lang='en',\n",
    "                                        since_id=sinceId)\n",
    "        else:\n",
    "            if (not sinceId):\n",
    "                new_tweets = api.search(q=searchQuery, count=tweetsPerQry, tweet_mode='extended', lang='en',\n",
    "                                        max_id=str(max_id - 1))\n",
    "            else:\n",
    "                new_tweets = api.search(q=searchQuery, count=tweetsPerQry, tweet_mode='extended', lang='en',\n",
    "                                        max_id=str(max_id - 1),\n",
    "                                        since_id=sinceId)\n",
    "                \n",
    "        new_tweets = new_tweets['statuses']\n",
    "        if len(new_tweets) == 0:\n",
    "            msg = 'No tweets found'\n",
    "            logging.error(msg)\n",
    "            break\n",
    "        \n",
    "        tweets.extend(new_tweets)\n",
    "        tweetCount += len(new_tweets)\n",
    "        msg = \"Downloaded {0} tweets\".format(tweetCount + tweetFiles*4000)\n",
    "        logging.error(msg)\n",
    "        max_id = new_tweets[-1]['id']\n",
    "        \n",
    "        if tweetCount > 4000:\n",
    "            with open('tweets'+str(tweetFiles)+'.json', 'w', encoding=\"utf8\") as outfile:  \n",
    "                json.dump(tweets, outfile)\n",
    "            msg = \"JSON file saved\"\n",
    "            logging.error(msg)\n",
    "            tweetFiles += 1\n",
    "            tweetCount = 0\n",
    "            del tweets[:]\n",
    "                \n",
    "    except tweepy.TweepError as e:\n",
    "        msg = 'Query failed when max_id equaled {0}: {1}'.format(max_id, e)\n",
    "        logging.error(msg)\n",
    "\n",
    "if tweetCount > 0:\n",
    "    with open('tweets'+str(tweetFiles)+'.json', 'w', encoding=\"utf8\") as outfile:  \n",
    "        json.dump(tweets, outfile)\n",
    "    msg = \"JSON file saved\"\n",
    "    logging.error(msg)\n",
    "    tweetFiles += 1\n",
    "    tweetCount = 0"
   ]
  },
  {
   "cell_type": "code",
   "execution_count": 29,
   "metadata": {},
   "outputs": [
    {
     "name": "stdout",
     "output_type": "stream",
     "text": [
      "1106243585958182912\n"
     ]
    }
   ],
   "source": [
    "print(max_id)"
   ]
  },
  {
   "cell_type": "code",
   "execution_count": 17,
   "metadata": {},
   "outputs": [],
   "source": [
    "with open('tweets0.json') as json_file:  \n",
    "    test = json.load(json_file)"
   ]
  },
  {
   "cell_type": "code",
   "execution_count": 18,
   "metadata": {},
   "outputs": [
    {
     "data": {
      "text/plain": [
       "4071"
      ]
     },
     "execution_count": 18,
     "metadata": {},
     "output_type": "execute_result"
    }
   ],
   "source": [
    "len(test)"
   ]
  },
  {
   "cell_type": "code",
   "execution_count": 19,
   "metadata": {},
   "outputs": [
    {
     "data": {
      "text/plain": [
       "{'created_at': 'Sat Mar 16 21:57:21 +0000 2019',\n",
       " 'id': 1107038165913620480,\n",
       " 'id_str': '1107038165913620480',\n",
       " 'full_text': 'RT @MatzdorfRichard: Nothing to see here….\\nJust JP in NZ 5 days before the shooting\\nand the \"killer\" has 14 &amp; fish on his gun…\\n\\nTheir need…',\n",
       " 'truncated': False,\n",
       " 'display_text_range': [0, 143],\n",
       " 'entities': {'hashtags': [],\n",
       "  'symbols': [],\n",
       "  'user_mentions': [{'screen_name': 'MatzdorfRichard',\n",
       "    'name': 'Richard Matzdorf',\n",
       "    'id': 1105885484822220803,\n",
       "    'id_str': '1105885484822220803',\n",
       "    'indices': [3, 19]}],\n",
       "  'urls': []},\n",
       " 'metadata': {'iso_language_code': 'en', 'result_type': 'recent'},\n",
       " 'source': '<a href=\"http://twitter.com/download/android\" rel=\"nofollow\">Twitter for Android</a>',\n",
       " 'in_reply_to_status_id': None,\n",
       " 'in_reply_to_status_id_str': None,\n",
       " 'in_reply_to_user_id': None,\n",
       " 'in_reply_to_user_id_str': None,\n",
       " 'in_reply_to_screen_name': None,\n",
       " 'user': {'id': 1046809465,\n",
       "  'id_str': '1046809465',\n",
       "  'name': \"🇺🇸Tiffany's Epiphany🇺🇸\",\n",
       "  'screen_name': 'blu2_angles',\n",
       "  'location': ' USA ',\n",
       "  'description': 'Proud Mother❤Love President Trump❤Proud to be a #Christian🙏 #American🇺🇸 #MAGA #RuleOfLaw #TheGreatAwakening #NoSanctuaryCities #TrumpTrain #InGodWeTrust',\n",
       "  'url': None,\n",
       "  'entities': {'description': {'urls': []}},\n",
       "  'protected': False,\n",
       "  'followers_count': 4657,\n",
       "  'friends_count': 4854,\n",
       "  'listed_count': 7,\n",
       "  'created_at': 'Sun Dec 30 04:24:53 +0000 2012',\n",
       "  'favourites_count': 23077,\n",
       "  'utc_offset': None,\n",
       "  'time_zone': None,\n",
       "  'geo_enabled': True,\n",
       "  'verified': False,\n",
       "  'statuses_count': 26571,\n",
       "  'lang': 'en',\n",
       "  'contributors_enabled': False,\n",
       "  'is_translator': False,\n",
       "  'is_translation_enabled': False,\n",
       "  'profile_background_color': '1A1B1F',\n",
       "  'profile_background_image_url': 'http://abs.twimg.com/images/themes/theme9/bg.gif',\n",
       "  'profile_background_image_url_https': 'https://abs.twimg.com/images/themes/theme9/bg.gif',\n",
       "  'profile_background_tile': False,\n",
       "  'profile_image_url': 'http://pbs.twimg.com/profile_images/959959871046037506/oCh-DAHU_normal.jpg',\n",
       "  'profile_image_url_https': 'https://pbs.twimg.com/profile_images/959959871046037506/oCh-DAHU_normal.jpg',\n",
       "  'profile_banner_url': 'https://pbs.twimg.com/profile_banners/1046809465/1549127573',\n",
       "  'profile_link_color': '4A913C',\n",
       "  'profile_sidebar_border_color': '000000',\n",
       "  'profile_sidebar_fill_color': '99CC33',\n",
       "  'profile_text_color': '3E4415',\n",
       "  'profile_use_background_image': True,\n",
       "  'has_extended_profile': False,\n",
       "  'default_profile': False,\n",
       "  'default_profile_image': False,\n",
       "  'following': None,\n",
       "  'follow_request_sent': None,\n",
       "  'notifications': None,\n",
       "  'translator_type': 'none'},\n",
       " 'geo': None,\n",
       " 'coordinates': None,\n",
       " 'place': None,\n",
       " 'contributors': None,\n",
       " 'retweeted_status': {'created_at': 'Sat Mar 16 16:46:13 +0000 2019',\n",
       "  'id': 1106959869251407872,\n",
       "  'id_str': '1106959869251407872',\n",
       "  'full_text': 'Nothing to see here….\\nJust JP in NZ 5 days before the shooting\\nand the \"killer\" has 14 &amp; fish on his gun…\\n\\nTheir need for symbolism will be their downfall\\n\\n@REALDONALDTRUMP @POTUS #QAnon #Qanuck #AskTheQ #FISA\\n#TheGreatAwakening https://t.co/2sCQLYuTqY',\n",
       "  'truncated': False,\n",
       "  'display_text_range': [0, 232],\n",
       "  'entities': {'hashtags': [{'text': 'QAnon', 'indices': [184, 190]},\n",
       "    {'text': 'Qanuck', 'indices': [191, 198]},\n",
       "    {'text': 'AskTheQ', 'indices': [199, 207]},\n",
       "    {'text': 'FISA', 'indices': [208, 213]},\n",
       "    {'text': 'TheGreatAwakening', 'indices': [214, 232]}],\n",
       "   'symbols': [],\n",
       "   'user_mentions': [{'screen_name': 'realDonaldTrump',\n",
       "     'name': 'Donald J. Trump',\n",
       "     'id': 25073877,\n",
       "     'id_str': '25073877',\n",
       "     'indices': [160, 176]},\n",
       "    {'screen_name': 'POTUS',\n",
       "     'name': 'President Trump',\n",
       "     'id': 822215679726100480,\n",
       "     'id_str': '822215679726100480',\n",
       "     'indices': [177, 183]}],\n",
       "   'urls': [],\n",
       "   'media': [{'id': 1106959747096432641,\n",
       "     'id_str': '1106959747096432641',\n",
       "     'indices': [233, 256],\n",
       "     'media_url': 'http://pbs.twimg.com/media/D1y2BmpW0AECchR.jpg',\n",
       "     'media_url_https': 'https://pbs.twimg.com/media/D1y2BmpW0AECchR.jpg',\n",
       "     'url': 'https://t.co/2sCQLYuTqY',\n",
       "     'display_url': 'pic.twitter.com/2sCQLYuTqY',\n",
       "     'expanded_url': 'https://twitter.com/MatzdorfRichard/status/1106959869251407872/photo/1',\n",
       "     'type': 'photo',\n",
       "     'sizes': {'thumb': {'w': 150, 'h': 150, 'resize': 'crop'},\n",
       "      'small': {'w': 680, 'h': 473, 'resize': 'fit'},\n",
       "      'large': {'w': 1352, 'h': 940, 'resize': 'fit'},\n",
       "      'medium': {'w': 1200, 'h': 834, 'resize': 'fit'}}}]},\n",
       "  'extended_entities': {'media': [{'id': 1106959747096432641,\n",
       "     'id_str': '1106959747096432641',\n",
       "     'indices': [233, 256],\n",
       "     'media_url': 'http://pbs.twimg.com/media/D1y2BmpW0AECchR.jpg',\n",
       "     'media_url_https': 'https://pbs.twimg.com/media/D1y2BmpW0AECchR.jpg',\n",
       "     'url': 'https://t.co/2sCQLYuTqY',\n",
       "     'display_url': 'pic.twitter.com/2sCQLYuTqY',\n",
       "     'expanded_url': 'https://twitter.com/MatzdorfRichard/status/1106959869251407872/photo/1',\n",
       "     'type': 'photo',\n",
       "     'sizes': {'thumb': {'w': 150, 'h': 150, 'resize': 'crop'},\n",
       "      'small': {'w': 680, 'h': 473, 'resize': 'fit'},\n",
       "      'large': {'w': 1352, 'h': 940, 'resize': 'fit'},\n",
       "      'medium': {'w': 1200, 'h': 834, 'resize': 'fit'}}}]},\n",
       "  'metadata': {'iso_language_code': 'en', 'result_type': 'recent'},\n",
       "  'source': '<a href=\"https://mobile.twitter.com\" rel=\"nofollow\">Twitter Web App</a>',\n",
       "  'in_reply_to_status_id': None,\n",
       "  'in_reply_to_status_id_str': None,\n",
       "  'in_reply_to_user_id': None,\n",
       "  'in_reply_to_user_id_str': None,\n",
       "  'in_reply_to_screen_name': None,\n",
       "  'user': {'id': 1105885484822220803,\n",
       "   'id_str': '1105885484822220803',\n",
       "   'name': 'Richard Matzdorf',\n",
       "   'screen_name': 'MatzdorfRichard',\n",
       "   'location': 'Texas',\n",
       "   'description': \"I love America! Let's save it before it's too late. Father, Pop Pop, Son, Brother and entrepreneur.\",\n",
       "   'url': None,\n",
       "   'entities': {'description': {'urls': []}},\n",
       "   'protected': False,\n",
       "   'followers_count': 27,\n",
       "   'friends_count': 100,\n",
       "   'listed_count': 0,\n",
       "   'created_at': 'Wed Mar 13 17:37:00 +0000 2019',\n",
       "   'favourites_count': 5,\n",
       "   'utc_offset': None,\n",
       "   'time_zone': None,\n",
       "   'geo_enabled': False,\n",
       "   'verified': False,\n",
       "   'statuses_count': 6,\n",
       "   'lang': 'en',\n",
       "   'contributors_enabled': False,\n",
       "   'is_translator': False,\n",
       "   'is_translation_enabled': False,\n",
       "   'profile_background_color': 'F5F8FA',\n",
       "   'profile_background_image_url': None,\n",
       "   'profile_background_image_url_https': None,\n",
       "   'profile_background_tile': False,\n",
       "   'profile_image_url': 'http://pbs.twimg.com/profile_images/1105886245245386753/4w-QoqcV_normal.jpg',\n",
       "   'profile_image_url_https': 'https://pbs.twimg.com/profile_images/1105886245245386753/4w-QoqcV_normal.jpg',\n",
       "   'profile_banner_url': 'https://pbs.twimg.com/profile_banners/1105885484822220803/1552762075',\n",
       "   'profile_link_color': '1DA1F2',\n",
       "   'profile_sidebar_border_color': 'C0DEED',\n",
       "   'profile_sidebar_fill_color': 'DDEEF6',\n",
       "   'profile_text_color': '333333',\n",
       "   'profile_use_background_image': True,\n",
       "   'has_extended_profile': False,\n",
       "   'default_profile': True,\n",
       "   'default_profile_image': False,\n",
       "   'following': None,\n",
       "   'follow_request_sent': None,\n",
       "   'notifications': None,\n",
       "   'translator_type': 'none'},\n",
       "  'geo': None,\n",
       "  'coordinates': None,\n",
       "  'place': None,\n",
       "  'contributors': None,\n",
       "  'is_quote_status': False,\n",
       "  'retweet_count': 50,\n",
       "  'favorite_count': 58,\n",
       "  'favorited': False,\n",
       "  'retweeted': False,\n",
       "  'possibly_sensitive': False,\n",
       "  'lang': 'en'},\n",
       " 'is_quote_status': False,\n",
       " 'retweet_count': 50,\n",
       " 'favorite_count': 0,\n",
       " 'favorited': False,\n",
       " 'retweeted': False,\n",
       " 'lang': 'en'}"
      ]
     },
     "execution_count": 19,
     "metadata": {},
     "output_type": "execute_result"
    }
   ],
   "source": [
    "test[250]"
   ]
  },
  {
   "cell_type": "code",
   "execution_count": 30,
   "metadata": {},
   "outputs": [],
   "source": [
    "with open('tweets107.json') as json_file:  \n",
    "    test_last = json.load(json_file)"
   ]
  },
  {
   "cell_type": "code",
   "execution_count": 31,
   "metadata": {},
   "outputs": [],
   "source": [
    "test_tweet = test_last[50]\n"
   ]
  },
  {
   "cell_type": "code",
   "execution_count": 32,
   "metadata": {},
   "outputs": [
    {
     "ename": "KeyError",
     "evalue": "'retweeted_status'",
     "output_type": "error",
     "traceback": [
      "\u001b[0;31m---------------------------------------------------------------------------\u001b[0m",
      "\u001b[0;31mKeyError\u001b[0m                                  Traceback (most recent call last)",
      "\u001b[0;32m<ipython-input-32-b5d9fda82958>\u001b[0m in \u001b[0;36m<module>\u001b[0;34m\u001b[0m\n\u001b[0;32m----> 1\u001b[0;31m \u001b[0mtest_tweet\u001b[0m\u001b[0;34m[\u001b[0m\u001b[0;34m'retweeted_status'\u001b[0m\u001b[0;34m]\u001b[0m\u001b[0;34m[\u001b[0m\u001b[0;34m'full_text'\u001b[0m\u001b[0;34m]\u001b[0m\u001b[0;34m\u001b[0m\u001b[0;34m\u001b[0m\u001b[0m\n\u001b[0m",
      "\u001b[0;31mKeyError\u001b[0m: 'retweeted_status'"
     ]
    }
   ],
   "source": [
    "test_tweet['retweeted_status']['full_text']"
   ]
  },
  {
   "cell_type": "code",
   "execution_count": 33,
   "metadata": {},
   "outputs": [
    {
     "data": {
      "text/plain": [
       "{'created_at': 'Thu Mar 14 18:01:05 +0000 2019',\n",
       " 'id': 1106253932110774272,\n",
       " 'id_str': '1106253932110774272',\n",
       " 'full_text': \"@cspanwj #PatriotsFight #TraitorsJustice #QAnon #WeAreTheNewsNow \\nhttps://t.co/fYzXjI3ujh\\n\\nWhites Were Slaves In North Africa Before Blacks Were Slaves In The New World\\n\\nBlacks should be paying whites reparations but they have nothing. We'll call it even.\",\n",
       " 'truncated': False,\n",
       " 'display_text_range': [0, 255],\n",
       " 'entities': {'hashtags': [{'text': 'PatriotsFight', 'indices': [9, 23]},\n",
       "   {'text': 'TraitorsJustice', 'indices': [24, 40]},\n",
       "   {'text': 'QAnon', 'indices': [41, 47]},\n",
       "   {'text': 'WeAreTheNewsNow', 'indices': [48, 64]}],\n",
       "  'symbols': [],\n",
       "  'user_mentions': [{'screen_name': 'cspanwj',\n",
       "    'name': 'Washington Journal',\n",
       "    'id': 15923226,\n",
       "    'id_str': '15923226',\n",
       "    'indices': [0, 8]}],\n",
       "  'urls': [{'url': 'https://t.co/fYzXjI3ujh',\n",
       "    'expanded_url': 'https://www.lewrockwell.com/2019/03/paul-craig-roberts/whites-were-slaves-in-north-africa-before-blacks-were-slaves-in-the-new-world/?fbclid=IwAR1trAAo95u-WcqEtbRAUiF8xGoBSz1VGkyIfi8FG1TA326iMcl24lXCUuU',\n",
       "    'display_url': 'lewrockwell.com/2019/03/paul-c…',\n",
       "    'indices': [66, 89]}]},\n",
       " 'metadata': {'iso_language_code': 'en', 'result_type': 'recent'},\n",
       " 'source': '<a href=\"https://about.twitter.com/products/tweetdeck\" rel=\"nofollow\">TweetDeck</a>',\n",
       " 'in_reply_to_status_id': None,\n",
       " 'in_reply_to_status_id_str': None,\n",
       " 'in_reply_to_user_id': 15923226,\n",
       " 'in_reply_to_user_id_str': '15923226',\n",
       " 'in_reply_to_screen_name': 'cspanwj',\n",
       " 'user': {'id': 133545603,\n",
       "  'id_str': '133545603',\n",
       "  'name': 'Cigman Freud ❌ Certifies Trump',\n",
       "  'screen_name': 'Cigarvolante',\n",
       "  'location': 'Charlottesville, VA',\n",
       "  'description': 'I am fascinated by the Quirky and the obscure. Some call me a geek. \\nI call myself a high-functioning, conservative obsessive.\\n#QAnon',\n",
       "  'url': None,\n",
       "  'entities': {'description': {'urls': []}},\n",
       "  'protected': False,\n",
       "  'followers_count': 4306,\n",
       "  'friends_count': 3844,\n",
       "  'listed_count': 129,\n",
       "  'created_at': 'Fri Apr 16 02:19:26 +0000 2010',\n",
       "  'favourites_count': 9363,\n",
       "  'utc_offset': None,\n",
       "  'time_zone': None,\n",
       "  'geo_enabled': False,\n",
       "  'verified': False,\n",
       "  'statuses_count': 249874,\n",
       "  'lang': 'en',\n",
       "  'contributors_enabled': False,\n",
       "  'is_translator': False,\n",
       "  'is_translation_enabled': False,\n",
       "  'profile_background_color': '000000',\n",
       "  'profile_background_image_url': 'http://abs.twimg.com/images/themes/theme1/bg.png',\n",
       "  'profile_background_image_url_https': 'https://abs.twimg.com/images/themes/theme1/bg.png',\n",
       "  'profile_background_tile': False,\n",
       "  'profile_image_url': 'http://pbs.twimg.com/profile_images/1065549963080302592/EVmIoh5m_normal.jpg',\n",
       "  'profile_image_url_https': 'https://pbs.twimg.com/profile_images/1065549963080302592/EVmIoh5m_normal.jpg',\n",
       "  'profile_banner_url': 'https://pbs.twimg.com/profile_banners/133545603/1422821517',\n",
       "  'profile_link_color': '666666',\n",
       "  'profile_sidebar_border_color': 'FFFFFF',\n",
       "  'profile_sidebar_fill_color': '121212',\n",
       "  'profile_text_color': '990000',\n",
       "  'profile_use_background_image': True,\n",
       "  'has_extended_profile': False,\n",
       "  'default_profile': False,\n",
       "  'default_profile_image': False,\n",
       "  'following': None,\n",
       "  'follow_request_sent': None,\n",
       "  'notifications': None,\n",
       "  'translator_type': 'none'},\n",
       " 'geo': None,\n",
       " 'coordinates': None,\n",
       " 'place': None,\n",
       " 'contributors': None,\n",
       " 'is_quote_status': False,\n",
       " 'retweet_count': 0,\n",
       " 'favorite_count': 1,\n",
       " 'favorited': False,\n",
       " 'retweeted': False,\n",
       " 'possibly_sensitive': False,\n",
       " 'lang': 'en'}"
      ]
     },
     "execution_count": 33,
     "metadata": {},
     "output_type": "execute_result"
    }
   ],
   "source": [
    "test_tweet"
   ]
  },
  {
   "cell_type": "markdown",
   "metadata": {},
   "source": [
    "So now I have the barebones code - I'll create a new notebook where I make functions to select and clean the twitter data I need on just this one dataframe, and then I'll apply it to all of my dataframes and combine them together"
   ]
  },
  {
   "cell_type": "code",
   "execution_count": null,
   "metadata": {},
   "outputs": [],
   "source": []
  }
 ],
 "metadata": {
  "kernelspec": {
   "display_name": "Python 3",
   "language": "python",
   "name": "python3"
  },
  "language_info": {
   "codemirror_mode": {
    "name": "ipython",
    "version": 3
   },
   "file_extension": ".py",
   "mimetype": "text/x-python",
   "name": "python",
   "nbconvert_exporter": "python",
   "pygments_lexer": "ipython3",
   "version": "3.6.7"
  }
 },
 "nbformat": 4,
 "nbformat_minor": 2
}
