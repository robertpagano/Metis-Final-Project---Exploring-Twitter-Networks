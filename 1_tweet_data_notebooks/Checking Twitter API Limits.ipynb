{
 "cells": [
  {
   "cell_type": "code",
   "execution_count": 1,
   "metadata": {},
   "outputs": [],
   "source": [
    "import tweepy, sys, os, logging, json\n",
    "from twitter_config import consumer_key, consumer_secret"
   ]
  },
  {
   "cell_type": "code",
   "execution_count": 2,
   "metadata": {},
   "outputs": [],
   "source": [
    "auth = tweepy.AppAuthHandler(consumer_key, consumer_secret)\n",
    " \n",
    "api = tweepy.API(auth, wait_on_rate_limit=True, wait_on_rate_limit_notify=True,\n",
    "                 parser=tweepy.parsers.JSONParser()\n",
    "                )\n",
    " \n",
    "if (not api):\n",
    "    print (\"Can't Authenticate\")\n",
    "    sys.exit(-1)"
   ]
  },
  {
   "cell_type": "code",
   "execution_count": 4,
   "metadata": {},
   "outputs": [],
   "source": [
    "import requests\n",
    "from application_only_auth import Client\n",
    "client = Client(consumer_key, consumer_secret)"
   ]
  },
  {
   "cell_type": "code",
   "execution_count": 43,
   "metadata": {},
   "outputs": [],
   "source": [
    "response = client.request(\n",
    "    \"https://api.twitter.com/1.1/application/rate_limit_status.json?resources=help,users,search,statuses\")"
   ]
  },
  {
   "cell_type": "code",
   "execution_count": 44,
   "metadata": {},
   "outputs": [
    {
     "data": {
      "text/plain": [
       "{'rate_limit_context': {'application': 'KSV3PpOImWEzWyzzjfUBkJ7Ba'},\n",
       " 'resources': {'users': {'/users/show/:id': {'limit': 900,\n",
       "    'remaining': 900,\n",
       "    'reset': 1552399761},\n",
       "   '/users/suggestions/:slug': {'limit': 15,\n",
       "    'remaining': 15,\n",
       "    'reset': 1552399761},\n",
       "   '/users/profile_banner': {'limit': 180,\n",
       "    'remaining': 180,\n",
       "    'reset': 1552399761},\n",
       "   '/users/suggestions/:slug/members': {'limit': 15,\n",
       "    'remaining': 15,\n",
       "    'reset': 1552399761},\n",
       "   '/users/lookup': {'limit': 300, 'remaining': 300, 'reset': 1552399761},\n",
       "   '/users/suggestions': {'limit': 15, 'remaining': 15, 'reset': 1552399761},\n",
       "   '/users/reverse_lookup': {'limit': 15,\n",
       "    'remaining': 15,\n",
       "    'reset': 1552399761}},\n",
       "  'statuses': {'/statuses/retweeters/ids': {'limit': 300,\n",
       "    'remaining': 300,\n",
       "    'reset': 1552399761},\n",
       "   '/statuses/show/:id': {'limit': 900, 'remaining': 900, 'reset': 1552399761},\n",
       "   '/statuses/user_timeline': {'limit': 1500,\n",
       "    'remaining': 1500,\n",
       "    'reset': 1552399761},\n",
       "   '/statuses/retweets/:id': {'limit': 300,\n",
       "    'remaining': 300,\n",
       "    'reset': 1552399761},\n",
       "   '/statuses/oembed': {'limit': 180, 'remaining': 180, 'reset': 1552399761},\n",
       "   '/statuses/lookup': {'limit': 300, 'remaining': 300, 'reset': 1552399761}},\n",
       "  'help': {'/help/tos': {'limit': 15, 'remaining': 15, 'reset': 1552399761},\n",
       "   '/help/configuration': {'limit': 15, 'remaining': 15, 'reset': 1552399761},\n",
       "   '/help/privacy': {'limit': 15, 'remaining': 15, 'reset': 1552399761},\n",
       "   '/help/settings': {'limit': 15, 'remaining': 15, 'reset': 1552399761},\n",
       "   '/help/languages': {'limit': 15, 'remaining': 15, 'reset': 1552399761}},\n",
       "  'search': {'/search/tweets': {'limit': 450,\n",
       "    'remaining': 450,\n",
       "    'reset': 1552399761}}}}"
      ]
     },
     "execution_count": 44,
     "metadata": {},
     "output_type": "execute_result"
    }
   ],
   "source": [
    "response"
   ]
  },
  {
   "cell_type": "code",
   "execution_count": null,
   "metadata": {},
   "outputs": [],
   "source": []
  }
 ],
 "metadata": {
  "kernelspec": {
   "display_name": "Python 3",
   "language": "python",
   "name": "python3"
  },
  "language_info": {
   "codemirror_mode": {
    "name": "ipython",
    "version": 3
   },
   "file_extension": ".py",
   "mimetype": "text/x-python",
   "name": "python",
   "nbconvert_exporter": "python",
   "pygments_lexer": "ipython3",
   "version": "3.6.7"
  }
 },
 "nbformat": 4,
 "nbformat_minor": 2
}
